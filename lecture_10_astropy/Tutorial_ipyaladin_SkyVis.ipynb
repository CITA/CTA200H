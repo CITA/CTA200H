{
 "cells": [
  {
   "cell_type": "markdown",
   "id": "50aaccb5",
   "metadata": {},
   "source": [
    "# 🌌 Interactive Sky Visualization with Ipyaladin\n",
    "\n",
    "This notebook introduces **[ipyaladin](https://github.com/cds-astro/ipyaladin)**, a Jupyter widget that allows you to explore the sky interactively using Aladin Lite.\n",
    "\n",
    "You will learn how to:\n",
    "- Install and load ipyaladin\n",
    "- Visualize different sky regions\n",
    "- Overlay astronomical catalogs\n",
    "- Explore FITS images interactively\n",
    "\n",
    "📌 This tool is useful for viewing surveys like DSS, 2MASS, and Gaia in context, and for educational or outreach purposes.\n",
    "\n",
    "---\n"
   ]
  },
  {
   "cell_type": "markdown",
   "id": "f5ca1587-8e48-45c3-939f-8747b5e08817",
   "metadata": {},
   "source": [
    "## Installation \n",
    "see also: https://github.com/cds-astro/ipyaladin?tab=readme-ov-file#installation"
   ]
  },
  {
   "cell_type": "code",
   "execution_count": 1,
   "id": "d2980d16-62f1-47f5-9fd5-dd91d849d1c2",
   "metadata": {},
   "outputs": [
    {
     "name": "stdout",
     "output_type": "stream",
     "text": [
      "\u001b[33mDEPRECATION: Loading egg at /Users/jc/anaconda3/envs/my-env/lib/python3.13/site-packages/lmfit-1.3.3-py3.13.egg is deprecated. pip 25.1 will enforce this behaviour change. A possible replacement is to use pip for package installation. Discussion can be found at https://github.com/pypa/pip/issues/12330\u001b[0m\u001b[33m\n",
      "\u001b[0m\u001b[33mDEPRECATION: Loading egg at /Users/jc/anaconda3/envs/my-env/lib/python3.13/site-packages/bilby-2.5.0-py3.13.egg is deprecated. pip 25.1 will enforce this behaviour change. A possible replacement is to use pip for package installation. Discussion can be found at https://github.com/pypa/pip/issues/12330\u001b[0m\u001b[33m\n",
      "\u001b[0m\u001b[33mDEPRECATION: Loading egg at /Users/jc/anaconda3/envs/my-env/lib/python3.13/site-packages/scintools-0.4-py3.13.egg is deprecated. pip 25.1 will enforce this behaviour change. A possible replacement is to use pip for package installation. Discussion can be found at https://github.com/pypa/pip/issues/12330\u001b[0m\u001b[33m\n",
      "\u001b[0m\u001b[33mDEPRECATION: Loading egg at /Users/jc/anaconda3/envs/my-env/lib/python3.13/site-packages/astropy-7.0.1-py3.13-macosx-11.1-arm64.egg is deprecated. pip 25.1 will enforce this behaviour change. A possible replacement is to use pip for package installation. Discussion can be found at https://github.com/pypa/pip/issues/12330\u001b[0m\u001b[33m\n",
      "\u001b[0m\u001b[33mDEPRECATION: Loading egg at /Users/jc/anaconda3/envs/my-env/lib/python3.13/site-packages/emcee-3.1.6-py3.13.egg is deprecated. pip 25.1 will enforce this behaviour change. A possible replacement is to use pip for package installation. Discussion can be found at https://github.com/pypa/pip/issues/12330\u001b[0m\u001b[33m\n",
      "\u001b[0m\u001b[33mDEPRECATION: Loading egg at /Users/jc/anaconda3/envs/my-env/lib/python3.13/site-packages/scikit_image-0.25.2-py3.13-macosx-11.1-arm64.egg is deprecated. pip 25.1 will enforce this behaviour change. A possible replacement is to use pip for package installation. Discussion can be found at https://github.com/pypa/pip/issues/12330\u001b[0m\u001b[33m\n",
      "\u001b[0m\u001b[33mDEPRECATION: Loading egg at /Users/jc/anaconda3/envs/my-env/lib/python3.13/site-packages/scipy-1.15.2-py3.13-macosx-11.1-arm64.egg is deprecated. pip 25.1 will enforce this behaviour change. A possible replacement is to use pip for package installation. Discussion can be found at https://github.com/pypa/pip/issues/12330\u001b[0m\u001b[33m\n",
      "\u001b[0mRequirement already satisfied: ipyaladin in /Users/jc/anaconda3/envs/my-env/lib/python3.13/site-packages (0.5.2)\n",
      "Requirement already satisfied: anywidget in /Users/jc/anaconda3/envs/my-env/lib/python3.13/site-packages (from ipyaladin) (0.9.18)\n",
      "Requirement already satisfied: astropy in /Users/jc/anaconda3/envs/my-env/lib/python3.13/site-packages/astropy-7.0.1-py3.13-macosx-11.1-arm64.egg (from ipyaladin) (7.0.1)\n",
      "Requirement already satisfied: ipywidgets>=7.6.0 in /Users/jc/anaconda3/envs/my-env/lib/python3.13/site-packages (from anywidget->ipyaladin) (8.1.5)\n",
      "Requirement already satisfied: psygnal>=0.8.1 in /Users/jc/anaconda3/envs/my-env/lib/python3.13/site-packages (from anywidget->ipyaladin) (0.12.0)\n",
      "Requirement already satisfied: typing-extensions>=4.2.0 in /Users/jc/anaconda3/envs/my-env/lib/python3.13/site-packages (from anywidget->ipyaladin) (4.13.1)\n",
      "Requirement already satisfied: numpy>=1.23.2 in /Users/jc/anaconda3/envs/my-env/lib/python3.13/site-packages (from astropy->ipyaladin) (2.2.4)\n",
      "Requirement already satisfied: pyerfa>=2.0.1.1 in /Users/jc/anaconda3/envs/my-env/lib/python3.13/site-packages (from astropy->ipyaladin) (2.0.1.5)\n",
      "Requirement already satisfied: astropy-iers-data>=0.2025.1.31.12.41.4 in /Users/jc/anaconda3/envs/my-env/lib/python3.13/site-packages (from astropy->ipyaladin) (0.2025.4.28.0.37.27)\n",
      "Requirement already satisfied: PyYAML>=6.0.0 in /Users/jc/anaconda3/envs/my-env/lib/python3.13/site-packages (from astropy->ipyaladin) (6.0.2)\n",
      "Requirement already satisfied: packaging>=22.0.0 in /Users/jc/anaconda3/envs/my-env/lib/python3.13/site-packages (from astropy->ipyaladin) (24.2)\n",
      "Requirement already satisfied: comm>=0.1.3 in /Users/jc/anaconda3/envs/my-env/lib/python3.13/site-packages (from ipywidgets>=7.6.0->anywidget->ipyaladin) (0.2.2)\n",
      "Requirement already satisfied: ipython>=6.1.0 in /Users/jc/anaconda3/envs/my-env/lib/python3.13/site-packages (from ipywidgets>=7.6.0->anywidget->ipyaladin) (9.1.0)\n",
      "Requirement already satisfied: traitlets>=4.3.1 in /Users/jc/anaconda3/envs/my-env/lib/python3.13/site-packages (from ipywidgets>=7.6.0->anywidget->ipyaladin) (5.14.3)\n",
      "Requirement already satisfied: widgetsnbextension~=4.0.12 in /Users/jc/anaconda3/envs/my-env/lib/python3.13/site-packages (from ipywidgets>=7.6.0->anywidget->ipyaladin) (4.0.13)\n",
      "Requirement already satisfied: jupyterlab-widgets~=3.0.12 in /Users/jc/anaconda3/envs/my-env/lib/python3.13/site-packages (from ipywidgets>=7.6.0->anywidget->ipyaladin) (3.0.13)\n",
      "Requirement already satisfied: decorator in /Users/jc/anaconda3/envs/my-env/lib/python3.13/site-packages (from ipython>=6.1.0->ipywidgets>=7.6.0->anywidget->ipyaladin) (5.2.1)\n",
      "Requirement already satisfied: ipython-pygments-lexers in /Users/jc/anaconda3/envs/my-env/lib/python3.13/site-packages (from ipython>=6.1.0->ipywidgets>=7.6.0->anywidget->ipyaladin) (1.1.1)\n",
      "Requirement already satisfied: jedi>=0.16 in /Users/jc/anaconda3/envs/my-env/lib/python3.13/site-packages (from ipython>=6.1.0->ipywidgets>=7.6.0->anywidget->ipyaladin) (0.19.2)\n",
      "Requirement already satisfied: matplotlib-inline in /Users/jc/anaconda3/envs/my-env/lib/python3.13/site-packages (from ipython>=6.1.0->ipywidgets>=7.6.0->anywidget->ipyaladin) (0.1.7)\n",
      "Requirement already satisfied: pexpect>4.3 in /Users/jc/anaconda3/envs/my-env/lib/python3.13/site-packages (from ipython>=6.1.0->ipywidgets>=7.6.0->anywidget->ipyaladin) (4.9.0)\n",
      "Requirement already satisfied: prompt_toolkit<3.1.0,>=3.0.41 in /Users/jc/anaconda3/envs/my-env/lib/python3.13/site-packages (from ipython>=6.1.0->ipywidgets>=7.6.0->anywidget->ipyaladin) (3.0.50)\n",
      "Requirement already satisfied: pygments>=2.4.0 in /Users/jc/anaconda3/envs/my-env/lib/python3.13/site-packages (from ipython>=6.1.0->ipywidgets>=7.6.0->anywidget->ipyaladin) (2.19.1)\n",
      "Requirement already satisfied: stack_data in /Users/jc/anaconda3/envs/my-env/lib/python3.13/site-packages (from ipython>=6.1.0->ipywidgets>=7.6.0->anywidget->ipyaladin) (0.6.3)\n",
      "Requirement already satisfied: parso<0.9.0,>=0.8.4 in /Users/jc/anaconda3/envs/my-env/lib/python3.13/site-packages (from jedi>=0.16->ipython>=6.1.0->ipywidgets>=7.6.0->anywidget->ipyaladin) (0.8.4)\n",
      "Requirement already satisfied: ptyprocess>=0.5 in /Users/jc/anaconda3/envs/my-env/lib/python3.13/site-packages (from pexpect>4.3->ipython>=6.1.0->ipywidgets>=7.6.0->anywidget->ipyaladin) (0.7.0)\n",
      "Requirement already satisfied: wcwidth in /Users/jc/anaconda3/envs/my-env/lib/python3.13/site-packages (from prompt_toolkit<3.1.0,>=3.0.41->ipython>=6.1.0->ipywidgets>=7.6.0->anywidget->ipyaladin) (0.2.13)\n",
      "Requirement already satisfied: executing>=1.2.0 in /Users/jc/anaconda3/envs/my-env/lib/python3.13/site-packages (from stack_data->ipython>=6.1.0->ipywidgets>=7.6.0->anywidget->ipyaladin) (2.1.0)\n",
      "Requirement already satisfied: asttokens>=2.1.0 in /Users/jc/anaconda3/envs/my-env/lib/python3.13/site-packages (from stack_data->ipython>=6.1.0->ipywidgets>=7.6.0->anywidget->ipyaladin) (3.0.0)\n",
      "Requirement already satisfied: pure_eval in /Users/jc/anaconda3/envs/my-env/lib/python3.13/site-packages (from stack_data->ipython>=6.1.0->ipywidgets>=7.6.0->anywidget->ipyaladin) (0.2.3)\n",
      "Note: you may need to restart the kernel to use updated packages.\n"
     ]
    }
   ],
   "source": [
    "pip install ipyaladin"
   ]
  },
  {
   "cell_type": "code",
   "execution_count": 2,
   "id": "628a3e97",
   "metadata": {},
   "outputs": [
    {
     "data": {
      "application/vnd.jupyter.widget-view+json": {
       "model_id": "5749dbc7ed3e4da1b7e53ea4f22a954e",
       "version_major": 2,
       "version_minor": 1
      },
      "text/plain": [
       "Aladin(survey='P/DSS2/color')"
      ]
     },
     "execution_count": 2,
     "metadata": {},
     "output_type": "execute_result"
    }
   ],
   "source": [
    "from ipyaladin import Aladin\n",
    "\n",
    "# Load the Aladin viewer centered on the Orion Nebula\n",
    "aladin = Aladin()\n",
    "# # Initialize Aladin view centered on M42 (Orion Nebula) \n",
    "# with a 0.5° field of view\n",
    "# # Overlay Gaia DR2 sample from CDS (small subset for demo)\n",
    "gaia_url = \"https://aladin.u-strasbg.fr/AladinLite/api/v2/cds/cat/II/246/out\"\n",
    "aladin = Aladin(target=\"M42\", fov=0.5, survey=\"P/DSS2/color\", catalog=gaia_url)\n",
    "aladin\n"
   ]
  },
  {
   "cell_type": "code",
   "execution_count": 3,
   "id": "72a2023c-f7b8-4c3b-82d3-2c976c651f4d",
   "metadata": {
    "scrolled": true
   },
   "outputs": [
    {
     "data": {
      "application/vnd.jupyter.widget-view+json": {
       "model_id": "d18cc707bc53405b8a350f3f2904087f",
       "version_major": 2,
       "version_minor": 1
      },
      "text/plain": [
       "Aladin(coo_frame='galactic', survey='CDS/P/DECaPS/DR1/color')"
      ]
     },
     "execution_count": 3,
     "metadata": {},
     "output_type": "execute_result"
    }
   ],
   "source": [
    "# Galactic center\n",
    "\n",
    "aladin = Aladin(\n",
    "    survey=\"CDS/P/DECaPS/DR1/color\",\n",
    "    show_coo_grid=True,\n",
    "    target=\"galactic center\",\n",
    "    coo_frame=\"galactic\",\n",
    "    fov=40,\n",
    "    height=600,\n",
    ")\n",
    "aladin"
   ]
  },
  {
   "cell_type": "code",
   "execution_count": null,
   "id": "be0ea781-b191-4aae-9576-7c575d337dca",
   "metadata": {},
   "outputs": [],
   "source": []
  }
 ],
 "metadata": {
  "kernelspec": {
   "display_name": "Python 3 (ipykernel)",
   "language": "python",
   "name": "python3"
  },
  "language_info": {
   "codemirror_mode": {
    "name": "ipython",
    "version": 3
   },
   "file_extension": ".py",
   "mimetype": "text/x-python",
   "name": "python",
   "nbconvert_exporter": "python",
   "pygments_lexer": "ipython3",
   "version": "3.13.2"
  }
 },
 "nbformat": 4,
 "nbformat_minor": 5
}

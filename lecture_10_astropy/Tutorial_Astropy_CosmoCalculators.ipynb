{
 "cells": [
  {
   "cell_type": "markdown",
   "id": "ec51be2b-22d1-4aa5-bd9d-9db3346388e3",
   "metadata": {},
   "source": [
    "# 🌌 Introduction to Cosmology with Astropy\n",
    "\n",
    "This notebook introduces basic cosmological concepts using the Python package **Astropy**.\n",
    "You will explore different cosmological models like WMAP and Planck and compute fundamental quantities like distances and lookback times.\n",
    "\n",
    "📚 **References**:\n",
    "- [Astropy Cosmology Documentation](https://docs.astropy.org/en/stable/cosmology/index.html)\n",
    "- [Astropy Cosmology Tutorial on GitHub](https://github.com/vkaustubh/astropy-tutorial/blob/master/05%20-%20Cosmology.ipynb)\n"
   ]
  },
  {
   "cell_type": "code",
   "execution_count": 1,
   "id": "940e3718-cb53-4850-9853-779b31dcaeea",
   "metadata": {},
   "outputs": [],
   "source": [
    "import numpy as np\n",
    "from astropy import cosmology\n"
   ]
  },
  {
   "cell_type": "markdown",
   "id": "d5e2153e-0acf-440a-8b52-a3b3c6ead4f3",
   "metadata": {},
   "source": [
    "### Print the list of built-in cosmological models available in Astropy.\n"
   ]
  },
  {
   "cell_type": "code",
   "execution_count": 2,
   "id": "c2bd70a9-5eb8-458a-aa06-059d24a1331f",
   "metadata": {},
   "outputs": [
    {
     "name": "stdout",
     "output_type": "stream",
     "text": [
      "('WMAP1', 'WMAP3', 'WMAP5', 'WMAP7', 'WMAP9', 'Planck13', 'Planck15', 'Planck18')\n"
     ]
    }
   ],
   "source": [
    "print(cosmology.available)"
   ]
  },
  {
   "cell_type": "markdown",
   "id": "294be606-0d3f-4401-90f1-6649175113de",
   "metadata": {},
   "source": [
    "#### These include results from different satellite missions like WMAP and Planck.\n",
    "They are predefined models of a flat universe (FlatLambdaCDM). For detailed descriptions, see: https://docs.astropy.org/en/stable/cosmology/realizations.html\n"
   ]
  },
  {
   "cell_type": "markdown",
   "id": "c0ea8feb-4007-4554-9632-de3bb1f46655",
   "metadata": {},
   "source": [
    "# Select cosmology"
   ]
  },
  {
   "cell_type": "code",
   "execution_count": 3,
   "id": "a70e6d62-fe0e-4e7a-965f-24e2ee28e171",
   "metadata": {},
   "outputs": [
    {
     "name": "stdout",
     "output_type": "stream",
     "text": [
      "Planck18 instance of FlatLambdaCDM cosmology\n",
      "(from Planck Collaboration 2018, 2020, A&A, 641, A6  (Paper VI), Table 2 (TT, TE, EE + lowE + lensing + BAO))\n",
      "---\n",
      "H\n",
      "H0\n",
      "Neff\n",
      "Ob\n",
      "Ob0\n",
      "Ode\n",
      "Ode0\n",
      "Odm\n",
      "Odm0\n",
      "Ogamma\n",
      "Ogamma0\n",
      "Ok\n",
      "Ok0\n",
      "Om\n",
      "Om0\n",
      "Onu\n",
      "Onu0\n",
      "Otot\n",
      "Otot0\n",
      "Tcmb\n",
      "Tcmb0\n",
      "Tnu\n",
      "Tnu0\n",
      "abs_distance_integrand\n",
      "absorption_distance\n",
      "age\n",
      "angular_diameter_distance\n",
      "angular_diameter_distance_z1z2\n",
      "arcsec_per_kpc_comoving\n",
      "arcsec_per_kpc_proper\n",
      "clone\n",
      "comoving_distance\n",
      "comoving_transverse_distance\n",
      "comoving_volume\n",
      "critical_density\n",
      "critical_density0\n",
      "de_density_scale\n",
      "differential_comoving_volume\n",
      "distmod\n",
      "efunc\n",
      "from_format\n",
      "h\n",
      "has_massive_nu\n",
      "hubble_distance\n",
      "hubble_time\n",
      "inv_efunc\n",
      "is_equivalent\n",
      "is_flat\n",
      "kpc_comoving_per_arcmin\n",
      "kpc_proper_per_arcmin\n",
      "lookback_distance\n",
      "lookback_time\n",
      "lookback_time_integrand\n",
      "luminosity_distance\n",
      "m_nu\n",
      "meta\n",
      "name\n",
      "nonflat\n",
      "nu_relative_density\n",
      "parameters\n",
      "read\n",
      "scale_factor\n",
      "scale_factor0\n",
      "to_format\n",
      "w\n",
      "write\n"
     ]
    }
   ],
   "source": [
    "from astropy.cosmology import Planck18 as cosmo\n",
    "print(cosmo.__doc__)\n",
    "print('---')\n",
    "print(\"\\n\".join([i for i in dir(cosmo) if not i[0] == \"_\"]))"
   ]
  },
  {
   "cell_type": "markdown",
   "id": "23777449-8b12-4104-98f4-a9250d9b1985",
   "metadata": {},
   "source": [
    "## 🧭 What is the Hubble Constant?\n",
    "\n",
    "The **Hubble constant** (denoted as $H_0$) is a key number in cosmology that describes the current rate of expansion of the universe.\n",
    "\n",
    "- It tells us **how fast galaxies are moving away** from us due to the expansion of space.\n",
    "- Its units are usually kilometers per second per megaparsec (km/s/Mpc).\n",
    "  - This means that for every megaparsec (about 3.26 million light-years), the velocity of a galaxy increases by about 70 km/s.\n",
    "- A typical value from the **Planck 2018** results is:\n",
    "  \n",
    "  $$ H_0 \\approx 67.66 \\text{ km/s/Mpc} $$\n",
    "\n",
    "### Why is it important?\n",
    "\n",
    "Knowing the Hubble constant helps us:\n",
    "- Estimate the **age of the universe**\n",
    "- Measure **distances to far-away galaxies**\n",
    "- Understand the **overall structure and evolution** of the universe\n",
    "\n",
    "For more, see [Wikipedia: Hubble's law](https://en.wikipedia.org/wiki/Hubble%27s_law).\n"
   ]
  },
  {
   "cell_type": "code",
   "execution_count": 4,
   "id": "8a518373-1472-4223-a473-327d0ab17b03",
   "metadata": {},
   "outputs": [
    {
     "name": "stdout",
     "output_type": "stream",
     "text": [
      "Hubble constant at z=0\n",
      "67.66 km / (Mpc s)\n"
     ]
    }
   ],
   "source": [
    "print('Hubble constant at z=0')\n",
    "print(cosmo.H0.value, cosmo.H0.unit )"
   ]
  },
  {
   "cell_type": "code",
   "execution_count": 5,
   "id": "2b4f4a1e-d253-4cac-a0e2-570d144a0c6f",
   "metadata": {},
   "outputs": [
    {
     "name": "stdout",
     "output_type": "stream",
     "text": [
      "the age of the universe at z = 0:\n"
     ]
    },
    {
     "data": {
      "text/latex": [
       "$13.786885 \\; \\mathrm{Gyr}$"
      ],
      "text/plain": [
       "<Quantity 13.7868853 Gyr>"
      ]
     },
     "execution_count": 5,
     "metadata": {},
     "output_type": "execute_result"
    }
   ],
   "source": [
    "print('the age of the universe at z = 0:')\n",
    "cosmo.age(0)  "
   ]
  },
  {
   "cell_type": "markdown",
   "id": "678bdbbd-33d0-43bc-b752-61270e36fa6e",
   "metadata": {},
   "source": [
    "### Transform a Cosmology object to and from a Table object\n",
    "More: https://docs.astropy.org/en/stable/cosmology/io/builtin.html#module-astropy.cosmology._io.mapping"
   ]
  },
  {
   "cell_type": "code",
   "execution_count": 6,
   "id": "10e5f6fb-963d-4370-af5f-cff9ff46fa71",
   "metadata": {},
   "outputs": [
    {
     "data": {
      "text/html": [
       "<div><i>QTable length=1</i>\n",
       "<table id=\"table4956695888\" class=\"table-striped table-bordered table-condensed\">\n",
       "<thead><tr><th>name</th><th>H0</th><th>Om0</th><th>Tcmb0</th><th>Neff</th><th>m_nu</th><th>Ob0</th></tr></thead>\n",
       "<thead><tr><th></th><th>km / (Mpc s)</th><th></th><th>K</th><th></th><th>eV</th><th></th></tr></thead>\n",
       "<thead><tr><th>str8</th><th>float64</th><th>float64</th><th>float64</th><th>float64</th><th>float64[3]</th><th>float64</th></tr></thead>\n",
       "<tr><td>Planck18</td><td>67.66</td><td>0.30966</td><td>2.7255</td><td>3.046</td><td>0.0 .. 0.06</td><td>0.04897</td></tr>\n",
       "</table></div>"
      ],
      "text/plain": [
       "<QTable length=1>\n",
       "  name        H0        Om0    Tcmb0    Neff      m_nu      Ob0  \n",
       "         km / (Mpc s)            K                 eV            \n",
       "  str8     float64    float64 float64 float64  float64[3] float64\n",
       "-------- ------------ ------- ------- ------- ----------- -------\n",
       "Planck18        67.66 0.30966  2.7255   3.046 0.0 .. 0.06 0.04897"
      ]
     },
     "execution_count": 6,
     "metadata": {},
     "output_type": "execute_result"
    }
   ],
   "source": [
    "ct = cosmo.to_format(\"astropy.table\")\n",
    "ct\n"
   ]
  },
  {
   "cell_type": "markdown",
   "id": "6e26fbf7-0d4e-4c56-a54d-fac2223359c9",
   "metadata": {},
   "source": [
    "### Basic Quantities at Redshift z"
   ]
  },
  {
   "cell_type": "code",
   "execution_count": 7,
   "id": "0e13a195-cf0a-46e3-93f1-adb881e091c5",
   "metadata": {},
   "outputs": [
    {
     "name": "stdout",
     "output_type": "stream",
     "text": [
      "Redshift:  0\n",
      "scale factor (a):  1.0\n",
      "H(z): 67.66 km / (Mpc s)\n",
      "Age at z: 13.786885302009708 Gyr\n",
      "Lookback time: 0.0 Gyr\n",
      "Comoving distance: 0.0 Mpc\n",
      "Luminosity distance: 0.0 Mpc\n",
      "Angular diameter distance: 0.0 Mpc\n",
      "Cosmic Microwave background (CMB)temperature  2.7255 K\n"
     ]
    }
   ],
   "source": [
    "z = 0  # example redshift\n",
    "print(\"Redshift: \", z)\n",
    "print('scale factor (a): ', cosmo.scale_factor(z))\n",
    "\n",
    "# Hubble parameter at z\n",
    "print(\"H(z):\", cosmo.H(z))\n",
    "\n",
    "# Age of the Universe at z\n",
    "print(\"Age at z:\", cosmo.age(z))\n",
    "\n",
    "# Lookback time\n",
    "print(\"Lookback time:\", cosmo.lookback_time(z))\n",
    "\n",
    "# Comoving distance\n",
    "print(\"Comoving distance:\", cosmo.comoving_distance(z))\n",
    "\n",
    "# Luminosity and angular diameter distances\n",
    "print(\"Luminosity distance:\", cosmo.luminosity_distance(z))\n",
    "print(\"Angular diameter distance:\", cosmo.angular_diameter_distance(z))\n",
    "\n",
    "# Cosmic Microwave background (CMB)temperature \n",
    "print(\"Cosmic Microwave background (CMB)temperature \", cosmo.Tcmb(z))\n"
   ]
  },
  {
   "cell_type": "markdown",
   "id": "d5d0a6a9-9f93-460c-a83e-4f3e02a37dd0",
   "metadata": {},
   "source": [
    "What the code do:\n",
    "\n",
    "- **`scale_factor(z)`**  \n",
    "  Returns the scale factor \\( a \\). At \\( z = 0 \\), \\( a = 1 \\), meaning the universe is at its full current size.\n",
    "\n",
    "- **`H(z)`**  \n",
    "  The **Hubble parameter** at redshift \\( z \\), indicating the rate of expansion of the universe in km/s/Mpc.\n",
    "\n",
    "- **`age(z)`**  \n",
    "  The **age of the universe** at this redshift, expressed in gigayears (Gyr). At \\( z = 0 \\), this gives the current age of the universe.\n",
    "\n",
    "- **`lookback_time(z)`**  \n",
    "  The time difference (in Gyr) between now and when light was emitted from a source at redshift \\( z \\). At \\( z = 0 \\), this is 0.\n",
    "\n",
    "- **`comoving_distance(z)`**  \n",
    "  Measures the distance to an object accounting for the expansion of the universe, in megaparsecs (Mpc).\n",
    "\n",
    "- **`luminosity_distance(z)`**  \n",
    "  Used to relate an object's intrinsic luminosity to its observed brightness.\n",
    "\n",
    "- **`angular_diameter_distance(z)`**  \n",
    "  Relates an object's physical size to how large it appears on the sky. Important for converting between arcseconds and kiloparsecs.\n",
    "\n",
    "- **`Tcmb(z)`**  \n",
    "  The **temperature of the cosmic microwave background** (CMB) at redshift \\( z \\). At \\( z = 0 \\), it is about 2.725 K.\n"
   ]
  },
  {
   "cell_type": "markdown",
   "id": "c11a5784-bb27-4c7c-bc35-f2d700b66129",
   "metadata": {},
   "source": [
    "## Notes about units:"
   ]
  },
  {
   "cell_type": "markdown",
   "id": "16c3c615-2a9e-4fec-b2e5-5887aab7900a",
   "metadata": {},
   "source": [
    "While cosmologists use many different ways to describe distance — like how bright something looks or how old the universe is - redshift is the key measurement that underpins them all."
   ]
  },
  {
   "cell_type": "code",
   "execution_count": 8,
   "id": "47edb4b0-f3b5-4897-bbbc-c7f62fa36f15",
   "metadata": {},
   "outputs": [
    {
     "name": "stdout",
     "output_type": "stream",
     "text": [
      "3000.7754999999997 K\n",
      "13886.327957431411 Mpc\n",
      "4226.965872566206 Mpc\n",
      "15288847.081131984 Mpc\n"
     ]
    }
   ],
   "source": [
    "import astropy.cosmology.units as cu\n",
    "import astropy.units as u\n",
    "# See more: https://docs.astropy.org/en/stable/cosmology/units.html\n",
    "\n",
    "z = 1100 * cu.redshift\n",
    "\n",
    "#Redshift to be converted to other units, like CMB temperature:\n",
    "print(z.to(u.K, cu.with_redshift(cosmo)))\n",
    "\n",
    "# or a physical distance (comoving, lookback, or luminosity):\n",
    "print(z.to(u.Mpc, cu.with_redshift(cosmo, distance=\"comoving\")) )\n",
    "print(z.to(u.Mpc, cu.with_redshift(cosmo, distance=\"lookback\")) )\n",
    "print(z.to(u.Mpc, cu.with_redshift(cosmo, distance=\"luminosity\")) )"
   ]
  },
  {
   "cell_type": "markdown",
   "id": "5eb7a7ec-6aa0-4f5f-ba9b-5374c0595344",
   "metadata": {},
   "source": [
    "## Plotting Key Quantities (e.g. cosmic time VS redshift)"
   ]
  },
  {
   "cell_type": "code",
   "execution_count": 9,
   "id": "48410a64-d86e-4ec9-baec-9d484a3b10ab",
   "metadata": {},
   "outputs": [
    {
     "data": {
      "image/png": "[encoded data removed]",
      "text/plain": [
       "<Figure size 640x480 with 1 Axes>"
      ]
     },
     "metadata": {},
     "output_type": "display_data"
    }
   ],
   "source": [
    "import numpy as np\n",
    "import matplotlib.pyplot as plt\n",
    "\n",
    "z_vals = np.linspace(0.00, 20, 100)\n",
    "\n",
    "plt.figure()\n",
    "plt.plot(z_vals, cosmo.age(z_vals), label='Age')\n",
    "plt.plot(z_vals, cosmo.lookback_time(z_vals), label='Lookback Time')\n",
    "plt.xlabel(\"Redshift z\")\n",
    "plt.ylabel(\"Time (Gyr)\")\n",
    "plt.legend()\n",
    "plt.title(\"Cosmic Time vs Redshift\")\n",
    "plt.show()\n"
   ]
  },
  {
   "cell_type": "markdown",
   "id": "abf9fa69-2f1c-453d-a844-b25a836473d5",
   "metadata": {},
   "source": [
    "# Vectorized Distance Calculations"
   ]
  },
  {
   "cell_type": "code",
   "execution_count": 10,
   "id": "4491e681-2657-4315-b0c2-e5c5cd6380f8",
   "metadata": {},
   "outputs": [
    {
     "data": {
      "image/png": "[encoded data removed]",
      "text/plain": [
       "<Figure size 640x480 with 1 Axes>"
      ]
     },
     "metadata": {},
     "output_type": "display_data"
    },
    {
     "data": {
      "image/png": "[encoded data removed]",
      "text/plain": [
       "<Figure size 640x480 with 1 Axes>"
      ]
     },
     "metadata": {},
     "output_type": "display_data"
    }
   ],
   "source": [
    "z_vals = np.linspace(0.00, 20, 100)\n",
    "\n",
    "# Distances over redshift array\n",
    "d_lum = cosmo.luminosity_distance(z_vals)\n",
    "d_ang = cosmo.angular_diameter_distance(z_vals)\n",
    "\n",
    "plt.figure()\n",
    "plt.plot(z_vals, d_lum, label='Luminosity Distance')\n",
    "plt.xlabel(\"Redshift z\")\n",
    "plt.ylabel(\"Distance (Mpc)\")\n",
    "plt.legend()\n",
    "plt.title(\"Cosmic Distance vs Redshift\")\n",
    "plt.show()\n",
    "\n",
    "plt.figure()\n",
    "plt.plot(z_vals, d_ang, label='Angular Diameter Distance')\n",
    "plt.xlabel(\"Redshift z\")\n",
    "plt.ylabel(\"Distance (Mpc)\")\n",
    "plt.legend()\n",
    "plt.title(\"Cosmic Distance vs Redshift\")\n",
    "plt.show()"
   ]
  },
  {
   "cell_type": "code",
   "execution_count": null,
   "id": "a234fb67-1a96-40fd-9f46-0c280a037ff3",
   "metadata": {},
   "outputs": [],
   "source": []
  },
  {
   "cell_type": "raw",
   "id": "6e315252-9e28-4cce-a70d-e92bf43be8ee",
   "metadata": {},
   "source": []
  },
  {
   "cell_type": "markdown",
   "id": "822986a9-b8da-41f9-a7d5-f22299549524",
   "metadata": {},
   "source": [
    "# Custom Cosmology"
   ]
  },
  {
   "cell_type": "markdown",
   "id": "c26fdddb-82eb-4394-8498-7a6b07be4728",
   "metadata": {},
   "source": [
    "FlatLambdaCDM is a model of the universe that assumes it looks the same in every direction (isotropic) and at every location (homogeneous). It’s based on a special solution to Einstein’s equations, known as the Friedmann–Lemaître–Robertson–Walker (FLRW) metric, named after the scientists who developed it."
   ]
  },
  {
   "cell_type": "code",
   "execution_count": 11,
   "id": "30171b4b-745f-4831-b8af-e02457139bda",
   "metadata": {},
   "outputs": [
    {
     "name": "stdout",
     "output_type": "stream",
     "text": [
      "FlatLambdaCDM(H0=70.0 km / (Mpc s), Om0=0.3, Tcmb0=2.725 K, Neff=3.04, m_nu=[0. 0. 0.] eV, Ob0=0.0)\n"
     ]
    }
   ],
   "source": [
    "from astropy.cosmology import FlatLambdaCDM\n",
    "custom_cosmo = FlatLambdaCDM(H0=70, Om0=0.3, Tcmb0=2.725)\n",
    "print(custom_cosmo)  \n"
   ]
  },
  {
   "cell_type": "markdown",
   "id": "6816211c-4cf4-4025-94bc-5269d0aa6b05",
   "metadata": {},
   "source": [
    "Note: Additional cosmological parameters, such as Neff (the effective number of neutrino species), have default values but can be explicitly specified when creating the model."
   ]
  },
  {
   "cell_type": "code",
   "execution_count": 12,
   "id": "c7629ba2-33f8-4c0d-a52a-710d49ac3329",
   "metadata": {},
   "outputs": [],
   "source": [
    "# Better practice:\n",
    "import astropy.units as u\n",
    "custom_cosmo = FlatLambdaCDM(H0=70 * u.km / u.s / u.Mpc, Om0=0.3, Tcmb0=2.725 * u.K)"
   ]
  },
  {
   "cell_type": "markdown",
   "id": "41308df7-ad15-4e90-be10-46dda674047b",
   "metadata": {},
   "source": [
    "## Exercise: \n",
    "### Use your customize cosmology and replot the cosmic distance or time vs. redshift diagrams. How do the results compare to the Planck18 model?"
   ]
  },
  {
   "cell_type": "code",
   "execution_count": null,
   "id": "745db3df-1c45-4b1a-bba2-14a148b8a853",
   "metadata": {},
   "outputs": [],
   "source": []
  },
  {
   "cell_type": "markdown",
   "id": "2060a856-7f38-44bb-ab45-578c3651a44f",
   "metadata": {},
   "source": [
    "## Want interactive plot to see how cosmological distances vary with cosmologies? "
   ]
  },
  {
   "cell_type": "markdown",
   "id": "75963b24-ed97-4d5c-b799-ba1d149077d2",
   "metadata": {},
   "source": [
    "Install Required Package (if needed)"
   ]
  },
  {
   "cell_type": "code",
   "execution_count": 13,
   "id": "e40b802f-629b-4789-920b-17f32f087bdd",
   "metadata": {},
   "outputs": [
    {
     "name": "stdout",
     "output_type": "stream",
     "text": [
      "\u001b[33mDEPRECATION: Loading egg at /Users/jc/anaconda3/envs/my-env/lib/python3.13/site-packages/lmfit-1.3.3-py3.13.egg is deprecated. pip 25.1 will enforce this behaviour change. A possible replacement is to use pip for package installation. Discussion can be found at https://github.com/pypa/pip/issues/12330\u001b[0m\u001b[33m\n",
      "\u001b[0m\u001b[33mDEPRECATION: Loading egg at /Users/jc/anaconda3/envs/my-env/lib/python3.13/site-packages/bilby-2.5.0-py3.13.egg is deprecated. pip 25.1 will enforce this behaviour change. A possible replacement is to use pip for package installation. Discussion can be found at https://github.com/pypa/pip/issues/12330\u001b[0m\u001b[33m\n",
      "\u001b[0m\u001b[33mDEPRECATION: Loading egg at /Users/jc/anaconda3/envs/my-env/lib/python3.13/site-packages/scintools-0.4-py3.13.egg is deprecated. pip 25.1 will enforce this behaviour change. A possible replacement is to use pip for package installation. Discussion can be found at https://github.com/pypa/pip/issues/12330\u001b[0m\u001b[33m\n",
      "\u001b[0m\u001b[33mDEPRECATION: Loading egg at /Users/jc/anaconda3/envs/my-env/lib/python3.13/site-packages/astropy-7.0.1-py3.13-macosx-11.1-arm64.egg is deprecated. pip 25.1 will enforce this behaviour change. A possible replacement is to use pip for package installation. Discussion can be found at https://github.com/pypa/pip/issues/12330\u001b[0m\u001b[33m\n",
      "\u001b[0m\u001b[33mDEPRECATION: Loading egg at /Users/jc/anaconda3/envs/my-env/lib/python3.13/site-packages/emcee-3.1.6-py3.13.egg is deprecated. pip 25.1 will enforce this behaviour change. A possible replacement is to use pip for package installation. Discussion can be found at https://github.com/pypa/pip/issues/12330\u001b[0m\u001b[33m\n",
      "\u001b[0m\u001b[33mDEPRECATION: Loading egg at /Users/jc/anaconda3/envs/my-env/lib/python3.13/site-packages/scikit_image-0.25.2-py3.13-macosx-11.1-arm64.egg is deprecated. pip 25.1 will enforce this behaviour change. A possible replacement is to use pip for package installation. Discussion can be found at https://github.com/pypa/pip/issues/12330\u001b[0m\u001b[33m\n",
      "\u001b[0m\u001b[33mDEPRECATION: Loading egg at /Users/jc/anaconda3/envs/my-env/lib/python3.13/site-packages/scipy-1.15.2-py3.13-macosx-11.1-arm64.egg is deprecated. pip 25.1 will enforce this behaviour change. A possible replacement is to use pip for package installation. Discussion can be found at https://github.com/pypa/pip/issues/12330\u001b[0m\u001b[33m\n",
      "\u001b[0mRequirement already satisfied: ipywidgets in /Users/jc/anaconda3/envs/my-env/lib/python3.13/site-packages (8.1.5)\n",
      "Requirement already satisfied: comm>=0.1.3 in /Users/jc/anaconda3/envs/my-env/lib/python3.13/site-packages (from ipywidgets) (0.2.2)\n",
      "Requirement already satisfied: ipython>=6.1.0 in /Users/jc/anaconda3/envs/my-env/lib/python3.13/site-packages (from ipywidgets) (9.1.0)\n",
      "Requirement already satisfied: traitlets>=4.3.1 in /Users/jc/anaconda3/envs/my-env/lib/python3.13/site-packages (from ipywidgets) (5.14.3)\n",
      "Requirement already satisfied: widgetsnbextension~=4.0.12 in /Users/jc/anaconda3/envs/my-env/lib/python3.13/site-packages (from ipywidgets) (4.0.13)\n",
      "Requirement already satisfied: jupyterlab-widgets~=3.0.12 in /Users/jc/anaconda3/envs/my-env/lib/python3.13/site-packages (from ipywidgets) (3.0.13)\n",
      "Requirement already satisfied: decorator in /Users/jc/anaconda3/envs/my-env/lib/python3.13/site-packages (from ipython>=6.1.0->ipywidgets) (5.2.1)\n",
      "Requirement already satisfied: ipython-pygments-lexers in /Users/jc/anaconda3/envs/my-env/lib/python3.13/site-packages (from ipython>=6.1.0->ipywidgets) (1.1.1)\n",
      "Requirement already satisfied: jedi>=0.16 in /Users/jc/anaconda3/envs/my-env/lib/python3.13/site-packages (from ipython>=6.1.0->ipywidgets) (0.19.2)\n",
      "Requirement already satisfied: matplotlib-inline in /Users/jc/anaconda3/envs/my-env/lib/python3.13/site-packages (from ipython>=6.1.0->ipywidgets) (0.1.7)\n",
      "Requirement already satisfied: pexpect>4.3 in /Users/jc/anaconda3/envs/my-env/lib/python3.13/site-packages (from ipython>=6.1.0->ipywidgets) (4.9.0)\n",
      "Requirement already satisfied: prompt_toolkit<3.1.0,>=3.0.41 in /Users/jc/anaconda3/envs/my-env/lib/python3.13/site-packages (from ipython>=6.1.0->ipywidgets) (3.0.50)\n",
      "Requirement already satisfied: pygments>=2.4.0 in /Users/jc/anaconda3/envs/my-env/lib/python3.13/site-packages (from ipython>=6.1.0->ipywidgets) (2.19.1)\n",
      "Requirement already satisfied: stack_data in /Users/jc/anaconda3/envs/my-env/lib/python3.13/site-packages (from ipython>=6.1.0->ipywidgets) (0.6.3)\n",
      "Requirement already satisfied: parso<0.9.0,>=0.8.4 in /Users/jc/anaconda3/envs/my-env/lib/python3.13/site-packages (from jedi>=0.16->ipython>=6.1.0->ipywidgets) (0.8.4)\n",
      "Requirement already satisfied: ptyprocess>=0.5 in /Users/jc/anaconda3/envs/my-env/lib/python3.13/site-packages (from pexpect>4.3->ipython>=6.1.0->ipywidgets) (0.7.0)\n",
      "Requirement already satisfied: wcwidth in /Users/jc/anaconda3/envs/my-env/lib/python3.13/site-packages (from prompt_toolkit<3.1.0,>=3.0.41->ipython>=6.1.0->ipywidgets) (0.2.13)\n",
      "Requirement already satisfied: executing>=1.2.0 in /Users/jc/anaconda3/envs/my-env/lib/python3.13/site-packages (from stack_data->ipython>=6.1.0->ipywidgets) (2.1.0)\n",
      "Requirement already satisfied: asttokens>=2.1.0 in /Users/jc/anaconda3/envs/my-env/lib/python3.13/site-packages (from stack_data->ipython>=6.1.0->ipywidgets) (3.0.0)\n",
      "Requirement already satisfied: pure_eval in /Users/jc/anaconda3/envs/my-env/lib/python3.13/site-packages (from stack_data->ipython>=6.1.0->ipywidgets) (0.2.3)\n",
      "Note: you may need to restart the kernel to use updated packages.\n"
     ]
    }
   ],
   "source": [
    "pip install ipywidgets\n"
   ]
  },
  {
   "cell_type": "code",
   "execution_count": 14,
   "id": "bf684676-64d9-4948-b03d-e8a666a546df",
   "metadata": {},
   "outputs": [
    {
     "data": {
      "application/vnd.jupyter.widget-view+json": {
       "model_id": "02216386b4de4e90a9731dd66f762495",
       "version_major": 2,
       "version_minor": 0
      },
      "text/plain": [
       "interactive(children=(FloatSlider(value=70.0, description='H₀', max=90.0, min=50.0, step=1.0), Output()), _dom…"
      ]
     },
     "metadata": {},
     "output_type": "display_data"
    }
   ],
   "source": [
    "from ipywidgets import interact, FloatSlider\n",
    "#import numpy as np\n",
    "#import matplotlib.pyplot as plt\n",
    "#from astropy.cosmology import FlatLambdaCDM\n",
    "#import astropy.units as u\n",
    "\n",
    "# Redshift range\n",
    "z_vals = np.linspace(0.00, 5, 200)\n",
    "\n",
    "\n",
    "# Define plotting function for time\n",
    "def plot_cosmic_time(H0=70):\n",
    "    cosmo = FlatLambdaCDM(H0=H0, Om0=0.3)\n",
    "    age   = cosmo.age(z_vals)\n",
    "    lookback = cosmo.lookback_time(z_vals)\n",
    "\n",
    "    plt.figure(figsize=(8,5))\n",
    "    plt.plot(z_vals, age, label='Age of the Universe')\n",
    "    plt.plot(z_vals, lookback, label='Lookback Time')\n",
    "    plt.xlabel(\"Redshift z\")\n",
    "    plt.ylabel(\"Time (Gyr)\")\n",
    "    plt.title(f\"Cosmic Time vs Redshift (H₀ = {H0:.1f} km/s/Mpc)\")\n",
    "    plt.legend()\n",
    "    plt.grid(True)\n",
    "    plt.show()\n",
    "\n",
    "# Create interactive widget\n",
    "interact(plot_cosmic_time, H0=FloatSlider(value=70, min=50, max=90, step=1, description='H₀'));\n"
   ]
  },
  {
   "cell_type": "code",
   "execution_count": 15,
   "id": "4d45cf72-1c12-45be-8781-5121493352dd",
   "metadata": {},
   "outputs": [
    {
     "data": {
      "application/vnd.jupyter.widget-view+json": {
       "model_id": "bf93bce0f95c4c8cb6b7acb2d2c33e38",
       "version_major": 2,
       "version_minor": 0
      },
      "text/plain": [
       "interactive(children=(FloatSlider(value=70.0, description='H₀', max=90.0, min=50.0, step=1.0), Output()), _dom…"
      ]
     },
     "metadata": {},
     "output_type": "display_data"
    }
   ],
   "source": [
    "# Define plotting function\n",
    "def plot_distances(H0=70):\n",
    "    cosmo = FlatLambdaCDM(H0=H0, Om0=0.3)\n",
    "    d_lum = cosmo.luminosity_distance(z_vals)\n",
    "    d_ang = cosmo.angular_diameter_distance(z_vals)\n",
    "\n",
    "    plt.figure(figsize=(8,5))\n",
    "    plt.plot(z_vals, d_lum, label='Luminosity Distance')\n",
    "    plt.plot(z_vals, d_ang, label='Angular Diameter Distance')\n",
    "    plt.xlabel(\"Redshift z\")\n",
    "    plt.ylabel(\"Distance (Mpc)\")\n",
    "    plt.title(f\"Distances vs Redshift (H₀ = {H0:.1f} km/s/Mpc)\")\n",
    "    plt.legend()\n",
    "    plt.grid(True)\n",
    "    plt.show()\n",
    "\n",
    "# Create interactive widget\n",
    "interact(plot_distances, H0=FloatSlider(value=70, min=50, max=90, step=1, description='H₀'));\n"
   ]
  },
  {
   "cell_type": "markdown",
   "id": "258f379f-c36c-4f44-9edb-6c3ea5fc8f8d",
   "metadata": {},
   "source": [
    "### 🧾 What is the wCDM Model?\n",
    "\n",
    "The **wCDM** model is an extension of the standard **ΛCDM** cosmological model. It allows the **dark energy equation of state** parameter \\( w \\) to differ from the value of a true cosmological constant (\\( w = -1 \\)).\n",
    "\n",
    "- In wCDM, \\( w \\) is kept **constant over time**, typically referred to as \\( w_0 \\).\n",
    "- This model still assumes a **homogeneous and isotropic universe**, but with more flexibility in how dark energy behaves.\n",
    "\n",
    "By modifying \\( w \\), cosmologists can explore scenarios where dark energy does not act exactly like a cosmological constant, helping test the limits of ΛCDM and better match observational data.\n"
   ]
  },
  {
   "cell_type": "code",
   "execution_count": 16,
   "id": "30cab553-ae0d-452b-9f20-a291018eee11",
   "metadata": {
    "scrolled": true
   },
   "outputs": [
    {
     "data": {
      "application/vnd.jupyter.widget-view+json": {
       "model_id": "136a45cf4c4c4a3e95b3d5f844ec2166",
       "version_major": 2,
       "version_minor": 0
      },
      "text/plain": [
       "interactive(children=(FloatSlider(value=70.0, description='H₀', max=90.0, min=50.0, step=1.0), FloatSlider(val…"
      ]
     },
     "metadata": {},
     "output_type": "display_data"
    }
   ],
   "source": [
    "from astropy.cosmology import wCDM\n",
    "# Interactive plot function\n",
    "def plot_cosmo(H0=70, Om0=0.3, Ode0=0.7, w0=-1.0):\n",
    "    if Om0 + Ode0 > 1.5 or Om0 + Ode0 < 0.5:\n",
    "        print(\"⚠️ Warning: Unphysical total density (Ω_total ≠ 1 ± ε). Curvature may be unrealistic.\")\n",
    "    \n",
    "    cosmo = wCDM(H0=H0, Om0=Om0, Ode0=Ode0, w0=w0)\n",
    "    d_lum = cosmo.luminosity_distance(z_vals)\n",
    "    d_ang = cosmo.angular_diameter_distance(z_vals)\n",
    "\n",
    "    plt.figure(figsize=(8, 5))\n",
    "    plt.plot(z_vals, d_lum, label=\"Luminosity Distance\")\n",
    "    plt.plot(z_vals, d_ang, label=\"Angular Diameter Distance\")\n",
    "    plt.xlabel(\"Redshift z\")\n",
    "    plt.ylabel(\"Distance (Mpc)\")\n",
    "    plt.title(f\"H₀ = {H0} km/s/Mpc | Ωₘ = {Om0} | Ω_Λ = {Ode0} | w₀ = {w0}\")\n",
    "    plt.legend()\n",
    "    plt.grid(True)\n",
    "    plt.show()\n",
    "\n",
    "# Create interactive sliders\n",
    "interact(\n",
    "    plot_cosmo,\n",
    "    H0=FloatSlider(value=70, min=50, max=90, step=1, description='H₀'),\n",
    "    Om0=FloatSlider(value=0.3, min=0.1, max=0.9, step=0.01, description='Ωₘ'),\n",
    "    Ode0=FloatSlider(value=0.7, min=0.0, max=1.0, step=0.01, description='Ω_Λ'),\n",
    "    w0=FloatSlider(value=-1.0, min=-2.0, max=-0.3, step=0.05, description='w₀'),\n",
    ");"
   ]
  },
  {
   "cell_type": "code",
   "execution_count": null,
   "id": "ee8aab23-58e4-407c-9b39-5e289e96ba35",
   "metadata": {},
   "outputs": [],
   "source": []
  }
 ],
 "metadata": {
  "kernelspec": {
   "display_name": "Python 3 (ipykernel)",
   "language": "python",
   "name": "python3"
  },
  "language_info": {
   "codemirror_mode": {
    "name": "ipython",
    "version": 3
   },
   "file_extension": ".py",
   "mimetype": "text/x-python",
   "name": "python",
   "nbconvert_exporter": "python",
   "pygments_lexer": "ipython3",
   "version": "3.13.2"
  }
 },
 "nbformat": 4,
 "nbformat_minor": 5
}

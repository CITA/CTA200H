{
 "cells": [
  {
   "cell_type": "markdown",
   "id": "4027cc29-e43a-4d4b-b1bb-9b2373820bd5",
   "metadata": {},
   "source": [
    "# Introduction to astropy \n",
    "\n",
    "\n",
    "Astropy is a powerful open-source Python library designed for astronomy and astrophysics mantained by the [astropy project](https://www.astropy.org/about.html). It provides essential tools for working with astronomical data, handling celestial coordinates, managing time conversions, and performing astrophysical calculations. The library is widely used in both research and education, helping astronomers process and analyze their observations efficiently.\n",
    "\n",
    "Key Features\n",
    "- [Unit Handling](https://docs.astropy.org/en/stable/units/index.html): Converts and manipulates physical units effortlessly.\n",
    "- [Coordinate Systems](https://docs.astropy.org/en/stable/coordinates/index.html): Supports celestial coordinate transformations.\n",
    "- [Time Management](https://docs.astropy.org/en/stable/time/index.html): Works with different astronomical time formats.\n",
    "- [Data Handling](https://docs.astropy.org/en/stable/io/fits/index.html): Reads and writes astronomical files (FITS, CSV, etc.). (--> see data wrangling class)\n",
    "- [World Coordinate Systems](https://docs.astropy.org/en/stable/wcs/index.html): Constructs astronomical coordinates systems based on the FITS standard\n",
    "- [Visualization](https://docs.astropy.org/en/stable/visualization/index.html): Helps plot and analyze sky maps and stellar distributions.\n",
    "- Astrophysical Calculations: Includes built-in functions for [timeseries](https://docs.astropy.org/en/stable/timeseries/index.html), [cosmology](https://docs.astropy.org/en/stable/cosmology/index.html), [statistics](https://docs.astropy.org/en/stable/stats/index.html) and more.\n",
    "\n",
    "\n",
    "Here are some useful links\n",
    "\n",
    "- The official Astropy documentation, which provides detailed guides and tutorials: [Astropy Documentation](https://docs.astropy.org/en/stable/index.html)\n",
    "- Information on how to cite Astropy in research papers and presentations: [Acknowledging Astropy](https://www.astropy.org/acknowledging.html)\n",
    "- The Astropy GitHub repository, where you can explore the source code and contribute:  [Astropy GitHub](https://github.com/astropy/astropy)\n",
    "\n",
    "Astropy are one of the few reliable astronomy softwares. It is well maintained, issues, bugs ect are quickly fixed, and it is the only software that I use \"blindly\" without checking the underlying implementation.\n",
    "\n",
    "\n",
    "In the following we will walk through examples listed above, mostly following the excellent astropy documentation which you should use as primary reference."
   ]
  },
  {
   "cell_type": "markdown",
   "id": "54cb03c4-9eed-4a1e-af59-c3a4d6b5a65f",
   "metadata": {},
   "source": [
    "## Some astropy history\n",
    "\n",
    "Astropy was founded in **2011** as a collaborative effort to unify various astronomy-related Python packages into a single, well-maintained library. The project officially began with a **planning meeting at the Harvard Center for Astrophysics**, where astronomers, software developers, and researchers gathered to discuss the need for a standardized astronomy toolkit.\n",
    "\n",
    "### **Key Institutions and Contributors**\n",
    "- **Space Telescope Science Institute (STScI)**: Played a crucial role in early Python adoption for astronomy and contributed foundational code to Astropy.\n",
    "- **Harvard Center for Astrophysics**: Hosted the initial planning meeting that led to the formal creation of the Astropy Project.\n",
    "- **Early Contributors**: The project was shaped by a mix of graduate students, postdocs, scientists, and professional software developers. Some notable contributors include:\n",
    "- **Erik Tollerud**: A key leader since the project's inception, contributing to core packages like `astropy.coordinates`.\n",
    "- **Adrian Price-Whelan**: Led the development of `astropy.coordinates` and educational initiatives like Learn Astropy.\n",
    "- **Brigitta Sipőcz**: Played a vital role in maintaining Astropy’s infrastructure and release management.\n",
    "- **Kelle Cruz**: Focused on community engagement, governance, and educational outreach.\n",
    "\n",
    "Astropy further lists the following people for the contributions: \n",
    "- Madison Bray,\n",
    "- Marten van Kerkwijk ([UofT!](https://www.astro.utoronto.ca/people/faculty/name/marten-van-kerkwijk/)),\n",
    "- Matt Craig,\n",
    "- Michael Droettboom,\n",
    "- Moritz Guenther,\n",
    "- Nadia Dencheva,\n",
    "- Perry Greenfield,\n",
    "- Pey Lian Lim,\n",
    "- Simon Conseil,\n",
    "- Tom Aldcroft,\n",
    "- Tom Robitaille\n",
    "\n",
    "### **Growth and Impact**\n",
    "Astropy quickly gained traction, with its **first stable release in 2013**. The project thrived due to:\n",
    "- Institutional support from **STScI and other research centers**.\n",
    "- A strong **open-source community** that welcomed contributions from astronomers worldwide.\n",
    "- The rise of **GitHub and open-source development tools**, which facilitated collaboration.\n",
    "\n",
    "Find out more [here](https://www.astropy.org/history.html) and [here](https://www.astropy.org/credits.html)"
   ]
  },
  {
   "cell_type": "code",
   "execution_count": null,
   "id": "216097af-4306-4cb8-b4c2-9d0004f82a40",
   "metadata": {},
   "outputs": [],
   "source": []
  },
  {
   "cell_type": "markdown",
   "id": "5300464d-805f-4015-8eed-819cd137808e",
   "metadata": {},
   "source": [
    "## Unit Handling"
   ]
  },
  {
   "cell_type": "code",
   "execution_count": 1,
   "id": "c2831793-9f76-4687-9ec2-99ab4db50f97",
   "metadata": {},
   "outputs": [],
   "source": [
    "# Import Astropy's units module\n",
    "import astropy.units as u"
   ]
  },
  {
   "cell_type": "markdown",
   "id": "6c69b049-d4f7-4875-b6af-8fb8ce04c0ff",
   "metadata": {},
   "source": [
    "This is the basic import of the module. Below are a few examples how to define variables with units, and how to convert between basic units"
   ]
  },
  {
   "cell_type": "code",
   "execution_count": 2,
   "id": "0835f4b1-20f5-4e29-83b9-a0a2c7ced937",
   "metadata": {},
   "outputs": [
    {
     "name": "stdout",
     "output_type": "stream",
     "text": [
      "Distance: 10.0 m\n",
      "Distance in km: 0.01 km\n",
      "Earth-Sun Distance: 1.0 AU\n",
      "Earth-Sun Distance in km: 149597870.70 km\n"
     ]
    }
   ],
   "source": [
    "# Defining a length in meters\n",
    "distance = 10 * u.meter\n",
    "print(f\"Distance: {distance}\")\n",
    "\n",
    "# Converting meters to kilometers\n",
    "distance_km = distance.to(u.km)\n",
    "print(f\"Distance in km: {distance_km}\")\n",
    "\n",
    "# Defining an astronomical unit (AU)\n",
    "earth_sun_distance = 1 * u.au\n",
    "print(f\"Earth-Sun Distance: {earth_sun_distance}\")\n",
    "\n",
    "# Converting AU to kilometers\n",
    "earth_sun_distance_km = earth_sun_distance.to(u.km)\n",
    "print(f\"Earth-Sun Distance in km: {earth_sun_distance_km:.2f}\")"
   ]
  },
  {
   "cell_type": "markdown",
   "id": "6bff18df-da79-4ffc-a185-739d39d95d35",
   "metadata": {},
   "source": [
    "While you can define custom astronomical constants with units, astropy also provides a module that \"has them all\": astropy.constants"
   ]
  },
  {
   "cell_type": "code",
   "execution_count": 3,
   "id": "015e0d23-859e-4dbb-8510-f3837acd4489",
   "metadata": {},
   "outputs": [
    {
     "name": "stdout",
     "output_type": "stream",
     "text": [
      "Speed of Light: 299792458.0 m / s\n",
      "Gravitational Constant: 6.6743e-11 m3 / (kg s2)\n",
      "Mass of the Sun: 1.988409870698051e+30 kg\n",
      "Earth Radius: 6378100.0 m\n"
     ]
    }
   ],
   "source": [
    "# Import Astropy's constants module\n",
    "import astropy.constants as const\n",
    "# Speed of light\n",
    "speed_of_light = const.c\n",
    "print(f\"Speed of Light: {speed_of_light}\")\n",
    "\n",
    "# Gravitational constant\n",
    "gravitational_constant = const.G\n",
    "print(f\"Gravitational Constant: {gravitational_constant}\")\n",
    "\n",
    "# Mass of the Sun\n",
    "sun_mass = const.M_sun\n",
    "print(f\"Mass of the Sun: {sun_mass}\")\n",
    "\n",
    "# Radius of the Earth\n",
    "earth_radius = const.R_earth\n",
    "print(f\"Earth Radius: {earth_radius}\")"
   ]
  },
  {
   "cell_type": "markdown",
   "id": "5d64af2a-d738-44c9-aa05-55a1631a8d59",
   "metadata": {},
   "source": [
    "Let's inspect the earth_radius object in a bit more detail, to give you a better idea what we are dealing with:"
   ]
  },
  {
   "cell_type": "code",
   "execution_count": 4,
   "id": "0a209551-6633-4090-9126-0cf3995eefed",
   "metadata": {},
   "outputs": [
    {
     "data": {
      "text/latex": [
       "$6378100 \\; \\mathrm{m}$"
      ],
      "text/plain": [
       "<<class 'astropy.constants.iau2015.IAU2015'> name='Nominal Earth equatorial radius' value=6378100.0 uncertainty=0.0 unit='m' reference='IAU 2015 Resolution B 3'>"
      ]
     },
     "execution_count": 4,
     "metadata": {},
     "output_type": "execute_result"
    }
   ],
   "source": [
    "earth_radius"
   ]
  },
  {
   "cell_type": "code",
   "execution_count": 5,
   "id": "b5cbaca1-dd94-4b5b-814b-e7402d2e64e0",
   "metadata": {},
   "outputs": [
    {
     "name": "stdout",
     "output_type": "stream",
     "text": [
      "  Name   = Nominal Earth equatorial radius\n",
      "  Value  = 6378100.0\n",
      "  Uncertainty  = 0.0\n",
      "  Unit  = m\n",
      "  Reference = IAU 2015 Resolution B 3\n"
     ]
    }
   ],
   "source": [
    "print(earth_radius)"
   ]
  },
  {
   "cell_type": "code",
   "execution_count": 6,
   "id": "61843395-eb77-4d35-8fbf-b16077b3bdf3",
   "metadata": {},
   "outputs": [
    {
     "data": {
      "text/plain": [
       "('Nominal Earth equatorial radius',\n",
       " 6378100.0,\n",
       " 0.0,\n",
       " Unit(\"m\"),\n",
       " 'IAU 2015 Resolution B 3')"
      ]
     },
     "execution_count": 6,
     "metadata": {},
     "output_type": "execute_result"
    }
   ],
   "source": [
    "earth_radius.name, earth_radius.value, earth_radius.uncertainty, earth_radius.unit, earth_radius.reference"
   ]
  },
  {
   "cell_type": "markdown",
   "id": "77fd3866-19b8-458f-8396-0fadd8fdbf20",
   "metadata": {},
   "source": [
    "#### ... that's it! That's the astropy.units and astropy.constants module. \n",
    "\n",
    "Below I'd like you to think of an example that demonstrates why the two models are so popular in the professional astronomy community. \n",
    "\n",
    "A tip: think of an equation, which you don't really remember anymore, but you might remeber the units of the target units ($F = m \\cdot a$)"
   ]
  },
  {
   "cell_type": "code",
   "execution_count": 7,
   "id": "7d7bda8c-6029-41a4-ae8d-7905ad3ac5a8",
   "metadata": {},
   "outputs": [],
   "source": [
    "# provide a life-saving example of astropy.units & constants usage below\n",
    "\n"
   ]
  },
  {
   "cell_type": "markdown",
   "id": "83e412d7-f81e-4f6e-b725-f357c0251bf5",
   "metadata": {},
   "source": [
    "# Coordinate Systems"
   ]
  },
  {
   "cell_type": "markdown",
   "id": "577a6921-3908-4fa9-a8da-62e2892e91b6",
   "metadata": {},
   "source": [
    "The coordinates package takes care of a lot of the nasty coordinate transforms that you encounter in astronomy. \n",
    "It's basic functinallity is given by the \"degree\" like objects, that are Angle, Latitute, Longitude"
   ]
  },
  {
   "cell_type": "code",
   "execution_count": 8,
   "id": "91041ac6-a51e-4d88-b6cc-74729b97bb22",
   "metadata": {},
   "outputs": [],
   "source": [
    "from astropy.coordinates import Angle, Latitude, Longitude  # Angles"
   ]
  },
  {
   "cell_type": "markdown",
   "id": "f6bd5a8e-8208-40a7-9ae4-2ff53bca9b6e",
   "metadata": {},
   "source": [
    "Common defintions of low-level coordiante systems are defined in their respective classes. Personally, I have never used them directly, but its good to know they exist."
   ]
  },
  {
   "cell_type": "code",
   "execution_count": 9,
   "id": "76981561-e4a7-414e-a5a1-ba85a69a6677",
   "metadata": {},
   "outputs": [],
   "source": [
    "from astropy.coordinates import ICRS, Galactic, FK4, FK5  # Low-level frames"
   ]
  },
  {
   "cell_type": "markdown",
   "id": "073592e7-a156-40e0-8f92-2de768bf846d",
   "metadata": {},
   "source": [
    "The SkyCoord class provides a simple and flexible user interface for celestial coordinate representation, manipulation, and transformation between coordinate frames. This is a high-level class that serves as a wrapper around the low-level coordinate frame classes like ICRS and FK5 which do most of the heavy lifting."
   ]
  },
  {
   "cell_type": "code",
   "execution_count": 10,
   "id": "d7a64319-f7b0-44db-a434-085a930b07ab",
   "metadata": {},
   "outputs": [],
   "source": [
    "from astropy.coordinates import SkyCoord  # High-level coordinates"
   ]
  },
  {
   "cell_type": "markdown",
   "id": "749fd773-190d-4e98-b9d4-9e5d6a37d086",
   "metadata": {},
   "source": [
    "Basic usage:\n"
   ]
  },
  {
   "cell_type": "code",
   "execution_count": 11,
   "id": "a6181b81-ffce-41ce-a3d2-62ed9d8fc83d",
   "metadata": {},
   "outputs": [],
   "source": [
    "coord1 = SkyCoord(10, 20, unit='deg')  # Defaults to ICRS  \n",
    "\n",
    "coord2 = SkyCoord([1, 2, 3], [-30, 45, 8], frame='icrs', unit='deg')  "
   ]
  },
  {
   "cell_type": "code",
   "execution_count": 12,
   "id": "d4dbd27a-2777-4316-b8e3-1ded2126dbf3",
   "metadata": {},
   "outputs": [
    {
     "data": {
      "text/plain": [
       "(<SkyCoord (ICRS): (ra, dec) in deg\n",
       "     (10., 20.)>,\n",
       " <SkyCoord (ICRS): (ra, dec) in deg\n",
       "     [(1., -30.), (2.,  45.), (3.,   8.)]>)"
      ]
     },
     "execution_count": 12,
     "metadata": {},
     "output_type": "execute_result"
    }
   ],
   "source": [
    "coord1, coord2"
   ]
  },
  {
   "cell_type": "markdown",
   "id": "308e27b6-0a3b-4b3e-a6f6-1ed87edf8aae",
   "metadata": {},
   "source": [
    "There's quite some freedome how you can pass coordinates to SkyCoord:"
   ]
  },
  {
   "cell_type": "code",
   "execution_count": 13,
   "id": "beeae7d2-ee90-4a62-b9e9-f710dc2124be",
   "metadata": {},
   "outputs": [],
   "source": [
    "coords = [\"1:12:43.2 +1:12:43\", \"1 12 43.2 +1 12 43\"]\n",
    "sc = SkyCoord(coords, frame=FK4, unit=(u.hourangle, u.deg), obstime=\"J1992.21\")\n",
    "sc = SkyCoord(coords, frame=FK4(obstime=\"J1992.21\"), unit=(u.hourangle, u.deg))\n",
    "sc = SkyCoord(coords, frame='fk4', unit='hourangle,deg', obstime=\"J1992.21\")\n",
    "\n",
    "sc = SkyCoord(\"1h12m43.2s\", \"+1d12m43s\", frame=Galactic)  # Units from strings\n",
    "sc = SkyCoord(\"1h12m43.2s +1d12m43s\", frame=Galactic)  # Units from string\n",
    "sc = SkyCoord(l=\"1h12m43.2s\", b=\"+1d12m43s\", frame='galactic')\n",
    "sc = SkyCoord(\"1h12.72m +1d12.71m\", frame='galactic')"
   ]
  },
  {
   "cell_type": "markdown",
   "id": "054d4305-dc9a-4070-92bd-c862f28c7232",
   "metadata": {},
   "source": [
    "Skycoord allows you to trivially transform between different frames, simply by calling the \"transform_to\", or simply by calling the respective object attribute for default transforms."
   ]
  },
  {
   "cell_type": "code",
   "execution_count": 14,
   "id": "86f8a163-5346-4da8-8fab-4516cd6d295e",
   "metadata": {},
   "outputs": [
    {
     "data": {
      "text/plain": [
       "(<SkyCoord (ICRS): (ra, dec) in deg\n",
       "     (10., 20.)>,\n",
       " <SkyCoord (FK5: equinox=J2000.000): (ra, dec) in deg\n",
       "     (10.0000085, 20.00000153)>,\n",
       " <SkyCoord (FK4: equinox=B1950.000, obstime=B1950.000): (ra, dec) in deg\n",
       "     (9.34243999, 19.72557696)>,\n",
       " <SkyCoord (FK4: equinox=B1950.000, obstime=B1950.000): (ra, dec) in deg\n",
       "     (9.34243999, 19.72557696)>)"
      ]
     },
     "execution_count": 14,
     "metadata": {},
     "output_type": "execute_result"
    }
   ],
   "source": [
    "coord1.transform_to(ICRS), coord1.transform_to(FK5), coord1.transform_to(FK4), coord1.fk4"
   ]
  },
  {
   "cell_type": "markdown",
   "id": "c745629c-5618-4fc3-8a19-c93c30a20965",
   "metadata": {},
   "source": [
    "A very common usage of Skycoord is to compute distances on sky, without having to worry about the pesky coordinate systems and spherical distances:"
   ]
  },
  {
   "cell_type": "code",
   "execution_count": 15,
   "id": "769a7845-83ae-4235-b05d-fddfa9a0a53c",
   "metadata": {},
   "outputs": [
    {
     "data": {
      "text/plain": [
       "(<Angle 0.78532201 rad>,\n",
       " <Angle 1.41417766 deg>,\n",
       " <SkyCoord (ICRS): (ra, dec) in deg\n",
       "     (0.49996192, 0.50001904)>)"
      ]
     },
     "execution_count": 15,
     "metadata": {},
     "output_type": "execute_result"
    }
   ],
   "source": [
    "coord1 = SkyCoord(0*u.deg, 0*u.deg, frame='icrs')\n",
    "coord2 = SkyCoord(1*u.deg, 1*u.deg, frame='icrs')\n",
    "pa = coord1.position_angle(coord2)\n",
    "sep = coord1.separation(coord2)\n",
    "pa, sep, coord1.directional_offset_by(pa, sep/2)  "
   ]
  },
  {
   "cell_type": "code",
   "execution_count": 16,
   "id": "83c83fbd-6c11-4417-884b-2484aa22bae4",
   "metadata": {},
   "outputs": [
    {
     "data": {
      "text/plain": [
       "(<Angle -173.78873354 arcsec>, <Angle 10.60510342 arcsec>)"
      ]
     },
     "execution_count": 16,
     "metadata": {},
     "output_type": "execute_result"
    }
   ],
   "source": [
    "bright_star = SkyCoord('8h50m59.75s', '+11d39m22.15s', frame='icrs')\n",
    "faint_galaxy = SkyCoord('8h50m47.92s', '+11d39m32.74s', frame='icrs')\n",
    "dra, ddec = bright_star.spherical_offsets_to(faint_galaxy)\n",
    "dra.to(u.arcsec), ddec.to(u.arcsec)  "
   ]
  },
  {
   "cell_type": "markdown",
   "id": "0e31897e-db00-4be5-b748-9b6242a6c1d0",
   "metadata": {},
   "source": [
    "## Catalog functionality of astropy.coordinates\n",
    "This basic usage can be extended for doing complicated search of astronomical sources. The most basic version of this is a catalog search using the match_coordinates_sky function. Below is a simple example following astropy's documentation:"
   ]
  },
  {
   "cell_type": "code",
   "execution_count": 17,
   "id": "b4ebaf9a-1512-423b-8726-02915e6432a2",
   "metadata": {},
   "outputs": [],
   "source": [
    "import numpy as np\n",
    "\n",
    "## first we have to invent some astronomical sources at locations (ra1,dec1) and (ra2, dec2)\n",
    "ra1 = np.arange(0, 50)\n",
    "dec1 = np.arange(4, 54)\n",
    "ra2 = np.arange(0.5, 50.5)\n",
    "dec2 = np.arange(4.5, 54.5)\n",
    "\n",
    "c = SkyCoord(ra=ra1*u.degree, dec=dec1*u.degree)\n",
    "catalog = SkyCoord(ra=ra2*u.degree, dec=dec2*u.degree)\n",
    "idx, d2d, d3d = c.match_to_catalog_sky(catalog)"
   ]
  },
  {
   "cell_type": "markdown",
   "id": "cac81a61-0b93-47dc-90dc-eb1f76b29aad",
   "metadata": {},
   "source": [
    "The distances returned d3d are 3-dimensional distances. Unless both source (c) and catalog (catalog) coordinates have associated distances, this quantity assumes that all sources are at a distance of 1 (dimensionless)."
   ]
  },
  {
   "cell_type": "code",
   "execution_count": 18,
   "id": "70c2a085-0c64-479a-bbc9-3c822acbf250",
   "metadata": {},
   "outputs": [
    {
     "ename": "ValueError",
     "evalue": "This object does not have a distance; cannot compute 3d separation.",
     "output_type": "error",
     "traceback": [
      "\u001b[0;31m---------------------------------------------------------------------------\u001b[0m",
      "\u001b[0;31mValueError\u001b[0m                                Traceback (most recent call last)",
      "Cell \u001b[0;32mIn[18], line 3\u001b[0m\n\u001b[1;32m      1\u001b[0m d3d \n\u001b[1;32m      2\u001b[0m matches \u001b[38;5;241m=\u001b[39m catalog[idx]\n\u001b[0;32m----> 3\u001b[0m \u001b[43mmatches\u001b[49m\u001b[38;5;241;43m.\u001b[39;49m\u001b[43mseparation_3d\u001b[49m\u001b[43m(\u001b[49m\u001b[43mc\u001b[49m\u001b[43m)\u001b[49m \n\u001b[1;32m      4\u001b[0m dra, ddec \u001b[38;5;241m=\u001b[39m c\u001b[38;5;241m.\u001b[39mspherical_offsets_to(matches)\n",
      "File \u001b[0;32m~/anaconda3/envs/jwst/lib/python3.11/site-packages/astropy/coordinates/sky_coordinate.py:1228\u001b[0m, in \u001b[0;36mSkyCoord.separation_3d\u001b[0;34m(self, other)\u001b[0m\n\u001b[1;32m   1222\u001b[0m         \u001b[38;5;28;01mraise\u001b[39;00m \u001b[38;5;167;01mTypeError\u001b[39;00m(\n\u001b[1;32m   1223\u001b[0m             \u001b[38;5;124m\"\u001b[39m\u001b[38;5;124mCan only get separation to another SkyCoord \u001b[39m\u001b[38;5;124m\"\u001b[39m\n\u001b[1;32m   1224\u001b[0m             \u001b[38;5;124m\"\u001b[39m\u001b[38;5;124mor a coordinate frame with data\u001b[39m\u001b[38;5;124m\"\u001b[39m\n\u001b[1;32m   1225\u001b[0m         )\n\u001b[1;32m   1227\u001b[0m \u001b[38;5;28;01mif\u001b[39;00m \u001b[38;5;28missubclass\u001b[39m(\u001b[38;5;28mself\u001b[39m\u001b[38;5;241m.\u001b[39mdata\u001b[38;5;241m.\u001b[39m\u001b[38;5;18m__class__\u001b[39m, UnitSphericalRepresentation):\n\u001b[0;32m-> 1228\u001b[0m     \u001b[38;5;28;01mraise\u001b[39;00m \u001b[38;5;167;01mValueError\u001b[39;00m(\n\u001b[1;32m   1229\u001b[0m         \u001b[38;5;124m\"\u001b[39m\u001b[38;5;124mThis object does not have a distance; cannot compute 3d separation.\u001b[39m\u001b[38;5;124m\"\u001b[39m\n\u001b[1;32m   1230\u001b[0m     )\n\u001b[1;32m   1231\u001b[0m \u001b[38;5;28;01mif\u001b[39;00m \u001b[38;5;28missubclass\u001b[39m(other\u001b[38;5;241m.\u001b[39mdata\u001b[38;5;241m.\u001b[39m\u001b[38;5;18m__class__\u001b[39m, UnitSphericalRepresentation):\n\u001b[1;32m   1232\u001b[0m     \u001b[38;5;28;01mraise\u001b[39;00m \u001b[38;5;167;01mValueError\u001b[39;00m(\n\u001b[1;32m   1233\u001b[0m         \u001b[38;5;124m\"\u001b[39m\u001b[38;5;124mThe other object does not have a distance; \u001b[39m\u001b[38;5;124m\"\u001b[39m\n\u001b[1;32m   1234\u001b[0m         \u001b[38;5;124m\"\u001b[39m\u001b[38;5;124mcannot compute 3d separation.\u001b[39m\u001b[38;5;124m\"\u001b[39m\n\u001b[1;32m   1235\u001b[0m     )\n",
      "\u001b[0;31mValueError\u001b[0m: This object does not have a distance; cannot compute 3d separation."
     ]
    }
   ],
   "source": [
    "d3d \n",
    "matches = catalog[idx]\n",
    "matches.separation_3d(c) \n",
    "dra, ddec = c.spherical_offsets_to(matches)"
   ]
  },
  {
   "cell_type": "markdown",
   "id": "152a4a89-fafb-4a38-8c0e-c57d6a54d4f3",
   "metadata": {},
   "source": [
    "... which doesn't work because we did not supply any redshift information!"
   ]
  },
  {
   "cell_type": "code",
   "execution_count": 19,
   "id": "a6208fc3-8adc-40da-82f3-9c66daed4aa7",
   "metadata": {},
   "outputs": [],
   "source": [
    "np.random.seed(3) # this just makes sure that we get the same distances always, ignore it for now!\n",
    "distance1 = np.random.normal(50, 3, 50)\n",
    "distance2 = np.random.normal(55, 3, 50)\n",
    "\n",
    "c = SkyCoord(ra=ra1*u.degree, dec=dec1*u.degree, distance=distance1*u.kpc)\n",
    "catalog = SkyCoord(ra=ra2*u.degree, dec=dec2*u.degree, distance=distance2*u.kpc)\n",
    "idx, d2d, d3d = c.match_to_catalog_3d(catalog)"
   ]
  },
  {
   "cell_type": "code",
   "execution_count": 20,
   "id": "c0a17390-262f-4f0a-9c8e-5a39eeff29fb",
   "metadata": {},
   "outputs": [
    {
     "data": {
      "text/plain": [
       "(<Quantity [2.76343315, 5.70105996, 4.58581448, 7.19503842, 3.09464807,\n",
       "            2.77860785, 1.85012004, 1.4286177 , 0.75574503, 0.91020045,\n",
       "            3.25024877, 2.61875557, 1.87887164, 0.97859505, 2.89300374,\n",
       "            4.23416305, 3.88281433, 6.47273034, 1.29922644, 5.40337455,\n",
       "            5.51094661, 2.61129912, 0.64357642, 3.24847459, 6.38244007,\n",
       "            4.94738875, 3.13250676, 2.15550307, 3.16955487, 1.60754037,\n",
       "            1.46820153, 0.66390656, 4.90277975, 3.92262809, 4.82073758,\n",
       "            4.8908963 , 2.73111907, 1.66486046, 1.18673953, 2.5402022 ,\n",
       "            1.85732189, 1.40442524, 3.23352432, 4.62421842, 4.21936794,\n",
       "            4.69531783, 5.28585361, 2.40317776, 9.19146759, 3.59280281] kpc>,\n",
       " <Angle [ 0.49847762,  4.45200541,  3.45844034,  4.42327176,  1.47993287,\n",
       "          0.49316143,  1.4703866 ,  0.48998079, -0.48998073,  0.48620317,\n",
       "         -0.4862031 ,  1.43871267,  0.47942767, -0.47942759,  0.47417932,\n",
       "         -0.47417923,  1.39608743,  0.46522576, -0.46522565, -1.39607888,\n",
       "          0.45499702, -0.45499691,  0.44748315, -2.27690828,  3.80625285,\n",
       "          2.95699874,  2.11033201,  1.26548411,  0.4217103 , -0.42171017,\n",
       "          0.41207717,  0.40707158, -1.23656242, -2.06202679,  3.32682637,\n",
       "          2.58469978,  1.8447192 ,  1.10624228, -0.37448997,  0.36269887,\n",
       "         -1.1062324 , -0.35663652,  0.34418815, -3.32602287, -1.03281903,\n",
       "         -1.7222017 ,  0.93403073,  0.3112668 , -0.3112667 , -0.93402256] deg>,\n",
       " <Angle [ 0.50015172,  4.51522977,  3.51103822,  4.52115843,  1.50269595,\n",
       "          0.50033662,  1.50334208,  0.50040794, -0.4995555 ,  0.50047722,\n",
       "         -0.49948677,  1.50487402,  0.5005766 , -0.49938839,  0.50063935,\n",
       "         -0.4993264 ,  1.50625006,  0.50072746, -0.49923958, -1.49285982,\n",
       "          0.50080749, -0.49916098,  0.50085592, -2.47745044,  4.57015353,\n",
       "          3.5437794 ,  2.5230184 ,  1.50853146,  0.50097508, -0.49899784,\n",
       "          0.50100544,  0.50101878, -1.49048595, -2.47292775,  4.58042424,\n",
       "          3.54967907,  2.52586871,  1.50950011, -0.49890663,  0.50107931,\n",
       "         -1.48994099, -0.49889966,  0.50108031, -4.40447434, -1.48995295,\n",
       "         -2.47164306,  1.50936609,  0.50105549, -0.49892976, -1.49023547] deg>)"
      ]
     },
     "execution_count": 20,
     "metadata": {},
     "output_type": "execute_result"
    }
   ],
   "source": [
    "d3d \n",
    "matches = catalog[idx]\n",
    "matches.separation_3d(c) \n",
    "dra, ddec = c.spherical_offsets_to(matches)\n",
    "d3d, dra, ddec"
   ]
  },
  {
   "cell_type": "markdown",
   "id": "c4852aa8-177c-4b29-8420-bf8ecb803c79",
   "metadata": {},
   "source": [
    "... there are also plenty of search methods, that allow you to find objects in your catalog:"
   ]
  },
  {
   "cell_type": "code",
   "execution_count": 21,
   "id": "b35552fb-d0cf-435c-b1dc-08f1bbe28599",
   "metadata": {},
   "outputs": [
    {
     "data": {
      "text/plain": [
       "True"
      ]
     },
     "execution_count": 21,
     "metadata": {},
     "output_type": "execute_result"
    }
   ],
   "source": [
    "idxc, idxcatalog, d2d, d3d = catalog.search_around_sky(c, 1*u.deg)\n",
    "np.all(d2d < 1*u.deg)"
   ]
  },
  {
   "cell_type": "markdown",
   "id": "f04fb730-8bfc-4ecf-b13e-db02a89bacdc",
   "metadata": {},
   "source": [
    "## Observing utilities of astropy.coordinates\n",
    "\n",
    "Astropy lets you define earth (and space) location and takes care of all coordinate system transforms based on where you are in the solar systems (Greenwhich, Hawaii, Chile, Sun-Earth-Barycenter being popular choices for astro folk).\n",
    "\n",
    "It also knows all the solar system objects, so you can finally find jupiter's location on sky"
   ]
  },
  {
   "cell_type": "code",
   "execution_count": 22,
   "id": "410b17f1-5687-449c-8bb1-094234c5eee7",
   "metadata": {},
   "outputs": [
    {
     "data": {
      "text/plain": [
       "<SkyCoord (GCRS: obstime=2014-09-22 23:22:00.000, obsgeoloc=(3949481.69374453, -550931.91097256, 4961151.73436434) m, obsgeovel=(40.15952705, 287.47873175, -0.04597922) m / s): (ra, dec, distance) in (deg, deg, AU)\n",
       "    (136.91116253, 17.02935396, 5.94386022)>"
      ]
     },
     "execution_count": 22,
     "metadata": {},
     "output_type": "execute_result"
    }
   ],
   "source": [
    "from astropy.time import Time\n",
    "from astropy.coordinates import solar_system_ephemeris, EarthLocation\n",
    "from astropy.coordinates import get_body_barycentric, get_body\n",
    "t = Time(\"2014-09-22 23:22\")\n",
    "loc = EarthLocation.of_site('greenwich') \n",
    "with solar_system_ephemeris.set('builtin'):\n",
    "    jup = get_body('jupiter', t, loc) \n",
    "jup  "
   ]
  },
  {
   "cell_type": "code",
   "execution_count": 29,
   "id": "08aa15af-35e1-4dd0-9f1b-6d1192f08c6f",
   "metadata": {},
   "outputs": [],
   "source": [
    "# get_body_barycentric('moon', t, ephemeris='de432s') # this might fail due to missing packages\n"
   ]
  },
  {
   "cell_type": "markdown",
   "id": "22628011-9202-45dd-bad3-6572eb01ebfc",
   "metadata": {},
   "source": [
    "This examples shows you how to use these function to compute the elevation of a source for a given observatory and a source. We will be using the best source and the best observatory as an example: the VLT in Chile Paranal & the Galactic Center Massive Black Hole Sagitarrius A * (Sgr A*)"
   ]
  },
  {
   "cell_type": "code",
   "execution_count": 28,
   "id": "7f815fdf-3665-41c9-865b-f5c2b8ff8b84",
   "metadata": {},
   "outputs": [
    {
     "name": "stdout",
     "output_type": "stream",
     "text": [
      "Elevation of Sgr A* at 2025-05-03T12:00:00.000: 33.06 deg\n"
     ]
    }
   ],
   "source": [
    "# Import required modules\n",
    "from astropy.time import Time\n",
    "from astropy.coordinates import EarthLocation, AltAz\n",
    "\n",
    "# Define the location of the Very Large Telescope (VLT)\n",
    "vlt_location = EarthLocation.of_site(\"Paranal Observatory\")\n",
    "\n",
    "# Define the coordinates of Sagittarius A*\n",
    "sgr_a_star = SkyCoord.from_name(\"Sgr A*\")\n",
    "\n",
    "# Define the observation time\n",
    "obs_time = Time(\"2025-05-03T12:00:00\")  # UTC time\n",
    "\n",
    "# Create an Altitude-Azimuth frame for the observer's location and time\n",
    "altaz_frame = AltAz(obstime=obs_time, location=vlt_location)\n",
    "\n",
    "# Convert Sgr A*'s coordinates to Alt/Az\n",
    "sgr_a_altaz = sgr_a_star.transform_to(altaz_frame)\n",
    "\n",
    "# Print the elevation (altitude) of Sgr A*\n",
    "print(f\"Elevation of Sgr A* at {obs_time}: {sgr_a_altaz.alt:.2f}\")"
   ]
  },
  {
   "cell_type": "markdown",
   "id": "f5a318e6-b88d-4d7c-bd33-6465464b5544",
   "metadata": {},
   "source": [
    "Excerise: Try to observe Sgr A* from your backyard tonight. Make a plot of the source's observability from 8pm to 8 am, should you consider moving?"
   ]
  },
  {
   "cell_type": "markdown",
   "id": "48f249f4-818e-4bc1-9209-ceb1554c7e2e",
   "metadata": {},
   "source": [
    "# Time handling\n",
    "\n",
    "\n",
    "The astropy.time module is part of the Astropy library and provides functionality for handling and manipulating times and dates, particularly in astronomical contexts. It supports various time scales (e.g., UTC, TAI, UT1, TDB) and formats (e.g., Julian Date, Modified Julian Date, ISO 8601). The module is designed for high precision, using two 64-bit floats to represent time internally.\n",
    "Users can create Time objects with different formats and scales, perform arithmetic operations, and convert between representations. The module is built on efficient PyERFA wrappers around ERFA time routines, ensuring accuracy over long time spans.\n"
   ]
  },
  {
   "cell_type": "code",
   "execution_count": 30,
   "id": "40d53b19-1ce8-45c8-8aa0-27b9b9184093",
   "metadata": {},
   "outputs": [
    {
     "data": {
      "text/plain": [
       "<Time object: scale='utc' format='isot' value=2010-01-01T00:00:00.000>"
      ]
     },
     "execution_count": 30,
     "metadata": {},
     "output_type": "execute_result"
    }
   ],
   "source": [
    "import numpy as np\n",
    "from astropy.time import Time\n",
    "times = ['1999-01-01T00:00:00.123456789', '2010-01-01T00:00:00']\n",
    "t = Time(times, format='isot', scale='utc')\n",
    "t\n",
    "t[1]"
   ]
  },
  {
   "cell_type": "markdown",
   "id": "b0648896-1205-4a3e-9fde-4fed1ffbf647",
   "metadata": {},
   "source": [
    "It's most useful aspect that it allows to juggle all those time defintions that you might come across like converting between \"human times\" and \"telescope times = Modified Julian Date:"
   ]
  },
  {
   "cell_type": "code",
   "execution_count": 33,
   "id": "df3ca750-4311-4331-8ee8-fbaa91c79f91",
   "metadata": {},
   "outputs": [
    {
     "data": {
      "text/plain": [
       "(2010.0, 55197.0)"
      ]
     },
     "execution_count": 33,
     "metadata": {},
     "output_type": "execute_result"
    }
   ],
   "source": [
    "t[1].decimalyear, t[1].mjd"
   ]
  },
  {
   "cell_type": "markdown",
   "id": "0bd628cd-f821-4ce1-b98b-5a7cd9ad5960",
   "metadata": {},
   "source": [
    "Here is a selection of the all(?) time format that astropy supports. "
   ]
  },
  {
   "cell_type": "code",
   "execution_count": 34,
   "id": "5fdf53ae-86bf-4306-9a33-acc38eaa5227",
   "metadata": {},
   "outputs": [
    {
     "data": {
      "text/html": [
       "<div>\n",
       "<style scoped>\n",
       "    .dataframe tbody tr th:only-of-type {\n",
       "        vertical-align: middle;\n",
       "    }\n",
       "\n",
       "    .dataframe tbody tr th {\n",
       "        vertical-align: top;\n",
       "    }\n",
       "\n",
       "    .dataframe thead th {\n",
       "        text-align: right;\n",
       "    }\n",
       "</style>\n",
       "<table border=\"1\" class=\"dataframe\">\n",
       "  <thead>\n",
       "    <tr style=\"text-align: right;\">\n",
       "      <th></th>\n",
       "      <th>Format Name</th>\n",
       "      <th>Description</th>\n",
       "    </tr>\n",
       "  </thead>\n",
       "  <tbody>\n",
       "    <tr>\n",
       "      <th>0</th>\n",
       "      <td>jd</td>\n",
       "      <td>Julian Date</td>\n",
       "    </tr>\n",
       "    <tr>\n",
       "      <th>1</th>\n",
       "      <td>mjd</td>\n",
       "      <td>Modified Julian Date</td>\n",
       "    </tr>\n",
       "    <tr>\n",
       "      <th>2</th>\n",
       "      <td>decimalyear</td>\n",
       "      <td>Decimal year</td>\n",
       "    </tr>\n",
       "    <tr>\n",
       "      <th>3</th>\n",
       "      <td>unix</td>\n",
       "      <td>Unix timestamp (seconds since 1970-01-01)</td>\n",
       "    </tr>\n",
       "    <tr>\n",
       "      <th>4</th>\n",
       "      <td>cxcsec</td>\n",
       "      <td>Chandra X-ray Center seconds</td>\n",
       "    </tr>\n",
       "    <tr>\n",
       "      <th>5</th>\n",
       "      <td>gps</td>\n",
       "      <td>GPS seconds since 1980-01-06</td>\n",
       "    </tr>\n",
       "    <tr>\n",
       "      <th>6</th>\n",
       "      <td>plotdate</td>\n",
       "      <td>Matplotlib date format</td>\n",
       "    </tr>\n",
       "    <tr>\n",
       "      <th>7</th>\n",
       "      <td>datetime</td>\n",
       "      <td>Python `datetime.datetime` object</td>\n",
       "    </tr>\n",
       "    <tr>\n",
       "      <th>8</th>\n",
       "      <td>iso</td>\n",
       "      <td>ISO 8601 date/time format</td>\n",
       "    </tr>\n",
       "    <tr>\n",
       "      <th>9</th>\n",
       "      <td>isot</td>\n",
       "      <td>ISO 8601 extended format</td>\n",
       "    </tr>\n",
       "    <tr>\n",
       "      <th>10</th>\n",
       "      <td>fits</td>\n",
       "      <td>FITS format (similar to ISO 8601)</td>\n",
       "    </tr>\n",
       "    <tr>\n",
       "      <th>11</th>\n",
       "      <td>byear</td>\n",
       "      <td>Besselian year</td>\n",
       "    </tr>\n",
       "    <tr>\n",
       "      <th>12</th>\n",
       "      <td>jyear</td>\n",
       "      <td>Julian year</td>\n",
       "    </tr>\n",
       "  </tbody>\n",
       "</table>\n",
       "</div>"
      ],
      "text/plain": [
       "    Format Name                                Description\n",
       "0            jd                                Julian Date\n",
       "1           mjd                       Modified Julian Date\n",
       "2   decimalyear                               Decimal year\n",
       "3          unix  Unix timestamp (seconds since 1970-01-01)\n",
       "4        cxcsec               Chandra X-ray Center seconds\n",
       "5           gps               GPS seconds since 1980-01-06\n",
       "6      plotdate                     Matplotlib date format\n",
       "7      datetime          Python `datetime.datetime` object\n",
       "8           iso                  ISO 8601 date/time format\n",
       "9          isot                   ISO 8601 extended format\n",
       "10         fits          FITS format (similar to ISO 8601)\n",
       "11        byear                             Besselian year\n",
       "12        jyear                                Julian year"
      ]
     },
     "execution_count": 34,
     "metadata": {},
     "output_type": "execute_result"
    }
   ],
   "source": [
    "import pandas as pd\n",
    "\n",
    "# Create the time formats table\n",
    "time_formats = {\n",
    "    \"Format Name\": [\"jd\", \"mjd\", \"decimalyear\", \"unix\", \"cxcsec\", \"gps\", \"plotdate\",\n",
    "                    \"datetime\", \"iso\", \"isot\", \"fits\", \"byear\", \"jyear\"],\n",
    "    \"Description\": [\"Julian Date\",\n",
    "                    \"Modified Julian Date\",\n",
    "                    \"Decimal year\",\n",
    "                    \"Unix timestamp (seconds since 1970-01-01)\",\n",
    "                    \"Chandra X-ray Center seconds\",\n",
    "                    \"GPS seconds since 1980-01-06\",\n",
    "                    \"Matplotlib date format\",\n",
    "                    \"Python `datetime.datetime` object\",\n",
    "                    \"ISO 8601 date/time format\",\n",
    "                    \"ISO 8601 extended format\",\n",
    "                    \"FITS format (similar to ISO 8601)\",\n",
    "                    \"Besselian year\",\n",
    "                    \"Julian year\"]\n",
    "}\n",
    "\n",
    "df = pd.DataFrame(time_formats)\n",
    "\n",
    "# Display the table\n",
    "df"
   ]
  },
  {
   "cell_type": "markdown",
   "id": "dd38f6a3-dac5-4514-9d75-88954dcbcc8b",
   "metadata": {},
   "source": [
    "It is the go to solution if you want to do \"time-arithmetics\", and will keep track of all the leap years, leap seconds ect. Under the hood, it runs on numpy's datetime arithmetic which you encountered in the first lectures!\n",
    "\n"
   ]
  },
  {
   "cell_type": "code",
   "execution_count": 39,
   "id": "bceb1358-54b6-46de-a05d-af98cc6c2069",
   "metadata": {},
   "outputs": [
    {
     "data": {
      "text/plain": [
       "<TimeDelta object: scale='tai' format='jd' value=-4018.00002171925>"
      ]
     },
     "execution_count": 39,
     "metadata": {},
     "output_type": "execute_result"
    }
   ],
   "source": [
    "dt = (t[0] - t[1])\n",
    "dt"
   ]
  },
  {
   "cell_type": "code",
   "execution_count": 45,
   "id": "cc6b946a-4c9e-43ec-aba0-bbdf77fd2123",
   "metadata": {},
   "outputs": [
    {
     "data": {
      "text/plain": [
       "(-347155201.8765432,\n",
       " <bound method TimeBase.min of <TimeDelta object: scale='tai' format='jd' value=-4018.00002171925>>,\n",
       " <Quantity -96432.00052126 h>)"
      ]
     },
     "execution_count": 45,
     "metadata": {},
     "output_type": "execute_result"
    }
   ],
   "source": [
    "dt.sec, dt.min, dt.to(u.h)"
   ]
  },
  {
   "cell_type": "markdown",
   "id": "b44d89a1-43dc-4165-b4b8-e44476c378d4",
   "metadata": {},
   "source": [
    "# Data handling\n",
    "\n",
    "You've already encountered the astropy.Table format. Personally, I prefer to fall back to the very similar, but more powerfull pd.DataFrames (or numpy.array & xarray), so I won't go into too much detail here.\n",
    "\n",
    "One of the most important file formats is .fits format. While there have been pushes to use the .hdf5 format, .fits is still THE STANDARD. Despite its age (introduced in [1981](https://ui.adsabs.harvard.edu/abs/1981A%26AS...44..363W/abstract)), it is still the format that all major observatories use to ship their data (ESO, NASA, Keck, NRAO, NAOJ,...). It has been adapted to transport \"non-image\" data as well, such as interferometric visibilities (.uvfits, .oifits, .idi_fits), albeit those standards are less controlled and are plagued by inconsitent definitions of the metadata extensions (... a major source of PhD-student pain in the Event Horizon Telescope Collaboration for instance).\n"
   ]
  },
  {
   "cell_type": "code",
   "execution_count": 46,
   "id": "3b952f56-88bb-4547-b1ff-615cf819150e",
   "metadata": {},
   "outputs": [],
   "source": [
    "from astropy.io import fits\n",
    "fits_image_filename = fits.util.get_testdata_filepath('test0.fits')\n",
    "\n",
    "hdul = fits.open(fits_image_filename)"
   ]
  },
  {
   "cell_type": "code",
   "execution_count": 47,
   "id": "d55109b8-16e5-4aba-bfb3-aab7b06ed71f",
   "metadata": {},
   "outputs": [
    {
     "name": "stdout",
     "output_type": "stream",
     "text": [
      "Filename: /homes/sfellenberg/anaconda3/envs/jwst/lib/python3.11/site-packages/astropy/io/fits/tests/data/test0.fits\n",
      "No.    Name      Ver    Type      Cards   Dimensions   Format\n",
      "  0  PRIMARY       1 PrimaryHDU     138   ()      \n",
      "  1  SCI           1 ImageHDU        61   (40, 40)   int16   \n",
      "  2  SCI           2 ImageHDU        61   (40, 40)   int16   \n",
      "  3  SCI           3 ImageHDU        61   (40, 40)   int16   \n",
      "  4  SCI           4 ImageHDU        61   (40, 40)   int16   \n"
     ]
    }
   ],
   "source": [
    "hdul.info()"
   ]
  },
  {
   "cell_type": "markdown",
   "id": "8e86245b-a7a4-4ace-b872-548c72c2f5d8",
   "metadata": {},
   "source": [
    "## The header object\n",
    "\n",
    "A FITS header is a metadata section in a FITS file that contains key-value pairs describing the data stored in the file. It provides essential information such as the observation date, telescope details, image dimensions, and calibration parameters.\n"
   ]
  },
  {
   "cell_type": "code",
   "execution_count": 50,
   "id": "98225d30-9a56-47b9-9e29-64b4fd4b3dc2",
   "metadata": {},
   "outputs": [
    {
     "data": {
      "text/plain": [
       "SIMPLE  =                    T / file does conform to FITS standard             \n",
       "BITPIX  =                   16 / number of bits per data pixel                  \n",
       "NAXIS   =                    0 / number of data axes                            \n",
       "EXTEND  =                    T / FITS dataset may contain extensions            \n",
       "GROUPS  =                    F / data has groups                                \n",
       "NEXTEND =                    4 / Number of standard extensions                  \n",
       "BSCALE  =           1.000000E0 / REAL = TAPE*BSCALE + BZERO                     \n",
       "BZERO   =           3.276800E4 /                                                \n",
       "ORIGIN  = 'NOAO-IRAF FITS Image Kernel Aug 1 1997' / FITS file originator       \n",
       "DATE    = '01/04/99  '         / Date FITS file was generated                   \n",
       "IRAF-TLM= 'xxx     '              / Time of last modification                   \n",
       "                                                                                \n",
       "              / GROUP PARAMETERS: OSS                                           \n",
       "                                                                                \n",
       "              / GROUP PARAMETERS: PODPS                                         \n",
       "                                                                                \n",
       "              / GROUP PARAMETERS: DATA QUALITY FILE SUMMARY                     \n",
       "                                                                                \n",
       "              / GROUP PARAMETERS: PHOTOMETRY                                    \n",
       "                                                                                \n",
       "              / GROUP PARAMETERS: IMAGE STATISTICS                              \n",
       "                                                                                \n",
       "              / WFPC-II DATA DESCRIPTOR KEYWORDS                                \n",
       "INSTRUME= 'WFPC2             ' / identifier for instrument used to acquire data \n",
       "ROOTNAME= 'U2EQ0201T         ' / rootname of the observation set                \n",
       "FILETYPE= 'SCI               ' / shp, ext, edq, sdq, sci                        \n",
       "                                                                                \n",
       "              / SCIENCE INSTRUMENT CONFIGURATION                                \n",
       "MODE    = 'AREA              ' / instr. mode: FULL (full res.), AREA (area int.)\n",
       "SERIALS = 'OFF               ' / serial clocks: ON, OFF                         \n",
       "                                                                                \n",
       "              / IMAGE TYPE CHARACTERISTICS                                      \n",
       "IMAGETYP= 'EXT               ' / type of exposure identifier                    \n",
       "CDBSFILE= 'NO                ' / GENERIC/BIAS/DARK/PREF/FLAT/MASK/ATOD/NO       \n",
       "PKTFMT  =                   96 / packet format code                             \n",
       "                                                                                \n",
       "              / FILTER CONFIGURATION                                            \n",
       "FILTNAM1= 'F673N             ' / first filter name                              \n",
       "FILTNAM2= '                  ' / 2nd    filter name                             \n",
       "FILTER1 =                   33 / first filter number (0-48)                     \n",
       "FILTER2 =                    0 / second filter number (0-48)                    \n",
       "FILTROT =             0.000000 / partial filter rotation angle (degrees)        \n",
       "LRFWAVE =                  0.0 / linear ramp filter wavelength                  \n",
       "                                                                                \n",
       "              / INSTRUMENT STATUS USED IN DATA PROCESSING                       \n",
       "UCH1CJTM=             -88.3486 / TEC cold junction #1 temperature (Celsius)     \n",
       "UCH2CJTM=             -88.8073 / TEC cold junction #2 temperature (Celsius)     \n",
       "UCH3CJTM=             -88.3945 / TEC cold junction #3 temperature (Celsius)     \n",
       "UCH4CJTM=             -88.9041 / TEC cold junction #4 temperature (Celsius)     \n",
       "UBAY3TMP=              14.5969 / bay 3 A1 temperature (deg C)                   \n",
       "KSPOTS  = 'OFF               ' / Status of Kelsall spot lamps: ON, OFF          \n",
       "SHUTTER = 'B                 ' / Shutter in place at beginning of the exposure  \n",
       "ATODGAIN=                  7.0 / Analog to Digital Gain (Electrons/DN)          \n",
       "                                                                                \n",
       "              / RSDP CONTROL KEYWORDS                                           \n",
       "MASKCORR= 'PERFORM           ' / Do mask correction: PERFORM, OMIT, COMPLETE    \n",
       "ATODCORR= 'PERFORM           ' / Do A-to-D correction: PERFORM, OMIT, COMPLETE  \n",
       "BLEVCORR= 'PERFORM           ' / Do bias level correction                       \n",
       "BIASCORR= 'PERFORM           ' / Do bias correction: PERFORM, OMIT, COMPLETE    \n",
       "DARKCORR= 'OMIT              ' / Do dark correction: PERFORM, OMIT, COMPLETE    \n",
       "FLATCORR= 'PERFORM           ' / Do flat field correction                       \n",
       "SHADCORR= 'PERFORM           ' / Do shaded shutter correction                   \n",
       "DOSATMAP= 'OMIT              ' / Output saturated pixel map                     \n",
       "DOPHOTOM= 'PERFORM           ' / Fill photometry keywords                       \n",
       "DOHISTOS= 'OMIT              ' / Make histograms: PERFORM, OMIT, COMPLETE       \n",
       "OUTDTYPE= 'REAL              ' / Output image datatype: REAL, LONG, SHORT       \n",
       "                                                                                \n",
       "              / CALIBRATION REFERENCE FILES                                     \n",
       "MASKFILE= 'uref$fan15478u.r0h' / name of the input DQF of known bad pixels      \n",
       "ATODFILE= 'uref$e1b09594u.r1h' / name of the A-to-D conversion file             \n",
       "BLEVFILE= 'ucal$u2eq0201t.x0h' / Engineering file with extended register data   \n",
       "BLEVDFIL= 'ucal$u2eq0201t.q1h' / Engineering file DQF                           \n",
       "BIASFILE= 'uref$e6o0937du.r2h' / name of the bias frame reference file          \n",
       "BIASDFIL= 'uref$e6o0937du.b2h' / name of the bias frame reference DQF           \n",
       "DARKFILE= 'uref$e6o09384u.r3h' / name of the dark reference file                \n",
       "DARKDFIL= 'uref$e6o09384u.b3h' / name of the dark reference DQF                 \n",
       "FLATFILE= 'uref$e1c1404ju.r4h' / name of the flat field reference file          \n",
       "FLATDFIL= 'uref$e1c1404ju.b4h' / name of the flat field reference DQF           \n",
       "SHADFILE= 'uref$e6o09405u.r5h' / name of the reference file for shutter shading \n",
       "PHOTTAB = '                  ' / name of the photometry calibration table       \n",
       "GRAPHTAB= 'mtab$f7d1401pm.tmg' / the HST graph table                            \n",
       "COMPTAB = 'mtab$f7j1535pm.tmc' / the HST components table                       \n",
       "                                                                                \n",
       "              / DEFAULT KEYWORDS SET BY STSCI                                   \n",
       "SATURATE=                 4095 / Data value at which saturation occurs          \n",
       "USCALE  =                  1.0 / Scale factor for output image                  \n",
       "UZERO   =                  0.0 / Zero point for output image                    \n",
       "                                                                                \n",
       "              / READOUT DURATION INFORMATION                                    \n",
       "READTIME=                  151 / Length of time for CCD readout in clock ticks  \n",
       "                                                                                \n",
       "              / PLANETARY SCIENCE KEYWORDS                                      \n",
       "PA_V3   =        292.387786865 / position angle of v3 of HST (deg)              \n",
       "RA_SUN  =        56.2731208362 / right ascension of the sun (deg)               \n",
       "DEC_SUN =        19.8289107164 / declination of the sun (deg)                   \n",
       "EQNX_SUN=               2000.0 / equinox of the sun                             \n",
       "MTFLAG  =                    T / moving target flag; T if it is a moving target \n",
       "EQRADTRG=                  0.0 / equatorial radius of target (km)               \n",
       "FLATNTRG=                  0.0 / flattening of target                           \n",
       "NPDECTRG=                  0.0 / north pole declination of target (deg)         \n",
       "NPRATRG =                  0.0 / north pole right ascension of target (deg)     \n",
       "ROTRTTRG=                  0.0 / rotation rate of target                        \n",
       "LONGPMER=                  0.0 / longitude of prime meridian (deg)              \n",
       "EPLONGPM=                  0.0 / epoch of longitude of prime meridian (sec)     \n",
       "SURFLATD=                  0.0 / surface feature latitude (deg)                 \n",
       "SURFLONG=                  0.0 / surface feature longitude (deg)                \n",
       "SURFALTD=                  0.0 / surface feature altitude (km)                  \n",
       "                                                                                \n",
       "              / PODPS FILL VALUES                                               \n",
       "PODPSFF =                    F / podps fill present (T/F)                       \n",
       "STDCFFF =                    F / ST DDF fill present (T/F)                      \n",
       "STDCFFP = '0x5569            ' / ST DDF fill pattern (hex)                      \n",
       "RSDPFILL=                 -100 / bad data fill value for calibrated images      \n",
       "                                                                                \n",
       "              / EXPOSURE TIME AND RELATED INFORMATION                           \n",
       "UEXPODUR=                    0 / commanded duration of exposure (sec)           \n",
       "NSHUTA17=                    0 / Number of AP17 shutter B closes                \n",
       "DARKTIME=   2.300000000000E-01 / Dark time (seconds)                            \n",
       "UEXPOTIM=                20272 / Major frame pulse time preceding exposure start\n",
       "PSTRTIME= '1994.139:15:41:39 ' / predicted obs. start time (yyyy.ddd:hh:mm:ss)  \n",
       "PSTPTIME= '1994.139:16:14:39 ' / predicted obs. stop time (yyyy.ddd:hh:mm:ss)   \n",
       "                                                                                \n",
       "                                                                                \n",
       "              / EXPOSURE INFORMATION                                            \n",
       "                                                                                \n",
       "ORIENTAT=              157.076 / position angle of image y axis (deg. e of n)   \n",
       "SUNANGLE=           158.939133 / angle between sun and V1 axis (deg)            \n",
       "MOONANGL=            54.995346 / angle between moon and V1 axis                 \n",
       "SUN_ALT =           -11.552458 / altitude of the sun above Earth's limb         \n",
       "FGSLOCK = 'FINE              ' / commanded FGS lock (FINE,COARSE,GYROS,UNKNOWN) \n",
       "                                                                                \n",
       "DATE-OBS= '19/05/94          ' / UT date of start of observation (dd/mm/yy)     \n",
       "TIME-OBS= '15:41:16          ' / UT time of start of observation (hh:mm:ss)     \n",
       "EXPSTART=   4.949165366175E+04 / exposure start time (Modified Julian Date)     \n",
       "EXPEND  =   4.949165366441E+04 / exposure end time (Modified Julian Date)       \n",
       "EXPTIME =   2.300000000000E-01 / exposure duration (seconds)--calculated        \n",
       "EXPFLAG = 'NORMAL            ' / Exposure interruption indicator                \n",
       "FILENAME= 'vtest3.fits'        / File name                                      "
      ]
     },
     "execution_count": 50,
     "metadata": {},
     "output_type": "execute_result"
    }
   ],
   "source": [
    "hdul = fits.open(fits_image_filename)\n",
    "hdul[0].header"
   ]
  },
  {
   "cell_type": "code",
   "execution_count": 51,
   "id": "4eeed683-03e2-4bf0-a932-a9670208a782",
   "metadata": {},
   "outputs": [
    {
     "data": {
      "text/plain": [
       "'01/04/99'"
      ]
     },
     "execution_count": 51,
     "metadata": {},
     "output_type": "execute_result"
    }
   ],
   "source": [
    "hdul[0].header['DATE']"
   ]
  },
  {
   "cell_type": "markdown",
   "id": "d0c41fe5-dff9-4712-9773-b5869671ea03",
   "metadata": {},
   "source": [
    "note that most observatories use consitent defintions of the header extentions. They are *mostly* consistent across observatories, but do not count on them being and always check. You can find the defintions of the header extenstion that ESO uses [here](https://www.eso.org/sci/software/esomidas/doc/user/18NOV/vola/node112.html), and NASA [here](https://fits.gsfc.nasa.gov/fits_dictionary.html). \n",
    "\n",
    "creating custom headers is simple:"
   ]
  },
  {
   "cell_type": "code",
   "execution_count": 52,
   "id": "a60226dc-bfd2-47e8-a853-d52d7b07ae64",
   "metadata": {},
   "outputs": [],
   "source": [
    "header = fits.Header()\n",
    "header['SIMPLE'] = (True, 'Conforms to FITS standard')\n",
    "header['BITPIX'] = (16, 'Number of bits per pixel')\n",
    "header['NAXIS'] = (2, 'Number of axes')\n",
    "header['NAXIS1'] = (1024, 'Width of image')\n",
    "header['NAXIS2'] = (1024, 'Height of image')\n",
    "header['DATE-OBS'] = ('2025-05-05', 'Observation date')\n"
   ]
  },
  {
   "cell_type": "markdown",
   "id": "94ccefb7-b407-4c81-8222-626dbdfa582d",
   "metadata": {},
   "source": [
    "## The data extenstion \n",
    "\n",
    "The data of a fits file are typically stored in the \"1\" and following extenstions. That is the first list item only holds the top level meta data, not the actual data. But this is not really enforced, and espically for \"astronomer created\" files its pretty much random where the \"useful\" data might end up."
   ]
  },
  {
   "cell_type": "code",
   "execution_count": 56,
   "id": "dda8e3df-1bd4-4312-b5b7-7b8a45dd9b13",
   "metadata": {},
   "outputs": [
    {
     "data": {
      "text/plain": [
       "(None,\n",
       " array([[313, 312, 313, ..., 312, 313, 313],\n",
       "        [315, 315, 313, ..., 312, 314, 313],\n",
       "        [313, 313, 312, ..., 314, 312, 313],\n",
       "        ...,\n",
       "        [314, 313, 312, ..., 312, 313, 311],\n",
       "        [313, 315, 312, ..., 313, 313, 312],\n",
       "        [312, 314, 314, ..., 314, 311, 314]], dtype=int16))"
      ]
     },
     "execution_count": 56,
     "metadata": {},
     "output_type": "execute_result"
    }
   ],
   "source": [
    "hdul[0].data, hdul[1].data"
   ]
  },
  {
   "cell_type": "markdown",
   "id": "bbb36b32-353d-4192-acb8-f6d96de38e83",
   "metadata": {},
   "source": [
    "**Important** The .header files are usually different for the extension, where the header associated with a specific list item is specific to the .data of that list item."
   ]
  },
  {
   "cell_type": "code",
   "execution_count": 61,
   "id": "1ec064ea-4781-405d-a3e1-4c3475744e5c",
   "metadata": {},
   "outputs": [
    {
     "name": "stdout",
     "output_type": "stream",
     "text": [
      "can you figure out the differences?\n"
     ]
    }
   ],
   "source": [
    "print(\"can you figure out the differences?\")\n",
    "## hdul[0].header, hdul[1].header"
   ]
  },
  {
   "cell_type": "markdown",
   "id": "bb6c7bda-beb5-4976-bc02-806840d00b1d",
   "metadata": {},
   "source": [
    "Let's look at the actual image:"
   ]
  },
  {
   "cell_type": "code",
   "execution_count": 62,
   "id": "486c9632-27df-4b07-9955-dd4bc2a88d2c",
   "metadata": {},
   "outputs": [],
   "source": [
    "import matplotlib.pyplot as plt"
   ]
  },
  {
   "cell_type": "code",
   "execution_count": 76,
   "id": "56a5b715-d228-43ba-acb5-76f15a16ac3e",
   "metadata": {},
   "outputs": [
    {
     "data": {
      "text/plain": [
       "<matplotlib.image.AxesImage at 0x7f7c7759ba50>"
      ]
     },
     "execution_count": 76,
     "metadata": {},
     "output_type": "execute_result"
    },
    {
     "data": {
      "image/png": "[encoded data removed]",
      "text/plain": [
       "<Figure size 640x480 with 4 Axes>"
      ]
     },
     "metadata": {},
     "output_type": "display_data"
    }
   ],
   "source": [
    "fig, axes = plt.subplots(2,2, sharex=True, sharey=True)\n",
    "axes[0,1].set_visible(False)\n",
    "axes[0,0].imshow(hdul[1].data, origin=\"lower\")\n",
    "axes[1,0].imshow(hdul[2].data, origin=\"lower\", norm=\"log\")\n",
    "axes[1,1].imshow(hdul[3].data, origin=\"lower\", norm=\"linear\")\n"
   ]
  },
  {
   "cell_type": "markdown",
   "id": "c6a67265-8d98-4aca-a9aa-b61ff2f2c505",
   "metadata": {},
   "source": [
    "... any idea what we are looking at here?!"
   ]
  },
  {
   "cell_type": "markdown",
   "id": "2dca5d74-e736-4967-83bf-17a696ce2331",
   "metadata": {},
   "source": [
    "## Exercise\n",
    "\n",
    "Download a fits file from NASA's [MAST archive](https://mast.stsci.edu/portal/Mashup/Clients/Mast/Portal.html). Please download an observations from the project [2235](https://www.stsci.edu/jwst/phase2-public/2235.pdf) by Prof. Yusef Farhad-Zadeh, which were recently [published](https://iopscience.iop.org/article/10.3847/2041-8213/ada88b). Download a fits file using the \"L3\" calibration level which is the highest processed data.\n",
    "\n",
    "Open the file, and explore the fits extension's a bit. Can you plot a JWST near-infrared observation of our Galactic Center?"
   ]
  },
  {
   "cell_type": "code",
   "execution_count": null,
   "id": "ca8c639d-82a5-4d89-aab5-1ea5c2d5f10d",
   "metadata": {},
   "outputs": [],
   "source": [
    "###"
   ]
  }
 ],
 "metadata": {
  "kernelspec": {
   "display_name": "Python 3 (ipykernel)",
   "language": "python",
   "name": "python3"
  },
  "language_info": {
   "codemirror_mode": {
    "name": "ipython",
    "version": 3
   },
   "file_extension": ".py",
   "mimetype": "text/x-python",
   "name": "python",
   "nbconvert_exporter": "python",
   "pygments_lexer": "ipython3",
   "version": "3.11.9"
  }
 },
 "nbformat": 4,
 "nbformat_minor": 5
}

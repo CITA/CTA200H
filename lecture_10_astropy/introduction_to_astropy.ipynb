{
 "cells": [
  {
   "cell_type": "markdown",
   "id": "4027cc29-e43a-4d4b-b1bb-9b2373820bd5",
   "metadata": {},
   "source": [
    "# Introduction to astropy \n",
    "\n",
    "\n",
    "Astropy is a powerful open-source Python library designed for astronomy and astrophysics mantained by the [astropy project](https://www.astropy.org/about.html). It provides essential tools for working with astronomical data, handling celestial coordinates, managing time conversions, and performing astrophysical calculations. The library is widely used in both research and education, helping astronomers process and analyze their observations efficiently.\n",
    "\n",
    "\n",
    "Key Features\n",
    "- [Unit Handling](https://docs.astropy.org/en/stable/units/index.html): Converts and manipulates physical units effortlessly.\n",
    "- [Coordinate Systems](https://docs.astropy.org/en/stable/coordinates/index.html): Supports celestial coordinate transformations.\n",
    "- [Time Management](https://docs.astropy.org/en/stable/time/index.html): Works with different astronomical time formats.\n",
    "- [Data Handling](https://docs.astropy.org/en/stable/io/fits/index.html): Reads and writes astronomical files (FITS, CSV, etc.).\n",
    "- [Visualization](https://docs.astropy.org/en/stable/visualization/index.html): Helps plot and analyze sky maps and stellar distributions.\n",
    "- Astrophysical Calculations: Includes built-in functions for [timeseries](https://docs.astropy.org/en/stable/timeseries/index.html), [cosmology](https://docs.astropy.org/en/stable/cosmology/index.html), [statistics](https://docs.astropy.org/en/stable/stats/index.html) and more.\n",
    "\n",
    "\n",
    "Here are some useful links\n",
    "\n",
    "- The official Astropy documentation, which provides detailed guides and tutorials: [Astropy Documentation](https://docs.astropy.org/en/stable/index.html)\n",
    "- Information on how to cite Astropy in research papers and presentations: [Acknowledging Astropy](https://www.astropy.org/acknowledging.html)\n",
    "- The Astropy GitHub repository, where you can explore the source code and contribute:  [Astropy GitHub](https://github.com/astropy/astropy)\n",
    "\n",
    "Astropy are one of the few reliable astronomy softwares. It is well maintained, issues, bugs ect are quickly fixed, and it is the only software that I use \"blindly\" without checking the underlying implementation.\n",
    "\n",
    "\n",
    "In the following we will walk through examples listed above, mostly following the excellent astropy documentation which you should use as primary reference."
   ]
  },
  {
   "cell_type": "markdown",
   "id": "5300464d-805f-4015-8eed-819cd137808e",
   "metadata": {},
   "source": [
    "## Unit Handling"
   ]
  },
  {
   "cell_type": "code",
   "execution_count": 4,
   "id": "c2831793-9f76-4687-9ec2-99ab4db50f97",
   "metadata": {},
   "outputs": [],
   "source": [
    "# Import Astropy's units module\n",
    "import astropy.units as u"
   ]
  },
  {
   "cell_type": "markdown",
   "id": "6c69b049-d4f7-4875-b6af-8fb8ce04c0ff",
   "metadata": {},
   "source": [
    "This is the basic import of the module. Below are a few examples how to define variables with units, and how to convert between basic units"
   ]
  },
  {
   "cell_type": "code",
   "execution_count": 5,
   "id": "0835f4b1-20f5-4e29-83b9-a0a2c7ced937",
   "metadata": {},
   "outputs": [
    {
     "name": "stdout",
     "output_type": "stream",
     "text": [
      "Distance: 10.0 m\n",
      "Distance in km: 0.01 km\n",
      "Earth-Sun Distance: 1.0 AU\n",
      "Earth-Sun Distance in km: 149597870.70 km\n"
     ]
    }
   ],
   "source": [
    "# Defining a length in meters\n",
    "distance = 10 * u.meter\n",
    "print(f\"Distance: {distance}\")\n",
    "\n",
    "# Converting meters to kilometers\n",
    "distance_km = distance.to(u.km)\n",
    "print(f\"Distance in km: {distance_km}\")\n",
    "\n",
    "# Defining an astronomical unit (AU)\n",
    "earth_sun_distance = 1 * u.au\n",
    "print(f\"Earth-Sun Distance: {earth_sun_distance}\")\n",
    "\n",
    "# Converting AU to kilometers\n",
    "earth_sun_distance_km = earth_sun_distance.to(u.km)\n",
    "print(f\"Earth-Sun Distance in km: {earth_sun_distance_km:.2f}\")"
   ]
  },
  {
   "cell_type": "markdown",
   "id": "6bff18df-da79-4ffc-a185-739d39d95d35",
   "metadata": {},
   "source": [
    "While you can define custom astronomical constants with units, astropy also provides a module that \"has them all\": astropy.constants"
   ]
  },
  {
   "cell_type": "code",
   "execution_count": 10,
   "id": "015e0d23-859e-4dbb-8510-f3837acd4489",
   "metadata": {},
   "outputs": [
    {
     "name": "stdout",
     "output_type": "stream",
     "text": [
      "Speed of Light: 299792458.0 m / s\n",
      "Gravitational Constant: 6.6743e-11 m3 / (kg s2)\n",
      "Mass of the Sun: 1.988409870698051e+30 kg\n",
      "Earth Radius: 6378100.0 m\n"
     ]
    }
   ],
   "source": [
    "# Import Astropy's constants module\n",
    "import astropy.constants as const\n",
    "# Speed of light\n",
    "speed_of_light = const.c\n",
    "print(f\"Speed of Light: {speed_of_light}\")\n",
    "\n",
    "# Gravitational constant\n",
    "gravitational_constant = const.G\n",
    "print(f\"Gravitational Constant: {gravitational_constant}\")\n",
    "\n",
    "# Mass of the Sun\n",
    "sun_mass = const.M_sun\n",
    "print(f\"Mass of the Sun: {sun_mass}\")\n",
    "\n",
    "# Radius of the Earth\n",
    "earth_radius = const.R_earth\n",
    "print(f\"Earth Radius: {earth_radius}\")"
   ]
  },
  {
   "cell_type": "markdown",
   "id": "5d64af2a-d738-44c9-aa05-55a1631a8d59",
   "metadata": {},
   "source": [
    "Let's inspect the earth_radius object in a bit more detail, to give you a better idea what we are dealing with:"
   ]
  },
  {
   "cell_type": "code",
   "execution_count": 11,
   "id": "0a209551-6633-4090-9126-0cf3995eefed",
   "metadata": {},
   "outputs": [
    {
     "data": {
      "text/latex": [
       "$6378100 \\; \\mathrm{m}$"
      ],
      "text/plain": [
       "<<class 'astropy.constants.iau2015.IAU2015'> name='Nominal Earth equatorial radius' value=6378100.0 uncertainty=0.0 unit='m' reference='IAU 2015 Resolution B 3'>"
      ]
     },
     "execution_count": 11,
     "metadata": {},
     "output_type": "execute_result"
    }
   ],
   "source": [
    "earth_radius"
   ]
  },
  {
   "cell_type": "code",
   "execution_count": 12,
   "id": "b5cbaca1-dd94-4b5b-814b-e7402d2e64e0",
   "metadata": {},
   "outputs": [
    {
     "name": "stdout",
     "output_type": "stream",
     "text": [
      "  Name   = Nominal Earth equatorial radius\n",
      "  Value  = 6378100.0\n",
      "  Uncertainty  = 0.0\n",
      "  Unit  = m\n",
      "  Reference = IAU 2015 Resolution B 3\n"
     ]
    }
   ],
   "source": [
    "print(earth_radius)"
   ]
  },
  {
   "cell_type": "code",
   "execution_count": 14,
   "id": "61843395-eb77-4d35-8fbf-b16077b3bdf3",
   "metadata": {},
   "outputs": [
    {
     "data": {
      "text/plain": [
       "('Nominal Earth equatorial radius',\n",
       " 6378100.0,\n",
       " 0.0,\n",
       " Unit(\"m\"),\n",
       " 'IAU 2015 Resolution B 3')"
      ]
     },
     "execution_count": 14,
     "metadata": {},
     "output_type": "execute_result"
    }
   ],
   "source": [
    "earth_radius.name, earth_radius.value, earth_radius.uncertainty, earth_radius.unit, earth_radius.reference"
   ]
  },
  {
   "cell_type": "markdown",
   "id": "77fd3866-19b8-458f-8396-0fadd8fdbf20",
   "metadata": {},
   "source": [
    "#### ... that's it! That's the astropy.units and astropy.constants module. \n",
    "\n",
    "Below I'd like you to think of an example that demonstrates why the two models are so popular in the professional astronomy community. \n",
    "\n",
    "A tip: think of an equation, which you don't really remember anymore, but you might remeber the units of the target units ($F = m \\cdot a$)"
   ]
  },
  {
   "cell_type": "code",
   "execution_count": null,
   "id": "7d7bda8c-6029-41a4-ae8d-7905ad3ac5a8",
   "metadata": {},
   "outputs": [],
   "source": [
    "# provide a life-saving example of astropy.units & constants usage below\n",
    "\n"
   ]
  },
  {
   "cell_type": "markdown",
   "id": "83e412d7-f81e-4f6e-b725-f357c0251bf5",
   "metadata": {},
   "source": [
    "# Coordinate Systems"
   ]
  },
  {
   "cell_type": "markdown",
   "id": "577a6921-3908-4fa9-a8da-62e2892e91b6",
   "metadata": {},
   "source": [
    "The coordinates package takes care of a lot of the nasty coordinate transforms that you encounter in astronomy. \n",
    "It's basic functinallity is given by the \"degree\" like objects, that are Angle, Latitute, Longitude"
   ]
  },
  {
   "cell_type": "code",
   "execution_count": 16,
   "id": "91041ac6-a51e-4d88-b6cc-74729b97bb22",
   "metadata": {},
   "outputs": [],
   "source": [
    "from astropy.coordinates import Angle, Latitude, Longitude  # Angles"
   ]
  },
  {
   "cell_type": "markdown",
   "id": "f6bd5a8e-8208-40a7-9ae4-2ff53bca9b6e",
   "metadata": {},
   "source": [
    "Common defintions of low-level coordiante systems are defined in their respective classes. Personally, I have never used them directly, but its good to know they exist."
   ]
  },
  {
   "cell_type": "code",
   "execution_count": 23,
   "id": "76981561-e4a7-414e-a5a1-ba85a69a6677",
   "metadata": {},
   "outputs": [],
   "source": [
    "from astropy.coordinates import ICRS, Galactic, FK4, FK5  # Low-level frames"
   ]
  },
  {
   "cell_type": "markdown",
   "id": "073592e7-a156-40e0-8f92-2de768bf846d",
   "metadata": {},
   "source": [
    "The SkyCoord class provides a simple and flexible user interface for celestial coordinate representation, manipulation, and transformation between coordinate frames. This is a high-level class that serves as a wrapper around the low-level coordinate frame classes like ICRS and FK5 which do most of the heavy lifting."
   ]
  },
  {
   "cell_type": "code",
   "execution_count": 17,
   "id": "d7a64319-f7b0-44db-a434-085a930b07ab",
   "metadata": {},
   "outputs": [],
   "source": [
    "from astropy.coordinates import SkyCoord  # High-level coordinates"
   ]
  },
  {
   "cell_type": "markdown",
   "id": "749fd773-190d-4e98-b9d4-9e5d6a37d086",
   "metadata": {},
   "source": [
    "Basic usage:\n"
   ]
  },
  {
   "cell_type": "code",
   "execution_count": 19,
   "id": "a6181b81-ffce-41ce-a3d2-62ed9d8fc83d",
   "metadata": {},
   "outputs": [],
   "source": [
    "coord1 = SkyCoord(10, 20, unit='deg')  # Defaults to ICRS  \n",
    "\n",
    "coord2 = SkyCoord([1, 2, 3], [-30, 45, 8], frame='icrs', unit='deg')  "
   ]
  },
  {
   "cell_type": "code",
   "execution_count": 20,
   "id": "d4dbd27a-2777-4316-b8e3-1ded2126dbf3",
   "metadata": {},
   "outputs": [
    {
     "data": {
      "text/plain": [
       "(<SkyCoord (ICRS): (ra, dec) in deg\n",
       "     (10., 20.)>,\n",
       " <SkyCoord (ICRS): (ra, dec) in deg\n",
       "     [(1., -30.), (2.,  45.), (3.,   8.)]>)"
      ]
     },
     "execution_count": 20,
     "metadata": {},
     "output_type": "execute_result"
    }
   ],
   "source": [
    "coord1, coord2"
   ]
  },
  {
   "cell_type": "markdown",
   "id": "308e27b6-0a3b-4b3e-a6f6-1ed87edf8aae",
   "metadata": {},
   "source": [
    "There's quite some freedome how you can pass coordinates to SkyCoord:"
   ]
  },
  {
   "cell_type": "code",
   "execution_count": 30,
   "id": "beeae7d2-ee90-4a62-b9e9-f710dc2124be",
   "metadata": {},
   "outputs": [],
   "source": [
    "coords = [\"1:12:43.2 +1:12:43\", \"1 12 43.2 +1 12 43\"]\n",
    "sc = SkyCoord(coords, frame=FK4, unit=(u.hourangle, u.deg), obstime=\"J1992.21\")\n",
    "sc = SkyCoord(coords, frame=FK4(obstime=\"J1992.21\"), unit=(u.hourangle, u.deg))\n",
    "sc = SkyCoord(coords, frame='fk4', unit='hourangle,deg', obstime=\"J1992.21\")\n",
    "\n",
    "sc = SkyCoord(\"1h12m43.2s\", \"+1d12m43s\", frame=Galactic)  # Units from strings\n",
    "sc = SkyCoord(\"1h12m43.2s +1d12m43s\", frame=Galactic)  # Units from string\n",
    "sc = SkyCoord(l=\"1h12m43.2s\", b=\"+1d12m43s\", frame='galactic')\n",
    "sc = SkyCoord(\"1h12.72m +1d12.71m\", frame='galactic')"
   ]
  },
  {
   "cell_type": "markdown",
   "id": "054d4305-dc9a-4070-92bd-c862f28c7232",
   "metadata": {},
   "source": [
    "Skycoord allows you to trivially transform between different frames, simply by calling the \"transform_to\", or simply by calling the respective object attribute for default transforms."
   ]
  },
  {
   "cell_type": "code",
   "execution_count": 35,
   "id": "86f8a163-5346-4da8-8fab-4516cd6d295e",
   "metadata": {},
   "outputs": [
    {
     "data": {
      "text/plain": [
       "(<SkyCoord (ICRS): (ra, dec) in deg\n",
       "     (10., 20.)>,\n",
       " <SkyCoord (FK5: equinox=J2000.000): (ra, dec) in deg\n",
       "     (10.0000085, 20.00000153)>,\n",
       " <SkyCoord (FK4: equinox=B1950.000, obstime=B1950.000): (ra, dec) in deg\n",
       "     (9.34243999, 19.72557696)>,\n",
       " <SkyCoord (FK4: equinox=B1950.000, obstime=B1950.000): (ra, dec) in deg\n",
       "     (9.34243999, 19.72557696)>)"
      ]
     },
     "execution_count": 35,
     "metadata": {},
     "output_type": "execute_result"
    }
   ],
   "source": [
    "coord1.transform_to(ICRS), coord1.transform_to(FK5), coord1.transform_to(FK4), coord1.fk4"
   ]
  },
  {
   "cell_type": "markdown",
   "id": "c745629c-5618-4fc3-8a19-c93c30a20965",
   "metadata": {},
   "source": [
    "A very common usage of Skycoord is to compute distances on sky, without having to worry about the pesky coordinate systems and spherical distances:"
   ]
  },
  {
   "cell_type": "code",
   "execution_count": 37,
   "id": "769a7845-83ae-4235-b05d-fddfa9a0a53c",
   "metadata": {},
   "outputs": [
    {
     "data": {
      "text/plain": [
       "(<Angle 0.78532201 rad>,\n",
       " <Angle 1.41417766 deg>,\n",
       " <SkyCoord (ICRS): (ra, dec) in deg\n",
       "     (0.49996192, 0.50001904)>)"
      ]
     },
     "execution_count": 37,
     "metadata": {},
     "output_type": "execute_result"
    }
   ],
   "source": [
    "coord1 = SkyCoord(0*u.deg, 0*u.deg, frame='icrs')\n",
    "coord2 = SkyCoord(1*u.deg, 1*u.deg, frame='icrs')\n",
    "pa = coord1.position_angle(coord2)\n",
    "sep = coord1.separation(coord2)\n",
    "pa, sep, coord1.directional_offset_by(pa, sep/2)  "
   ]
  },
  {
   "cell_type": "code",
   "execution_count": 39,
   "id": "83c83fbd-6c11-4417-884b-2484aa22bae4",
   "metadata": {},
   "outputs": [
    {
     "data": {
      "text/plain": [
       "(<Angle -173.78873354 arcsec>, <Angle 10.60510342 arcsec>)"
      ]
     },
     "execution_count": 39,
     "metadata": {},
     "output_type": "execute_result"
    }
   ],
   "source": [
    "bright_star = SkyCoord('8h50m59.75s', '+11d39m22.15s', frame='icrs')\n",
    "faint_galaxy = SkyCoord('8h50m47.92s', '+11d39m32.74s', frame='icrs')\n",
    "dra, ddec = bright_star.spherical_offsets_to(faint_galaxy)\n",
    "dra.to(u.arcsec), ddec.to(u.arcsec)  "
   ]
  },
  {
   "cell_type": "code",
   "execution_count": null,
   "id": "eff5ec02-b7ec-42c1-97c0-f4381db8001e",
   "metadata": {},
   "outputs": [],
   "source": []
  }
 ],
 "metadata": {
  "kernelspec": {
   "display_name": "Python 3 (ipykernel)",
   "language": "python",
   "name": "python3"
  },
  "language_info": {
   "codemirror_mode": {
    "name": "ipython",
    "version": 3
   },
   "file_extension": ".py",
   "mimetype": "text/x-python",
   "name": "python",
   "nbconvert_exporter": "python",
   "pygments_lexer": "ipython3",
   "version": "3.11.9"
  }
 },
 "nbformat": 4,
 "nbformat_minor": 5
}

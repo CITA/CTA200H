{
 "cells": [
  {
   "cell_type": "markdown",
   "id": "e81fa459",
   "metadata": {},
   "source": [
    "# Writing good code"
   ]
  },
  {
   "cell_type": "markdown",
   "id": "30439e4d",
   "metadata": {},
   "source": [
    "When writing code, we want to make sure that we will be able to understand what it does when we look at it again months later. We also want to be able to send it to other people and have them understand and use it. Let's work through some examples of this."
   ]
  },
  {
   "cell_type": "code",
   "execution_count": 1,
   "id": "fc5daf40",
   "metadata": {},
   "outputs": [],
   "source": [
    "%load_ext autoreload"
   ]
  },
  {
   "cell_type": "code",
   "execution_count": 2,
   "id": "e96caec9",
   "metadata": {},
   "outputs": [],
   "source": [
    "%autoreload 2"
   ]
  },
  {
   "cell_type": "code",
   "execution_count": 3,
   "id": "653c1fd6",
   "metadata": {},
   "outputs": [],
   "source": [
    "import random\n",
    "import math\n",
    "import accel_pkg"
   ]
  },
  {
   "cell_type": "code",
   "execution_count": 7,
   "id": "46f56e04",
   "metadata": {},
   "outputs": [
    {
     "name": "stdout",
     "output_type": "stream",
     "text": [
      "Calculating acceleration from accel_pkg...\n"
     ]
    }
   ],
   "source": [
    "N = 100\n",
    "\n",
    "x = [random.random() for _ in range(N)]\n",
    "y = [random.random() for _ in range(N)]\n",
    "\n",
    "ax, ay = accel_pkg.acceleration(x, y)"
   ]
  },
  {
   "cell_type": "code",
   "execution_count": 6,
   "id": "8c33e90a",
   "metadata": {},
   "outputs": [
    {
     "data": {
      "text/plain": [
       "<function accel_pkg.acceleration.acceleration(x, y)>"
      ]
     },
     "execution_count": 6,
     "metadata": {},
     "output_type": "execute_result"
    }
   ],
   "source": [
    "accel_pkg.acceleration"
   ]
  },
  {
   "cell_type": "code",
   "execution_count": null,
   "id": "09414d07",
   "metadata": {},
   "outputs": [],
   "source": []
  },
  {
   "cell_type": "code",
   "execution_count": 5,
   "id": "80af5d72",
   "metadata": {},
   "outputs": [
    {
     "name": "stdout",
     "output_type": "stream",
     "text": [
      "\u001b[1m\u001b[36m__pycache__\u001b[m\u001b[m/                 coding_best_practices.ipynb\r\n",
      "\u001b[1m\u001b[36malmog_examples\u001b[m\u001b[m/\r\n"
     ]
    }
   ],
   "source": [
    "ls"
   ]
  },
  {
   "cell_type": "code",
   "execution_count": null,
   "id": "d67e9654",
   "metadata": {},
   "outputs": [],
   "source": []
  }
 ],
 "metadata": {
  "kernelspec": {
   "display_name": "Python 3 (ipykernel)",
   "language": "python",
   "name": "python3"
  },
  "language_info": {
   "codemirror_mode": {
    "name": "ipython",
    "version": 3
   },
   "file_extension": ".py",
   "mimetype": "text/x-python",
   "name": "python",
   "nbconvert_exporter": "python",
   "pygments_lexer": "ipython3",
   "version": "3.9.7"
  }
 },
 "nbformat": 4,
 "nbformat_minor": 5
}

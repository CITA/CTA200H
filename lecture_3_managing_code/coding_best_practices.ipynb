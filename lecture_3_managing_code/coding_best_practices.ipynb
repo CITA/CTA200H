{
 "cells": [
  {
   "cell_type": "markdown",
   "id": "e81fa459",
   "metadata": {},
   "source": [
    "# Writing good code"
   ]
  },
  {
   "cell_type": "markdown",
   "id": "30439e4d",
   "metadata": {},
   "source": [
    "When writing code, we want to make sure that we will be able to understand what it does when we look at it again months later. We also want to be able to send it to other people and have them understand and use it. Let's work through some examples of this."
   ]
  },
  {
   "cell_type": "code",
   "execution_count": 4,
   "id": "653c1fd6",
   "metadata": {},
   "outputs": [],
   "source": [
    "import random\n",
    "import math"
   ]
  },
  {
   "cell_type": "code",
   "execution_count": 10,
   "id": "f8276abf",
   "metadata": {},
   "outputs": [],
   "source": [
    "## Not good code\n",
    "\n",
    "x = [random.random() for _ in range(100)]\n",
    "y = [random.random() for _ in range(100)]\n",
    "\n",
    "accelx = []\n",
    "accely = []\n",
    "\n",
    "for i in range(100):\n",
    "    ax = 0\n",
    "    ay = 0\n",
    "    for j in range(100):\n",
    "        if i != j:\n",
    "            dx = x[i] - x[j]\n",
    "            dy = y[i] - y[j]\n",
    "            \n",
    "            r2 = dx*dx + dy*dy\n",
    "            r = math.sqrt(r2)\n",
    "            \n",
    "            ax += 6.67e-11 * 1.98847e30 * (dx * 1.496e+11) / (r * 1.496e+11)**3\n",
    "            \n",
    "        accelx.append(ax)\n",
    "        accely.append(ay)"
   ]
  },
  {
   "cell_type": "code",
   "execution_count": null,
   "id": "bfb8a0fa",
   "metadata": {},
   "outputs": [],
   "source": [
    "# Lets write this better"
   ]
  },
  {
   "cell_type": "code",
   "execution_count": null,
   "id": "95afcf03",
   "metadata": {},
   "outputs": [],
   "source": []
  }
 ],
 "metadata": {
  "kernelspec": {
   "display_name": "Python 3 (ipykernel)",
   "language": "python",
   "name": "python3"
  },
  "language_info": {
   "codemirror_mode": {
    "name": "ipython",
    "version": 3
   },
   "file_extension": ".py",
   "mimetype": "text/x-python",
   "name": "python",
   "nbconvert_exporter": "python",
   "pygments_lexer": "ipython3",
   "version": "3.9.7"
  }
 },
 "nbformat": 4,
 "nbformat_minor": 5
}

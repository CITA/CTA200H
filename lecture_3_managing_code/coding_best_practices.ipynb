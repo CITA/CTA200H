{
 "cells": [
  {
   "cell_type": "markdown",
   "id": "e81fa459",
   "metadata": {},
   "source": [
    "# Writing good code"
   ]
  },
  {
   "cell_type": "markdown",
   "id": "30439e4d",
   "metadata": {},
   "source": [
    "When writing code, we want to make sure that we will be able to understand what it does when we look at it again months later. We also want to be able to send it to other people and have them understand and use it. Let's work through some examples of this."
   ]
  },
  {
   "cell_type": "code",
   "execution_count": 9,
   "id": "653c1fd6",
   "metadata": {},
   "outputs": [],
   "source": [
    "import random\n",
    "import math"
   ]
  },
  {
   "cell_type": "code",
   "execution_count": 10,
   "id": "c8a91e64",
   "metadata": {},
   "outputs": [],
   "source": [
    "N = 100\n",
    "GRAV_CONSTANT_IN_SI = 6.67e-11\n",
    "SOLAR_MASS_IN_SI = 1.98847e30\n",
    "AU_IN_SI = 1.496e+11"
   ]
  },
  {
   "cell_type": "code",
   "execution_count": 6,
   "id": "88c51712",
   "metadata": {},
   "outputs": [],
   "source": [
    "def acceleration(x, y):\n",
    "    accelx = []\n",
    "    accely = []\n",
    "\n",
    "    for i in range(N):\n",
    "        ax = 0\n",
    "        ay = 0\n",
    "        for j in range(N):\n",
    "            if i != j:\n",
    "                dx = x[i] - x[j]\n",
    "                dy = y[i] - y[j]\n",
    "\n",
    "                r2 = dx*dx + dy*dy\n",
    "                r = math.sqrt(r2)\n",
    "\n",
    "                ax += GRAV_CONSTANT_IN_SI * SOLAR_MASS_IN_SI * (dx * AU_IN_SI) / (r * AU_IN_SI)**3\n",
    "                ay += GRAV_CONSTANT_IN_SI * SOLAR_MASS_IN_SI * (dy * AU_IN_SI) / (r * AU_IN_SI)**3\n",
    "\n",
    "            accelx.append(ax)\n",
    "            accely.append(ay)\n",
    "            \n",
    "    return accelx, accely"
   ]
  },
  {
   "cell_type": "code",
   "execution_count": 7,
   "id": "b1990464",
   "metadata": {},
   "outputs": [],
   "source": [
    "x = [random.random() for _ in range(N)]\n",
    "y = [random.random() for _ in range(N)]\n",
    "\n",
    "ax, ay = acceleration(x, y)"
   ]
  },
  {
   "cell_type": "code",
   "execution_count": null,
   "id": "704715d9",
   "metadata": {},
   "outputs": [],
   "source": []
  }
 ],
 "metadata": {
  "kernelspec": {
   "display_name": "Python 3 (ipykernel)",
   "language": "python",
   "name": "python3"
  },
  "language_info": {
   "codemirror_mode": {
    "name": "ipython",
    "version": 3
   },
   "file_extension": ".py",
   "mimetype": "text/x-python",
   "name": "python",
   "nbconvert_exporter": "python",
   "pygments_lexer": "ipython3",
   "version": "3.9.7"
  }
 },
 "nbformat": 4,
 "nbformat_minor": 5
}

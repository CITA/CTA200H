{
 "cells": [
  {
   "cell_type": "markdown",
   "metadata": {
    "collapsed": true,
    "jupyter": {
     "outputs_hidden": true
    }
   },
   "source": [
    "# Introduction\n",
    "\n",
    "That's a strange name for a topic - \"defensive programming\" - defence against what? Well, bugs of course. Experience has shown that in most projects the majority of development time is spent debugging. For this reason, it is highly desirable to follow practices that minimise the number of bugs. In this notebook I will introduce a number of tried and true methods for avoiding bugs. It does require extra work, but your future self will thank you.\n",
    "\n",
    "This notebook is by no means an exhaustive review of all good practices, but it's a good place to start. The idea here is to introduce some important concepts, about which you can read more later, and adapt to your particular application.\n",
    "\n",
    "As an additional resource, see these notes by Prof. Jo Bovy: https://pythonpackaging.info/"
   ]
  },
  {
   "cell_type": "markdown",
   "metadata": {},
   "source": [
    "# Documentation"
   ]
  },
  {
   "cell_type": "markdown",
   "metadata": {},
   "source": [
    "If you are working with other people, or intend for your code to be used by other people, then it goes without saying that you must document your code. However, I argue that you need to document your code even if you are the only one using it. The reason is that your future self will not remember how to use the code. "
   ]
  },
  {
   "cell_type": "markdown",
   "metadata": {},
   "source": [
    "As a rule of thumb, when it comes to documentation, more is better. The bare minimum for a documentation for a function is\n",
    "1. A short description\n",
    "2. Description of the arguments\n",
    "3. Description of the output\n",
    "\n",
    "Python [docstring](https://www.python.org/dev/peps/pep-0257/) feature makes the documentation available also via the interactive shell (see example below)"
   ]
  },
  {
   "cell_type": "code",
   "execution_count": 1,
   "metadata": {},
   "outputs": [
    {
     "data": {
      "text/plain": [
       "[True, False]"
      ]
     },
     "execution_count": 1,
     "metadata": {},
     "output_type": "execute_result"
    }
   ],
   "source": [
    "def is_even(num):\n",
    "    \n",
    "    \"\"\"Checks if a number is even\n",
    "    \n",
    "    Parameters:\n",
    "    num - An integer\n",
    "        \n",
    "    Returns:\n",
    "    True if num is even, False otherwise    \n",
    "    \"\"\"\n",
    "    \n",
    "    return num%2==0\n",
    "\n",
    "[is_even(4), is_even(3)]"
   ]
  },
  {
   "cell_type": "markdown",
   "metadata": {},
   "source": [
    "The documentation can be shown using the ```help``` function"
   ]
  },
  {
   "cell_type": "code",
   "execution_count": 2,
   "metadata": {},
   "outputs": [
    {
     "name": "stdout",
     "output_type": "stream",
     "text": [
      "Help on function is_even in module __main__:\n",
      "\n",
      "is_even(num)\n",
      "    Checks if a number is even\n",
      "    \n",
      "    Parameters:\n",
      "    num - An integer\n",
      "        \n",
      "    Returns:\n",
      "    True if num is even, False otherwise\n",
      "\n"
     ]
    }
   ],
   "source": [
    "help(is_even)"
   ]
  },
  {
   "cell_type": "markdown",
   "metadata": {},
   "source": [
    "I'd like to end with one word of caution. The code is alive while the documentation is not. Be sure to change the documentation when you change the code."
   ]
  },
  {
   "cell_type": "markdown",
   "metadata": {},
   "source": [
    "### Exercise"
   ]
  },
  {
   "cell_type": "markdown",
   "metadata": {},
   "source": [
    "Write a function that accepts the radius of a circle and calculates the area. Document the function and use help to bring up the documentation."
   ]
  },
  {
   "cell_type": "markdown",
   "metadata": {},
   "source": [
    "# Test Driven Development"
   ]
  },
  {
   "cell_type": "markdown",
   "metadata": {},
   "source": [
    "Most people, if they test their code at all, write their tests after they've written the code. In this section I will make the case for writing the tests **before** you write the code. This approach is called test driven development. Besides catching bugs early on, the benefit for this approach is that it forces you to think about the interface, while most developers would be preoccupied with the implementation. Below is a demonstration of this approach, using the [unittest](https://docs.python.org/3/library/unittest.html) package."
   ]
  },
  {
   "cell_type": "markdown",
   "metadata": {},
   "source": [
    "Suppose we want to write a function that checks if an integer divides three. We begin with the declaration of a function that does not do anything, and a test that fails"
   ]
  },
  {
   "cell_type": "code",
   "execution_count": null,
   "metadata": {},
   "outputs": [],
   "source": [
    "!pip install unittest"
   ]
  },
  {
   "cell_type": "code",
   "execution_count": 3,
   "metadata": {},
   "outputs": [
    {
     "name": "stderr",
     "output_type": "stream",
     "text": [
      "test_3 (__main__.TestIsDivThree.test_3) ... FAIL\n",
      "test_4 (__main__.TestIsDivThree.test_4) ... FAIL\n",
      "\n",
      "======================================================================\n",
      "FAIL: test_3 (__main__.TestIsDivThree.test_3)\n",
      "----------------------------------------------------------------------\n",
      "Traceback (most recent call last):\n",
      "  File \"/var/folders/s1/r51mmkl15w73kqk4mq2jqq5r0000gn/T/ipykernel_37493/4247951811.py\", line 10, in test_3\n",
      "    self.assertEqual(is_div_three(3),True)\n",
      "AssertionError: None != True\n",
      "\n",
      "======================================================================\n",
      "FAIL: test_4 (__main__.TestIsDivThree.test_4)\n",
      "----------------------------------------------------------------------\n",
      "Traceback (most recent call last):\n",
      "  File \"/var/folders/s1/r51mmkl15w73kqk4mq2jqq5r0000gn/T/ipykernel_37493/4247951811.py\", line 12, in test_4\n",
      "    self.assertEqual(is_div_three(4),False)\n",
      "AssertionError: None != False\n",
      "\n",
      "----------------------------------------------------------------------\n",
      "Ran 2 tests in 0.009s\n",
      "\n",
      "FAILED (failures=2)\n"
     ]
    },
    {
     "data": {
      "text/plain": [
       "<unittest.main.TestProgram at 0x1119464d0>"
      ]
     },
     "execution_count": 3,
     "metadata": {},
     "output_type": "execute_result"
    }
   ],
   "source": [
    "import unittest\n",
    "\n",
    "def is_div_three(num):\n",
    "    \n",
    "    pass\n",
    "\n",
    "class TestIsDivThree(unittest.TestCase):\n",
    "\n",
    "    def test_3(self):\n",
    "        self.assertEqual(is_div_three(3),True)\n",
    "    def test_4(self):\n",
    "        self.assertEqual(is_div_three(4),False)\n",
    "\n",
    "#argv is list of command line arguments passed, with argv[0] being the program name.\n",
    "#empty string means no script name to pass\n",
    "#verbosity=2 prints out more detailed information than default\n",
    "unittest.main(argv=[''], verbosity=2, exit=False) \n"
   ]
  },
  {
   "cell_type": "markdown",
   "metadata": {},
   "source": [
    "The next phase is to implement the function. After this stage, hopefully all the tests pass. If not, then the function or the test need to be fixed."
   ]
  },
  {
   "cell_type": "code",
   "execution_count": 6,
   "metadata": {},
   "outputs": [
    {
     "name": "stderr",
     "output_type": "stream",
     "text": [
      "test_3 (__main__.TestIsDivThree.test_3) ... ok\n",
      "test_4 (__main__.TestIsDivThree.test_4) ... ok\n",
      "\n",
      "----------------------------------------------------------------------\n",
      "Ran 2 tests in 0.003s\n",
      "\n",
      "OK\n"
     ]
    },
    {
     "data": {
      "text/plain": [
       "<unittest.main.TestProgram at 0x11199b210>"
      ]
     },
     "execution_count": 6,
     "metadata": {},
     "output_type": "execute_result"
    }
   ],
   "source": [
    "import unittest\n",
    "\n",
    "def is_div_three(num):\n",
    "    \n",
    "    return num%3 == 0\n",
    "\n",
    "class TestIsDivThree(unittest.TestCase):\n",
    "\n",
    "    def test_3(self):\n",
    "        self.assertEqual(is_div_three(3),True)\n",
    "    def test_4(self):\n",
    "        self.assertEqual(is_div_three(4),False)\n",
    "\n",
    "unittest.main(argv=[''], verbosity=2, exit=False)"
   ]
  },
  {
   "cell_type": "markdown",
   "metadata": {},
   "source": [
    "Another good rule of thumb for writing tests is that once a bug was found and fixed, one should write a test that makes sure that the  bug does not recur."
   ]
  },
  {
   "cell_type": "markdown",
   "metadata": {},
   "source": [
    "### Exercise"
   ]
  },
  {
   "cell_type": "markdown",
   "metadata": {},
   "source": [
    "Test and write a function that accepts the radius of a sphere and calculates its volume"
   ]
  },
  {
   "cell_type": "markdown",
   "metadata": {},
   "source": [
    "# Exceptions"
   ]
  },
  {
   "cell_type": "markdown",
   "metadata": {},
   "source": [
    "One way to spot errors early on is by checking if the data is valid. This can be done using assertions"
   ]
  },
  {
   "cell_type": "code",
   "execution_count": 7,
   "metadata": {},
   "outputs": [
    {
     "name": "stdout",
     "output_type": "stream",
     "text": [
      "True\n",
      "False\n"
     ]
    },
    {
     "ename": "AssertionError",
     "evalue": "",
     "output_type": "error",
     "traceback": [
      "\u001b[0;31m---------------------------------------------------------------------------\u001b[0m",
      "\u001b[0;31mAssertionError\u001b[0m                            Traceback (most recent call last)",
      "Cell \u001b[0;32mIn[7], line 9\u001b[0m\n\u001b[1;32m      7\u001b[0m \u001b[38;5;28mprint\u001b[39m(div_by_four(\u001b[38;5;241m4\u001b[39m))\n\u001b[1;32m      8\u001b[0m \u001b[38;5;28mprint\u001b[39m(div_by_four(\u001b[38;5;241m1\u001b[39m))\n\u001b[0;32m----> 9\u001b[0m \u001b[38;5;28mprint\u001b[39m(\u001b[43mdiv_by_four\u001b[49m\u001b[43m(\u001b[49m\u001b[38;5;124;43m'\u001b[39;49m\u001b[38;5;124;43mfour\u001b[39;49m\u001b[38;5;124;43m'\u001b[39;49m\u001b[43m)\u001b[49m)\n",
      "Cell \u001b[0;32mIn[7], line 3\u001b[0m, in \u001b[0;36mdiv_by_four\u001b[0;34m(num)\u001b[0m\n\u001b[1;32m      1\u001b[0m \u001b[38;5;28;01mdef\u001b[39;00m \u001b[38;5;21mdiv_by_four\u001b[39m(num):\n\u001b[0;32m----> 3\u001b[0m     \u001b[38;5;28;01massert\u001b[39;00m(\u001b[38;5;28mtype\u001b[39m(num)\u001b[38;5;241m==\u001b[39m\u001b[38;5;28mtype\u001b[39m(\u001b[38;5;241m1\u001b[39m))\n\u001b[1;32m      5\u001b[0m     \u001b[38;5;28;01mreturn\u001b[39;00m num\u001b[38;5;241m%\u001b[39m\u001b[38;5;241m4\u001b[39m\u001b[38;5;241m==\u001b[39m\u001b[38;5;241m0\u001b[39m\n",
      "\u001b[0;31mAssertionError\u001b[0m: "
     ]
    }
   ],
   "source": [
    "def div_by_four(num):\n",
    "    \n",
    "    assert(type(num)==type(1))\n",
    "    \n",
    "    return num%4==0\n",
    "\n",
    "print(div_by_four(4))\n",
    "print(div_by_four(1))\n",
    "print(div_by_four('four'))"
   ]
  },
  {
   "cell_type": "markdown",
   "metadata": {},
   "source": [
    "Python's default response to errors is to exit. However, sometimes we'd like to do something else. For example, we'd like the program to give us more information when there's error. Not only that, but we'd like information outside the scope of the function where the error occurred. This can be accomplished by try catch clauses"
   ]
  },
  {
   "cell_type": "code",
   "execution_count": 8,
   "metadata": {},
   "outputs": [
    {
     "name": "stdout",
     "output_type": "stream",
     "text": [
      "1.0\n",
      "1.4142135623730951\n",
      "1.7320508075688772\n",
      "2.0\n",
      "2.23606797749979\n",
      "2.449489742783178\n",
      "Something wrong with entry at position 6. The value there is -7.\n",
      "2.8284271247461903\n",
      "3.0\n"
     ]
    }
   ],
   "source": [
    "def take_sqrt(num):\n",
    "    \n",
    "    assert(num>=0)\n",
    "    \n",
    "    return num**0.5\n",
    "\n",
    "# Suppose we get the following input from the user\n",
    "user_input = [1,2,3,4,5,6,-7,8,9]\n",
    "\n",
    "# We proceed to calculate the square root from all entries\n",
    "for index, num in enumerate(user_input):\n",
    "    \n",
    "    try:\n",
    "        print(take_sqrt(num))\n",
    "    except AssertionError:\n",
    "        print('Something wrong with entry at position '+str(index)+'. The value there is '+str(num)+'.')"
   ]
  },
  {
   "cell_type": "markdown",
   "metadata": {},
   "source": [
    "# Lint"
   ]
  },
  {
   "cell_type": "markdown",
   "metadata": {},
   "source": [
    "After you've already written your code, you can have another program go over the source code and try to find errors. This sort of program is called a static code analyser, or lint. We'll use the most popular one for python, called [pylint](https://www.pylint.org/). In the following example I'll show an issue that the python interpreter doesn't catch, but that pylint does"
   ]
  },
  {
   "cell_type": "code",
   "execution_count": 9,
   "metadata": {},
   "outputs": [
    {
     "name": "stdout",
     "output_type": "stream",
     "text": [
      "def bad_compare(lhs, rhs):\n",
      "\n",
      "    unnecessary = lhs - rhs\n",
      "\n",
      "    return rhs == lhs\n",
      "\n",
      "print(bad_compare(3, 3))\n",
      "\n"
     ]
    }
   ],
   "source": [
    "with open('bad_compare.py') as f:\n",
    "    raw_text = f.read()\n",
    "print(raw_text)"
   ]
  },
  {
   "cell_type": "code",
   "execution_count": 10,
   "metadata": {},
   "outputs": [
    {
     "name": "stdout",
     "output_type": "stream",
     "text": [
      "True\n"
     ]
    }
   ],
   "source": [
    "!python ./bad_compare.py"
   ]
  },
  {
   "cell_type": "code",
   "execution_count": 11,
   "metadata": {},
   "outputs": [
    {
     "name": "stdout",
     "output_type": "stream",
     "text": [
      "************* Module bad_compare\n",
      "bad_compare.py:1:0: C0114: Missing module docstring (missing-module-docstring)\n",
      "bad_compare.py:1:0: C0116: Missing function or method docstring (missing-function-docstring)\n",
      "bad_compare.py:3:4: W0612: Unused variable 'unnecessary' (unused-variable)\n",
      "\n",
      "------------------------------------------------------------------\n",
      "Your code has been rated at 2.50/10 (previous run: 2.50/10, +0.00)\n",
      "\n"
     ]
    }
   ],
   "source": [
    "!pylint bad_compare.py"
   ]
  },
  {
   "cell_type": "markdown",
   "metadata": {},
   "source": [
    "In this example, the code works just find, but pylint picks up on the fact that there is an unused variables"
   ]
  },
  {
   "cell_type": "markdown",
   "metadata": {},
   "source": [
    "# Logging"
   ]
  },
  {
   "cell_type": "markdown",
   "metadata": {},
   "source": [
    "All the discussion above assumes everything is working. But what do we do when it doesn't? The simplest way to diagnose the problem is by inserting ```print``` statements. Unfortunately, not only is this a messy way to go about it, after you fix the problem you need to scan the code and remove all the print statements. Luckily, there is a better way - logging. Logging allows you to control the amout of output you get from a function. Typically, you'd like to minimise the output in production mode, and make it verbose when trying to find a problem. Logging lets you do just that."
   ]
  },
  {
   "cell_type": "code",
   "execution_count": 12,
   "metadata": {},
   "outputs": [],
   "source": [
    "import logging\n",
    "\n",
    "def calc_fibo(n):\n",
    "    '''calculate the nth term in the Fibonacci series\n",
    "    \n",
    "    Parameters: n - an integer\n",
    "\n",
    "    Returns: nth term in the Fibonacci series - an integer\n",
    "    \n",
    "    '''\n",
    "    if n<3:\n",
    "        return 1\n",
    "        \n",
    "    last_term = 1\n",
    "    before_last = 1\n",
    "    for i in range(2,n+1):\n",
    "        logging.info(str(last_term))\n",
    "        next_term = last_term + before_last\n",
    "        before_last = last_term\n",
    "        last_term = next_term\n",
    "    return last_term"
   ]
  },
  {
   "cell_type": "markdown",
   "metadata": {},
   "source": [
    "Logging off"
   ]
  },
  {
   "cell_type": "code",
   "execution_count": 13,
   "metadata": {},
   "outputs": [
    {
     "data": {
      "text/plain": [
       "8"
      ]
     },
     "execution_count": 13,
     "metadata": {},
     "output_type": "execute_result"
    }
   ],
   "source": [
    "logging.getLogger().setLevel(logging.WARNING)\n",
    "calc_fibo(5)"
   ]
  },
  {
   "cell_type": "markdown",
   "metadata": {},
   "source": [
    "Logging on"
   ]
  },
  {
   "cell_type": "code",
   "execution_count": 14,
   "metadata": {},
   "outputs": [
    {
     "name": "stderr",
     "output_type": "stream",
     "text": [
      "INFO:root:1\n",
      "INFO:root:2\n",
      "INFO:root:3\n",
      "INFO:root:5\n"
     ]
    },
    {
     "name": "stdout",
     "output_type": "stream",
     "text": [
      "8\n"
     ]
    }
   ],
   "source": [
    "logging.getLogger().setLevel(logging.INFO)\n",
    "print(calc_fibo(5))\n",
    "logging.getLogger().setLevel(logging.WARNING)"
   ]
  },
  {
   "cell_type": "markdown",
   "metadata": {},
   "source": [
    "The logging library can let you do more sophisticated things like printing out the time for each instruction, or write output to a file. See the documentation."
   ]
  },
  {
   "cell_type": "markdown",
   "metadata": {},
   "source": [
    "# Debugging"
   ]
  },
  {
   "cell_type": "markdown",
   "metadata": {},
   "source": [
    "Debugging is the last resort you turn to when all else fails. It lets you examine the program while it is running, but it is excruciating to use. The default debugger for python is [pdb](https://docs.python.org/3/library/pdb.html), or [ipdb](https://pypi.org/project/ipdb/) to debug code in notebooks. The most common controls are:\n",
    "\n",
    "* n - Next instruction\n",
    "* s - Step into function\n",
    "* b - Set breakpoint\n",
    "* c - Continue until breakpoint\n",
    "* q - quit"
   ]
  },
  {
   "cell_type": "code",
   "execution_count": null,
   "metadata": {},
   "outputs": [],
   "source": [
    "#!pip install ipdb"
   ]
  },
  {
   "cell_type": "code",
   "execution_count": 15,
   "metadata": {},
   "outputs": [
    {
     "name": "stdout",
     "output_type": "stream",
     "text": [
      "> \u001b[0;32m/var/folders/s1/r51mmkl15w73kqk4mq2jqq5r0000gn/T/ipykernel_37493/562126411.py\u001b[0m(6)\u001b[0;36m<module>\u001b[0;34m()\u001b[0m\n",
      "\u001b[0;32m      4 \u001b[0;31m\u001b[0;32mfor\u001b[0m \u001b[0mn\u001b[0m \u001b[0;32min\u001b[0m \u001b[0mrange\u001b[0m\u001b[0;34m(\u001b[0m\u001b[0;36m5\u001b[0m\u001b[0;34m)\u001b[0m\u001b[0;34m:\u001b[0m\u001b[0;34m\u001b[0m\u001b[0;34m\u001b[0m\u001b[0m\n",
      "\u001b[0m\u001b[0;32m      5 \u001b[0;31m    \u001b[0mipdb\u001b[0m\u001b[0;34m.\u001b[0m\u001b[0mset_trace\u001b[0m\u001b[0;34m(\u001b[0m\u001b[0;34m)\u001b[0m\u001b[0;34m\u001b[0m\u001b[0;34m\u001b[0m\u001b[0m\n",
      "\u001b[0m\u001b[0;32m----> 6 \u001b[0;31m    \u001b[0mfibo_array\u001b[0m\u001b[0;34m.\u001b[0m\u001b[0mappend\u001b[0m\u001b[0;34m(\u001b[0m\u001b[0mcalc_fibo\u001b[0m\u001b[0;34m(\u001b[0m\u001b[0mn\u001b[0m\u001b[0;34m)\u001b[0m\u001b[0;34m)\u001b[0m\u001b[0;34m\u001b[0m\u001b[0;34m\u001b[0m\u001b[0m\n",
      "\u001b[0m\n"
     ]
    },
    {
     "name": "stdin",
     "output_type": "stream",
     "text": [
      "ipdb>  p fibo_array, n\n"
     ]
    },
    {
     "name": "stdout",
     "output_type": "stream",
     "text": [
      "([], 0)\n"
     ]
    },
    {
     "name": "stdin",
     "output_type": "stream",
     "text": [
      "ipdb>  c\n"
     ]
    },
    {
     "name": "stdout",
     "output_type": "stream",
     "text": [
      "> \u001b[0;32m/var/folders/s1/r51mmkl15w73kqk4mq2jqq5r0000gn/T/ipykernel_37493/562126411.py\u001b[0m(6)\u001b[0;36m<module>\u001b[0;34m()\u001b[0m\n",
      "\u001b[0;32m      4 \u001b[0;31m\u001b[0;32mfor\u001b[0m \u001b[0mn\u001b[0m \u001b[0;32min\u001b[0m \u001b[0mrange\u001b[0m\u001b[0;34m(\u001b[0m\u001b[0;36m5\u001b[0m\u001b[0;34m)\u001b[0m\u001b[0;34m:\u001b[0m\u001b[0;34m\u001b[0m\u001b[0;34m\u001b[0m\u001b[0m\n",
      "\u001b[0m\u001b[0;32m      5 \u001b[0;31m    \u001b[0mipdb\u001b[0m\u001b[0;34m.\u001b[0m\u001b[0mset_trace\u001b[0m\u001b[0;34m(\u001b[0m\u001b[0;34m)\u001b[0m\u001b[0;34m\u001b[0m\u001b[0;34m\u001b[0m\u001b[0m\n",
      "\u001b[0m\u001b[0;32m----> 6 \u001b[0;31m    \u001b[0mfibo_array\u001b[0m\u001b[0;34m.\u001b[0m\u001b[0mappend\u001b[0m\u001b[0;34m(\u001b[0m\u001b[0mcalc_fibo\u001b[0m\u001b[0;34m(\u001b[0m\u001b[0mn\u001b[0m\u001b[0;34m)\u001b[0m\u001b[0;34m)\u001b[0m\u001b[0;34m\u001b[0m\u001b[0;34m\u001b[0m\u001b[0m\n",
      "\u001b[0m\n"
     ]
    },
    {
     "name": "stdin",
     "output_type": "stream",
     "text": [
      "ipdb>  p fibo_array, n\n"
     ]
    },
    {
     "name": "stdout",
     "output_type": "stream",
     "text": [
      "([1], 1)\n"
     ]
    },
    {
     "name": "stdin",
     "output_type": "stream",
     "text": [
      "ipdb>  q\n"
     ]
    }
   ],
   "source": [
    "import ipdb\n",
    "\n",
    "fibo_array = []\n",
    "for n in range(5):\n",
    "    ipdb.set_trace()\n",
    "    fibo_array.append(calc_fibo(n))"
   ]
  },
  {
   "cell_type": "markdown",
   "metadata": {},
   "source": [
    "# Exercise: hacking Bulls and Cows"
   ]
  },
  {
   "cell_type": "markdown",
   "metadata": {},
   "source": [
    "Below you will find a simple implementation of the game [Bulls and Cows](https://en.wikipedia.org/wiki/Bulls_and_Cows). Use debugging to \"hack\" the game and uncover the secret sequence."
   ]
  },
  {
   "cell_type": "code",
   "execution_count": 16,
   "metadata": {},
   "outputs": [],
   "source": [
    "def play_bulls_and_cows():\n",
    "\n",
    "    import numpy\n",
    "\n",
    "    secret = numpy.random.permutation(range(10))[:4]\n",
    "\n",
    "    print('welcome to Bullseye')\n",
    "\n",
    "    game_on = True\n",
    "    while game_on:\n",
    "        raw_guess = str(input('Enter guess (4 digits, e.g. 1234)\\n'))\n",
    "        print('raw guess '+raw_guess)\n",
    "        assert(len(raw_guess)==4)\n",
    "        guess = [int(digit) for digit in raw_guess]\n",
    "        assert(len(set(guess))==4)\n",
    "\n",
    "        # Grading\n",
    "        bulleyes = 0\n",
    "        hits = 0\n",
    "        for n, digit in enumerate(guess):\n",
    "            if digit == secret[n]:\n",
    "                bulleyes += 1\n",
    "            elif digit in secret:\n",
    "                hits += 1\n",
    "        if bulleyes == 4:\n",
    "            print('You win!\\n')\n",
    "            game_on = False\n",
    "        else:\n",
    "            print(str(bulleyes)+' bulleyes and '+str(hits)+' hits\\n')"
   ]
  },
  {
   "cell_type": "code",
   "execution_count": null,
   "metadata": {},
   "outputs": [
    {
     "name": "stdout",
     "output_type": "stream",
     "text": [
      "welcome to Bullseye\n"
     ]
    },
    {
     "name": "stdin",
     "output_type": "stream",
     "text": [
      "Enter guess (4 digits, e.g. 1234)\n",
      " 1234\n"
     ]
    },
    {
     "name": "stdout",
     "output_type": "stream",
     "text": [
      "raw guess 1234\n",
      "0 bulleyes and 0 hits\n",
      "\n"
     ]
    },
    {
     "name": "stdin",
     "output_type": "stream",
     "text": [
      "Enter guess (4 digits, e.g. 1234)\n",
      " 5678\n"
     ]
    },
    {
     "name": "stdout",
     "output_type": "stream",
     "text": [
      "raw guess 5678\n",
      "3 bulleyes and 0 hits\n",
      "\n"
     ]
    }
   ],
   "source": [
    "play_bulls_and_cows()"
   ]
  },
  {
   "cell_type": "markdown",
   "metadata": {},
   "source": [
    "# Version Control"
   ]
  },
  {
   "cell_type": "markdown",
   "metadata": {},
   "source": [
    "Suppose you have a library that you tested and it is working. One day, you decide to refactor it. Maybe you want to optimise it and make it faster, or add more features. The problem is that whenever you change the code you are running the risk of breaking it. The best tool against this is version control. Version control lets you save multiple versions of your code, and load a previous version in case something breaks. It also lets you [collaborate more effectively](https://www.atlassian.com/git/tutorials/comparing-workflows). The most popular version control system today is [git](https://git-scm.com/doc?fbclid=IwAR1YxT3x6XCvpcLC1x4HCS7saF5hPAKkfr4t_IMlkk7tu9xN7FwDmgF4TBY), and the most popular repository hosting services are github and bitbucket. Below are the most commonly used commands:\n",
    "* clone - Creates a copy of the repository on your local machine\n",
    "* pull - Changes your local copy such that it would be the same as the one on the server\n",
    "* commit - Records local changes locally\n",
    "* push - Transmit commits to server"
   ]
  },
  {
   "cell_type": "markdown",
   "metadata": {},
   "source": [
    "In addition, git also provides another set of commands that is especially useful for refactoring. The basic problem here is that between the current state of the code and the state of the code after refactoring, the code might be broken. This can be a problem, since you might also want to use the code in the mean while. The solution is to make two copies of the code, one that is operational, and another which is safe to break. This is called branching. After you are done making changes on the second copy and you are satisfied by the result, you can merge back the two copies of the code. The corresponding command are adequately called \"branch\" and \"merge\". The command \"checkout\" lets you switch between branches."
   ]
  },
  {
   "cell_type": "markdown",
   "metadata": {},
   "source": [
    "# Packaging your code\n",
    " \n",
    " Introduction for scientists by Dan Foreman-Mackey: https://dfm.io/posts/simple-python-module/"
   ]
  },
  {
   "cell_type": "markdown",
   "metadata": {},
   "source": [
    "# Continuous Integration"
   ]
  },
  {
   "cell_type": "markdown",
   "metadata": {},
   "source": [
    "Ideally, you'd like to test the code every time you make a change. However, doing this manually would be extremely tedious. Luckily for us, we can get a computer to do it for us. This practice is called continuous integration. The way it works is that you have a server that listens to the repository, and run a series of tests whenever a commit is pushed. One of the more popular continuous integration tools is Travis CI. Setting up continuous integration would take too long for this tutorial, but you can see an example that I've already set up [here](https://travis-ci.org/bolverk/huji-rich). If nothing else, continuous integration can help you when you argue with your colleagues about who broke the code, as seen in the example below."
   ]
  },
  {
   "cell_type": "markdown",
   "metadata": {},
   "source": [
    "<img src='travis_demo.jpg'>"
   ]
  },
  {
   "cell_type": "markdown",
   "metadata": {},
   "source": [
    "# Principles of Design"
   ]
  },
  {
   "cell_type": "markdown",
   "metadata": {},
   "source": [
    "## DRY - Don't repeat yourself"
   ]
  },
  {
   "cell_type": "markdown",
   "metadata": {},
   "source": [
    "The two functions below do the same thing, but have different designs. Is one design better than the other? Why?"
   ]
  },
  {
   "cell_type": "code",
   "execution_count": null,
   "metadata": {},
   "outputs": [],
   "source": [
    "def trigo_galore_a(x,y):\n",
    "    \n",
    "    import math\n",
    "    \n",
    "    return [math.cos(x+y),\n",
    "            math.cos(x-y),\n",
    "            math.sin(x+y),\n",
    "            math.sin(x-y),\n",
    "            math.tan(x+y),\n",
    "            math.tan(x-y)]\n",
    "\n",
    "def trigo_galore_b(x,y):\n",
    "    \n",
    "    import math\n",
    "    \n",
    "    res = []\n",
    "    for func1 in [math.cos, math.sin, math.tan]:\n",
    "        for func2 in [lambda a,b:a+b, lambda a,b:a-b]:\n",
    "            res.append(func1(func2(x,y)))\n",
    "    return res\n",
    "\n",
    "[trigo_galore_a(0.1, 0.2), trigo_galore_b(0.1, 0.2)]"
   ]
  },
  {
   "cell_type": "markdown",
   "metadata": {},
   "source": [
    "## Encapsulation"
   ]
  },
  {
   "cell_type": "markdown",
   "metadata": {},
   "source": [
    "Which is the better way of storing info? Consider the following inventory list"
   ]
  },
  {
   "cell_type": "code",
   "execution_count": null,
   "metadata": {},
   "outputs": [],
   "source": [
    "# First option\n",
    "item_names = ['invisibility cloak', 'magic potion', 'excalibur', 'winged sandals']\n",
    "item_amount = [4,3,1,0]\n",
    "\n",
    "# Second option\n",
    "inventory = [('invisibility cloak', 4),\n",
    "             ('magic potion', 3),\n",
    "             ('excalibur', 1),\n",
    "             ('winged sandals', 0)]"
   ]
  },
  {
   "cell_type": "markdown",
   "metadata": {},
   "source": [
    "## Object Oriented Design"
   ]
  },
  {
   "cell_type": "markdown",
   "metadata": {},
   "source": [
    "Suppose we want to write a computerised version of Dungeons and Dragons"
   ]
  },
  {
   "cell_type": "code",
   "execution_count": null,
   "metadata": {},
   "outputs": [],
   "source": [
    "import numpy\n",
    "\n",
    "class Warrior:\n",
    "    \n",
    "    def __init__(self, name):\n",
    "        \n",
    "        self.name_ = name\n",
    "        hp = sum(numpy.random.randint(1,6,size=8))\n",
    "        self.max_hp_ = hp\n",
    "        self.current_hp_ = hp\n",
    "    \n",
    "    actions = {'Slash':lambda: numpy.random.randint(1,10), \n",
    "               'Stab':lambda: numpy.random.randint(3,7)}\n",
    "    \n",
    "class Mage:\n",
    "    \n",
    "    def __init__(self, name):\n",
    "        \n",
    "        self.name_ = name\n",
    "        hp = sum(numpy.random.randint(1,6,size=4))\n",
    "        self.max_hp_ = hp\n",
    "        self.current_hp_ = hp\n",
    "        \n",
    "    actions = {'Fireball': lambda: numpy.random.randint(1,20)}\n",
    "    \n",
    "class Cleric:\n",
    "    \n",
    "    def __init__(self, name):\n",
    "        \n",
    "        self.name_ = name\n",
    "        hp = sum(numpy.random.randint(1,6,size=6))\n",
    "        self.max_hp_ = hp\n",
    "        self.current_hp_ = hp\n",
    "        \n",
    "    actions = {'Heal':lambda:numpy.random.randint(-10,-1)}\n",
    "    \n",
    "def do_action(source, action_name, target, announce=False):\n",
    "    \n",
    "    if announce:\n",
    "        print(source.name_+' uses '+action_name+' on '+target.name_)\n",
    "    \n",
    "    hp_change = source.actions[action_name]()\n",
    "    target.current_hp_ -= hp_change\n",
    "    \n",
    "caramon = Warrior('Caramon Majere')\n",
    "raistlin = Mage('Raistlin Majere')\n",
    "crysania = Cleric('Crysania Tarinius')\n",
    "\n",
    "print(caramon.name_+' hp = '+str(caramon.current_hp_))\n",
    "do_action(raistlin, 'Fireball', caramon, announce=True)\n",
    "print(caramon.name_+' hp = '+str(caramon.current_hp_))\n",
    "do_action(crysania, 'Heal', caramon, announce=True)\n",
    "print(caramon.name_+' hp = '+str(caramon.current_hp_))"
   ]
  },
  {
   "cell_type": "markdown",
   "metadata": {},
   "source": [
    "# Projects"
   ]
  },
  {
   "cell_type": "markdown",
   "metadata": {},
   "source": [
    "## Axelrod's Tournament"
   ]
  },
  {
   "cell_type": "markdown",
   "metadata": {},
   "source": [
    "In the 70s the political scientist Robert Axelrod ran a virtual [tournament](https://en.wikipedia.org/wiki/The_Evolution_of_Cooperation#Axelrod's_tournaments). Each round, two bots would play a few rounds of the [prisoner's dilemma](https://en.wikipedia.org/wiki/Prisoner%27s_dilemma). He solicited bot strategies from about 200 experts in related fields to determine the optimal strategy.\n",
    "\n",
    "In this exercise you will recreate the experiment in python. Each round each bot makes a secret decision, to cooperate or defect. If both coopereate, they both score 3 points. If both defect, both score 1 point. If one defects while the other cooperates, then the former gets 5 points while the latter gets zero points. \n",
    "\n",
    "Create an infrastructure to pit different strategies against each other. Implement these strategies and compare their performances. Have each round last 20 turns.\n",
    "Always defect - Always choose defect\n",
    "Always cooperate - Always choose to cooperate\n",
    "Random - Choose at random\n",
    "Resentful - Start by cooperating, but if the other player defects then choose defect for the remainder of the match\n",
    "Tit for Tat - Start by cooperating, continue by playing the other player's previous choice\n",
    "\n",
    "See [here](https://ncase.me/trust/) for an interactive demo."
   ]
  },
  {
   "cell_type": "markdown",
   "metadata": {},
   "source": [
    "## Initial Value Problem"
   ]
  },
  {
   "cell_type": "markdown",
   "metadata": {},
   "source": [
    "Create a framework for solving first order ODEs. Implement both [Euler's method](https://en.wikipedia.org/wiki/Euler_method) and the [Runge Kutta method](https://en.wikipedia.org/wiki/Runge%E2%80%93Kutta_methods). Use both methods to solve both differential equations\n",
    "\n",
    "$$\\frac{d y}{d x} = \\sin \\left(x\\right) y$$\n",
    "\n",
    "$$\\frac{d y}{d x} = - \\frac{y}{y^2+0.1}$$\n",
    "\n",
    "with initial conditions $y \\left(0\\right) = 1$. Integrate to $x=1$ with step size $\\Delta x = 10^{-3}$."
   ]
  },
  {
   "cell_type": "markdown",
   "metadata": {},
   "source": [
    "## Coin Superposition Game"
   ]
  },
  {
   "cell_type": "markdown",
   "metadata": {},
   "source": [
    "Imagine there's a machine with four compartments arranged on the vertices of a square. Each one contains a coin, which is either heads or tails. Each turn, you can choose to compartments that you can open, and then you can choose whether you want to flip none, one or both coins. After that, you close the compartments, and the machine spins fast (so you can't follow it) and stops at some random orientation. The object of the game is to have all coins facing the same way, starting from some random configuration. See this [video](https://www.youtube.com/watch?v=WcA-1QOHeeA) for more info and a solution.\n",
    "\n",
    "Implement this game in python, where the user issues instructions through a text interface."
   ]
  },
  {
   "cell_type": "code",
   "execution_count": null,
   "metadata": {},
   "outputs": [],
   "source": []
  }
 ],
 "metadata": {
  "kernelspec": {
   "display_name": "Python 3 (ipykernel)",
   "language": "python",
   "name": "python3"
  },
  "language_info": {
   "codemirror_mode": {
    "name": "ipython",
    "version": 3
   },
   "file_extension": ".py",
   "mimetype": "text/x-python",
   "name": "python",
   "nbconvert_exporter": "python",
   "pygments_lexer": "ipython3",
   "version": "3.11.11"
  }
 },
 "nbformat": 4,
 "nbformat_minor": 4
}

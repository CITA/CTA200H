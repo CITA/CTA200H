{
 "cells": [
  {
   "cell_type": "markdown",
   "metadata": {},
   "source": [
    "## Programming\n",
    "Consider this block of code:"
   ]
  },
  {
   "cell_type": "code",
   "execution_count": 1,
   "metadata": {
    "collapsed": false,
    "slideshow": {
     "slide_type": "slide"
    }
   },
   "outputs": [
    {
     "name": "stdout",
     "output_type": "stream",
     "text": [
      "keys are ['shoe size', 'citizenship', 'occupation']\n",
      "\n",
      "Alex and Niels have varying shoe size\n",
      "Alex and Niels have varying citizenship\n",
      "Alex and Niels have the same occupation :  postdoc\n"
     ]
    }
   ],
   "source": [
    "#set up some data.\n",
    "alexInfo = {'occupation':'postdoc', 'citizenship':'canada', \\\n",
    "        'shoe size' : 9}\n",
    "nielsInfo = {'occupation':'postdoc', 'citizenship':'germany', \\\n",
    "        'shoe size' : 10}\n",
    "\n",
    "#get a list of the keys.\n",
    "infoKeys = alexInfo.keys()\n",
    "print 'keys are', infoKeys\n",
    "\n",
    "#print an empty line\n",
    "print ''\n",
    "\n",
    "#loop over these keys.\n",
    "for attribute in infoKeys:\n",
    "    #check whether the attributes are the same.\n",
    "    if alexInfo[attribute] == nielsInfo[attribute]:\n",
    "        print \"Alex and Niels have the same\", attribute, \": \", \\\n",
    "            alexInfo[attribute]\n",
    "    else:\n",
    "        print \"Alex and Niels have varying\", attribute \n",
    "\n"
   ]
  },
  {
   "cell_type": "markdown",
   "metadata": {
    "slideshow": {
     "slide_type": "slide"
    }
   },
   "source": [
    "Note some interesting things about the language.\n",
    "\n",
    "* we loop over elements of the list of infoKeys without knowing how long the list is.\n",
    "\n",
    "* There are no braces or brackets to delineate which parts are to be looped over in the `for` loop or the `if` statement\n",
    "  * All done with **levels of indentation**.\n",
    "  * This may seem surprising to users of other languages.  It needs care!\n",
    "  \n",
    "* We use a backslash if a line is too long.\n",
    "\n",
    "Now, a `while` rather than a `for` loop:\n",
    "\n"
   ]
  },
  {
   "cell_type": "code",
   "execution_count": 2,
   "metadata": {
    "collapsed": false
   },
   "outputs": [
    {
     "name": "stdout",
     "output_type": "stream",
     "text": [
      "all the squares up to 500 :\n",
      "0 0\n",
      "1 1\n",
      "2 4\n",
      "3 9\n",
      "4 16\n",
      "5 25\n",
      "6 36\n",
      "7 49\n",
      "8 64\n",
      "9 81\n",
      "10 100\n",
      "11 121\n",
      "12 144\n",
      "13 169\n",
      "14 196\n",
      "15 225\n",
      "16 256\n",
      "17 289\n",
      "18 324\n",
      "19 361\n",
      "20 400\n",
      "21 441\n",
      "22 484\n"
     ]
    }
   ],
   "source": [
    "maxVal = 500\n",
    "\n",
    "print \"all the squares up to\", maxVal, \":\"\n",
    "\n",
    "i = 0\n",
    "squares = []\n",
    "while i**2 < maxVal:\n",
    "    print i, i**2\n",
    "    i += 1\n",
    "    squares.append(i**2)"
   ]
  },
  {
   "cell_type": "markdown",
   "metadata": {
    "collapsed": true
   },
   "source": [
    "## List comprehensions\n",
    "We can get something similar in just one line, using a for loop inside of a list:"
   ]
  },
  {
   "cell_type": "code",
   "execution_count": 3,
   "metadata": {
    "collapsed": false
   },
   "outputs": [],
   "source": [
    "squares_two = [i**2 for i in range(25)]"
   ]
  },
  {
   "cell_type": "code",
   "execution_count": 4,
   "metadata": {
    "collapsed": false
   },
   "outputs": [
    {
     "data": {
      "text/plain": [
       "[0,\n",
       " 1,\n",
       " 4,\n",
       " 9,\n",
       " 16,\n",
       " 25,\n",
       " 36,\n",
       " 49,\n",
       " 64,\n",
       " 81,\n",
       " 100,\n",
       " 121,\n",
       " 144,\n",
       " 169,\n",
       " 196,\n",
       " 225,\n",
       " 256,\n",
       " 289,\n",
       " 324,\n",
       " 361,\n",
       " 400,\n",
       " 441,\n",
       " 484,\n",
       " 529,\n",
       " 576]"
      ]
     },
     "execution_count": 4,
     "metadata": {},
     "output_type": "execute_result"
    }
   ],
   "source": [
    "squares_two"
   ]
  },
  {
   "cell_type": "markdown",
   "metadata": {
    "collapsed": true
   },
   "source": [
    "## break statements"
   ]
  },
  {
   "cell_type": "markdown",
   "metadata": {
    "collapsed": true
   },
   "source": [
    "We can loop through items until a given condition is met.  Then we use the `break` statement to exit the loop."
   ]
  },
  {
   "cell_type": "code",
   "execution_count": 5,
   "metadata": {
    "collapsed": false
   },
   "outputs": [
    {
     "name": "stdout",
     "output_type": "stream",
     "text": [
      "2\n"
     ]
    }
   ],
   "source": [
    "myList = ['zero', 'one', 'two', 'three', 'four', 'five', 'six']\n",
    "\n",
    "i = 0\n",
    "for item in myList:\n",
    "    if item == 'two':\n",
    "        break\n",
    "    else:\n",
    "        i += 1\n",
    "        \n",
    "print i"
   ]
  },
  {
   "cell_type": "markdown",
   "metadata": {},
   "source": [
    "However, in this case there is an easier way to find the index:"
   ]
  },
  {
   "cell_type": "code",
   "execution_count": 6,
   "metadata": {
    "collapsed": false
   },
   "outputs": [
    {
     "name": "stdout",
     "output_type": "stream",
     "text": [
      "2\n"
     ]
    }
   ],
   "source": [
    "print myList.index('two')"
   ]
  },
  {
   "cell_type": "markdown",
   "metadata": {},
   "source": [
    "### enumerate\n",
    "When looping over the elements of a list, this gives you access to both the index number and the element itself.  I find this really useful and I use it almost all the time in this situation."
   ]
  },
  {
   "cell_type": "code",
   "execution_count": 7,
   "metadata": {
    "collapsed": false
   },
   "outputs": [
    {
     "name": "stdout",
     "output_type": "stream",
     "text": [
      "0 zero\n",
      "1 one\n",
      "2 two\n",
      "3 three\n",
      "4 four\n",
      "5 five\n",
      "6 six\n"
     ]
    }
   ],
   "source": [
    "for i, listItem in enumerate(myList):\n",
    "    print i, listItem"
   ]
  },
  {
   "cell_type": "code",
   "execution_count": null,
   "metadata": {
    "collapsed": true
   },
   "outputs": [],
   "source": []
  }
 ],
 "metadata": {
  "kernelspec": {
   "display_name": "Python 2",
   "language": "python",
   "name": "python2"
  },
  "language_info": {
   "codemirror_mode": {
    "name": "ipython",
    "version": 2
   },
   "file_extension": ".py",
   "mimetype": "text/x-python",
   "name": "python",
   "nbconvert_exporter": "python",
   "pygments_lexer": "ipython2",
   "version": "2.7.11"
  }
 },
 "nbformat": 4,
 "nbformat_minor": 0
}

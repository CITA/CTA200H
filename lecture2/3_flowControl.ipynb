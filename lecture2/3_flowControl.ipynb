{
 "cells": [
  {
   "cell_type": "markdown",
   "metadata": {},
   "source": [
    "## Programming\n",
    "Consider this block of code:"
   ]
  },
  {
   "cell_type": "code",
   "execution_count": null,
   "metadata": {
    "slideshow": {
     "slide_type": "slide"
    }
   },
   "outputs": [],
   "source": [
    "#set up some data.\n",
    "alexInfo = {'occupation':'postdoc', 'citizenship':'canada', \\\n",
    "        'shoe size' : 9}\n",
    "nielsInfo = {'occupation':'postdoc', 'citizenship':'germany', \\\n",
    "        'shoe size' : 10}\n",
    "\n",
    "#get a list of the keys.\n",
    "infoKeys = alexInfo.keys()\n",
    "print('keys are', infoKeys)\n",
    "\n",
    "#print an empty line\n",
    "print('')\n",
    "\n",
    "#loop over these keys.\n",
    "for attribute in infoKeys:\n",
    "    #check whether the attributes are the same.\n",
    "    if alexInfo[attribute] == nielsInfo[attribute]:\n",
    "        print(\"Alex and Niels have the same\", attribute, \": \", \\\n",
    "            alexInfo[attribute])\n",
    "    else:\n",
    "        print(\"Alex and Niels have varying\", attribute)\n",
    "\n"
   ]
  },
  {
   "cell_type": "markdown",
   "metadata": {
    "slideshow": {
     "slide_type": "slide"
    }
   },
   "source": [
    "Note some interesting things about the language.\n",
    "\n",
    "* we loop over elements of the list of infoKeys without knowing how long the list is.\n",
    "\n",
    "* There are no braces or brackets to delineate which parts are to be looped over in the `for` loop or the `if` statement\n",
    "  * All done with **levels of indentation**.\n",
    "  * This may seem surprising to users of other languages.  It needs care!\n",
    "  \n",
    "* We use a backslash if a line is too long.\n",
    "\n",
    "Now, a `while` rather than a `for` loop:\n",
    "\n"
   ]
  },
  {
   "cell_type": "code",
   "execution_count": null,
   "metadata": {},
   "outputs": [],
   "source": [
    "maxVal = 500\n",
    "\n",
    "print(\"all the squares up to\", maxVal, \":\")\n",
    "\n",
    "i = 0\n",
    "squares = []\n",
    "while i**2 < maxVal:\n",
    "    print(i, i**2)\n",
    "    i += 1\n",
    "    squares.append(i**2)"
   ]
  },
  {
   "cell_type": "markdown",
   "metadata": {
    "collapsed": true
   },
   "source": [
    "## List comprehensions\n",
    "We can get something similar in just one line, using a for loop inside of a list:"
   ]
  },
  {
   "cell_type": "code",
   "execution_count": null,
   "metadata": {},
   "outputs": [],
   "source": [
    "squares_two = [i**2 for i in range(25)]"
   ]
  },
  {
   "cell_type": "code",
   "execution_count": null,
   "metadata": {},
   "outputs": [],
   "source": [
    "squares_two"
   ]
  },
  {
   "cell_type": "markdown",
   "metadata": {
    "collapsed": true
   },
   "source": [
    "## break statements"
   ]
  },
  {
   "cell_type": "markdown",
   "metadata": {
    "collapsed": true
   },
   "source": [
    "We can loop through items until a given condition is met.  Then we use the `break` statement to exit the loop."
   ]
  },
  {
   "cell_type": "code",
   "execution_count": null,
   "metadata": {},
   "outputs": [],
   "source": [
    "myList = ['zero', 'one', 'two', 'three', 'four', 'five', 'six']\n",
    "\n",
    "i = 0\n",
    "for item in myList:\n",
    "    if item == 'two':\n",
    "        break\n",
    "    else:\n",
    "        i += 1\n",
    "        \n",
    "print(i)"
   ]
  },
  {
   "cell_type": "markdown",
   "metadata": {},
   "source": [
    "However, in this case there is an easier way to find the index:"
   ]
  },
  {
   "cell_type": "code",
   "execution_count": null,
   "metadata": {},
   "outputs": [],
   "source": [
    "print(myList.index('two'))"
   ]
  },
  {
   "cell_type": "markdown",
   "metadata": {},
   "source": [
    "### enumerate\n",
    "When looping over the elements of a list, this gives you access to both the index number and the element itself.  I find this really useful and I use it almost all the time in this situation."
   ]
  },
  {
   "cell_type": "code",
   "execution_count": null,
   "metadata": {},
   "outputs": [],
   "source": [
    "for i, listItem in enumerate(myList):\n",
    "    print(i, listItem)"
   ]
  },
  {
   "cell_type": "code",
   "execution_count": null,
   "metadata": {},
   "outputs": [],
   "source": []
  }
 ],
 "metadata": {
  "kernelspec": {
   "display_name": "Python 3",
   "language": "python",
   "name": "python3"
  },
  "language_info": {
   "codemirror_mode": {
    "name": "ipython",
    "version": 3
   },
   "file_extension": ".py",
   "mimetype": "text/x-python",
   "name": "python",
   "nbconvert_exporter": "python",
   "pygments_lexer": "ipython3",
   "version": "3.7.9"
  }
 },
 "nbformat": 4,
 "nbformat_minor": 1
}

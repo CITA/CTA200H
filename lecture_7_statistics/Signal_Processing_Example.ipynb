{
 "cells": [
  {
   "cell_type": "markdown",
   "id": "6e2da0c1-2780-4075-a737-a743fb61e903",
   "metadata": {},
   "source": [
    "# Data analysis\n",
    "\n",
    "Author(s): Maya Fishbach, modified from Carl Haster\n",
    "\n",
    "\n",
    "## Bayes' Theorem\n",
    "\n",
    "On the whiteboard, derive Bayes' theorem from the *joint* probability distribution $p(A, B) = p(A | B)p(B) = p(B|A)p(A),$ where $p( A | B)$ is a *conditional* distribution and $p(A) = \\int p(A , B) dB$ is a *marginal* distribution.\n",
    "\n",
    "$$ p(A|B) = \\frac{p(A) p(B|A)}{p(B)} $$\n",
    "\n",
    "or choosing special symbols for parameters we're trying to measure ($\\theta$), data ($d$), hypothesis/ model ($I$), prior ($\\pi$), likelihood ($L$) and evidence ($Z$):\n",
    "\n",
    "$$ p(\\theta|d, I) = \\frac{\\pi(\\theta | I) L(d|\\theta, I)}{Z(d | I)} $$\n",
    "\n",
    "where $p(\\theta|d)$ is a posterior probability function which describes the probability of parameters $\\theta$ given some data $d$ and our hypothesis/ model $I$. This posterior depends on a likelihood $L(d|\\theta, I)$ (how likely the data realization is given $\\theta$ and our model $I$), a prior probability $\\pi(\\theta | I)$ (what are our beliefs about $\\theta$ before we've seen the data) and normalized by the evidence $Z(d | I)$, also known as the marginal likelihood (how good is the assumed model $I$ at describing the data $d$).\n",
    "\n",
    "The evidence can be useful if we are compairing two models $H$ and $I$. Then the Bayes factor is:\n",
    "$$B^H_I = \\frac{Z(d | H)}{Z(d | I)}$$\n",
    "and the Bayesian odds is the Bayes factor multiplied by the prior odds:\n",
    "$$O^H_I = \\frac{p(H | d)}{p(I | d)} = B^H_I \\frac{p(H)}{p(I)}$$\n",
    "\n",
    "## Signal processing example\n",
    "\n",
    "\n",
    "### Define a sine-Gaussian signal\n",
    "\n",
    "Consider a sine-Gaussian signal in noisy timeseries data. Assume we know everything about the signal other than its central or peak time $\\tau$. Therefore, in this example $\\theta = \\tau$. "
   ]
  },
  {
   "cell_type": "code",
   "execution_count": null,
   "id": "b57fc8d0-6b00-4fb3-9a50-e9fc25476172",
   "metadata": {},
   "outputs": [],
   "source": [
    "import numpy as np\n",
    "\n",
    "import matplotlib \n",
    "%matplotlib inline\n",
    "%config InlineBackend.figure_format='retina'\n",
    "matplotlib.rcParams['figure.figsize'] = (5, 3)\n",
    "import matplotlib.pyplot as plt"
   ]
  },
  {
   "cell_type": "code",
   "execution_count": null,
   "id": "c370e16b-88c4-4db7-b1e2-56b91740883a",
   "metadata": {},
   "outputs": [],
   "source": [
    "def sinGauss(t, tau, A = 1, f = 3, s = 1):\n",
    "\n",
    "    '''return sine-Gaussian pulse on time array t\n",
    "    \n",
    "    inputs: t -- array of times\n",
    "            tau -- float, central time\n",
    "            A -- float, amplitude of signal\n",
    "            f -- float, central frequency of signal\n",
    "            s -- float, width of Gaussian\n",
    "\n",
    "    returns: sine-Gaussian pulse -- array of same shape as t\n",
    "    '''\n",
    "\n",
    "    return A * np.sin(2 * np.pi * f * t) * np.exp(-np.square(t-tau)/(2*np.square(s)))\n"
   ]
  },
  {
   "cell_type": "code",
   "execution_count": null,
   "id": "496e5979-ee19-44fd-b23f-0d39c4589d13",
   "metadata": {},
   "outputs": [],
   "source": [
    "t = np.linspace(0, 20, 1000)\n",
    "\n",
    "tau_true = 5\n",
    "\n",
    "signal = sinGauss(t, tau_true)\n",
    "\n",
    "plt.plot(t, signal)\n",
    "plt.xlabel('$t$')\n",
    "plt.ylabel('signal')\n",
    "plt.title('sine-Gaussian pulse')\n",
    "plt.show()"
   ]
  },
  {
   "cell_type": "markdown",
   "id": "49d2eaba-1f34-4e07-a594-79a1f018a497",
   "metadata": {},
   "source": [
    "### Introduce Gaussian noise\n",
    "\n",
    "This signal will be hidden in noise, where the random process generating the noise is a zero-mean Gaussian process with a known standard deviation (white Gaussian noise). "
   ]
  },
  {
   "cell_type": "code",
   "execution_count": null,
   "id": "4de9ee3e-5422-4c07-b99c-cc658e051199",
   "metadata": {},
   "outputs": [],
   "source": [
    "noise_sigma = 1\n",
    "\n",
    "noise = np.random.normal(0, noise_sigma, t.size)\n",
    "\n",
    "data = noise + signal\n",
    "\n",
    "plt.plot(t, data, label = 'data (noise + signal)')\n",
    "plt.plot(t, signal, label = 'signal')\n",
    "plt.xlabel(r'$t$')\n",
    "plt.ylabel('data')\n",
    "plt.legend(loc = 'best')\n",
    "plt.show()"
   ]
  },
  {
   "cell_type": "markdown",
   "id": "7278725a-9aa7-4aed-be3a-59774b9e0901",
   "metadata": {},
   "source": [
    "### Define the likelihood\n",
    "\n",
    "We know the statistical properties of the noise, so we use this to define our likelihood. \n",
    "\\\n",
    "*noise = data - signal*\n",
    "\\\n",
    "We want to know the central location of the signal, $\\tau$, so we define the likelihood for the data given this parameter. \n",
    "It's helpful to work in the logarithm of probabilities (they tend to be easier to keep track of numerically)\n",
    "\n",
    "$$ \\log L(d|\\tau) \\propto -\\frac{1}{2} \\int^{t_{max}}_{t_{min}}\\frac{(d(t)-Signal(t,\\tau))^2}{\\sigma_{noise}^2}dt$$\n",
    "\n",
    "(compare to [$\\chi^2$-test](https://en.wikipedia.org/wiki/Chi-squared_test))\n"
   ]
  },
  {
   "cell_type": "code",
   "execution_count": null,
   "id": "b46d501f-bc16-41bc-80c0-4476a11b2a9a",
   "metadata": {},
   "outputs": [],
   "source": [
    "def log_likelihood(data, t, tau, A=1, f = 3, s = 1, sigma_noise=1):\n",
    "    \n",
    "    logL = -0.5*np.trapezoid(np.square((data - sinGauss(t,tau,A,f,s))/sigma_noise), t) #use trapezoidal integration\n",
    "\n",
    "    return logL"
   ]
  },
  {
   "cell_type": "code",
   "execution_count": null,
   "id": "4c3cbc06-2a6b-4c79-8611-20a9be6cb346",
   "metadata": {},
   "outputs": [],
   "source": [
    "logL = np.zeros_like(t)\n",
    "\n",
    "#calculate log likelihood on a grid of possible tau values (which can be any time in t). \n",
    "#Note that all other parameters are fixed to their true values.\n",
    "\n",
    "for i in range(t.shape[0]):\n",
    "\n",
    "    tau = t[i]\n",
    "\n",
    "    logL[i] = log_likelihood(data, t, tau)\n",
    "\n",
    "plt.plot(t, logL, label = 'log likelihood')\n",
    "plt.axvline(tau_true, lw=2, c = 'r', label = 'truth')\n",
    "plt.legend(loc = 'best')\n",
    "plt.xlabel(r'$\\tau$')\n",
    "plt.ylabel('log likelihood')\n",
    "plt.show()"
   ]
  },
  {
   "cell_type": "markdown",
   "id": "e8eba553-76c8-48b6-8fb4-cc716cf7e355",
   "metadata": {},
   "source": [
    "The maximum log likelihood is pretty close to the true value!\n",
    "\n",
    "\n",
    "### Choose a prior\n",
    "Now let's turn that likelihood into a posterior, by taking into account a prior (ideally, you would do this before you ever looked at the data).\n",
    "\\\n",
    "Let's start with a flat prior, assuming $\\tau$ lies somewhere inside the range $a < \\tau < b$ where each point has equal probability. This gives\n",
    "\n",
    "$$ \\pi(\\tau) = \\frac{1}{b - a}$$"
   ]
  },
  {
   "cell_type": "code",
   "execution_count": null,
   "id": "b60ac94b-b909-4aef-85f0-ce7317316fc6",
   "metadata": {},
   "outputs": [],
   "source": [
    "def log_prior_uniform(t, t_min, t_max):\n",
    "    \n",
    "    logprior = np.zeros_like(t)\n",
    "    \n",
    "    inside_range = np.logical_and(np.greater_equal(t, t_min),\\\n",
    "                                  np.less_equal(t, t_max))\n",
    "    \n",
    "    logprior[inside_range] = -np.log(t_max - t_min)\n",
    "    \n",
    "    logprior[np.logical_not(inside_range)] = -np.inf\n",
    "    \n",
    "    return logprior"
   ]
  },
  {
   "cell_type": "markdown",
   "id": "09e909c0-c06a-4ea2-9c30-e482cbf2956f",
   "metadata": {},
   "source": [
    "### What about the evidence?\n",
    "\n",
    "The evidence is merely a normalization term to ensure that the posterior integrates to 1 over all possible $\\tau$:\n",
    "\n",
    "$$Z(d) = \\int^{\\infty}_{-\\infty}\\pi(\\tau) L(d|\\tau) d\\tau$$\n",
    "\n",
    "### Putting together likelihood, prior and evidence for the posterior:"
   ]
  },
  {
   "cell_type": "code",
   "execution_count": null,
   "id": "3f99edb8-85e1-4ee4-84e1-b6b53ce97c1e",
   "metadata": {},
   "outputs": [],
   "source": [
    "log_prior_1 = log_prior_uniform(t, 1, 15)\n",
    "\n",
    "log_evidence_1 = np.log(np.trapezoid(np.exp(log_prior_1 + logL), t))\n",
    "\n",
    "log_posterior_1 = log_prior_1 + logL - log_evidence_1\n",
    "\n",
    "plt.plot(t, np.exp(log_posterior_1), c='b', label='posterior')\n",
    "plt.plot(t, np.exp(log_prior_1), c='g', label='prior', ls = '--')\n",
    "plt.axvline(tau_true, c='k', lw=2, label=r'$\\tau_{true}$')\n",
    "plt.legend(loc='best')\n",
    "plt.xlabel(r'$\\tau$', fontsize=16)\n",
    "plt.ylabel('probability density function')\n",
    "plt.show()"
   ]
  },
  {
   "cell_type": "markdown",
   "id": "04c231c7-6e15-434a-8d28-a0ece8261d7e",
   "metadata": {},
   "source": [
    "Exercise: can you compute a posterior under a different prior choice? Can you calculate the Bayes' factor (ratio of evidences) between the two priors? "
   ]
  },
  {
   "cell_type": "markdown",
   "id": "de649fd7-dea2-40b9-b617-95340ca47333",
   "metadata": {},
   "source": [
    "### Fitting for 2 parameters simultaneously\n",
    "\n",
    "What if we want to fit an additional parameter of the signal in addition to its location? For example, let's fit the standard deviation of the Gaussian envelope $s$"
   ]
  },
  {
   "cell_type": "code",
   "execution_count": null,
   "id": "6ae10daa-e4b6-456c-b5c1-9f58c6bd510b",
   "metadata": {},
   "outputs": [],
   "source": [
    "s_to_test = np.linspace(0.1,3,300)\n",
    "\n",
    "taus_to_test = np.linspace(0.1,10, 100)\n",
    "\n",
    "logL2 = np.zeros([taus_to_test.shape[0], s_to_test.shape[0]])\n",
    "\n",
    "#evaluate the likelihood on a grid of possible peak times tau and standard deviations s\n",
    "\n",
    "for i in range(taus_to_test.shape[0]):\n",
    "    for j in range(s_to_test.shape[0]):\n",
    "\n",
    "        tau = taus_to_test[i]\n",
    "        s = s_to_test[j]\n",
    "\n",
    "        logL2[i,j] = log_likelihood(data, t, tau, s = s)        "
   ]
  },
  {
   "cell_type": "code",
   "execution_count": null,
   "id": "552e2003-dd80-4521-820a-4f0d647ccc2a",
   "metadata": {},
   "outputs": [],
   "source": [
    "plt.contourf(s_to_test, taus_to_test, logL2)\n",
    "plt.xlabel(r'standard deviation of Gaussian envelope $s$')\n",
    "plt.ylabel(r'central time $\\tau$')\n",
    "plt.colorbar(label = 'logL')"
   ]
  },
  {
   "cell_type": "markdown",
   "id": "04f1ec9a-67bb-4cb1-8c8d-2c91b2670f83",
   "metadata": {},
   "source": [
    "Let's compute the posterior, given flat priors over the same ranges in $\\tau$ and $s$ as we calculated the log likelihood over.  \n",
    "\\\n",
    "In this case, the posterior is proportional to the likelihood, and we just have to make sure the posterior is normalized."
   ]
  },
  {
   "cell_type": "code",
   "execution_count": null,
   "id": "54a0715a-126e-4262-9d39-16c73ff5b5d0",
   "metadata": {},
   "outputs": [],
   "source": [
    "def posterior_given_2d_logL(xi, xj, logL):\n",
    "\n",
    "    '''calculate the posterior p(xi, xj) given the log likelihood defined over a grid of xi, xj and a flat prior\n",
    "\n",
    "    inputs:\n",
    "    xi -- array\n",
    "    xj -- array\n",
    "    logL -- array of shape (len(xi), len(xj)), where logL[i,j] is the log likelihood evaluated at xi[i], xj[j]\n",
    "\n",
    "    output:\n",
    "    post -- array of same shape as logL\n",
    "    '''\n",
    "\n",
    "    log_evidence = np.log(np.trapezoid(np.trapezoid(np.exp(logL), xj, axis = -1), xi, axis = -1))\n",
    "\n",
    "    log_post = logL - log_evidence\n",
    "\n",
    "    return np.exp(log_post)"
   ]
  },
  {
   "cell_type": "code",
   "execution_count": null,
   "id": "f949109a-993d-4939-9083-153380b791f0",
   "metadata": {},
   "outputs": [],
   "source": [
    "post_tau_s = posterior_given_2d_logL(taus_to_test, s_to_test, logL2)\n",
    "\n",
    "plt.contourf(s_to_test, taus_to_test, post_tau_s)\n",
    "plt.xlabel(r'standard deviation of Gaussian envelope $s$')\n",
    "plt.ylabel(r'central time $\\tau$')\n",
    "plt.colorbar(label = r'posterior $p(\\tau, s | d)$')"
   ]
  },
  {
   "cell_type": "markdown",
   "id": "1b5c181d-ff94-4c81-a34b-d89575bb722b",
   "metadata": {},
   "source": [
    "From the 2-dimensional posterior, we can also calculate the 1-dimensional posterior over $\\tau$ *marginalizing over s* (as opposed to the posterior over $\\tau$ for a fixed $s$, which is what we had before). Similarly, we can calculate the posterior over $s$ marginalizing over $\\tau$. "
   ]
  },
  {
   "cell_type": "code",
   "execution_count": null,
   "id": "3e490b2a-5cea-44f7-baf9-033cd839b7f7",
   "metadata": {},
   "outputs": [],
   "source": [
    "post_tau = np.trapezoid(post_tau_s, s_to_test, axis = -1)\n",
    "post_s = np.trapezoid(post_tau_s, taus_to_test, axis = 0)"
   ]
  },
  {
   "cell_type": "code",
   "execution_count": null,
   "id": "687891db-50cf-45ff-95cd-a5d39781725c",
   "metadata": {},
   "outputs": [],
   "source": [
    "plt.plot(taus_to_test, post_tau)\n",
    "plt.xlabel(r'$\\tau$')\n",
    "plt.ylabel(r'$p(\\tau | d)$')\n",
    "plt.axvline(tau_true, c = 'r')\n",
    "plt.show()\n",
    "\n",
    "plt.plot(s_to_test, post_s)\n",
    "plt.xlabel(r'$s$')\n",
    "plt.ylabel(r'$p(s | d)$')\n",
    "s_true = 1\n",
    "plt.axvline(s_true, c = 'r')\n",
    "plt.show()"
   ]
  },
  {
   "cell_type": "markdown",
   "id": "93c06348-56cf-49a6-bba2-2543e40dbe00",
   "metadata": {},
   "source": [
    "### Exercises\n",
    "\n",
    "* Consider other prior choices (instead of the flat priors assumed here) and update your posterior for each prior choice.\n",
    "* Calculate Bayes factors between different prior choices.\n",
    "* Try to fit for other combinations of signal parameters, such as the amplitude or frequency in addition to the central time and width of the pulse\n",
    "* Vary the amplitude of the signal or the standard deviation of the noise to see how it affects your measurement of the signal parameters."
   ]
  },
  {
   "cell_type": "code",
   "execution_count": null,
   "id": "3c4044e9-2384-490a-b5eb-d1673e11da79",
   "metadata": {},
   "outputs": [],
   "source": []
  }
 ],
 "metadata": {
  "kernelspec": {
   "display_name": "Python 3 (ipykernel)",
   "language": "python",
   "name": "python3"
  },
  "language_info": {
   "codemirror_mode": {
    "name": "ipython",
    "version": 3
   },
   "file_extension": ".py",
   "mimetype": "text/x-python",
   "name": "python",
   "nbconvert_exporter": "python",
   "pygments_lexer": "ipython3",
   "version": "3.11.11"
  }
 },
 "nbformat": 4,
 "nbformat_minor": 5
}

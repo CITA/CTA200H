{
 "cells": [
  {
   "cell_type": "markdown",
   "id": "edfa5356-4cb1-4c60-8a2a-63a373506c58",
   "metadata": {},
   "source": [
    "# Introduction to Statistics\n",
    "\n",
    "author: Maya Fishbach, with some material borrowed from the [Starfish school](https://starfishschool.github.io/#resources) and Carl Haster"
   ]
  },
  {
   "cell_type": "markdown",
   "id": "2729403d-a512-4120-b468-efd711770592",
   "metadata": {},
   "source": [
    "![title](https://imgs.xkcd.com/comics/correlation.png)\n"
   ]
  },
  {
   "cell_type": "markdown",
   "id": "74fe9b84-4ec8-4123-854e-668a87bd7f88",
   "metadata": {},
   "source": [
    "## Types of Data\n",
    "* quantitative\n",
    "    * continuous (e.g. real numbers)\n",
    "    * discrete (e.g. integers)\n",
    "* categorical\n",
    "    * nominal (e.g. categories A, B, C)\n",
    "    * ordinal (e.g. a Likert Scale used in a survey)\n",
    "\n",
    "### Can you think of examples from physics or astronomy of each type of data?"
   ]
  },
  {
   "cell_type": "markdown",
   "id": "59b8e292-f7c2-463a-8d37-d4c7d43235a7",
   "metadata": {},
   "source": [
    "## Probability Distributions\n",
    "\n",
    "* Probability density function (for continuous quantities)\n",
    "  * Analytic examples include Gaussian (aka Normal), power law (aka Pareto), etc.\n",
    "* Probability mass function (for discrete quantities)\n",
    "  * Analytic examples include Binomial distribution, Poisson distribution, etc."
   ]
  },
  {
   "cell_type": "code",
   "execution_count": null,
   "id": "28131603-e0da-43fe-8dbf-b1ad0682c625",
   "metadata": {},
   "outputs": [],
   "source": [
    "import numpy as np\n",
    "\n",
    "import matplotlib \n",
    "%matplotlib inline\n",
    "%config InlineBackend.figure_format='retina'\n",
    "matplotlib.rcParams['figure.figsize'] = (5, 3)\n",
    "import matplotlib.pyplot as plt\n",
    "\n",
    "\n",
    "import scipy.stats as ss"
   ]
  },
  {
   "cell_type": "markdown",
   "id": "bf491c8a-aac9-4e91-9a51-9191de8c0878",
   "metadata": {},
   "source": [
    "### Gaussian (aka Normal) Distribution \n",
    "probability density function \n",
    "$$p(x | \\mu, \\sigma) = \\frac{1}{\\sqrt{2\\pi\\sigma^2}} e^{\\frac{-(x-\\mu)^2}{2\\sigma^2}}$$"
   ]
  },
  {
   "cell_type": "code",
   "execution_count": null,
   "id": "15977a7c-87fd-4b72-a220-dd9edd7e7bbf",
   "metadata": {},
   "outputs": [],
   "source": [
    "x = np.linspace(-5,5,100)\n",
    "pdf = ss.norm.pdf(x) #default is mean mu = 0, standard deviation sigma = 1\n",
    "\n",
    "plt.plot(x, pdf)\n",
    "\n",
    "plt.xlabel('x')\n",
    "plt.ylabel(r'probability density function $p(x)$')\n",
    "plt.title('standard normal distribution') #\"standard\" refers to mu = 0, sigma = 1\n",
    "plt.show()"
   ]
  },
  {
   "cell_type": "markdown",
   "id": "3c840eeb-c5d7-4dde-86f6-f1fd16279e1f",
   "metadata": {},
   "source": [
    "Probability densities are only proper probabilities (a value between 0 and 1) when integrated over some region.\n",
    "Integrating over all possible values, a probability density function integrates to 1.\n",
    "The cumulative distribution function (CDF) is the probability P(X < x), or the cumulative integral of the probability density function \n"
   ]
  },
  {
   "cell_type": "code",
   "execution_count": null,
   "id": "8e9e1c0a-622c-4628-a16d-616b52b908be",
   "metadata": {},
   "outputs": [],
   "source": [
    "cdf = ss.norm.cdf(x)\n",
    "\n",
    "plt.plot(x, cdf,lw = 3, label = \"scipy's cdf\")\n",
    "\n",
    "#check that cumulative integral gives the same thing\n",
    "\n",
    "from scipy.integrate import cumulative_trapezoid as cumtrapz\n",
    "\n",
    "cdf2 = cumtrapz(pdf, x, initial = 0)\n",
    "\n",
    "plt.plot(x, cdf2, ls = '--', label = \"integral of pdf\")\n",
    "\n",
    "plt.xlabel('x')\n",
    "plt.ylabel(r'CDF P(x)')\n",
    "plt.title(\"standard normal distribution\")\n",
    "plt.legend(loc = 'best')\n",
    "plt.show()"
   ]
  },
  {
   "cell_type": "markdown",
   "id": "0ee5ca45-ac79-4e77-b85a-cec041bc3e40",
   "metadata": {},
   "source": [
    "### Poisson Distribution\n",
    "\n",
    "Probability mass function\n",
    "\n",
    "$$f(k | \\mu) = \\exp(-\\mu)\\frac{\\mu^k}{k!} $$ \n",
    "for $k \\geq 0$"
   ]
  },
  {
   "cell_type": "code",
   "execution_count": null,
   "id": "97e125e9-f44a-4083-9eca-2452d6546103",
   "metadata": {},
   "outputs": [],
   "source": [
    "k = np.arange(10)\n",
    "\n",
    "mu = 2 #expectation value\n",
    "\n",
    "pmf = ss.poisson.pmf(k, mu)\n",
    "\n",
    "plt.plot(k, pmf, 'bo', ms=8)\n",
    "plt.vlines(k, 0, pmf, colors='b', lw=5, alpha=0.5)\n",
    "\n",
    "plt.xlabel('k')\n",
    "plt.ylabel('Probability')\n",
    "plt.title('Poisson distribution')"
   ]
  },
  {
   "cell_type": "markdown",
   "id": "008e8056-42b1-4b59-a3ea-5828c607a9d0",
   "metadata": {},
   "source": [
    "## Random variables\n",
    "\n",
    "Data are realizations of a random variable. A random variable follows a distribution.\n",
    "\n",
    "For example, if I flip a fair coin 10 times, the number of tails I get is drawn from a binomial distribution with parameters $n = 10$, $p = 0.5$."
   ]
  },
  {
   "cell_type": "code",
   "execution_count": null,
   "id": "d86cf755-2e1b-426a-a216-c353d2a132f4",
   "metadata": {},
   "outputs": [],
   "source": [
    "n_trials = 10\n",
    "coin_dist = ss.binom(n = n_trials, p = 0.5) \n",
    "\n",
    "#as before, I can plot the pmf of the distribution\n",
    "\n",
    "k = np.arange(n_trials)\n",
    "plt.plot(k, coin_dist.pmf(k), 'bo', ms = 4, label = 'pmf')\n",
    "plt.vlines(k, 0, coin_dist.pmf(k), colors='b', lw=2)\n",
    "\n",
    "\n",
    "#I can also draw random variables from the distribution\n",
    "#Let's say I repeat my coin toss experiment 100 times\n",
    "n_exp = 100\n",
    "n_tails = coin_dist.rvs(n_exp) \n",
    "\n",
    "plt.hist(n_tails, bins = np.arange(n_trials+1)-0.5, histtype = 'bar', color = 'orange', alpha = 0.5, rwidth=0.8, density = True, label = 'empirical (100 realizations')\n",
    "\n",
    "#what if I repeat it another 100 times?\n",
    "n_tails_2 = coin_dist.rvs(n_exp) \n",
    "plt.hist(n_tails_2, bins = np.arange(n_trials+1)-0.5, histtype = 'bar', color = 'green', alpha = 0.5, rwidth=0.8, density = True, label = 'empirical (another 100 realizations)')\n",
    "\n",
    "\n",
    "plt.legend(loc = 'best')\n",
    "\n",
    "plt.xlabel('number of tails out of 10 draws')\n",
    "plt.ylabel('Probability')\n",
    "plt.title('binomial distribution')\n",
    "\n",
    "plt.ylim(0,0.45)\n",
    "\n",
    "plt.show()"
   ]
  },
  {
   "cell_type": "markdown",
   "id": "751bf7f5-0b59-4b32-afec-4cc0c9836fe2",
   "metadata": {},
   "source": [
    "## Summary statistics\n",
    "\n",
    "Given a dataset, we often want to describe it with some summary statistics:\n",
    "* \"Average\"\n",
    "  * Mean\n",
    "  * Median\n",
    "  * Mode\n",
    "* \"Width\"\n",
    "  * Standard deviation/ variance\n",
    "  * Quantiles\n",
    "  * Minimum, maximum\n",
    "* higher moments\n",
    "  * skewness\n",
    "  * kurtosis\n",
    "\n",
    "For higher dimensional data, we also describe the correlation between different dimensions, etc. \n",
    "\n",
    "Let's look at some data (from Carl Haster).\n",
    "We have three datasets, and each is bivariate (each datapoint consists of an 'x' and 'y' value, unlike the univariate examples above).\n",
    "Can you think of any examples of bivariate data (from astronomy or otherwise?)"
   ]
  },
  {
   "cell_type": "code",
   "execution_count": null,
   "id": "1d514dba-a902-406c-a8be-a0d9aac61b70",
   "metadata": {},
   "outputs": [],
   "source": [
    "import pandas as pd"
   ]
  },
  {
   "cell_type": "code",
   "execution_count": null,
   "id": "07b79784-bc1a-404d-a7f2-501944973d8e",
   "metadata": {},
   "outputs": [],
   "source": [
    "df0 = pd.read_csv(\"dataset_0.csv\")\n",
    "df1 = pd.read_csv(\"dataset_1.csv\")\n",
    "df2 = pd.read_csv(\"dataset_2.csv\")"
   ]
  },
  {
   "cell_type": "code",
   "execution_count": null,
   "id": "bfe55fc7-40d8-4212-b00e-3602fd73029a",
   "metadata": {},
   "outputs": [],
   "source": [
    "#each pandas dataframe looks like this:\n",
    "df0"
   ]
  },
  {
   "cell_type": "code",
   "execution_count": null,
   "id": "72a9d357-ac86-45ed-be8c-bb093c4d2227",
   "metadata": {},
   "outputs": [],
   "source": [
    "#pandas can easily calculate summary statistics for dataframes, for example:\n",
    "df0.describe()"
   ]
  },
  {
   "cell_type": "code",
   "execution_count": null,
   "id": "96283407-fd02-430a-a5c0-d3aed497aa27",
   "metadata": {},
   "outputs": [],
   "source": [
    "#you can also choose your own summary statistics to display, e.g.\n",
    "\n",
    "for i, df in enumerate([df0,df1,df2]):\n",
    "    print(f\"dataset {i} summary statistics:\")\n",
    "    print(df.agg(\n",
    "        {\n",
    "        \"x_values\": [\"mean\", \"std\"],\n",
    "        \"y_values\": [\"mean\", \"std\"],\n",
    "        }))"
   ]
  },
  {
   "cell_type": "code",
   "execution_count": null,
   "id": "c55cbe07-5c2e-4d4b-8123-7294b7bc7d00",
   "metadata": {},
   "outputs": [],
   "source": [
    "#we can also look at the correlation between x- and y-values in each dataset\n",
    "\n",
    "df0.corr()"
   ]
  },
  {
   "cell_type": "code",
   "execution_count": null,
   "id": "456f14f3-bb1f-464f-a45d-b2b013ccca0d",
   "metadata": {},
   "outputs": [],
   "source": [
    "for i, df in enumerate([df0,df1,df2]):\n",
    "    print(f\"dataset {i} correlation coefficient between x and y:\")\n",
    "    print(df['x_values'].corr(df['y_values']))"
   ]
  },
  {
   "cell_type": "markdown",
   "id": "12db6513-edf6-42b7-af63-1ee72dfc5f25",
   "metadata": {},
   "source": [
    "Based on the summary statistics, the datasets look very similar! Let's plot them."
   ]
  },
  {
   "cell_type": "code",
   "execution_count": null,
   "id": "5abe7a8c-4120-4654-921d-82da5c317cf8",
   "metadata": {},
   "outputs": [],
   "source": [
    "fig, ax = plt.subplots(1, 3, sharex=True, sharey=True, figsize = (10,3))\n",
    "\n",
    "for i, df in enumerate([df0,df1,df2]):\n",
    "    df.plot.scatter(x = \"x_values\", y = \"y_values\", ax = ax[i])\n",
    "    ax[i].set_title(f\"dataset {i}\")"
   ]
  },
  {
   "cell_type": "markdown",
   "id": "64b3562e-0eb7-4d6b-9ff8-c2fc433e9de5",
   "metadata": {},
   "source": [
    "Lesson: always plot your data! Summary statistics are convenient, but don't tell the whole story.\n",
    "\n",
    "Other plots that are often useful for multidimensional data are corner plots (see, e.g. [corner.py](https://corner.readthedocs.io/en/latest/)) or panda's scatter matrix.\n",
    "\n",
    "For example,"
   ]
  },
  {
   "cell_type": "code",
   "execution_count": null,
   "id": "fce53358-c615-4006-8a9c-35ef77ef2ba1",
   "metadata": {},
   "outputs": [],
   "source": [
    "from pandas.plotting import scatter_matrix\n",
    "\n",
    "scatter_matrix(df0, diagonal=\"kde\");"
   ]
  },
  {
   "cell_type": "markdown",
   "id": "7f27cc0f-8e8c-41d0-837d-c81dc59bb6bc",
   "metadata": {},
   "source": [
    "Some additional tools for data visualization are:\n",
    "* https://www.data-to-viz.com/\n",
    "* Python packages (in addition to matplotlib):\n",
    "  * [arviz](https://www.arviz.org/en/latest/)\n",
    "  * [seaborn](https://seaborn.pydata.org/) "
   ]
  },
  {
   "cell_type": "code",
   "execution_count": null,
   "id": "3f89ddfd-1daa-4d5b-954f-bb97dbcab3d7",
   "metadata": {},
   "outputs": [],
   "source": []
  }
 ],
 "metadata": {
  "kernelspec": {
   "display_name": "Python 3 (ipykernel)",
   "language": "python",
   "name": "python3"
  },
  "language_info": {
   "codemirror_mode": {
    "name": "ipython",
    "version": 3
   },
   "file_extension": ".py",
   "mimetype": "text/x-python",
   "name": "python",
   "nbconvert_exporter": "python",
   "pygments_lexer": "ipython3",
   "version": "3.11.11"
  }
 },
 "nbformat": 4,
 "nbformat_minor": 5
}

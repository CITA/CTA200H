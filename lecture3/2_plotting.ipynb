{
 "cells": [
  {
   "cell_type": "markdown",
   "metadata": {},
   "source": [
    "## Plotting\n",
    "\n",
    "### matplotlib\n",
    "based on Matlab plotting.\n",
    "\n",
    "Designed to make \"easy things easy and hard things possible\"\n",
    "\n",
    "* Plots look good -- publication quality\n",
    "* Can output to pdf / postscript / svg (scalable vector graphics) / png bitmap image / .....\n",
    "\n",
    "* several ways to use it: see http://matplotlib.org/faq/usage_faq.html#matplotlib-pyplot-and-pylab-how-are-they-related\n",
    "  * in the notebook we will import the commands inline\n",
    "    * this imports all numpy and matplotlib.pyplot commands into the namespace \n",
    "    * similarly, if using ipython prompt: `ipython --pylab` imports numpy and pyplot commands -- pulls up a plotting window that looks better than those in this notebook.\n",
    "    \n",
    "  * recommended use for publication quality is `import matplotlib.pyplot as plt`\n",
    "\n"
   ]
  },
  {
   "cell_type": "code",
   "execution_count": null,
   "metadata": {},
   "outputs": [],
   "source": [
    "import matplotlib.pyplot as plt\n",
    "import numpy as np\n",
    "\n"
   ]
  },
  {
   "cell_type": "code",
   "execution_count": null,
   "metadata": {},
   "outputs": [],
   "source": [
    "%pylab inline"
   ]
  },
  {
   "cell_type": "code",
   "execution_count": null,
   "metadata": {},
   "outputs": [],
   "source": [
    "x = np.arange(100) / 100. * 2. * np.pi"
   ]
  },
  {
   "cell_type": "code",
   "execution_count": null,
   "metadata": {},
   "outputs": [],
   "source": [
    "figure(figsize = (6,6))  #these are all matplotlib.pyplot commands\n",
    "clf()\n",
    "plot(x, np.sin(x))"
   ]
  },
  {
   "cell_type": "code",
   "execution_count": null,
   "metadata": {},
   "outputs": [],
   "source": [
    "clf()"
   ]
  },
  {
   "cell_type": "code",
   "execution_count": null,
   "metadata": {},
   "outputs": [],
   "source": [
    "plot(x, np.sin(x), 'b--', lw = 3, label = 'sine')\n",
    "plot(x, np.cos(x), 'r:' , lw = 2, label = 'cosine')\n",
    "xlabel('$x$')\n",
    "legend()"
   ]
  },
  {
   "cell_type": "code",
   "execution_count": null,
   "metadata": {},
   "outputs": [],
   "source": []
  },
  {
   "cell_type": "code",
   "execution_count": null,
   "metadata": {},
   "outputs": [],
   "source": [
    "mydata = np.random.random(100)\n",
    "errors = .1 * ones(100)\n",
    "errorbar(x, mydata, errors)"
   ]
  },
  {
   "cell_type": "code",
   "execution_count": null,
   "metadata": {},
   "outputs": [],
   "source": [
    "errorbar(x, mydata, errors, fmt = 'o', color = 'red')"
   ]
  },
  {
   "cell_type": "code",
   "execution_count": null,
   "metadata": {},
   "outputs": [],
   "source": []
  },
  {
   "cell_type": "markdown",
   "metadata": {},
   "source": [
    "## Plotting data from a file\n",
    "\n",
    "* We will plot the CMB power spectra -- these are theory curves of the CMB fluctuations on a given inverse angular scale.  Compare with data from Planck satellite taken from the publication http://inspirehep.net/record/1343460: \n",
    "\n",
    "\n",
    "![alt text](http://inspirehep.net/record/1343460/files/Figures_planck2014_TT_Dl_NORES_bin30_w88mm.png)\n",
    "\n",
    "First we load the theoretical \"data\", values at every integer.  For this we use the output of the standard cosmological theory code CAMB, http://camb.info/readme.html\n"
   ]
  },
  {
   "cell_type": "code",
   "execution_count": null,
   "metadata": {},
   "outputs": [],
   "source": [
    "mydata = numpy.loadtxt('fiducial_scalCls.dat')"
   ]
  },
  {
   "cell_type": "code",
   "execution_count": null,
   "metadata": {},
   "outputs": [],
   "source": [
    "mydata"
   ]
  },
  {
   "cell_type": "code",
   "execution_count": null,
   "metadata": {},
   "outputs": [],
   "source": [
    "mydata.shape"
   ]
  },
  {
   "cell_type": "markdown",
   "metadata": {},
   "source": [
    "Row 0 is the X axis, row 1 is the Y axis.  Other rows are related things that we won't plot for now."
   ]
  },
  {
   "cell_type": "code",
   "execution_count": null,
   "metadata": {
    "scrolled": false
   },
   "outputs": [],
   "source": [
    "figsize(14, 8)\n",
    "plot(mydata[:,0], mydata[:,1], 'r', linewidth = 3)\n",
    "xlim([0,2500])\n",
    "\n",
    "xlabel('Multipole Moment $\\ell$',fontsize = 26)\n",
    "ylabel('$\\mathcal{D}_\\ell^{TT}$ [$\\mu$K$^2$]',fontsize = 26)"
   ]
  },
  {
   "cell_type": "markdown",
   "metadata": {},
   "source": [
    "\n",
    "\n",
    "## 2d array data\n",
    "* Often you will wish to look at image data.\n",
    "* Example:  plane waves in two dimensions with a gaussian envelope in x, $\\sin(ax) \\sin(by) e^{-x^2}$ \n"
   ]
  },
  {
   "cell_type": "code",
   "execution_count": null,
   "metadata": {},
   "outputs": [],
   "source": [
    "def g(x, y, a = 4, b = 5, c = 8):\n",
    "    \n",
    "    return np.sin(a * x) * np.sin( b * y ) * np.exp(-c * x**2)\n",
    "\n",
    "N = 100\n",
    "\n",
    "x = np.linspace(-1, 1, N)\n",
    "y = np.linspace(-1, 1, N)\n",
    "\n"
   ]
  },
  {
   "cell_type": "code",
   "execution_count": null,
   "metadata": {},
   "outputs": [],
   "source": [
    "x"
   ]
  },
  {
   "cell_type": "code",
   "execution_count": null,
   "metadata": {},
   "outputs": [],
   "source": [
    "xv, yv = np.meshgrid(x, y )"
   ]
  },
  {
   "cell_type": "code",
   "execution_count": null,
   "metadata": {},
   "outputs": [],
   "source": [
    "xv.shape"
   ]
  },
  {
   "cell_type": "code",
   "execution_count": null,
   "metadata": {},
   "outputs": [],
   "source": [
    "plt.imshow(xv)\n",
    "plt.title(\"x values\")\n",
    "plt.colorbar()"
   ]
  },
  {
   "cell_type": "code",
   "execution_count": null,
   "metadata": {},
   "outputs": [],
   "source": [
    "plt.imshow(yv)\n",
    "plt.title(\"x values\")\n",
    "plt.colorbar()"
   ]
  },
  {
   "cell_type": "code",
   "execution_count": null,
   "metadata": {},
   "outputs": [],
   "source": [
    "vals = g(xv, yv)\n",
    "plt.imshow(vals)\n",
    "plt.title(\"function values\")\n",
    "plt.colorbar()\n"
   ]
  },
  {
   "cell_type": "markdown",
   "metadata": {},
   "source": [
    "# color schemes\n",
    "A lot of people have issues with the default color scheme.  \n",
    "* looks awful and meaningless in black and white\n",
    "* does not work well for colorblind people\n",
    "* no relation between \"distance\" in colorspace and numerical values.\n",
    "\n",
    "http://matplotlib.org/examples/color/colormaps_reference.html\n",
    "\n",
    "\n",
    "Apparently default will change soon.  Let's try blue/white"
   ]
  },
  {
   "cell_type": "code",
   "execution_count": null,
   "metadata": {},
   "outputs": [],
   "source": [
    "\n",
    "plt.imshow(vals, cmap = 'Blues')\n",
    "plt.title(\"function values\")\n",
    "plt.colorbar()"
   ]
  },
  {
   "cell_type": "markdown",
   "metadata": {},
   "source": [
    "## let's take a slice through our image and plot."
   ]
  },
  {
   "cell_type": "code",
   "execution_count": null,
   "metadata": {},
   "outputs": [],
   "source": [
    "plt.plot(x,vals[N/2,:], label = 'slice through center')\n",
    "plt.plot(x,vals[N/4,:], label = 'slice offset from center')\n",
    "plt.xlabel('x')\n",
    "plt.legend()\n",
    "\n"
   ]
  },
  {
   "cell_type": "code",
   "execution_count": null,
   "metadata": {},
   "outputs": [],
   "source": []
  }
 ],
 "metadata": {
  "kernelspec": {
   "display_name": "Python 3",
   "language": "python",
   "name": "python3"
  },
  "language_info": {
   "codemirror_mode": {
    "name": "ipython",
    "version": 3
   },
   "file_extension": ".py",
   "mimetype": "text/x-python",
   "name": "python",
   "nbconvert_exporter": "python",
   "pygments_lexer": "ipython3",
   "version": "3.7.9"
  }
 },
 "nbformat": 4,
 "nbformat_minor": 1
}

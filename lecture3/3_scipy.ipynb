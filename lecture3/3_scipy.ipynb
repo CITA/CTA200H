{
 "cells": [
  {
   "cell_type": "markdown",
   "metadata": {
    "deletable": true,
    "editable": true
   },
   "source": [
    "# SciPy\n",
    "\n",
    "SciPy is a collection of software for scientific computing. It includes NumPy and matplotlib from the previous two lessons, for example.\n",
    "\n",
    "The SciPy library also includes functions to do numerical integration, interpolation, Fourier transforms, statistics, special mathematical functions, and more.\n",
    "\n",
    "### Integration\n",
    "\n",
    "\n",
    "* $\\int_0^5 dx (x^2 + 3)$\n",
    "\n",
    "* We will use Gaussian quadrature  https://en.wikipedia.org/wiki/Gaussian_quadrature \n",
    "\n",
    "* exact answer is $5^3 / 3 + 3\\times5 $"
   ]
  },
  {
   "cell_type": "code",
   "execution_count": 1,
   "metadata": {
    "collapsed": false,
    "deletable": true,
    "editable": true
   },
   "outputs": [
    {
     "data": {
      "text/plain": [
       "56.666666666666664"
      ]
     },
     "execution_count": 1,
     "metadata": {},
     "output_type": "execute_result"
    }
   ],
   "source": [
    "5.**3 / 3 + 3 * 5."
   ]
  },
  {
   "cell_type": "markdown",
   "metadata": {},
   "source": [
    "We can use SciPy to numerically integrate the function $(x^2 + 3)$."
   ]
  },
  {
   "cell_type": "code",
   "execution_count": 2,
   "metadata": {
    "collapsed": false,
    "deletable": true,
    "editable": true
   },
   "outputs": [
    {
     "name": "stdout",
     "output_type": "stream",
     "text": [
      "56.6666666667 6.29126380621e-13\n"
     ]
    }
   ],
   "source": [
    "from scipy import integrate\n",
    "import numpy as np\n",
    "\n",
    "# define the function to integrate\n",
    "def myf(x):\n",
    "    return x**2 + 3\n",
    "\n",
    "# pass in function, integration limits, and quality of answer\n",
    "# returns answer and estimate of the error\n",
    "I, err = integrate.quad(myf, 0, 5, epsabs = 1.e-14)\n",
    "\n",
    "print I, err"
   ]
  },
  {
   "cell_type": "code",
   "execution_count": 3,
   "metadata": {
    "collapsed": false,
    "deletable": true,
    "editable": true
   },
   "outputs": [],
   "source": [
    "integrate.quad?\n"
   ]
  },
  {
   "cell_type": "markdown",
   "metadata": {
    "deletable": true,
    "editable": true
   },
   "source": [
    "### Integration of a pre-sampled function\n",
    "\n",
    "In astrophysics this happens a lot -- someone hands you some pre-sampled points, and you have to calculate the area under the curve.\n",
    "\n",
    "Recall Simpson's rule -- https://en.wikipedia.org/wiki/Gaussian_quadrature\n"
   ]
  },
  {
   "cell_type": "code",
   "execution_count": 4,
   "metadata": {
    "collapsed": false,
    "deletable": true,
    "editable": true
   },
   "outputs": [
    {
     "name": "stdout",
     "output_type": "stream",
     "text": [
      "[ 0.          0.33069396  0.66138793  0.99208189  1.32277585  1.65346982\n",
      "  1.98416378  2.31485774  2.64555171  2.97624567  3.30693964  3.6376336\n",
      "  3.96832756  4.29902153  4.62971549  4.96040945  5.29110342  5.62179738\n",
      "  5.95249134  6.28318531]\n"
     ]
    }
   ],
   "source": [
    "N = 20\n",
    "\n",
    "\n",
    "x = np.linspace(0, 2 * np.pi, N)\n",
    "print(x)"
   ]
  },
  {
   "cell_type": "code",
   "execution_count": 5,
   "metadata": {
    "collapsed": false,
    "deletable": true,
    "editable": true
   },
   "outputs": [],
   "source": [
    "y = np.cos(x)**2"
   ]
  },
  {
   "cell_type": "code",
   "execution_count": 6,
   "metadata": {
    "collapsed": false,
    "deletable": true,
    "editable": true
   },
   "outputs": [
    {
     "name": "stdout",
     "output_type": "stream",
     "text": [
      "Populating the interactive namespace from numpy and matplotlib\n"
     ]
    },
    {
     "data": {
      "text/plain": [
       "[<matplotlib.lines.Line2D at 0x7efdc94c1f50>]"
      ]
     },
     "execution_count": 6,
     "metadata": {},
     "output_type": "execute_result"
    },
    {
     "data": {
      "image/png": "[encoded data removed]",
      "text/plain": [
       "<matplotlib.figure.Figure at 0x7efdd00d0450>"
      ]
     },
     "metadata": {},
     "output_type": "display_data"
    }
   ],
   "source": [
    "%pylab inline\n",
    "\n",
    "plot(x, y, 'o')\n"
   ]
  },
  {
   "cell_type": "code",
   "execution_count": 7,
   "metadata": {
    "collapsed": false,
    "deletable": true,
    "editable": true
   },
   "outputs": [],
   "source": [
    "val = integrate.simps(y,x)"
   ]
  },
  {
   "cell_type": "code",
   "execution_count": 8,
   "metadata": {
    "collapsed": false,
    "deletable": true,
    "editable": true
   },
   "outputs": [
    {
     "name": "stdout",
     "output_type": "stream",
     "text": [
      "value is 3.13578182353 fractional error is 0.00184964465442\n"
     ]
    }
   ],
   "source": [
    "print \"value is\", val, \"fractional error is\" , np.abs(val - np.pi) / np.pi"
   ]
  },
  {
   "cell_type": "markdown",
   "metadata": {
    "deletable": true,
    "editable": true
   },
   "source": [
    "Not bad -- 0.2% accuracy based on so few points.\n",
    "\n",
    "### Interpolation\n",
    "\n",
    "Say you have some data that is sampling your function and you want to interpolate the value of your function between your data points. \n",
    "\n",
    "* Example function (from which coarse data are drawn):  $f(x) = (e^{-x})  \\sin(2  \\pi  x)$"
   ]
  },
  {
   "cell_type": "code",
   "execution_count": 9,
   "metadata": {
    "collapsed": true,
    "deletable": true,
    "editable": true
   },
   "outputs": [],
   "source": [
    "def myf(x):\n",
    "    return (exp(-x)) * sin(2 * numpy.pi * x)"
   ]
  },
  {
   "cell_type": "markdown",
   "metadata": {
    "deletable": true,
    "editable": true
   },
   "source": [
    "Let's sample our function only at 8 points, but we want to interpolate between those points to sample our function at 50 different points."
   ]
  },
  {
   "cell_type": "code",
   "execution_count": 10,
   "metadata": {
    "collapsed": false,
    "deletable": true,
    "editable": true
   },
   "outputs": [],
   "source": [
    "x_coarse = linspace(0, 2, num = 8)\n",
    "x_fine = linspace(0, 2, num = 50)"
   ]
  },
  {
   "cell_type": "markdown",
   "metadata": {
    "deletable": true,
    "editable": true
   },
   "source": [
    "Now let's try different interpolation techniques. First, we will use a basic interpolation method, and then we will interpolate using a spline (see http://mathworld.wolfram.com/CubicSpline.html for information about cubic splines)."
   ]
  },
  {
   "cell_type": "code",
   "execution_count": 11,
   "metadata": {
    "collapsed": false,
    "deletable": true,
    "editable": true
   },
   "outputs": [],
   "source": [
    "from scipy import interpolate\n",
    "\n",
    "myInterpFunc = interpolate.interp1d(x_coarse, myf(x_coarse))\n",
    "y_coarse = myInterpFunc(x_coarse)\n",
    "\n",
    "myInterpFuncSpline = interpolate.CubicSpline(x_coarse, myf(x_coarse))\n",
    "y_coarseSpline = myInterpFuncSpline(x_coarse)"
   ]
  },
  {
   "cell_type": "markdown",
   "metadata": {},
   "source": [
    "Here's our coarse points and how they compare to the original function."
   ]
  },
  {
   "cell_type": "code",
   "execution_count": 12,
   "metadata": {
    "collapsed": false,
    "deletable": true,
    "editable": true
   },
   "outputs": [
    {
     "data": {
      "text/plain": [
       "<matplotlib.legend.Legend at 0x7efdc8179a90>"
      ]
     },
     "execution_count": 12,
     "metadata": {},
     "output_type": "execute_result"
    },
    {
     "data": {
      "image/png": "[encoded data removed]",
      "text/plain": [
       "<matplotlib.figure.Figure at 0x7efdc8bc2350>"
      ]
     },
     "metadata": {},
     "output_type": "display_data"
    }
   ],
   "source": [
    "plot(x_coarse, y_coarse, 'o', label = 'original points')\n",
    "plot(x_fine, myf(x_fine), label = 'original function')\n",
    "legend()"
   ]
  },
  {
   "cell_type": "markdown",
   "metadata": {},
   "source": [
    "And here are the results of our interpolations."
   ]
  },
  {
   "cell_type": "code",
   "execution_count": 13,
   "metadata": {
    "collapsed": false,
    "deletable": true,
    "editable": true
   },
   "outputs": [
    {
     "data": {
      "text/plain": [
       "<matplotlib.legend.Legend at 0x7efdc800ab90>"
      ]
     },
     "execution_count": 13,
     "metadata": {},
     "output_type": "execute_result"
    },
    {
     "data": {
      "image/png": "[encoded data removed]",
      "text/plain": [
       "<matplotlib.figure.Figure at 0x7efdc947fa10>"
      ]
     },
     "metadata": {},
     "output_type": "display_data"
    }
   ],
   "source": [
    "plot(x_coarse, y_coarse, 'o', label = 'original points')\n",
    "plot(x_fine, myInterpFunc(x_fine), '+', label = 'interpolated values')\n",
    "plot(x_fine, myInterpFuncSpline(x_fine), 'x', label = 'spline interpolated values')\n",
    "plot(x_fine, myf(x_fine), label = 'original function')\n",
    "legend()"
   ]
  },
  {
   "cell_type": "markdown",
   "metadata": {
    "collapsed": false,
    "deletable": true,
    "editable": true
   },
   "source": [
    "Notice that, although the polynomial spline doesn't fit our data exactly, it does provide a much better fit to our function than the simple interpolation."
   ]
  }
 ],
 "metadata": {
  "kernelspec": {
   "display_name": "Python 2",
   "language": "python",
   "name": "python2"
  },
  "language_info": {
   "codemirror_mode": {
    "name": "ipython",
    "version": 2
   },
   "file_extension": ".py",
   "mimetype": "text/x-python",
   "name": "python",
   "nbconvert_exporter": "python",
   "pygments_lexer": "ipython2",
   "version": "2.7.13"
  }
 },
 "nbformat": 4,
 "nbformat_minor": 0
}

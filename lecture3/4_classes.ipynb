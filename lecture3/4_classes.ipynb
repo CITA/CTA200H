{
 "cells": [
  {
   "cell_type": "markdown",
   "metadata": {
    "deletable": true,
    "editable": true
   },
   "source": [
    "## Classes and Object Oriented Programming\n",
    "\n",
    "Object oriented programming is a style and approach to programming. It can help make complex code more readable and easier to understand, both for yourself and for someone else.\n",
    "\n",
    "Classes are a grouping of variables and functions that work on those variables into one convenient package. In this way, rather than directly working with all the complicated details of how those variables interact, your code can interact with the class keeping your main code simpler.\n",
    "\n",
    "Why do we care? Almost everything in Python is an object. Other languages support classes: C++, Java, even modern Fortran.\n",
    "\n",
    "### Classes\n",
    "\n",
    "Let's start by defining a simple class for a bank account."
   ]
  },
  {
   "cell_type": "code",
   "execution_count": null,
   "metadata": {
    "collapsed": false
   },
   "outputs": [],
   "source": [
    "class BankAccount:\n",
    "\n",
    "    # Constructor\n",
    "    def __init__(self, inbalance):\n",
    "        self.balance = inbalance"
   ]
  },
  {
   "cell_type": "markdown",
   "metadata": {},
   "source": [
    "We can make a variable, a, that is of type BankAccount."
   ]
  },
  {
   "cell_type": "code",
   "execution_count": null,
   "metadata": {
    "collapsed": true
   },
   "outputs": [],
   "source": [
    "a = BankAccount(500)"
   ]
  },
  {
   "cell_type": "markdown",
   "metadata": {},
   "source": [
    "We can check the balance of our account by accessing its variables."
   ]
  },
  {
   "cell_type": "code",
   "execution_count": null,
   "metadata": {
    "collapsed": false
   },
   "outputs": [],
   "source": [
    "print a.balance"
   ]
  },
  {
   "cell_type": "markdown",
   "metadata": {},
   "source": [
    "### Constructors\n",
    "\n",
    "Let's look a closer look at our class definition. It defines one function, **\\_\\_init\\_\\_()**. This is what is known as the **constructor**, and is the initialization function required by your class in order to create a new object. All classes should have a constructor. \n",
    "\n",
    "In this case, our constructor contains two input variables. **inbalance** is the opening balance of our account. What is **self**?\n",
    "\n",
    "**self** refers to the current object you have created or are using. So if you have multiple objects, **self** knows to refer to the specific object that you are currently dealing with. You have to add **self** as the first argument of all functions within a class so that Python knows you're referring to the current object.\n",
    "\n",
    "The constructor is also the place to make sure your object has been created with sensible values. For example, let's suppose our bank doesn't want to let people open new accounts with negative balances. Let's adjust our constructor so that if someone tries to create a new BankAccount object with a negative starting balance, it instead creates an account with an empty balance."
   ]
  },
  {
   "cell_type": "code",
   "execution_count": null,
   "metadata": {
    "collapsed": true
   },
   "outputs": [],
   "source": [
    "class BankAccount:\n",
    "\n",
    "    # Constructor\n",
    "    def __init__(self, inbalance):\n",
    "        if (inbalance < 0): # much better!\n",
    "            inbalance = 0\n",
    "        self.balance = inbalance"
   ]
  },
  {
   "cell_type": "code",
   "execution_count": null,
   "metadata": {
    "collapsed": false
   },
   "outputs": [],
   "source": [
    "a = BankAccount(-1000)\n",
    "print a.balance"
   ]
  },
  {
   "cell_type": "markdown",
   "metadata": {},
   "source": [
    "### What's the difference between a class and an object? \n",
    "\n",
    "Classes are the definition of our new variable type, in this case BankAccount. It defines which variables it contains and the functions that are part of that class. Though the class BankAccount is defined, it doesn't mean we've created one.\n",
    "\n",
    "Objects are individual instances of that class. In the above, 'a' is an object. By calling BankAccount(500), it runs the constructor of that class, creating the bank account and assigning it to 'a'. "
   ]
  },
  {
   "cell_type": "markdown",
   "metadata": {},
   "source": [
    "### Let's make our account more interesting\n",
    "\n",
    "Bank accounts do more than just hold your money. You have to be able to withdraw it! We could withdraw money by directly modifying the variable 'balance', but generally it is better programming practice to write functions (also called methods) to get and set variables internal to an object.\n",
    "\n",
    "Let's add **withdraw()** and **deposit()** functions, and a function to check our **balance()**."
   ]
  },
  {
   "cell_type": "code",
   "execution_count": null,
   "metadata": {
    "collapsed": false
   },
   "outputs": [],
   "source": [
    "class BankAccount:\n",
    "\n",
    "    # Constructor\n",
    "    def __init__(self, inbalance):\n",
    "        if (inbalance < 0): # much better!\n",
    "            inbalance = 0\n",
    "        self.balance = inbalance\n",
    "        \n",
    "    def withdraw(self, amount):\n",
    "        self.balance = self.balance - amount\n",
    "        \n",
    "    def deposit(self, amount):\n",
    "        self.balance = self.balance + amount\n",
    "    \n",
    "    def balance(self):\n",
    "        return self.balance"
   ]
  },
  {
   "cell_type": "code",
   "execution_count": null,
   "metadata": {
    "collapsed": false,
    "deletable": true,
    "editable": true
   },
   "outputs": [],
   "source": [
    "a = BankAccount(500)\n",
    "a.deposit(100)\n",
    "a.withdraw(200)\n",
    "print a.balance()"
   ]
  },
  {
   "cell_type": "markdown",
   "metadata": {},
   "source": [
    "Oops, that didn't work right! What happened?\n",
    "\n",
    "The problem is we have a variable 'balance' to hold the amount of money in the account, and a function also named balance(). It's not clear to Python what you are trying to do. A solution is to name things differently."
   ]
  },
  {
   "cell_type": "code",
   "execution_count": null,
   "metadata": {
    "collapsed": true,
    "deletable": true,
    "editable": true
   },
   "outputs": [],
   "source": [
    "class BankAccount:\n",
    "\n",
    "    # Constructor\n",
    "    def __init__(self, inbalance):\n",
    "        if (inbalance < 0): # much better!\n",
    "            inbalance = 0\n",
    "        self.balance = inbalance\n",
    "        \n",
    "    def withdraw(self, amount):\n",
    "        self.balance = self.balance - amount\n",
    "        \n",
    "    def deposit(self, amount):\n",
    "        self.balance = self.balance + amount\n",
    "    \n",
    "    def getBalance(self):\n",
    "        return self.balance"
   ]
  },
  {
   "cell_type": "code",
   "execution_count": null,
   "metadata": {
    "collapsed": false,
    "deletable": true,
    "editable": true
   },
   "outputs": [],
   "source": [
    "a = BankAccount(500)\n",
    "a.deposit(100)\n",
    "a.withdraw(200)\n",
    "print a.getBalance()"
   ]
  },
  {
   "cell_type": "markdown",
   "metadata": {},
   "source": [
    "Note how intuitive the result of **getBalance()** is. What would you naively expect **getBalance()** to do? It does exactly as advertised."
   ]
  },
  {
   "cell_type": "markdown",
   "metadata": {
    "deletable": true,
    "editable": true
   },
   "source": [
    "### Using get() and set() functions\n",
    "\n",
    "We've seen one example of a get() type function to access our object's data (account balance). Why wouldn't you just access the variable balance directly like we did at first?\n",
    "\n",
    "Using functions to get() and set() variables protects your data to ensure that it is modified only in a sensible way. This is particularly relevant if you have multiple programmers working on the same piece of code and you don't want someone else to use your object in the wrong way. Also important to protect yourself from using your piece of code incorrectly in case you've forgotten over time exactly how it works.\n",
    "\n",
    "Here is an example. Let's say our bank account has a monthly interest rate that depends on the amount of savings you have. We can adjust our class definition like so."
   ]
  },
  {
   "cell_type": "code",
   "execution_count": null,
   "metadata": {
    "collapsed": false,
    "deletable": true,
    "editable": true
   },
   "outputs": [],
   "source": [
    "class BankAccount:\n",
    "\n",
    "    # Constructor\n",
    "    def __init__(self, inbalance):\n",
    "        if (inbalance < 0): # much better!\n",
    "            inbalance = 0\n",
    "        self.balance = inbalance\n",
    "        self.setInterestRate()\n",
    "        \n",
    "    def withdraw(self, amount):\n",
    "        self.balance = self.balance - amount\n",
    "        self.setInterestRate()\n",
    "        \n",
    "    def deposit(self, amount):\n",
    "        self.balance = self.balance + amount\n",
    "        self.setInterestRate()\n",
    "    \n",
    "    def getBalance(self):\n",
    "        return self.balance\n",
    "    \n",
    "    # sets the account's interest rate based on the amount of savings it holds\n",
    "    def setInterestRate(self):\n",
    "        if (self.getBalance() < 500):\n",
    "            self.interestrate = 0.0 # no interest, stingy bank\n",
    "        elif (self.getBalance() < 1000):\n",
    "            self.interestrate = 0.01 # 1% interest rate\n",
    "        else:\n",
    "            self.interestrate = 0.02 # 2% interest rate\n",
    "            \n",
    "    def getInterestRate(self):\n",
    "        return self.interestrate"
   ]
  },
  {
   "cell_type": "markdown",
   "metadata": {},
   "source": [
    "Note how when we call **setInterestRate()** inside the class, we do so using **self**. This tells Python to set the interest rate of the *current* object. \n",
    "\n",
    "What happens if we directly access and modify the balance in our account?"
   ]
  },
  {
   "cell_type": "code",
   "execution_count": null,
   "metadata": {
    "collapsed": false
   },
   "outputs": [],
   "source": [
    "a = BankAccount(500)\n",
    "print a.getBalance(), a.getInterestRate()\n",
    "a.balance = a.balance + 100\n",
    "a.balance = a.balance - 200\n",
    "print a.getBalance(), a.getInterestRate()"
   ]
  },
  {
   "cell_type": "markdown",
   "metadata": {},
   "source": [
    "The interest rate doesn't get changed. That's bad.\n",
    "\n",
    "Using the class functions to modify the object's data results in the correct interest rate being set."
   ]
  },
  {
   "cell_type": "code",
   "execution_count": null,
   "metadata": {
    "collapsed": false,
    "deletable": true,
    "editable": true
   },
   "outputs": [],
   "source": [
    "a = BankAccount(500)\n",
    "print a.getBalance(), a.getInterestRate()\n",
    "a.deposit(100)\n",
    "a.withdraw(200)\n",
    "print a.getBalance(), a.getInterestRate()"
   ]
  },
  {
   "cell_type": "markdown",
   "metadata": {},
   "source": [
    "Notice at this point how our BankAccount class has increased in complexity to include interest rates, yet the code using our class to make deposits and withdrawals hasn't become more complicated. This is why classes and objects are useful. By using object oriented programming, the main code doesn't need to deal directly with all the details of how the bank account works. Those details are separated from the main program, and allows you to keep your main code more simple and intuitive."
   ]
  },
  {
   "cell_type": "markdown",
   "metadata": {},
   "source": [
    "### Subclasses\n",
    "\n",
    "Suppose your bank offers multiple bank account types. We don't necessarily need to define all bank accounts from scratch. Instead, since bank accounts have many common elements, we can use one class definition as our base class, and have other classes that extend (or *inherit*) from it.\n",
    "\n",
    "Let's suppose our bank offers a savings account with a high interest rate, but making withdrawals incurs a $5 fee. We can subclass our existing BankAccount class, and modify only the bits we need. You can also add new variables or functions when subclassing."
   ]
  },
  {
   "cell_type": "code",
   "execution_count": null,
   "metadata": {
    "collapsed": true
   },
   "outputs": [],
   "source": [
    "class SavingsAccount(BankAccount):\n",
    "    \n",
    "    def withdraw(self, amount):\n",
    "        self.balance -= 5  # withdrawal ffee\n",
    "        BankAccount.withdraw(self, amount)\n",
    "        \n",
    "    def setInterestRate(self):\n",
    "        self.interestrate = 0.05 # always have 5% interest rate, regardless of balance\n",
    "        "
   ]
  },
  {
   "cell_type": "code",
   "execution_count": null,
   "metadata": {
    "collapsed": false
   },
   "outputs": [],
   "source": [
    "a = BankAccount(500)\n",
    "b = SavingsAccount(500)\n",
    "a.deposit(100)\n",
    "b.deposit(100)\n",
    "a.withdraw(200)\n",
    "b.withdraw(200)\n",
    "print a.getBalance(), a.getInterestRate()\n",
    "print b.getBalance(), b.getInterestRate()"
   ]
  },
  {
   "cell_type": "markdown",
   "metadata": {},
   "source": [
    "Note how we can access the base function **withdraw()** from BankAccount using BankAccount.withdraw(). We have to include **self** in this case. \n",
    "\n",
    "Our new withdrawal function incurs the withdrawal fee then calls the function of our base class to continue the withdrawal as normal (which also sets the interest rate). \n",
    "\n",
    "If you're wondering why SavingsAccount doesn't have an **\\_\\_init\\_\\_()** function, or how it was able to deposit whithout defining a **deposit()** function, this is because it inherits from the base class BankAccount. SavingsAccount will use the functions of BankAccount by default when they aren't explicitly defined."
   ]
  },
  {
   "cell_type": "markdown",
   "metadata": {
    "deletable": true,
    "editable": true
   },
   "source": [
    "### Special methods\n",
    "\n",
    "We've already seen one example of a special function in classes: **\\_\\_init\\_\\_()**. \n",
    "\n",
    "Another one is **\\_\\_str\\_\\_()**. This function is called when you try to print your object.\n",
    "\n",
    "Let's see what happens when you try printing an object without this function defined."
   ]
  },
  {
   "cell_type": "code",
   "execution_count": null,
   "metadata": {
    "collapsed": false,
    "deletable": true,
    "editable": true
   },
   "outputs": [],
   "source": [
    "print a"
   ]
  },
  {
   "cell_type": "markdown",
   "metadata": {
    "deletable": true,
    "editable": true
   },
   "source": [
    "Well that's not particularly informative for a user. Let's make a more useful print function for our bank account. But what should it print exactly? How about a summary of our account status?"
   ]
  },
  {
   "cell_type": "code",
   "execution_count": null,
   "metadata": {
    "collapsed": false,
    "deletable": true,
    "editable": true
   },
   "outputs": [],
   "source": [
    "class BankAccount:\n",
    "    \n",
    "    # Constructor\n",
    "    def __init__(self, inbalance):\n",
    "        if (inbalance < 0): # much better!\n",
    "            inbalance = 0\n",
    "        self.balance = inbalance\n",
    "        self.setInterestRate()\n",
    "        \n",
    "    def withdraw(self, amount):\n",
    "        self.balance = self.balance - amount\n",
    "        self.setInterestRate()\n",
    "        \n",
    "    def deposit(self, amount):\n",
    "        self.balance = self.balance + amount\n",
    "        self.setInterestRate()\n",
    "    \n",
    "    def getBalance(self):\n",
    "        return self.balance\n",
    "\n",
    "    # sets the account's interest rate based on the amount of savings it holds\n",
    "    def setInterestRate(self):\n",
    "        if (self.getBalance() < 500):\n",
    "            self.interestrate = 0.0 # no interest, stingy bank\n",
    "        elif (self.getBalance() < 1000):\n",
    "            self.interestrate = 0.01 # 1% interest rate\n",
    "        else:\n",
    "            self.interestrate = 0.02 # 2% interest rate\n",
    "            \n",
    "    def getInterestRate(self):\n",
    "        return self.interestrate\n",
    "    \n",
    "    # Returns the string to be printed\n",
    "    def __str__(self):\n",
    "        return \"Current balance of $\" + str(self.getBalance()) + \" and interest rate \" + str(self.getInterestRate())\n",
    "    \n",
    "    # Returns a new object that is the addition of two bank accounts. \n",
    "    # We define exactly how these accounts are merged here.\n",
    "    def __add__(self, other):\n",
    "        return BankAccount(self.getBalance() + other.getBalance()) # call constructor to make a new object"
   ]
  },
  {
   "cell_type": "code",
   "execution_count": null,
   "metadata": {
    "collapsed": false,
    "deletable": true,
    "editable": true
   },
   "outputs": [],
   "source": [
    "a = BankAccount(500)\n",
    "print a"
   ]
  },
  {
   "cell_type": "markdown",
   "metadata": {
    "collapsed": false,
    "deletable": true,
    "editable": true
   },
   "source": [
    "Another special function is **\\_\\_add\\_\\_()**. This tells Python what to do when you try to add two objects together. You can see that one way to add these objects has already been implemented. Let's give it a try."
   ]
  },
  {
   "cell_type": "code",
   "execution_count": null,
   "metadata": {
    "collapsed": false,
    "deletable": true,
    "editable": true
   },
   "outputs": [],
   "source": [
    "a = BankAccount(500)\n",
    "b = BankAccount(650)\n",
    "c = a + b\n",
    "print c.getBalance(), c.getInterestRate()"
   ]
  },
  {
   "cell_type": "markdown",
   "metadata": {
    "deletable": true,
    "editable": true
   },
   "source": [
    "When we executed 'a + b', Python ran our **\\_\\_add\\_\\_()** method. The result was assigned as the new object 'c'."
   ]
  },
  {
   "cell_type": "markdown",
   "metadata": {
    "collapsed": false,
    "deletable": true,
    "editable": true
   },
   "source": [
    "### Activity\n",
    "\n",
    "In the following, there is a partial implementation of a transaction history of all deposits and withdrawls for the BankAccount class. Some parts are missing. Can you figure out what they are and get it to work?"
   ]
  },
  {
   "cell_type": "code",
   "execution_count": null,
   "metadata": {
    "collapsed": false,
    "deletable": true,
    "editable": true
   },
   "outputs": [],
   "source": [
    "class BankAccount:\n",
    "    \n",
    "    # Constructor\n",
    "    def __init__(self, inbalance):\n",
    "        if (inbalance < 0): # much better!\n",
    "            inbalance = 0\n",
    "        self.balance = inbalance\n",
    "        self.setInterestRate()\n",
    "        self.historyType = [] # the type of transaction\n",
    "        self.historyAmount = [] # the amount of the transaction\n",
    "        \n",
    "    def withdraw(self, amount):\n",
    "        self.balance = self.balance - amount\n",
    "        self.setInterestRate()\n",
    "        self.historyType.append(\"withdrawal\") # record a new transaction of type deposit\n",
    "        self.historyAmount.append(amount) # record the amount of the deposit \n",
    "        \n",
    "    def deposit(self, amount):\n",
    "        self.balance = self.balance + amount\n",
    "        self.setInterestRate()\n",
    "        # something should go here!\n",
    "    \n",
    "    def getBalance(self):\n",
    "        return self.balance\n",
    "\n",
    "    # sets the account's interest rate based on the amount of savings it holds\n",
    "    def setInterestRate(self):\n",
    "        if (self.getBalance() < 500):\n",
    "            self.interestrate = 0.0 # no interest, stingy bank\n",
    "        elif (self.getBalance() < 1000):\n",
    "            self.interestrate = 0.01 # 1% interest rate\n",
    "        else:\n",
    "            self.interestrate = 0.02 # 2% interest rate\n",
    "            \n",
    "    def getInterestRate(self):\n",
    "        return self.interestrate\n",
    "    \n",
    "    # Returns the string to be printed\n",
    "    def __str__(self):\n",
    "        return \"Current balance of $\" + str(self.getBalance()) + \" and interest rate \" + str(self.getInterestRate())\n",
    "    \n",
    "    # Returns a new object that is the addition of two bank accounts. \n",
    "    # We define exactly how these accounts are merged here.\n",
    "    def __add__(self, other):\n",
    "        return BankAccount(self.getBalance() + other.getBalance()) # call constructor to make a new object\n",
    "    \n",
    "    # print a summary of all transactions that have occured for this account\n",
    "    def printTransactionHistory(self):\n",
    "        print \"Transaction History:\"\n",
    "        # This needs to be filled in!\n",
    "        "
   ]
  },
  {
   "cell_type": "code",
   "execution_count": null,
   "metadata": {
    "collapsed": false,
    "deletable": true,
    "editable": true
   },
   "outputs": [],
   "source": [
    "a = BankAccount(500)\n",
    "a.deposit(50)\n",
    "a.printTransactionHistory()"
   ]
  }
 ],
 "metadata": {
  "kernelspec": {
   "display_name": "Python 2",
   "language": "python",
   "name": "python2"
  },
  "language_info": {
   "codemirror_mode": {
    "name": "ipython",
    "version": 2
   },
   "file_extension": ".py",
   "mimetype": "text/x-python",
   "name": "python",
   "nbconvert_exporter": "python",
   "pygments_lexer": "ipython2",
   "version": "2.7.13"
  }
 },
 "nbformat": 4,
 "nbformat_minor": 2
}

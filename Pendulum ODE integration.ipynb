{
 "cells": [
  {
   "cell_type": "markdown",
   "metadata": {},
   "source": [
    "# Test various python ordinary differential equation (ODE) solvers\n",
    "## Test them on the ODE for a pendulum"
   ]
  },
  {
   "cell_type": "code",
   "execution_count": null,
   "metadata": {},
   "outputs": [],
   "source": [
    "# For odeint, look at https://apmonitor.com/pdc/index.php/Main/SolveDifferentialEquations\n",
    "import numpy as np\n",
    "from scipy.integrate import odeint, RK45, solve_ivp\n",
    "import matplotlib.pyplot as plt\n",
    "import time"
   ]
  },
  {
   "cell_type": "markdown",
   "metadata": {},
   "source": [
    "# Definitions"
   ]
  },
  {
   "cell_type": "markdown",
   "metadata": {},
   "source": [
    "## The Hamiltonian pendulum\n",
    "### $L = \\frac{1}{2} m (l\\dot\\theta)^2 - mgl(1-\\cos\\theta)$\n",
    "### $p = \\partial L/\\partial \\dot\\theta = m l^2 \\dot\\theta$\n",
    "### $H = p\\dot\\theta - L = \\frac{p^2}{2ml^2} - mgl\\cos\\theta$\n",
    "### $\\frac{d\\theta}{dt}= \\frac{\\partial H}{\\partial p} = \\frac{p}{ml^2}$\n",
    "### $\\frac{d p}{dt} = -\\frac{\\partial H}{\\partial \\theta} = -mgl\\sin\\theta$"
   ]
  },
  {
   "cell_type": "markdown",
   "metadata": {},
   "source": [
    "# Define a function that returns $d{\\bf y}/dt$, where ${\\bf y}=(\\theta, p)$."
   ]
  },
  {
   "cell_type": "code",
   "execution_count": null,
   "metadata": {},
   "outputs": [],
   "source": [
    "# function that returns dy/dt\n",
    "# The integrators want a function of the form f(t,y), but usually f = f(t,y, a,b,c)\n",
    "# This can be handled by using a Lamda function, or by using a wrapper, or, for solve_ivp\n",
    "# by using 'args=(a,b,cv)'.\n",
    "#\n",
    "# def model(y,t,m,g,l): \n",
    "def model_t_first(t,y,m,g,l): # odeint needs the order (y,t), setting tfirst = True reverses the order\n",
    "    # For this version, set tfirst = True\n",
    "    # A Hamiltonian formulation of a pendulum, H = 1/2 P^2/(ml^2) -mgl cos(theta)\n",
    "    # d\\theta /dt = p / (ml^2),  y[0] = \\theta, y[1] = p\n",
    "    # dp/dt = -mgl sin(\\theta)\n",
    "    theta, p = y\n",
    "    dydt = [ p /(m * l**2),  \\\n",
    "            -m * g * l * np.sin(theta) ]\n",
    "    return dydt\n",
    "\n",
    "# Unlike solve_ivp (or most python functions), odeint needs the order (y,t)\n",
    "def model_y_first(y,t,m,g,l): # odeint needs the order (y,t), setting tfirst = True reverses the order\n",
    "    # For this version, tfirst should be set False\n",
    "    # A Hamiltonian formulation of a pendulum, H = 1/2 P^2/(ml^2) -mgl cos(theta)\n",
    "    # d\\theta /dt = p / (ml^2),  y[0] = \\theta, y[1] = p\n",
    "    # dp/dt = -mgl sin(\\theta)\n",
    "    theta, p = y\n",
    "    dydt = [ p /(m * l**2),  \\\n",
    "            -m * g * l * np.sin(theta) ]\n",
    "    return dydt\n",
    "\n",
    "# Or using a wrapper\n",
    "def dydt_wrapper(t, y):\n",
    "    dydt = model_t_first(t, y, m, g, l)\n",
    "    return(dydt)"
   ]
  },
  {
   "cell_type": "markdown",
   "metadata": {},
   "source": [
    "## Some useful functions\n",
    "### The energy $E = \\frac{1}{2}\\frac{p^2}{ml^2} - mgl\\cos\\theta$\n",
    "### my_mod keeps $\\theta\\in(-\\pi,\\pi)$"
   ]
  },
  {
   "cell_type": "code",
   "execution_count": null,
   "metadata": {},
   "outputs": [],
   "source": [
    "def energy(y):\n",
    "    theta = y[:,0]\n",
    "    p     = y[:,1]\n",
    "    kinetic_energy = 0.5 * p**2 / (m * l**2)\n",
    "    potential_energy = -m * g * l * np.cos(theta)\n",
    "    return(kinetic_energy, potential_energy, kinetic_energy + potential_energy)\n",
    "\n",
    "def energy4(theta, p):\n",
    "    kinetic_energy = 0.5 * p**2 / (m * l**2)\n",
    "    potential_energy = -m * g * l * np.cos(theta)\n",
    "    return(kinetic_energy, potential_energy, kinetic_energy + potential_energy)\n",
    "\n",
    "def my_mod(theta): # Ensure that angles are in the range (-pi, pi) for phase space plots\n",
    "    theta = np.mod(theta, 2.*np.pi)\n",
    "    theta = np.where(theta > np.pi, theta - 2.*np.pi, theta)\n",
    "    theta = np.where(theta < - np.pi, theta + 2.*np.pi, theta)\n",
    "    return(theta)"
   ]
  },
  {
   "cell_type": "markdown",
   "metadata": {},
   "source": [
    "## On the separatrix, $H = H(\\pi,0) = E_{sep}= mgl$,\n",
    "## while the maximum $p$ is given by $E_{sep} = \\frac{p^2}{ml^2} + mgl$\n",
    "## or $p_{sep} = \\pm\\sqrt{4ml^2E_{sep}}$"
   ]
  },
  {
   "cell_type": "code",
   "execution_count": null,
   "metadata": {},
   "outputs": [],
   "source": [
    "# parameters\n",
    "m = 100.  # grams\n",
    "l = 10.   # cm\n",
    "g = 980.  # cm / s^2\n",
    "\n",
    "period = 2. * np.pi * np.sqrt(l/g)\n",
    "print('Period of small oscillations= {0:2.2e} seconds'.format(period))\n",
    "\n",
    "E_sep = m*g*l\n",
    "p_sep = np.sqrt(4. * m * l**2 * E_sep)\n",
    "print('Separatrix energy = {0:2.2e}'.format(E_sep))\n",
    "print('Potential energy scale = mgl= {0:2.2e}'.format(m*g*l))"
   ]
  },
  {
   "cell_type": "markdown",
   "metadata": {},
   "source": [
    "# Initial conditions and time span\n",
    "## We will integrate for times the period of small oscillations "
   ]
  },
  {
   "cell_type": "code",
   "execution_count": null,
   "metadata": {},
   "outputs": [],
   "source": [
    "# time points\n",
    "num_periods = 40\n",
    "t_eval = np.linspace(0, num_periods * period, num = 5000) # The integrators put out y(t) at these times\n",
    "t_span = [t_eval[0], t_eval[-1] ] # Begining and ending values of the time\n",
    "\n",
    "# initial condition\n",
    "y_sep = [ np.pi , 0.] # Very near the separatrix\n",
    "y0 = [0.1 * np.pi , 0. ] # Near the stable fixed point\n",
    "y_rotate = [0., 1.01 * p_sep] # Rotating, E just above E_separatrix\n",
    "y_rotate_m = [0., -1.01 * p_sep] # Rotating, E just below E_separatrix\n",
    "#\n",
    "#\n",
    "initial_KE, initial_PE, initial_Energy = energy4(y0[0], y0[1])\n",
    "print('initial PE, KE, Energy = ', initial_PE, initial_KE, initial_Energy)"
   ]
  },
  {
   "cell_type": "markdown",
   "metadata": {},
   "source": [
    "# Run the ODE solvers\n",
    "## Start with the old fasioned odeint"
   ]
  },
  {
   "cell_type": "code",
   "execution_count": null,
   "metadata": {},
   "outputs": [],
   "source": [
    "## Maximum errors (supposedly)\n",
    "atol = [3.e-12, 3.e-12]\n",
    "rtol = 3.e-12\n",
    "\n",
    "# solve ODEs\n",
    "\n",
    "# default rtol = atol = 1.5e-8, according to the online documentaion\n",
    "print('rtol = {0}, atol = {1}'.format(rtol, atol))\n",
    "\n",
    "# Call odeint using 'args=()'\n",
    "y1_small, dict_ode = odeint(model_y_first, y0, t_eval, args=(m, g, l), \\\n",
    "                      full_output=True, rtol = rtol, atol = atol)   #Standard odeint function, f(y,t)\n",
    "\n",
    "# Again, returning more information\n",
    "y2,dict_ode2 = odeint(model_t_first, y0, t_eval, args=(m, g, l), \\\n",
    "                      rtol = rtol, atol = atol, full_output=True, tfirst = True) #non-odeint standard function, f(t,y)\n",
    "#print('now t=', t)\n",
    "print('rtol = {0}, atol = {1}'.format(rtol, atol))\n",
    "\n",
    "#Timing stuff\n",
    "start_odeint = time.time()\n",
    "#\n",
    "y1_sep = odeint(model_y_first, y_sep, t_eval,  args=(m, g, l), \\\n",
    "                       rtol = rtol, atol = atol)  \n",
    "end_odeint = time.time()\n",
    "run_time_odeint = end_odeint - start_odeint\n",
    "print('\\n', 'Odeint separatrix run time = {0:2.2e}'.format(run_time_odeint), '\\n')\n",
    "\n",
    "# Find rotating motion (rather than the librations found above)\n",
    "#\n",
    "y1_rotation = odeint(model_y_first, y_rotate, t_eval, args=(m, g, l), \\\n",
    "                       rtol = rtol, atol = atol) \n",
    "\n",
    "y1_rotation_m = odeint(model_y_first, y_rotate_m, t_eval, args=(m, g, l), \\\n",
    "                       rtol = rtol, atol = atol) \n",
    "# #\n",
    "# #\n"
   ]
  },
  {
   "cell_type": "markdown",
   "metadata": {},
   "source": [
    "# Use the new (and improved?) solve_ivp routine"
   ]
  },
  {
   "cell_type": "code",
   "execution_count": null,
   "metadata": {},
   "outputs": [],
   "source": [
    "# Now try the new scipy ode integrator solve_ivp\n",
    "#Default values are 1e-3 for rtol and 1e-6 for atol.\n",
    "#\n",
    "# Time solve_ivp, to compare to ODEint\n",
    "#\n",
    "#\n",
    "start_ivp = time.time()\n",
    "sol_sep = solve_ivp(fun=lambda t, y: model_t_first(t, y, m, g, l), t_span = t_span, \\\n",
    "                y0 = y_sep, t_eval = t_eval, rtol = rtol, atol = atol)\n",
    "end_ivp = time.time()\n",
    "run_time_ivp = end_ivp - start_ivp\n",
    "#\n",
    "#\n",
    "print('\\n', 'Odeint separatrix run time = {0:2.2e}'.format(run_time_odeint), '\\n')\n",
    "\n",
    "print('\\n', 'ivp run time = {0:2.2e}'.format(run_time_ivp), '\\n')\n",
    "#\n",
    "#\n",
    "sol_small = solve_ivp(fun=lambda t, y: model_t_first(t, y, m, g, l), t_span = t_span, \\\n",
    "                y0 = y0, t_eval = t_eval, rtol = rtol, atol = atol)\n",
    "sol_rotation = solve_ivp(fun=lambda t, y: model_t_first(t, y, m, g, l), t_span = t_span, \\\n",
    "                y0 = y_rotate, t_eval = t_eval, rtol = rtol, atol = atol)\n",
    "#\n",
    "# Using a wrapper for the function\n",
    "#\n",
    "sol_rotation_m = solve_ivp(dydt_wrapper, t_span = t_span, \\\n",
    "                y0 = y_rotate_m, t_eval = t_eval, rtol = rtol, atol = atol)\n",
    "#\n",
    "#\n",
    "theta_sep = sol_sep.y[0,:]\n",
    "p_sep = sol_sep.y[1,:]\n",
    "theta_small = sol_small.y[0,:]\n",
    "p_small = sol_small.y[1,:]\n",
    "#\n",
    "theta_rotation = sol_rotation.y[0,:]\n",
    "p_rotation = sol_rotation.y[1,:]\n",
    "theta_rotation_m = sol_rotation_m.y[0,:]\n",
    "p_rotation_m = sol_rotation_m.y[1,:]\n",
    "#\n",
    "t4 = sol_sep.t"
   ]
  },
  {
   "cell_type": "markdown",
   "metadata": {},
   "source": [
    "# restrict $\\theta$ to (-$\\pi$, $\\pi$)"
   ]
  },
  {
   "cell_type": "code",
   "execution_count": null,
   "metadata": {},
   "outputs": [],
   "source": [
    "#The odeint solution first\n",
    "theta1_sep = my_mod(y1_sep[:,0])\n",
    "theta1_small = my_mod(y1_small[:,0])\n",
    "theta1_rotation = my_mod(y1_rotation[:,0])\n",
    "theta1_rotation_m = my_mod(y1_rotation_m[:,0])\n",
    "#\n",
    "#Now the solve_ivp solution\n",
    "theta_sep = my_mod(theta_sep)\n",
    "theta_small = my_mod(theta_small)\n",
    "theta_rotation = my_mod(theta_rotation)\n",
    "theta_rotation_m = my_mod(theta_rotation_m)"
   ]
  },
  {
   "cell_type": "code",
   "execution_count": null,
   "metadata": {},
   "outputs": [],
   "source": [
    "# plot results; theta(t) first\n",
    "#\n",
    "plt.plot(t_eval,theta_sep,'g--',linewidth=2,)\n",
    "#\n",
    "plt.xlabel('time')\n",
    "plt.ylabel(r'$\\theta$ (radians)')\n",
    "# plt.legend()\n",
    "plt.show()"
   ]
  },
  {
   "cell_type": "code",
   "execution_count": null,
   "metadata": {},
   "outputs": [],
   "source": [
    "# Now p(t); note that we are not quite on the separatrix.\n",
    "# If we were p(t) would take infinite time to go 0+ to 0+\n",
    "\n",
    "plt.plot(t_eval, p_sep,'g--',linewidth=2,)\n",
    "#\n",
    "plt.xlabel('time')\n",
    "plt.ylabel(r'$p\\, (g\\,cm^2\\, s^{-1}$')\n",
    "# plt.legend()\n",
    "plt.show()"
   ]
  },
  {
   "cell_type": "markdown",
   "metadata": {},
   "source": [
    "# Plot the phase space; the odeint results first"
   ]
  },
  {
   "cell_type": "code",
   "execution_count": null,
   "metadata": {},
   "outputs": [],
   "source": [
    "# plot results from odeint\n",
    "plt.plot(theta1_sep, y1_sep[:,1], ',')\n",
    "plt.plot(theta1_small, y1_small[:,1], ',')\n",
    "plt.plot(theta1_rotation, y1_rotation[:,1], ',')\n",
    "plt.plot(theta1_rotation_m, y1_rotation_m[:,1], ',')\n",
    "\n",
    "plt.xlim(-np.pi, np.pi)\n",
    "plt.xlabel(r'$\\theta$')\n",
    "plt.ylabel('$p$')\n",
    "# plt.legend()\n",
    "plt.show()"
   ]
  },
  {
   "cell_type": "markdown",
   "metadata": {},
   "source": [
    "# Now plot the solve_ivp results\n",
    "## They are very similar to the odeint results"
   ]
  },
  {
   "cell_type": "code",
   "execution_count": null,
   "metadata": {},
   "outputs": [],
   "source": [
    "# plot results from solve_ivp\n",
    "#\n",
    "plt.plot(theta_sep, p_sep, ',')\n",
    "plt.plot(theta_small, p_small,',')\n",
    "plt.plot(theta_rotation, p_rotation,',')\n",
    "plt.plot(theta_rotation_m, p_rotation_m,',')\n",
    "\n",
    "plt.xlim(-np.pi, np.pi)\n",
    "plt.xlabel(r'$\\theta$')\n",
    "plt.ylabel('$p$')\n",
    "# plt.legend()\n",
    "plt.show()"
   ]
  },
  {
   "cell_type": "markdown",
   "metadata": {},
   "source": [
    "# Plot the energy to see how accurate the integrator is"
   ]
  },
  {
   "cell_type": "code",
   "execution_count": null,
   "metadata": {},
   "outputs": [],
   "source": [
    "# plot the energy versus time\n",
    "KE, PE, Energy = energy(y1_sep)\n",
    "Energy_error = (Energy - Energy[0]) / Energy[0]\n",
    "plt.plot(t_eval, Energy_error, color='red')\n",
    "\n",
    "KE4, PE4, Energy4 = energy4(sol_sep.y[0,:], sol_sep.y[1,:])\n",
    "Energy_error4 = (Energy4 - Energy4[0]) / Energy4[0]\n",
    "plt.plot(t_eval, Energy_error4, color = 'green')\n",
    "\n",
    "plt.xlabel(r'$t$ (sec)')\n",
    "plt.ylabel(r'$ \\Delta E\\,/\\,E$')\n",
    "# plt.legend()\n",
    "plt.show()"
   ]
  },
  {
   "cell_type": "code",
   "execution_count": null,
   "metadata": {},
   "outputs": [],
   "source": []
  }
 ],
 "metadata": {
  "kernelspec": {
   "display_name": "Python 3",
   "language": "python",
   "name": "python3"
  },
  "language_info": {
   "codemirror_mode": {
    "name": "ipython",
    "version": 3
   },
   "file_extension": ".py",
   "mimetype": "text/x-python",
   "name": "python",
   "nbconvert_exporter": "python",
   "pygments_lexer": "ipython3",
   "version": "3.7.2"
  }
 },
 "nbformat": 4,
 "nbformat_minor": 2
}

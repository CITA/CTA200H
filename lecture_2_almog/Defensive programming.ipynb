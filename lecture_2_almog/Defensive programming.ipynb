{
  "cells": [
    {
      "metadata": {
        "collapsed": true
      },
      "cell_type": "markdown",
      "source": "# Introduction\n\nThat's a strange name for a topic - \"defensive programming\" - defence against what? Well, bugs of course. Experience has shown that in most projects the majority of development time is spent debugging. For this reason, it is highly desirable to follow practices that minimise the number of bugs. In this notebook I will introduce a number of tried and true methods for avoiding bugs. It does require extra work, but your future self will thank you.\n\nThis notebook is by no means an exhaustive review of all good practices, but it's a good place to start. The idea here is to introduce some important concepts, about which you can read more later, and adapt to your particular application."
    },
    {
      "metadata": {},
      "cell_type": "markdown",
      "source": "# Design"
    },
    {
      "metadata": {},
      "cell_type": "markdown",
      "source": "The path to a less buggy code starts before you even touch your keyboard. I would go so far as to say that planning is as important, if not more important, than the actual coding. We are usually tasked with some complex problem we hope we can solve using a computer. The way to go about it is to divide this problem into multiple smaller and manageable problems. Unfortunately, there is no magic recipe that tells you the best way to do it. There are, however, a number of widely accepted design principles\n\n* Resist the temptation to write everything yourself and opt for an existing library whenever possible\n\n* [Keep it Simple, Stupid](https://en.wikipedia.org/wiki/KISS_principle)\n\n* [Don't repeat yourself](https://en.wikipedia.org/wiki/Don%27t_repeat_yourself)\n\n* [Separation of Cencerns](https://en.wikipedia.org/wiki/Separation_of_concerns)\n\n* [Single Responsibility Principle](https://en.wikipedia.org/wiki/Single_responsibility_principle)\n\n* [Meaningful variable names](https://medium.com/coding-skills/clean-code-101-meaningful-names-and-functions-bf450456d90c)\n\n* [Open/Closed principle](https://en.wikipedia.org/wiki/Open%E2%80%93closed_principle) - You should write function and classes in such a way that they can be extended without editing the source\n\n* Be aware of the viewing space. Avoid line wrapping and functions whose bodies cannot fit a single screen.\n\n* Choose and adhere to a coding standard\n\nAnother good source for ideas for good design are [Object Calisthenics](https://williamdurand.fr/2013/06/03/object-calisthenics/). In my opinion, they represent an unfeasible, unatainable ideal. However, Striving toward this ideal will more often than not improve your code.\n\nFinally, you can also draw inspiration for good design from the so called Zen of Python"
    },
    {
      "metadata": {
        "trusted": true
      },
      "cell_type": "code",
      "source": "import this",
      "execution_count": 1,
      "outputs": [
        {
          "output_type": "stream",
          "text": "The Zen of Python, by Tim Peters\n\nBeautiful is better than ugly.\nExplicit is better than implicit.\nSimple is better than complex.\nComplex is better than complicated.\nFlat is better than nested.\nSparse is better than dense.\nReadability counts.\nSpecial cases aren't special enough to break the rules.\nAlthough practicality beats purity.\nErrors should never pass silently.\nUnless explicitly silenced.\nIn the face of ambiguity, refuse the temptation to guess.\nThere should be one-- and preferably only one --obvious way to do it.\nAlthough that way may not be obvious at first unless you're Dutch.\nNow is better than never.\nAlthough never is often better than *right* now.\nIf the implementation is hard to explain, it's a bad idea.\nIf the implementation is easy to explain, it may be a good idea.\nNamespaces are one honking great idea -- let's do more of those!\n",
          "name": "stdout"
        }
      ]
    },
    {
      "metadata": {
        "trusted": true
      },
      "cell_type": "markdown",
      "source": "# Documentation"
    },
    {
      "metadata": {},
      "cell_type": "markdown",
      "source": "If you are working with other people, or intend for your code to be used by other people, then it goes without saying that you must document your code. However, I argue that you need to document your code even if you are the only one using it. The reason is that your future self will not remember how to use the code. "
    },
    {
      "metadata": {},
      "cell_type": "markdown",
      "source": "As a rule of thumb, when it comes to documentation, more is better. The bare minimum for a documentation for a function is\n1. A short description\n2. Description of the arguments\n3. Description of the output\n\nPython [docstring](https://www.python.org/dev/peps/pep-0257/) feature makes the documentation available also via the interactive shell (see example below)"
    },
    {
      "metadata": {
        "trusted": true
      },
      "cell_type": "code",
      "source": "def is_even(num):\n    \n    \"\"\"Checks if a number is even\n    \n    Parameters:\n    num - An integer\n        \n    Returns:\n    True if num is even, False otherwise    \n    \"\"\"\n    \n    return num%2==0\n\n[is_even(4), is_even(3)]",
      "execution_count": 1,
      "outputs": [
        {
          "output_type": "execute_result",
          "execution_count": 1,
          "data": {
            "text/plain": "[True, False]"
          },
          "metadata": {}
        }
      ]
    },
    {
      "metadata": {},
      "cell_type": "markdown",
      "source": "The documentation can be shown using the ```help``` function"
    },
    {
      "metadata": {
        "trusted": true
      },
      "cell_type": "code",
      "source": "help(is_even)",
      "execution_count": 2,
      "outputs": [
        {
          "output_type": "stream",
          "text": "Help on function is_even in module __main__:\n\nis_even(num)\n    Checks if a number is even\n    \n    Parameters:\n    num - An integer\n        \n    Returns:\n    True if num is even, False otherwise\n\n",
          "name": "stdout"
        }
      ]
    },
    {
      "metadata": {},
      "cell_type": "markdown",
      "source": "I'd like to end with one word of caution. The code is alive while the documentation is not. Be sure to change the documentation when you change the code."
    },
    {
      "metadata": {},
      "cell_type": "markdown",
      "source": "# Test Driven Development"
    },
    {
      "metadata": {},
      "cell_type": "markdown",
      "source": "Most people, if they test their code at all, write their tests after they've written the code. In this section I will make the case for writing the tests **before** you write the code. This approach is called test driven development. Besides catching bugs early on, the benefit for this approach is that it forces you to think about the interface, while most developers would be preoccupied with the implementation. Below is a demonstration of this approach, using the [unittest](https://docs.python.org/3/library/unittest.html) package."
    },
    {
      "metadata": {},
      "cell_type": "markdown",
      "source": "Suppose we want to write a function that checks if an integer divides three. We begin with the declaration of a function that does not do anything, and a test that fails"
    },
    {
      "metadata": {
        "trusted": true
      },
      "cell_type": "code",
      "source": "import unittest\n\ndef is_div_three(num):\n    \n    pass\n\nclass TestIsDivThree(unittest.TestCase):\n\n    def test_3(self):\n        self.assertEqual(is_div_three(3),True)\n    def test_4(self):\n        self.assertEqual(is_div_three(4),False)\n\nunittest.main(argv=[''], verbosity=2, exit=False)",
      "execution_count": 3,
      "outputs": [
        {
          "output_type": "stream",
          "text": "test_3 (__main__.TestIsDivThree) ... FAIL\ntest_4 (__main__.TestIsDivThree) ... FAIL\n\n======================================================================\nFAIL: test_3 (__main__.TestIsDivThree)\n----------------------------------------------------------------------\nTraceback (most recent call last):\n  File \"<ipython-input-3-e1e85a88bf75>\", line 10, in test_3\n    self.assertEqual(is_div_three(3),True)\nAssertionError: None != True\n\n======================================================================\nFAIL: test_4 (__main__.TestIsDivThree)\n----------------------------------------------------------------------\nTraceback (most recent call last):\n  File \"<ipython-input-3-e1e85a88bf75>\", line 12, in test_4\n    self.assertEqual(is_div_three(4),False)\nAssertionError: None != False\n\n----------------------------------------------------------------------\nRan 2 tests in 0.008s\n\nFAILED (failures=2)\n",
          "name": "stderr"
        },
        {
          "output_type": "execute_result",
          "execution_count": 3,
          "data": {
            "text/plain": "<unittest.main.TestProgram at 0x7ff9695f7e10>"
          },
          "metadata": {}
        }
      ]
    },
    {
      "metadata": {},
      "cell_type": "markdown",
      "source": "The next phase is to implement the function. After this stage, hopefully all the tests pass. If not, then the function or the test need to be fixed."
    },
    {
      "metadata": {
        "trusted": true
      },
      "cell_type": "code",
      "source": "import unittest\n\ndef is_div_three(num):\n    \n    return num%3 == 0\n\nclass TestIsDivThree(unittest.TestCase):\n\n    def test_3(self):\n        self.assertEqual(is_div_three(3),True)\n    def test_4(self):\n        self.assertEqual(is_div_three(4),False)\n\nunittest.main(argv=[''], verbosity=2, exit=False)",
      "execution_count": 4,
      "outputs": [
        {
          "output_type": "stream",
          "text": "test_3 (__main__.TestIsDivThree) ... ok\ntest_4 (__main__.TestIsDivThree) ... ok\n\n----------------------------------------------------------------------\nRan 2 tests in 0.002s\n\nOK\n",
          "name": "stderr"
        },
        {
          "output_type": "execute_result",
          "execution_count": 4,
          "data": {
            "text/plain": "<unittest.main.TestProgram at 0x7ff9695575c0>"
          },
          "metadata": {}
        }
      ]
    },
    {
      "metadata": {},
      "cell_type": "markdown",
      "source": "Another good rule of thumb for writing tests is that once a bug was found and fixed, one should write a test that makes sure that the  bug does not recur."
    },
    {
      "metadata": {},
      "cell_type": "markdown",
      "source": "# Exceptions"
    },
    {
      "metadata": {
        "trusted": true
      },
      "cell_type": "markdown",
      "source": "One way to spot errors early on is by checking if the data is valid. This can be done using assertions"
    },
    {
      "metadata": {
        "trusted": true
      },
      "cell_type": "code",
      "source": "def div_by_four(num):\n    \n    assert(type(num)==type(1))\n    \n    return num%4==0\n\nprint(div_by_four(4))\nprint(div_by_four(1))\nprint(div_by_four('four'))",
      "execution_count": 3,
      "outputs": [
        {
          "output_type": "stream",
          "text": "True\nFalse\n",
          "name": "stdout"
        },
        {
          "output_type": "error",
          "ename": "AssertionError",
          "evalue": "",
          "traceback": [
            "\u001b[0;31m---------------------------------------------------------------------------\u001b[0m",
            "\u001b[0;31mAssertionError\u001b[0m                            Traceback (most recent call last)",
            "\u001b[0;32m<ipython-input-3-1df88536b087>\u001b[0m in \u001b[0;36m<module>\u001b[0;34m\u001b[0m\n\u001b[1;32m      7\u001b[0m \u001b[0mprint\u001b[0m\u001b[0;34m(\u001b[0m\u001b[0mdiv_by_four\u001b[0m\u001b[0;34m(\u001b[0m\u001b[0;36m4\u001b[0m\u001b[0;34m)\u001b[0m\u001b[0;34m)\u001b[0m\u001b[0;34m\u001b[0m\u001b[0m\n\u001b[1;32m      8\u001b[0m \u001b[0mprint\u001b[0m\u001b[0;34m(\u001b[0m\u001b[0mdiv_by_four\u001b[0m\u001b[0;34m(\u001b[0m\u001b[0;36m1\u001b[0m\u001b[0;34m)\u001b[0m\u001b[0;34m)\u001b[0m\u001b[0;34m\u001b[0m\u001b[0m\n\u001b[0;32m----> 9\u001b[0;31m \u001b[0mprint\u001b[0m\u001b[0;34m(\u001b[0m\u001b[0mdiv_by_four\u001b[0m\u001b[0;34m(\u001b[0m\u001b[0;34m'four'\u001b[0m\u001b[0;34m)\u001b[0m\u001b[0;34m)\u001b[0m\u001b[0;34m\u001b[0m\u001b[0m\n\u001b[0m",
            "\u001b[0;32m<ipython-input-3-1df88536b087>\u001b[0m in \u001b[0;36mdiv_by_four\u001b[0;34m(num)\u001b[0m\n\u001b[1;32m      1\u001b[0m \u001b[0;32mdef\u001b[0m \u001b[0mdiv_by_four\u001b[0m\u001b[0;34m(\u001b[0m\u001b[0mnum\u001b[0m\u001b[0;34m)\u001b[0m\u001b[0;34m:\u001b[0m\u001b[0;34m\u001b[0m\u001b[0m\n\u001b[1;32m      2\u001b[0m \u001b[0;34m\u001b[0m\u001b[0m\n\u001b[0;32m----> 3\u001b[0;31m     \u001b[0;32massert\u001b[0m\u001b[0;34m(\u001b[0m\u001b[0mtype\u001b[0m\u001b[0;34m(\u001b[0m\u001b[0mnum\u001b[0m\u001b[0;34m)\u001b[0m\u001b[0;34m==\u001b[0m\u001b[0mtype\u001b[0m\u001b[0;34m(\u001b[0m\u001b[0;36m1\u001b[0m\u001b[0;34m)\u001b[0m\u001b[0;34m)\u001b[0m\u001b[0;34m\u001b[0m\u001b[0m\n\u001b[0m\u001b[1;32m      4\u001b[0m \u001b[0;34m\u001b[0m\u001b[0m\n\u001b[1;32m      5\u001b[0m     \u001b[0;32mreturn\u001b[0m \u001b[0mnum\u001b[0m\u001b[0;34m%\u001b[0m\u001b[0;36m4\u001b[0m\u001b[0;34m==\u001b[0m\u001b[0;36m0\u001b[0m\u001b[0;34m\u001b[0m\u001b[0m\n",
            "\u001b[0;31mAssertionError\u001b[0m: "
          ]
        }
      ]
    },
    {
      "metadata": {},
      "cell_type": "markdown",
      "source": "Python's default response to errors is to exit. However, sometimes we'd like to do something else. For example, we'd like the program to give us more information when there's error. Not only that, but we'd like information outside the scope of the function where the error occurred. This can be accomplished by try catch clauses"
    },
    {
      "metadata": {
        "trusted": true
      },
      "cell_type": "code",
      "source": "def take_sqrt(num):\n    \n    assert(num>=0)\n    \n    return num**0.5\n\n# Suppose we get the following input from the user\nuser_input = [1,2,3,4,5,6,-7,8,9]\n\n# We proceed to calculate the square root from all entries\nfor index, num in enumerate(user_input):\n    \n    try:\n        print(take_sqrt(num))\n    except AssertionError:\n        print('Something wrong with entry at position '+str(index)+'. The value there is '+str(num)+'.')",
      "execution_count": 11,
      "outputs": [
        {
          "output_type": "stream",
          "text": "1.0\n1.4142135623730951\n1.7320508075688772\n2.0\n2.23606797749979\n2.449489742783178\nSomething wrong with entry at position 6. The value there is -7.\n2.8284271247461903\n3.0\n",
          "name": "stdout"
        }
      ]
    },
    {
      "metadata": {},
      "cell_type": "markdown",
      "source": "# Lint"
    },
    {
      "metadata": {},
      "cell_type": "markdown",
      "source": "After you've already written your code, you can have another program go over the source code and try to find errors. This sort of program is called a static code analyser, or lint. We'll use the most popular one for python, called [pylint](https://www.pylint.org/). In the following example I'll show an issue that the python interpreter doesn't catch, but that pylint does"
    },
    {
      "metadata": {
        "trusted": true
      },
      "cell_type": "code",
      "source": "!cat bad_compare.py",
      "execution_count": 7,
      "outputs": [
        {
          "output_type": "stream",
          "text": "def bad_compare(lhs, rhs):\r\n\r\n    unnecessary = lhs - rhs\r\n\r\n    return rhs == lhs\r\n\r\nprint(bad_compare(3, 3))\r\n",
          "name": "stdout"
        }
      ]
    },
    {
      "metadata": {
        "trusted": true
      },
      "cell_type": "code",
      "source": "!python ./bad_compare.py",
      "execution_count": 11,
      "outputs": [
        {
          "output_type": "stream",
          "text": "True\r\n",
          "name": "stdout"
        }
      ]
    },
    {
      "metadata": {
        "trusted": true
      },
      "cell_type": "code",
      "source": "!pylint bad_compare.py",
      "execution_count": 8,
      "outputs": [
        {
          "output_type": "stream",
          "text": "************* Module bad_compare\nbad_compare.py:1:0: C0111: Missing module docstring (missing-docstring)\nbad_compare.py:1:0: C0111: Missing function docstring (missing-docstring)\nbad_compare.py:3:4: W0612: Unused variable 'unnecessary' (unused-variable)\n\n------------------------------------------------------------------\nYour code has been rated at 2.50/10 (previous run: 2.50/10, +0.00)\n\n",
          "name": "stdout"
        }
      ]
    },
    {
      "metadata": {},
      "cell_type": "markdown",
      "source": "In this example, the code works just find, but pylint picks up on the fact that there is an unused variables"
    },
    {
      "metadata": {
        "trusted": true
      },
      "cell_type": "markdown",
      "source": "# Logging"
    },
    {
      "metadata": {},
      "cell_type": "markdown",
      "source": "All the discussion above assumes everything is working. But what do we do when it doesn't? The simplest way to diagnose the problem is by inserting ```print``` statements. Unfortunately, not only is this a messy way to go about it, after you fix the problem you need to scan the code and remove all the print statements. Luckily, there is a better way - logging. Logging allows you to control the amout of output you get from a function. Typically, you'd like to minimise the output in production mode, and make it verbose when trying to find a problem. Logging let's you do just that."
    },
    {
      "metadata": {
        "trusted": true
      },
      "cell_type": "code",
      "source": "import logging\n\ndef calc_fibo(n):\n    \n    if n<3:\n        return 1\n        \n    last_term = 1\n    before_last = 1\n    for i in range(2,n+1):\n        logging.info(str(last_term))\n        next_term = last_term + before_last\n        before_last = last_term\n        last_term = next_term\n    return last_term",
      "execution_count": 7,
      "outputs": []
    },
    {
      "metadata": {},
      "cell_type": "markdown",
      "source": "Logging off"
    },
    {
      "metadata": {
        "trusted": true
      },
      "cell_type": "code",
      "source": "logging.getLogger().setLevel(logging.WARNING)\ncalc_fibo(5)",
      "execution_count": 57,
      "outputs": [
        {
          "output_type": "execute_result",
          "execution_count": 57,
          "data": {
            "text/plain": "8"
          },
          "metadata": {}
        }
      ]
    },
    {
      "metadata": {},
      "cell_type": "markdown",
      "source": "Logging on"
    },
    {
      "metadata": {
        "trusted": true
      },
      "cell_type": "code",
      "source": "logging.getLogger().setLevel(logging.INFO)\nprint(calc_fibo(5))\nlogging.getLogger().setLevel(logging.WARNING)",
      "execution_count": 59,
      "outputs": [
        {
          "output_type": "stream",
          "text": "INFO:root:1\nINFO:root:2\nINFO:root:3\nINFO:root:5\n",
          "name": "stderr"
        },
        {
          "output_type": "stream",
          "text": "8\n",
          "name": "stdout"
        }
      ]
    },
    {
      "metadata": {},
      "cell_type": "markdown",
      "source": "The logging library can let you do more sophisticated things like printing out the time for each instruction, or write output to a file. See the documentation."
    },
    {
      "metadata": {},
      "cell_type": "markdown",
      "source": "# Debugging"
    },
    {
      "metadata": {},
      "cell_type": "markdown",
      "source": "Debugging is the last resort you turn to when all else fails. It lets you examine the program while it is running, but it is excruciating to use. The default debugger for python is pdb, or ipdb to debug code in notebooks. The most common controls are:\n\n* n - Next instruction\n* s - Step into function\n* b - Set breakpoint\n* c - Continue until breakpoint\n* q - quit"
    },
    {
      "metadata": {
        "trusted": true
      },
      "cell_type": "code",
      "source": "!pip install ipdb --user",
      "execution_count": 4,
      "outputs": [
        {
          "output_type": "stream",
          "text": "Collecting ipdb\n  Downloading https://files.pythonhosted.org/packages/6d/43/c3c2e866a8803e196d6209595020a4a6db1a3c5d07c01455669497ae23d0/ipdb-0.12.tar.gz\nRequirement already satisfied: setuptools in /home/nbuser/anaconda3_501/lib/python3.6/site-packages (from ipdb) (41.0.1)\nRequirement already satisfied: ipython>=5.1.0 in /home/nbuser/anaconda3_501/lib/python3.6/site-packages (from ipdb) (7.1.1)\nRequirement already satisfied: decorator in /home/nbuser/anaconda3_501/lib/python3.6/site-packages (from ipython>=5.1.0->ipdb) (4.3.0)\nRequirement already satisfied: traitlets>=4.2 in /home/nbuser/anaconda3_501/lib/python3.6/site-packages (from ipython>=5.1.0->ipdb) (4.3.2)\nRequirement already satisfied: pickleshare in /home/nbuser/anaconda3_501/lib/python3.6/site-packages (from ipython>=5.1.0->ipdb) (0.7.5)\nRequirement already satisfied: backcall in /home/nbuser/anaconda3_501/lib/python3.6/site-packages (from ipython>=5.1.0->ipdb) (0.1.0)\nRequirement already satisfied: pexpect; sys_platform != \"win32\" in /home/nbuser/anaconda3_501/lib/python3.6/site-packages (from ipython>=5.1.0->ipdb) (4.6.0)\nRequirement already satisfied: pygments in /home/nbuser/anaconda3_501/lib/python3.6/site-packages (from ipython>=5.1.0->ipdb) (2.2.0)\nRequirement already satisfied: prompt-toolkit<2.1.0,>=2.0.0 in /home/nbuser/anaconda3_501/lib/python3.6/site-packages (from ipython>=5.1.0->ipdb) (2.0.7)\nRequirement already satisfied: jedi>=0.10 in /home/nbuser/anaconda3_501/lib/python3.6/site-packages (from ipython>=5.1.0->ipdb) (0.13.1)\nRequirement already satisfied: ipython-genutils in /home/nbuser/anaconda3_501/lib/python3.6/site-packages (from traitlets>=4.2->ipython>=5.1.0->ipdb) (0.2.0)\nRequirement already satisfied: six in /home/nbuser/anaconda3_501/lib/python3.6/site-packages (from traitlets>=4.2->ipython>=5.1.0->ipdb) (1.11.0)\nRequirement already satisfied: ptyprocess>=0.5 in /home/nbuser/anaconda3_501/lib/python3.6/site-packages (from pexpect; sys_platform != \"win32\"->ipython>=5.1.0->ipdb) (0.6.0)\nRequirement already satisfied: wcwidth in /home/nbuser/anaconda3_501/lib/python3.6/site-packages (from prompt-toolkit<2.1.0,>=2.0.0->ipython>=5.1.0->ipdb) (0.1.7)\nRequirement already satisfied: parso>=0.3.0 in /home/nbuser/anaconda3_501/lib/python3.6/site-packages (from jedi>=0.10->ipython>=5.1.0->ipdb) (0.3.1)\nBuilding wheels for collected packages: ipdb\n  Building wheel for ipdb (setup.py) ... \u001b[?25ldone\n\u001b[?25h  Stored in directory: /home/nbuser/.cache/pip/wheels/59/24/91/695211bd228d40fb22dff0ce3f05ba41ab724ab771736233f3\nSuccessfully built ipdb\nInstalling collected packages: ipdb\nSuccessfully installed ipdb-0.12\n",
          "name": "stdout"
        }
      ]
    },
    {
      "metadata": {
        "trusted": true
      },
      "cell_type": "code",
      "source": "import ipdb\nipdb.set_trace()\n\nfibo_array = []\nfor n in range(5):\n    fibo_array.append(calc_fibo(n))",
      "execution_count": 8,
      "outputs": [
        {
          "output_type": "stream",
          "text": "--Return--\nNone\n> \u001b[0;32m<ipython-input-8-9a7dcf5d2162>\u001b[0m(2)\u001b[0;36m<module>\u001b[0;34m()\u001b[0m\n\u001b[0;32m      1 \u001b[0;31m\u001b[0;32mimport\u001b[0m \u001b[0mipdb\u001b[0m\u001b[0;34m\u001b[0m\u001b[0m\n\u001b[0m\u001b[0;32m----> 2 \u001b[0;31m\u001b[0mipdb\u001b[0m\u001b[0;34m.\u001b[0m\u001b[0mset_trace\u001b[0m\u001b[0;34m(\u001b[0m\u001b[0;34m)\u001b[0m\u001b[0;34m\u001b[0m\u001b[0m\n\u001b[0m\u001b[0;32m      3 \u001b[0;31m\u001b[0;34m\u001b[0m\u001b[0m\n\u001b[0m\nipdb> b 6\nBreakpoint 2 at <ipython-input-8-9a7dcf5d2162>:6\nipdb> c\nNone\n> \u001b[0;32m<ipython-input-8-9a7dcf5d2162>\u001b[0m(6)\u001b[0;36m<module>\u001b[0;34m()\u001b[0m\n\u001b[0;32m      4 \u001b[0;31m\u001b[0mfibo_array\u001b[0m \u001b[0;34m=\u001b[0m \u001b[0;34m[\u001b[0m\u001b[0;34m]\u001b[0m\u001b[0;34m\u001b[0m\u001b[0m\n\u001b[0m\u001b[0;32m      5 \u001b[0;31m\u001b[0;32mfor\u001b[0m \u001b[0mn\u001b[0m \u001b[0;32min\u001b[0m \u001b[0mrange\u001b[0m\u001b[0;34m(\u001b[0m\u001b[0;36m5\u001b[0m\u001b[0;34m)\u001b[0m\u001b[0;34m:\u001b[0m\u001b[0;34m\u001b[0m\u001b[0m\n\u001b[0m\u001b[1;31m2\u001b[0;32m---> 6 \u001b[0;31m    \u001b[0mfibo_array\u001b[0m\u001b[0;34m.\u001b[0m\u001b[0mappend\u001b[0m\u001b[0;34m(\u001b[0m\u001b[0mcalc_fibo\u001b[0m\u001b[0;34m(\u001b[0m\u001b[0mn\u001b[0m\u001b[0;34m)\u001b[0m\u001b[0;34m)\u001b[0m\u001b[0;34m\u001b[0m\u001b[0m\n\u001b[0m\nipdb> p n\n0\nipdb> c\nNone\n> \u001b[0;32m<ipython-input-8-9a7dcf5d2162>\u001b[0m(6)\u001b[0;36m<module>\u001b[0;34m()\u001b[0m\n\u001b[0;32m      4 \u001b[0;31m\u001b[0mfibo_array\u001b[0m \u001b[0;34m=\u001b[0m \u001b[0;34m[\u001b[0m\u001b[0;34m]\u001b[0m\u001b[0;34m\u001b[0m\u001b[0m\n\u001b[0m\u001b[0;32m      5 \u001b[0;31m\u001b[0;32mfor\u001b[0m \u001b[0mn\u001b[0m \u001b[0;32min\u001b[0m \u001b[0mrange\u001b[0m\u001b[0;34m(\u001b[0m\u001b[0;36m5\u001b[0m\u001b[0;34m)\u001b[0m\u001b[0;34m:\u001b[0m\u001b[0;34m\u001b[0m\u001b[0m\n\u001b[0m\u001b[1;31m2\u001b[0;32m---> 6 \u001b[0;31m    \u001b[0mfibo_array\u001b[0m\u001b[0;34m.\u001b[0m\u001b[0mappend\u001b[0m\u001b[0;34m(\u001b[0m\u001b[0mcalc_fibo\u001b[0m\u001b[0;34m(\u001b[0m\u001b[0mn\u001b[0m\u001b[0;34m)\u001b[0m\u001b[0;34m)\u001b[0m\u001b[0;34m\u001b[0m\u001b[0m\n\u001b[0m\nipdb> p n\n1\nipdb> p fibo_array\n[1]\nipdb> c\nNone\n> \u001b[0;32m<ipython-input-8-9a7dcf5d2162>\u001b[0m(6)\u001b[0;36m<module>\u001b[0;34m()\u001b[0m\n\u001b[0;32m      4 \u001b[0;31m\u001b[0mfibo_array\u001b[0m \u001b[0;34m=\u001b[0m \u001b[0;34m[\u001b[0m\u001b[0;34m]\u001b[0m\u001b[0;34m\u001b[0m\u001b[0m\n\u001b[0m\u001b[0;32m      5 \u001b[0;31m\u001b[0;32mfor\u001b[0m \u001b[0mn\u001b[0m \u001b[0;32min\u001b[0m \u001b[0mrange\u001b[0m\u001b[0;34m(\u001b[0m\u001b[0;36m5\u001b[0m\u001b[0;34m)\u001b[0m\u001b[0;34m:\u001b[0m\u001b[0;34m\u001b[0m\u001b[0m\n\u001b[0m\u001b[1;31m2\u001b[0;32m---> 6 \u001b[0;31m    \u001b[0mfibo_array\u001b[0m\u001b[0;34m.\u001b[0m\u001b[0mappend\u001b[0m\u001b[0;34m(\u001b[0m\u001b[0mcalc_fibo\u001b[0m\u001b[0;34m(\u001b[0m\u001b[0mn\u001b[0m\u001b[0;34m)\u001b[0m\u001b[0;34m)\u001b[0m\u001b[0;34m\u001b[0m\u001b[0m\n\u001b[0m\nipdb> p fibo_array\n[1, 1]\nipdb> c\nNone\n> \u001b[0;32m<ipython-input-8-9a7dcf5d2162>\u001b[0m(6)\u001b[0;36m<module>\u001b[0;34m()\u001b[0m\n\u001b[0;32m      4 \u001b[0;31m\u001b[0mfibo_array\u001b[0m \u001b[0;34m=\u001b[0m \u001b[0;34m[\u001b[0m\u001b[0;34m]\u001b[0m\u001b[0;34m\u001b[0m\u001b[0m\n\u001b[0m\u001b[0;32m      5 \u001b[0;31m\u001b[0;32mfor\u001b[0m \u001b[0mn\u001b[0m \u001b[0;32min\u001b[0m \u001b[0mrange\u001b[0m\u001b[0;34m(\u001b[0m\u001b[0;36m5\u001b[0m\u001b[0;34m)\u001b[0m\u001b[0;34m:\u001b[0m\u001b[0;34m\u001b[0m\u001b[0m\n\u001b[0m\u001b[1;31m2\u001b[0;32m---> 6 \u001b[0;31m    \u001b[0mfibo_array\u001b[0m\u001b[0;34m.\u001b[0m\u001b[0mappend\u001b[0m\u001b[0;34m(\u001b[0m\u001b[0mcalc_fibo\u001b[0m\u001b[0;34m(\u001b[0m\u001b[0mn\u001b[0m\u001b[0;34m)\u001b[0m\u001b[0;34m)\u001b[0m\u001b[0;34m\u001b[0m\u001b[0m\n\u001b[0m\nipdb> p fibo_array\n[1, 1, 1]\nipdb> p n\n3\nipdb> c\nNone\n> \u001b[0;32m<ipython-input-8-9a7dcf5d2162>\u001b[0m(6)\u001b[0;36m<module>\u001b[0;34m()\u001b[0m\n\u001b[0;32m      4 \u001b[0;31m\u001b[0mfibo_array\u001b[0m \u001b[0;34m=\u001b[0m \u001b[0;34m[\u001b[0m\u001b[0;34m]\u001b[0m\u001b[0;34m\u001b[0m\u001b[0m\n\u001b[0m\u001b[0;32m      5 \u001b[0;31m\u001b[0;32mfor\u001b[0m \u001b[0mn\u001b[0m \u001b[0;32min\u001b[0m \u001b[0mrange\u001b[0m\u001b[0;34m(\u001b[0m\u001b[0;36m5\u001b[0m\u001b[0;34m)\u001b[0m\u001b[0;34m:\u001b[0m\u001b[0;34m\u001b[0m\u001b[0m\n\u001b[0m\u001b[1;31m2\u001b[0;32m---> 6 \u001b[0;31m    \u001b[0mfibo_array\u001b[0m\u001b[0;34m.\u001b[0m\u001b[0mappend\u001b[0m\u001b[0;34m(\u001b[0m\u001b[0mcalc_fibo\u001b[0m\u001b[0;34m(\u001b[0m\u001b[0mn\u001b[0m\u001b[0;34m)\u001b[0m\u001b[0;34m)\u001b[0m\u001b[0;34m\u001b[0m\u001b[0m\n\u001b[0m\nipdb> p fibo_array\n[1, 1, 1, 3]\nipdb> c\n",
          "name": "stdout"
        }
      ]
    },
    {
      "metadata": {},
      "cell_type": "markdown",
      "source": "# Version Control"
    },
    {
      "metadata": {},
      "cell_type": "markdown",
      "source": "Suppose you have a library that you tested and it is working. One day, you decide to refactor it. Maybe you want to optimise it and make it faster, or add more features. The problem is that whenever you change the code you are running the risk of breaking it. The best tool against this is version control. Version control lets you save multiple versions of your code, and load a previous version in case something breaks. It also lets you [collaborate more effectively](https://www.atlassian.com/git/tutorials/comparing-workflows). The most popular version control system today is [git](https://git-scm.com/doc?fbclid=IwAR1YxT3x6XCvpcLC1x4HCS7saF5hPAKkfr4t_IMlkk7tu9xN7FwDmgF4TBY), and the most popular repository hosting services are github and bitbucket. Below are the most commonly used commands:\n* clone - Creates a copy of the repository on your local machine\n* pull - Changes your local copy such that it would be the same as the one on the server\n* commit - Records local changes locally\n* push - Transmit commits to server"
    },
    {
      "metadata": {},
      "cell_type": "markdown",
      "source": "In addition, git also provides another set of commands that is especially useful for refactoring. The basic problem here is that between the current state of the code and the state of the code after refactoring, the code might be broken. This can be a problem, since you might also want to use the code in the mean while. The solution is to make two copies of the code, one that is operational, and another which is safe to break. This is called branching. After you are done making changes on the second copy and you are satisfied by the result, you can merge back the two copies of the code. The corresponding command are adequately called \"branch\" and \"merge\". The command \"checkout\" lets you switch between branches."
    },
    {
      "metadata": {},
      "cell_type": "markdown",
      "source": "# Continuous Integration"
    },
    {
      "metadata": {},
      "cell_type": "markdown",
      "source": "Ideally, you'd like to test the code every time you make a change. However, doing this manually would be extremely tedious. Luckily for us, we can get a computer to do it for us. This practice is called continuous integration. The way it works is that you have a server that listens to the repository, and run a series of tests whenever a commit is pushed. One of the more popular continuous integration tools is Travis CI. Setting up continuous integration would take too long for this tutorial, but you can see an example that I've already set up [here](https://travis-ci.org/bolverk/huji-rich). If nothing else, continuous integration can help you when you argue with your colleagues about who broke the code, as seen in the example below."
    },
    {
      "metadata": {
        "trusted": true
      },
      "cell_type": "markdown",
      "source": "<img src='travis_demo.jpg'>"
    },
    {
      "metadata": {
        "trusted": true
      },
      "cell_type": "code",
      "source": "",
      "execution_count": null,
      "outputs": []
    }
  ],
  "metadata": {
    "kernelspec": {
      "name": "python36",
      "display_name": "Python 3.6",
      "language": "python"
    },
    "language_info": {
      "mimetype": "text/x-python",
      "nbconvert_exporter": "python",
      "name": "python",
      "pygments_lexer": "ipython3",
      "version": "3.6.6",
      "file_extension": ".py",
      "codemirror_mode": {
        "version": 3,
        "name": "ipython"
      }
    }
  },
  "nbformat": 4,
  "nbformat_minor": 2
}
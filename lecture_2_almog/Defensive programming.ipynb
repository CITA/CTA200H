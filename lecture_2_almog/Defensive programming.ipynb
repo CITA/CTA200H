{
 "cells": [
  {
   "cell_type": "markdown",
   "metadata": {
    "collapsed": true
   },
   "source": [
    "# Introduction\n",
    "\n",
    "That's a strange name for a topic - \"defensive programming\" - defence against what? Well, bugs of course. Experience has shown that in most projects the majority of development time is spent debugging. For this reason, it is highly desirable to follow practices that minimise the number of bugs. In this notebook I will introduce a number of tried and true methods for avoiding bugs. It does require extra work, but your future self will thank you.\n",
    "\n",
    "This notebook is by no means an exhaustive review of all good practices, but it's a good place to start. The idea here is to introduce some important concepts, about which you can read more later, and adapt to your particular application."
   ]
  },
  {
   "cell_type": "markdown",
   "metadata": {},
   "source": [
    "# Documentation"
   ]
  },
  {
   "cell_type": "markdown",
   "metadata": {},
   "source": [
    "If you are working with other people, or intend for your code to be used by other people, then it goes without saying that you must document your code. However, I argue that you need to document your code even if you are the only one using it. The reason is that your future self will not remember how to use the code. "
   ]
  },
  {
   "cell_type": "markdown",
   "metadata": {},
   "source": [
    "As a rule of thumb, when it comes to documentation, more is better. The bare minimum for a documentation for a function is\n",
    "1. A short description\n",
    "2. Description of the arguments\n",
    "3. Description of the output\n",
    "\n",
    "Python [docstring](https://www.python.org/dev/peps/pep-0257/) feature makes the documentation available also via the interactive shell (see example below)"
   ]
  },
  {
   "cell_type": "code",
   "execution_count": 2,
   "metadata": {},
   "outputs": [
    {
     "data": {
      "text/plain": [
       "[True, False]"
      ]
     },
     "execution_count": 2,
     "metadata": {},
     "output_type": "execute_result"
    }
   ],
   "source": [
    "def is_even(num):\n",
    "    \n",
    "    \"\"\"Checks if a number is even\n",
    "    \n",
    "    Parameters:\n",
    "    num - An integer\n",
    "        \n",
    "    Returns:\n",
    "    True if num is even, False otherwise    \n",
    "    \"\"\"\n",
    "    \n",
    "    return num%2==0\n",
    "\n",
    "[is_even(4), is_even(3)]"
   ]
  },
  {
   "cell_type": "markdown",
   "metadata": {},
   "source": [
    "The documentation can be shown using the ```help``` function"
   ]
  },
  {
   "cell_type": "code",
   "execution_count": 3,
   "metadata": {},
   "outputs": [
    {
     "name": "stdout",
     "output_type": "stream",
     "text": [
      "Help on function is_even in module __main__:\n",
      "\n",
      "is_even(num)\n",
      "    Checks if a number is even\n",
      "    \n",
      "    Parameters:\n",
      "    num - An integer\n",
      "        \n",
      "    Returns:\n",
      "    True if num is even, False otherwise\n",
      "\n"
     ]
    }
   ],
   "source": [
    "help(is_even)"
   ]
  },
  {
   "cell_type": "markdown",
   "metadata": {},
   "source": [
    "I'd like to end with one word of caution. The code is alive while the documentation is not. Be sure to change the documentation when you change the code."
   ]
  },
  {
   "cell_type": "markdown",
   "metadata": {},
   "source": [
    "### Exercise"
   ]
  },
  {
   "cell_type": "markdown",
   "metadata": {},
   "source": [
    "Write a function that accepts the radius of a circle and calculates the area. Document the function and use help to bring up the documentation."
   ]
  },
  {
   "cell_type": "markdown",
   "metadata": {},
   "source": [
    "# Test Driven Development"
   ]
  },
  {
   "cell_type": "markdown",
   "metadata": {},
   "source": [
    "Most people, if they test their code at all, write their tests after they've written the code. In this section I will make the case for writing the tests **before** you write the code. This approach is called test driven development. Besides catching bugs early on, the benefit for this approach is that it forces you to think about the interface, while most developers would be preoccupied with the implementation. Below is a demonstration of this approach, using the [unittest](https://docs.python.org/3/library/unittest.html) package."
   ]
  },
  {
   "cell_type": "markdown",
   "metadata": {},
   "source": [
    "Suppose we want to write a function that checks if an integer divides three. We begin with the declaration of a function that does not do anything, and a test that fails"
   ]
  },
  {
   "cell_type": "code",
   "execution_count": 10,
   "metadata": {},
   "outputs": [
    {
     "name": "stderr",
     "output_type": "stream",
     "text": [
      "test_3 (__main__.TestIsDivThree) ... FAIL\n",
      "test_4 (__main__.TestIsDivThree) ... FAIL\n",
      "\n",
      "======================================================================\n",
      "FAIL: test_3 (__main__.TestIsDivThree)\n",
      "----------------------------------------------------------------------\n",
      "Traceback (most recent call last):\n",
      "  File \"<ipython-input-10-e1e85a88bf75>\", line 10, in test_3\n",
      "    self.assertEqual(is_div_three(3),True)\n",
      "AssertionError: None != True\n",
      "\n",
      "======================================================================\n",
      "FAIL: test_4 (__main__.TestIsDivThree)\n",
      "----------------------------------------------------------------------\n",
      "Traceback (most recent call last):\n",
      "  File \"<ipython-input-10-e1e85a88bf75>\", line 12, in test_4\n",
      "    self.assertEqual(is_div_three(4),False)\n",
      "AssertionError: None != False\n",
      "\n",
      "----------------------------------------------------------------------\n",
      "Ran 2 tests in 0.003s\n",
      "\n",
      "FAILED (failures=2)\n"
     ]
    },
    {
     "data": {
      "text/plain": [
       "<unittest.main.TestProgram at 0x238216ae188>"
      ]
     },
     "execution_count": 10,
     "metadata": {},
     "output_type": "execute_result"
    }
   ],
   "source": [
    "import unittest\n",
    "\n",
    "def is_div_three(num):\n",
    "    \n",
    "    pass\n",
    "\n",
    "class TestIsDivThree(unittest.TestCase):\n",
    "\n",
    "    def test_3(self):\n",
    "        self.assertEqual(is_div_three(3),True)\n",
    "    def test_4(self):\n",
    "        self.assertEqual(is_div_three(4),False)\n",
    "\n",
    "unittest.main(argv=[''], verbosity=2, exit=False)"
   ]
  },
  {
   "cell_type": "markdown",
   "metadata": {},
   "source": [
    "The next phase is to implement the function. After this stage, hopefully all the tests pass. If not, then the function or the test need to be fixed."
   ]
  },
  {
   "cell_type": "code",
   "execution_count": 11,
   "metadata": {},
   "outputs": [
    {
     "name": "stderr",
     "output_type": "stream",
     "text": [
      "test_3 (__main__.TestIsDivThree) ... ok\n",
      "test_4 (__main__.TestIsDivThree) ... ok\n",
      "\n",
      "----------------------------------------------------------------------\n",
      "Ran 2 tests in 0.003s\n",
      "\n",
      "OK\n"
     ]
    },
    {
     "data": {
      "text/plain": [
       "<unittest.main.TestProgram at 0x2382172d848>"
      ]
     },
     "execution_count": 11,
     "metadata": {},
     "output_type": "execute_result"
    }
   ],
   "source": [
    "import unittest\n",
    "\n",
    "def is_div_three(num):\n",
    "    \n",
    "    return num%3 == 0\n",
    "\n",
    "class TestIsDivThree(unittest.TestCase):\n",
    "\n",
    "    def test_3(self):\n",
    "        self.assertEqual(is_div_three(3),True)\n",
    "    def test_4(self):\n",
    "        self.assertEqual(is_div_three(4),False)\n",
    "\n",
    "unittest.main(argv=[''], verbosity=2, exit=False)"
   ]
  },
  {
   "cell_type": "markdown",
   "metadata": {},
   "source": [
    "Another good rule of thumb for writing tests is that once a bug was found and fixed, one should write a test that makes sure that the  bug does not recur."
   ]
  },
  {
   "cell_type": "markdown",
   "metadata": {},
   "source": [
    "### Exercise"
   ]
  },
  {
   "cell_type": "markdown",
   "metadata": {},
   "source": [
    "Test and write a function that accepts the radius of a sphere and calculates its volume"
   ]
  },
  {
   "cell_type": "markdown",
   "metadata": {},
   "source": [
    "# Exceptions"
   ]
  },
  {
   "cell_type": "markdown",
   "metadata": {},
   "source": [
    "One way to spot errors early on is by checking if the data is valid. This can be done using assertions"
   ]
  },
  {
   "cell_type": "code",
   "execution_count": 6,
   "metadata": {},
   "outputs": [
    {
     "name": "stdout",
     "output_type": "stream",
     "text": [
      "True\n",
      "False\n"
     ]
    },
    {
     "ename": "AssertionError",
     "evalue": "",
     "output_type": "error",
     "traceback": [
      "\u001b[1;31m---------------------------------------------------------------------------\u001b[0m",
      "\u001b[1;31mAssertionError\u001b[0m                            Traceback (most recent call last)",
      "\u001b[1;32m<ipython-input-6-1df88536b087>\u001b[0m in \u001b[0;36m<module>\u001b[1;34m\u001b[0m\n\u001b[0;32m      7\u001b[0m \u001b[0mprint\u001b[0m\u001b[1;33m(\u001b[0m\u001b[0mdiv_by_four\u001b[0m\u001b[1;33m(\u001b[0m\u001b[1;36m4\u001b[0m\u001b[1;33m)\u001b[0m\u001b[1;33m)\u001b[0m\u001b[1;33m\u001b[0m\u001b[1;33m\u001b[0m\u001b[0m\n\u001b[0;32m      8\u001b[0m \u001b[0mprint\u001b[0m\u001b[1;33m(\u001b[0m\u001b[0mdiv_by_four\u001b[0m\u001b[1;33m(\u001b[0m\u001b[1;36m1\u001b[0m\u001b[1;33m)\u001b[0m\u001b[1;33m)\u001b[0m\u001b[1;33m\u001b[0m\u001b[1;33m\u001b[0m\u001b[0m\n\u001b[1;32m----> 9\u001b[1;33m \u001b[0mprint\u001b[0m\u001b[1;33m(\u001b[0m\u001b[0mdiv_by_four\u001b[0m\u001b[1;33m(\u001b[0m\u001b[1;34m'four'\u001b[0m\u001b[1;33m)\u001b[0m\u001b[1;33m)\u001b[0m\u001b[1;33m\u001b[0m\u001b[1;33m\u001b[0m\u001b[0m\n\u001b[0m",
      "\u001b[1;32m<ipython-input-6-1df88536b087>\u001b[0m in \u001b[0;36mdiv_by_four\u001b[1;34m(num)\u001b[0m\n\u001b[0;32m      1\u001b[0m \u001b[1;32mdef\u001b[0m \u001b[0mdiv_by_four\u001b[0m\u001b[1;33m(\u001b[0m\u001b[0mnum\u001b[0m\u001b[1;33m)\u001b[0m\u001b[1;33m:\u001b[0m\u001b[1;33m\u001b[0m\u001b[1;33m\u001b[0m\u001b[0m\n\u001b[0;32m      2\u001b[0m \u001b[1;33m\u001b[0m\u001b[0m\n\u001b[1;32m----> 3\u001b[1;33m     \u001b[1;32massert\u001b[0m\u001b[1;33m(\u001b[0m\u001b[0mtype\u001b[0m\u001b[1;33m(\u001b[0m\u001b[0mnum\u001b[0m\u001b[1;33m)\u001b[0m\u001b[1;33m==\u001b[0m\u001b[0mtype\u001b[0m\u001b[1;33m(\u001b[0m\u001b[1;36m1\u001b[0m\u001b[1;33m)\u001b[0m\u001b[1;33m)\u001b[0m\u001b[1;33m\u001b[0m\u001b[1;33m\u001b[0m\u001b[0m\n\u001b[0m\u001b[0;32m      4\u001b[0m \u001b[1;33m\u001b[0m\u001b[0m\n\u001b[0;32m      5\u001b[0m     \u001b[1;32mreturn\u001b[0m \u001b[0mnum\u001b[0m\u001b[1;33m%\u001b[0m\u001b[1;36m4\u001b[0m\u001b[1;33m==\u001b[0m\u001b[1;36m0\u001b[0m\u001b[1;33m\u001b[0m\u001b[1;33m\u001b[0m\u001b[0m\n",
      "\u001b[1;31mAssertionError\u001b[0m: "
     ]
    }
   ],
   "source": [
    "def div_by_four(num):\n",
    "    \n",
    "    assert(type(num)==type(1))\n",
    "    \n",
    "    return num%4==0\n",
    "\n",
    "print(div_by_four(4))\n",
    "print(div_by_four(1))\n",
    "print(div_by_four('four'))"
   ]
  },
  {
   "cell_type": "markdown",
   "metadata": {},
   "source": [
    "Python's default response to errors is to exit. However, sometimes we'd like to do something else. For example, we'd like the program to give us more information when there's error. Not only that, but we'd like information outside the scope of the function where the error occurred. This can be accomplished by try catch clauses"
   ]
  },
  {
   "cell_type": "code",
   "execution_count": 12,
   "metadata": {},
   "outputs": [
    {
     "name": "stdout",
     "output_type": "stream",
     "text": [
      "1.0\n",
      "1.4142135623730951\n",
      "1.7320508075688772\n",
      "2.0\n",
      "2.23606797749979\n",
      "2.449489742783178\n",
      "Something wrong with entry at position 6. The value there is -7.\n",
      "2.8284271247461903\n",
      "3.0\n"
     ]
    }
   ],
   "source": [
    "def take_sqrt(num):\n",
    "    \n",
    "    assert(num>=0)\n",
    "    \n",
    "    return num**0.5\n",
    "\n",
    "# Suppose we get the following input from the user\n",
    "user_input = [1,2,3,4,5,6,-7,8,9]\n",
    "\n",
    "# We proceed to calculate the square root from all entries\n",
    "for index, num in enumerate(user_input):\n",
    "    \n",
    "    try:\n",
    "        print(take_sqrt(num))\n",
    "    except AssertionError:\n",
    "        print('Something wrong with entry at position '+str(index)+'. The value there is '+str(num)+'.')"
   ]
  },
  {
   "cell_type": "markdown",
   "metadata": {},
   "source": [
    "# Lint"
   ]
  },
  {
   "cell_type": "markdown",
   "metadata": {},
   "source": [
    "After you've already written your code, you can have another program go over the source code and try to find errors. This sort of program is called a static code analyser, or lint. We'll use the most popular one for python, called [pylint](https://www.pylint.org/). In the following example I'll show an issue that the python interpreter doesn't catch, but that pylint does"
   ]
  },
  {
   "cell_type": "code",
   "execution_count": 19,
   "metadata": {},
   "outputs": [
    {
     "name": "stdout",
     "output_type": "stream",
     "text": [
      "def bad_compare(lhs, rhs):\n",
      "\n",
      "    unnecessary = lhs - rhs\n",
      "\n",
      "    return rhs == lhs\n",
      "\n",
      "print(bad_compare(3, 3))\n",
      "\n"
     ]
    }
   ],
   "source": [
    "with open('./bad_compare.py') as f:\n",
    "    raw_text = f.read()\n",
    "print(raw_text)"
   ]
  },
  {
   "cell_type": "code",
   "execution_count": 20,
   "metadata": {},
   "outputs": [
    {
     "name": "stdout",
     "output_type": "stream",
     "text": [
      "True\n"
     ]
    }
   ],
   "source": [
    "!python ./bad_compare.py"
   ]
  },
  {
   "cell_type": "code",
   "execution_count": 21,
   "metadata": {},
   "outputs": [
    {
     "name": "stdout",
     "output_type": "stream",
     "text": [
      "************* Module bad_compare\n",
      "bad_compare.py:1:0: C0114: Missing module docstring (missing-module-docstring)\n",
      "bad_compare.py:1:0: C0116: Missing function or method docstring (missing-function-docstring)\n",
      "bad_compare.py:3:4: W0612: Unused variable 'unnecessary' (unused-variable)\n",
      "\n",
      "-----------------------------------\n",
      "\n",
      "Your code has been rated at 2.50/10\n",
      "\n",
      "\n",
      "\n"
     ]
    }
   ],
   "source": [
    "!pylint bad_compare.py"
   ]
  },
  {
   "cell_type": "markdown",
   "metadata": {},
   "source": [
    "In this example, the code works just find, but pylint picks up on the fact that there is an unused variables"
   ]
  },
  {
   "cell_type": "markdown",
   "metadata": {},
   "source": [
    "# Logging"
   ]
  },
  {
   "cell_type": "markdown",
   "metadata": {},
   "source": [
    "All the discussion above assumes everything is working. But what do we do when it doesn't? The simplest way to diagnose the problem is by inserting ```print``` statements. Unfortunately, not only is this a messy way to go about it, after you fix the problem you need to scan the code and remove all the print statements. Luckily, there is a better way - logging. Logging allows you to control the amout of output you get from a function. Typically, you'd like to minimise the output in production mode, and make it verbose when trying to find a problem. Logging let's you do just that."
   ]
  },
  {
   "cell_type": "code",
   "execution_count": 13,
   "metadata": {},
   "outputs": [],
   "source": [
    "import logging\n",
    "\n",
    "def calc_fibo(n):\n",
    "    \n",
    "    if n<3:\n",
    "        return 1\n",
    "        \n",
    "    last_term = 1\n",
    "    before_last = 1\n",
    "    for i in range(2,n+1):\n",
    "        logging.info(str(last_term))\n",
    "        next_term = last_term + before_last\n",
    "        before_last = last_term\n",
    "        last_term = next_term\n",
    "    return last_term"
   ]
  },
  {
   "cell_type": "markdown",
   "metadata": {},
   "source": [
    "Logging off"
   ]
  },
  {
   "cell_type": "code",
   "execution_count": 14,
   "metadata": {},
   "outputs": [
    {
     "data": {
      "text/plain": [
       "8"
      ]
     },
     "execution_count": 14,
     "metadata": {},
     "output_type": "execute_result"
    }
   ],
   "source": [
    "logging.getLogger().setLevel(logging.WARNING)\n",
    "calc_fibo(5)"
   ]
  },
  {
   "cell_type": "markdown",
   "metadata": {},
   "source": [
    "Logging on"
   ]
  },
  {
   "cell_type": "code",
   "execution_count": 15,
   "metadata": {},
   "outputs": [
    {
     "name": "stderr",
     "output_type": "stream",
     "text": [
      "INFO:root:1\n",
      "INFO:root:2\n",
      "INFO:root:3\n",
      "INFO:root:5\n"
     ]
    },
    {
     "name": "stdout",
     "output_type": "stream",
     "text": [
      "8\n"
     ]
    }
   ],
   "source": [
    "logging.getLogger().setLevel(logging.INFO)\n",
    "print(calc_fibo(5))\n",
    "logging.getLogger().setLevel(logging.WARNING)"
   ]
  },
  {
   "cell_type": "markdown",
   "metadata": {},
   "source": [
    "The logging library can let you do more sophisticated things like printing out the time for each instruction, or write output to a file. See the documentation."
   ]
  },
  {
   "cell_type": "markdown",
   "metadata": {},
   "source": [
    "# Debugging"
   ]
  },
  {
   "cell_type": "markdown",
   "metadata": {},
   "source": [
    "Debugging is the last resort you turn to when all else fails. It lets you examine the program while it is running, but it is excruciating to use. The default debugger for python is pdb, or ipdb to debug code in notebooks. The most common controls are:\n",
    "\n",
    "* n - Next instruction\n",
    "* s - Step into function\n",
    "* b - Set breakpoint\n",
    "* c - Continue until breakpoint\n",
    "* q - quit"
   ]
  },
  {
   "cell_type": "code",
   "execution_count": 64,
   "metadata": {},
   "outputs": [
    {
     "name": "stdout",
     "output_type": "stream",
     "text": [
      "Collecting ipdb\n",
      "  Downloading https://files.pythonhosted.org/packages/2c/bb/a3e1a441719ebd75c6dac8170d3ddba884b7ee8a5c0f9aefa7297386627a/ipdb-0.13.2.tar.gz\n",
      "Requirement already satisfied: setuptools in c:\\users\\almog\\anaconda3\\lib\\site-packages (from ipdb) (46.0.0.post20200309)\n",
      "Requirement already satisfied: ipython>=5.1.0 in c:\\users\\almog\\anaconda3\\lib\\site-packages (from ipdb) (7.13.0)\n",
      "Requirement already satisfied: jedi>=0.10 in c:\\users\\almog\\anaconda3\\lib\\site-packages (from ipython>=5.1.0->ipdb) (0.14.1)\n",
      "Requirement already satisfied: pygments in c:\\users\\almog\\anaconda3\\lib\\site-packages (from ipython>=5.1.0->ipdb) (2.5.2)\n",
      "Requirement already satisfied: decorator in c:\\users\\almog\\anaconda3\\lib\\site-packages (from ipython>=5.1.0->ipdb) (4.4.2)\n",
      "Requirement already satisfied: backcall in c:\\users\\almog\\anaconda3\\lib\\site-packages (from ipython>=5.1.0->ipdb) (0.1.0)\n",
      "Requirement already satisfied: prompt-toolkit!=3.0.0,!=3.0.1,<3.1.0,>=2.0.0 in c:\\users\\almog\\anaconda3\\lib\\site-packages (from ipython>=5.1.0->ipdb) (3.0.3)\n",
      "Requirement already satisfied: traitlets>=4.2 in c:\\users\\almog\\anaconda3\\lib\\site-packages (from ipython>=5.1.0->ipdb) (4.3.3)\n",
      "Requirement already satisfied: pickleshare in c:\\users\\almog\\anaconda3\\lib\\site-packages (from ipython>=5.1.0->ipdb) (0.7.5)\n",
      "Requirement already satisfied: colorama; sys_platform == \"win32\" in c:\\users\\almog\\anaconda3\\lib\\site-packages (from ipython>=5.1.0->ipdb) (0.4.3)\n",
      "Requirement already satisfied: parso>=0.5.0 in c:\\users\\almog\\anaconda3\\lib\\site-packages (from jedi>=0.10->ipython>=5.1.0->ipdb) (0.5.2)\n",
      "Requirement already satisfied: wcwidth in c:\\users\\almog\\anaconda3\\lib\\site-packages (from prompt-toolkit!=3.0.0,!=3.0.1,<3.1.0,>=2.0.0->ipython>=5.1.0->ipdb) (0.1.8)\n",
      "Requirement already satisfied: six in c:\\users\\almog\\anaconda3\\lib\\site-packages (from traitlets>=4.2->ipython>=5.1.0->ipdb) (1.14.0)\n",
      "Requirement already satisfied: ipython-genutils in c:\\users\\almog\\anaconda3\\lib\\site-packages (from traitlets>=4.2->ipython>=5.1.0->ipdb) (0.2.0)\n",
      "Building wheels for collected packages: ipdb\n",
      "  Building wheel for ipdb (setup.py): started\n",
      "  Building wheel for ipdb (setup.py): finished with status 'done'\n",
      "  Created wheel for ipdb: filename=ipdb-0.13.2-cp37-none-any.whl size=10527 sha256=38330800c75e6e1215df81b3a1b8825b63697053e4b44879b68caab9e1cc5379\n",
      "  Stored in directory: C:\\Users\\almog\\AppData\\Local\\pip\\Cache\\wheels\\60\\c2\\15\\793365e3c9318c46ba914263740d90f1fe67f544b979141ce4\n",
      "Successfully built ipdb\n",
      "Installing collected packages: ipdb\n",
      "Successfully installed ipdb-0.13.2\n"
     ]
    }
   ],
   "source": [
    "!pip install ipdb"
   ]
  },
  {
   "cell_type": "code",
   "execution_count": 65,
   "metadata": {},
   "outputs": [
    {
     "name": "stdout",
     "output_type": "stream",
     "text": [
      "--Return--\n",
      "None\n",
      "> \u001b[1;32m<ipython-input-65-9a7dcf5d2162>\u001b[0m(2)\u001b[0;36m<module>\u001b[1;34m()\u001b[0m\n",
      "\u001b[1;32m      1 \u001b[1;33m\u001b[1;32mimport\u001b[0m \u001b[0mipdb\u001b[0m\u001b[1;33m\u001b[0m\u001b[1;33m\u001b[0m\u001b[0m\n",
      "\u001b[0m\u001b[1;32m----> 2 \u001b[1;33m\u001b[0mipdb\u001b[0m\u001b[1;33m.\u001b[0m\u001b[0mset_trace\u001b[0m\u001b[1;33m(\u001b[0m\u001b[1;33m)\u001b[0m\u001b[1;33m\u001b[0m\u001b[1;33m\u001b[0m\u001b[0m\n",
      "\u001b[0m\u001b[1;32m      3 \u001b[1;33m\u001b[1;33m\u001b[0m\u001b[0m\n",
      "\u001b[0m\n",
      "ipdb> n\n",
      "> \u001b[1;32mc:\\users\\almog\\anaconda3\\lib\\site-packages\\ipython\\core\\interactiveshell.py\u001b[0m(3334)\u001b[0;36mrun_code\u001b[1;34m()\u001b[0m\n",
      "\u001b[1;32m   3333 \u001b[1;33m                \u001b[1;31m# Reset our crash handler in place\u001b[0m\u001b[1;33m\u001b[0m\u001b[1;33m\u001b[0m\u001b[1;33m\u001b[0m\u001b[0m\n",
      "\u001b[0m\u001b[1;32m-> 3334 \u001b[1;33m                \u001b[0msys\u001b[0m\u001b[1;33m.\u001b[0m\u001b[0mexcepthook\u001b[0m \u001b[1;33m=\u001b[0m \u001b[0mold_excepthook\u001b[0m\u001b[1;33m\u001b[0m\u001b[1;33m\u001b[0m\u001b[0m\n",
      "\u001b[0m\u001b[1;32m   3335 \u001b[1;33m        \u001b[1;32mexcept\u001b[0m \u001b[0mSystemExit\u001b[0m \u001b[1;32mas\u001b[0m \u001b[0me\u001b[0m\u001b[1;33m:\u001b[0m\u001b[1;33m\u001b[0m\u001b[1;33m\u001b[0m\u001b[0m\n",
      "\u001b[0m\n",
      "ipdb> n\n",
      "> \u001b[1;32mc:\\users\\almog\\anaconda3\\lib\\site-packages\\ipython\\core\\interactiveshell.py\u001b[0m(3350)\u001b[0;36mrun_code\u001b[1;34m()\u001b[0m\n",
      "\u001b[1;32m   3349 \u001b[1;33m        \u001b[1;32melse\u001b[0m\u001b[1;33m:\u001b[0m\u001b[1;33m\u001b[0m\u001b[1;33m\u001b[0m\u001b[0m\n",
      "\u001b[0m\u001b[1;32m-> 3350 \u001b[1;33m            \u001b[0moutflag\u001b[0m \u001b[1;33m=\u001b[0m \u001b[1;32mFalse\u001b[0m\u001b[1;33m\u001b[0m\u001b[1;33m\u001b[0m\u001b[0m\n",
      "\u001b[0m\u001b[1;32m   3351 \u001b[1;33m        \u001b[1;32mreturn\u001b[0m \u001b[0moutflag\u001b[0m\u001b[1;33m\u001b[0m\u001b[1;33m\u001b[0m\u001b[0m\n",
      "\u001b[0m\n",
      "ipdb> n\n",
      "> \u001b[1;32mc:\\users\\almog\\anaconda3\\lib\\site-packages\\ipython\\core\\interactiveshell.py\u001b[0m(3351)\u001b[0;36mrun_code\u001b[1;34m()\u001b[0m\n",
      "\u001b[1;32m   3350 \u001b[1;33m            \u001b[0moutflag\u001b[0m \u001b[1;33m=\u001b[0m \u001b[1;32mFalse\u001b[0m\u001b[1;33m\u001b[0m\u001b[1;33m\u001b[0m\u001b[0m\n",
      "\u001b[0m\u001b[1;32m-> 3351 \u001b[1;33m        \u001b[1;32mreturn\u001b[0m \u001b[0moutflag\u001b[0m\u001b[1;33m\u001b[0m\u001b[1;33m\u001b[0m\u001b[0m\n",
      "\u001b[0m\u001b[1;32m   3352 \u001b[1;33m\u001b[1;33m\u001b[0m\u001b[0m\n",
      "\u001b[0m\n",
      "ipdb> n\n",
      "Internal StopIteration: False\n",
      "> \u001b[1;32mc:\\users\\almog\\anaconda3\\lib\\site-packages\\ipython\\core\\interactiveshell.py\u001b[0m(3254)\u001b[0;36mrun_ast_nodes\u001b[1;34m()\u001b[0m\n",
      "\u001b[1;32m   3253 \u001b[1;33m                        \u001b[0masy\u001b[0m \u001b[1;33m=\u001b[0m \u001b[0mcompare\u001b[0m\u001b[1;33m(\u001b[0m\u001b[0mcode\u001b[0m\u001b[1;33m)\u001b[0m\u001b[1;33m\u001b[0m\u001b[1;33m\u001b[0m\u001b[0m\n",
      "\u001b[0m\u001b[1;32m-> 3254 \u001b[1;33m                    \u001b[1;32mif\u001b[0m \u001b[1;33m(\u001b[0m\u001b[1;32mawait\u001b[0m \u001b[0mself\u001b[0m\u001b[1;33m.\u001b[0m\u001b[0mrun_code\u001b[0m\u001b[1;33m(\u001b[0m\u001b[0mcode\u001b[0m\u001b[1;33m,\u001b[0m \u001b[0mresult\u001b[0m\u001b[1;33m,\u001b[0m  \u001b[0masync_\u001b[0m\u001b[1;33m=\u001b[0m\u001b[0masy\u001b[0m\u001b[1;33m)\u001b[0m\u001b[1;33m)\u001b[0m\u001b[1;33m:\u001b[0m\u001b[1;33m\u001b[0m\u001b[1;33m\u001b[0m\u001b[0m\n",
      "\u001b[0m\u001b[1;32m   3255 \u001b[1;33m                        \u001b[1;32mreturn\u001b[0m \u001b[1;32mTrue\u001b[0m\u001b[1;33m\u001b[0m\u001b[1;33m\u001b[0m\u001b[0m\n",
      "\u001b[0m\n",
      "ipdb> n\n",
      "> \u001b[1;32mc:\\users\\almog\\anaconda3\\lib\\site-packages\\ipython\\core\\interactiveshell.py\u001b[0m(3246)\u001b[0;36mrun_ast_nodes\u001b[1;34m()\u001b[0m\n",
      "\u001b[1;32m   3245 \u001b[1;33m\u001b[1;33m\u001b[0m\u001b[0m\n",
      "\u001b[0m\u001b[1;32m-> 3246 \u001b[1;33m                \u001b[1;32mfor\u001b[0m \u001b[0mnode\u001b[0m\u001b[1;33m,\u001b[0m\u001b[0mmode\u001b[0m \u001b[1;32min\u001b[0m \u001b[0mto_run\u001b[0m\u001b[1;33m:\u001b[0m\u001b[1;33m\u001b[0m\u001b[1;33m\u001b[0m\u001b[0m\n",
      "\u001b[0m\u001b[1;32m   3247 \u001b[1;33m                    \u001b[1;32mif\u001b[0m \u001b[0mmode\u001b[0m \u001b[1;33m==\u001b[0m \u001b[1;34m'exec'\u001b[0m\u001b[1;33m:\u001b[0m\u001b[1;33m\u001b[0m\u001b[1;33m\u001b[0m\u001b[0m\n",
      "\u001b[0m\n",
      "ipdb> u\n",
      "> \u001b[1;32mc:\\users\\almog\\anaconda3\\lib\\site-packages\\ipython\\core\\interactiveshell.py\u001b[0m(3063)\u001b[0;36mrun_cell_async\u001b[1;34m()\u001b[0m\n",
      "\u001b[1;32m   3062 \u001b[1;33m                has_raised = await self.run_ast_nodes(code_ast.body, cell_name,\n",
      "\u001b[0m\u001b[1;32m-> 3063 \u001b[1;33m                       interactivity=interactivity, compiler=compiler, result=result)\n",
      "\u001b[0m\u001b[1;32m   3064 \u001b[1;33m\u001b[1;33m\u001b[0m\u001b[0m\n",
      "\u001b[0m\n",
      "ipdb> q\n"
     ]
    },
    {
     "ename": "BdbQuit",
     "evalue": "",
     "output_type": "error",
     "traceback": [
      "\u001b[1;31m---------------------------------------------------------------------------\u001b[0m",
      "\u001b[1;31mBdbQuit\u001b[0m                                   Traceback (most recent call last)",
      "\u001b[1;32m~\\Anaconda3\\lib\\site-packages\\IPython\\core\\interactiveshell.py\u001b[0m in \u001b[0;36mrun_ast_nodes\u001b[1;34m(self, nodelist, cell_name, interactivity, compiler, result)\u001b[0m\n\u001b[0;32m   3244\u001b[0m                     \u001b[0mto_run\u001b[0m\u001b[1;33m.\u001b[0m\u001b[0mappend\u001b[0m\u001b[1;33m(\u001b[0m\u001b[1;33m(\u001b[0m\u001b[0mnode\u001b[0m\u001b[1;33m,\u001b[0m \u001b[1;34m'single'\u001b[0m\u001b[1;33m)\u001b[0m\u001b[1;33m)\u001b[0m\u001b[1;33m\u001b[0m\u001b[1;33m\u001b[0m\u001b[0m\n\u001b[0;32m   3245\u001b[0m \u001b[1;33m\u001b[0m\u001b[0m\n\u001b[1;32m-> 3246\u001b[1;33m                 \u001b[1;32mfor\u001b[0m \u001b[0mnode\u001b[0m\u001b[1;33m,\u001b[0m\u001b[0mmode\u001b[0m \u001b[1;32min\u001b[0m \u001b[0mto_run\u001b[0m\u001b[1;33m:\u001b[0m\u001b[1;33m\u001b[0m\u001b[1;33m\u001b[0m\u001b[0m\n\u001b[0m\u001b[0;32m   3247\u001b[0m                     \u001b[1;32mif\u001b[0m \u001b[0mmode\u001b[0m \u001b[1;33m==\u001b[0m \u001b[1;34m'exec'\u001b[0m\u001b[1;33m:\u001b[0m\u001b[1;33m\u001b[0m\u001b[1;33m\u001b[0m\u001b[0m\n\u001b[0;32m   3248\u001b[0m                         \u001b[0mmod\u001b[0m \u001b[1;33m=\u001b[0m \u001b[0mModule\u001b[0m\u001b[1;33m(\u001b[0m\u001b[1;33m[\u001b[0m\u001b[0mnode\u001b[0m\u001b[1;33m]\u001b[0m\u001b[1;33m,\u001b[0m \u001b[1;33m[\u001b[0m\u001b[1;33m]\u001b[0m\u001b[1;33m)\u001b[0m\u001b[1;33m\u001b[0m\u001b[1;33m\u001b[0m\u001b[0m\n",
      "\u001b[1;32m~\\Anaconda3\\lib\\bdb.py\u001b[0m in \u001b[0;36mtrace_dispatch\u001b[1;34m(self, frame, event, arg)\u001b[0m\n\u001b[0;32m     86\u001b[0m             \u001b[1;32mreturn\u001b[0m \u001b[1;31m# None\u001b[0m\u001b[1;33m\u001b[0m\u001b[1;33m\u001b[0m\u001b[0m\n\u001b[0;32m     87\u001b[0m         \u001b[1;32mif\u001b[0m \u001b[0mevent\u001b[0m \u001b[1;33m==\u001b[0m \u001b[1;34m'line'\u001b[0m\u001b[1;33m:\u001b[0m\u001b[1;33m\u001b[0m\u001b[1;33m\u001b[0m\u001b[0m\n\u001b[1;32m---> 88\u001b[1;33m             \u001b[1;32mreturn\u001b[0m \u001b[0mself\u001b[0m\u001b[1;33m.\u001b[0m\u001b[0mdispatch_line\u001b[0m\u001b[1;33m(\u001b[0m\u001b[0mframe\u001b[0m\u001b[1;33m)\u001b[0m\u001b[1;33m\u001b[0m\u001b[1;33m\u001b[0m\u001b[0m\n\u001b[0m\u001b[0;32m     89\u001b[0m         \u001b[1;32mif\u001b[0m \u001b[0mevent\u001b[0m \u001b[1;33m==\u001b[0m \u001b[1;34m'call'\u001b[0m\u001b[1;33m:\u001b[0m\u001b[1;33m\u001b[0m\u001b[1;33m\u001b[0m\u001b[0m\n\u001b[0;32m     90\u001b[0m             \u001b[1;32mreturn\u001b[0m \u001b[0mself\u001b[0m\u001b[1;33m.\u001b[0m\u001b[0mdispatch_call\u001b[0m\u001b[1;33m(\u001b[0m\u001b[0mframe\u001b[0m\u001b[1;33m,\u001b[0m \u001b[0marg\u001b[0m\u001b[1;33m)\u001b[0m\u001b[1;33m\u001b[0m\u001b[1;33m\u001b[0m\u001b[0m\n",
      "\u001b[1;32m~\\Anaconda3\\lib\\bdb.py\u001b[0m in \u001b[0;36mdispatch_line\u001b[1;34m(self, frame)\u001b[0m\n\u001b[0;32m    111\u001b[0m         \u001b[1;32mif\u001b[0m \u001b[0mself\u001b[0m\u001b[1;33m.\u001b[0m\u001b[0mstop_here\u001b[0m\u001b[1;33m(\u001b[0m\u001b[0mframe\u001b[0m\u001b[1;33m)\u001b[0m \u001b[1;32mor\u001b[0m \u001b[0mself\u001b[0m\u001b[1;33m.\u001b[0m\u001b[0mbreak_here\u001b[0m\u001b[1;33m(\u001b[0m\u001b[0mframe\u001b[0m\u001b[1;33m)\u001b[0m\u001b[1;33m:\u001b[0m\u001b[1;33m\u001b[0m\u001b[1;33m\u001b[0m\u001b[0m\n\u001b[0;32m    112\u001b[0m             \u001b[0mself\u001b[0m\u001b[1;33m.\u001b[0m\u001b[0muser_line\u001b[0m\u001b[1;33m(\u001b[0m\u001b[0mframe\u001b[0m\u001b[1;33m)\u001b[0m\u001b[1;33m\u001b[0m\u001b[1;33m\u001b[0m\u001b[0m\n\u001b[1;32m--> 113\u001b[1;33m             \u001b[1;32mif\u001b[0m \u001b[0mself\u001b[0m\u001b[1;33m.\u001b[0m\u001b[0mquitting\u001b[0m\u001b[1;33m:\u001b[0m \u001b[1;32mraise\u001b[0m \u001b[0mBdbQuit\u001b[0m\u001b[1;33m\u001b[0m\u001b[1;33m\u001b[0m\u001b[0m\n\u001b[0m\u001b[0;32m    114\u001b[0m         \u001b[1;32mreturn\u001b[0m \u001b[0mself\u001b[0m\u001b[1;33m.\u001b[0m\u001b[0mtrace_dispatch\u001b[0m\u001b[1;33m\u001b[0m\u001b[1;33m\u001b[0m\u001b[0m\n\u001b[0;32m    115\u001b[0m \u001b[1;33m\u001b[0m\u001b[0m\n",
      "\u001b[1;31mBdbQuit\u001b[0m: "
     ]
    }
   ],
   "source": [
    "import ipdb\n",
    "ipdb.set_trace()\n",
    "\n",
    "fibo_array = []\n",
    "for n in range(5):\n",
    "    fibo_array.append(calc_fibo(n))"
   ]
  },
  {
   "cell_type": "markdown",
   "metadata": {},
   "source": [
    "# Exercise"
   ]
  },
  {
   "cell_type": "markdown",
   "metadata": {},
   "source": [
    "Below you will find a simple implementation of the game [Bulls and Cows](https://en.wikipedia.org/wiki/Bulls_and_Cows). Use debugging to \"hack\" the game and uncover the secret sequence."
   ]
  },
  {
   "cell_type": "code",
   "execution_count": 30,
   "metadata": {},
   "outputs": [],
   "source": [
    "def play_bulls_and_cows():\n",
    "\n",
    "    import numpy\n",
    "\n",
    "    secret = numpy.random.permutation(range(10))[:4]\n",
    "\n",
    "    print('welcome to Bullseye')\n",
    "\n",
    "    game_on = True\n",
    "    while game_on:\n",
    "        raw_guess = str(input('Enter guess (4 digits, e.g. 1234)\\n'))\n",
    "        print('raw guess '+raw_guess)\n",
    "        assert(len(raw_guess)==4)\n",
    "        guess = [int(digit) for digit in raw_guess]\n",
    "        assert(len(set(guess))==4)\n",
    "\n",
    "        # Grading\n",
    "        bulleyes = 0\n",
    "        hits = 0\n",
    "        for n, digit in enumerate(guess):\n",
    "            if digit == secret[n]:\n",
    "                bulleyes += 1\n",
    "            elif digit in secret:\n",
    "                hits += 1\n",
    "        if bulleyes == 4:\n",
    "            print('You win!\\n')\n",
    "            game_on = False\n",
    "        else:\n",
    "            print(str(bulleyes)+' bulleyes and '+str(hits)+' hits\\n')"
   ]
  },
  {
   "cell_type": "markdown",
   "metadata": {},
   "source": [
    "# Version Control"
   ]
  },
  {
   "cell_type": "markdown",
   "metadata": {},
   "source": [
    "Suppose you have a library that you tested and it is working. One day, you decide to refactor it. Maybe you want to optimise it and make it faster, or add more features. The problem is that whenever you change the code you are running the risk of breaking it. The best tool against this is version control. Version control lets you save multiple versions of your code, and load a previous version in case something breaks. It also lets you [collaborate more effectively](https://www.atlassian.com/git/tutorials/comparing-workflows). The most popular version control system today is [git](https://git-scm.com/doc?fbclid=IwAR1YxT3x6XCvpcLC1x4HCS7saF5hPAKkfr4t_IMlkk7tu9xN7FwDmgF4TBY), and the most popular repository hosting services are github and bitbucket. Below are the most commonly used commands:\n",
    "* clone - Creates a copy of the repository on your local machine\n",
    "* pull - Changes your local copy such that it would be the same as the one on the server\n",
    "* commit - Records local changes locally\n",
    "* push - Transmit commits to server"
   ]
  },
  {
   "cell_type": "markdown",
   "metadata": {},
   "source": [
    "In addition, git also provides another set of commands that is especially useful for refactoring. The basic problem here is that between the current state of the code and the state of the code after refactoring, the code might be broken. This can be a problem, since you might also want to use the code in the mean while. The solution is to make two copies of the code, one that is operational, and another which is safe to break. This is called branching. After you are done making changes on the second copy and you are satisfied by the result, you can merge back the two copies of the code. The corresponding command are adequately called \"branch\" and \"merge\". The command \"checkout\" lets you switch between branches."
   ]
  },
  {
   "cell_type": "markdown",
   "metadata": {},
   "source": [
    "# Continuous Integration"
   ]
  },
  {
   "cell_type": "markdown",
   "metadata": {},
   "source": [
    "Ideally, you'd like to test the code every time you make a change. However, doing this manually would be extremely tedious. Luckily for us, we can get a computer to do it for us. This practice is called continuous integration. The way it works is that you have a server that listens to the repository, and run a series of tests whenever a commit is pushed. One of the more popular continuous integration tools is Travis CI. Setting up continuous integration would take too long for this tutorial, but you can see an example that I've already set up [here](https://travis-ci.org/bolverk/huji-rich). If nothing else, continuous integration can help you when you argue with your colleagues about who broke the code, as seen in the example below."
   ]
  },
  {
   "cell_type": "markdown",
   "metadata": {},
   "source": [
    "<img src='travis_demo.jpg'>"
   ]
  },
  {
   "cell_type": "markdown",
   "metadata": {},
   "source": [
    "# Principles of Design"
   ]
  },
  {
   "cell_type": "markdown",
   "metadata": {},
   "source": [
    "## DRY - Don't repeat yourself"
   ]
  },
  {
   "cell_type": "markdown",
   "metadata": {},
   "source": [
    "The two functions below do the same thing, but have different designs. Is one design better than the other? Why?"
   ]
  },
  {
   "cell_type": "code",
   "execution_count": 31,
   "metadata": {},
   "outputs": [
    {
     "data": {
      "text/plain": [
       "[[0.955336489125606,\n",
       "  0.9950041652780258,\n",
       "  0.2955202066613396,\n",
       "  -0.09983341664682815,\n",
       "  0.3093362496096233,\n",
       "  -0.10033467208545055],\n",
       " [0.955336489125606,\n",
       "  0.9950041652780258,\n",
       "  0.2955202066613396,\n",
       "  -0.09983341664682815,\n",
       "  0.3093362496096233,\n",
       "  -0.10033467208545055]]"
      ]
     },
     "execution_count": 31,
     "metadata": {},
     "output_type": "execute_result"
    }
   ],
   "source": [
    "def trigo_galore_a(x,y):\n",
    "    \n",
    "    import math\n",
    "    \n",
    "    return [math.cos(x+y),\n",
    "            math.cos(x-y),\n",
    "            math.sin(x+y),\n",
    "            math.sin(x-y),\n",
    "            math.tan(x+y),\n",
    "            math.tan(x-y)]\n",
    "\n",
    "def trigo_galore_b(x,y):\n",
    "    \n",
    "    import math\n",
    "    \n",
    "    res = []\n",
    "    for func1 in [math.cos, math.sin, math.tan]:\n",
    "        for func2 in [lambda a,b:a+b, lambda a,b:a-b]:\n",
    "            res.append(func1(func2(x,y)))\n",
    "    return res\n",
    "\n",
    "[trigo_galore_a(0.1, 0.2), trigo_galore_b(0.1, 0.2)]"
   ]
  },
  {
   "cell_type": "markdown",
   "metadata": {},
   "source": [
    "## Encapsulation"
   ]
  },
  {
   "cell_type": "markdown",
   "metadata": {},
   "source": [
    "Which is the better way of storing info? Consider the following inventory list"
   ]
  },
  {
   "cell_type": "code",
   "execution_count": 36,
   "metadata": {},
   "outputs": [],
   "source": [
    "# First option\n",
    "item_names = ['invisibility cloak', 'magic potion', 'excalibur', 'winged sandals']\n",
    "item_amount = [4,3,1,0]\n",
    "\n",
    "# Second option\n",
    "inventory = [('invisibility cloak', 4),\n",
    "             ('magic potion', 3),\n",
    "             ('excalibur', 1),\n",
    "             ('winged sandals', 0)]"
   ]
  },
  {
   "cell_type": "markdown",
   "metadata": {},
   "source": [
    "## Polymorphism"
   ]
  },
  {
   "cell_type": "markdown",
   "metadata": {},
   "source": [
    "In the next example we consider two ways to implement a calculator function, i.e. one that accepts arguments and a type of arithmetic operation and returns the result"
   ]
  },
  {
   "cell_type": "code",
   "execution_count": 41,
   "metadata": {},
   "outputs": [
    {
     "data": {
      "text/plain": [
       "[5, 5]"
      ]
     },
     "execution_count": 41,
     "metadata": {},
     "output_type": "execute_result"
    }
   ],
   "source": [
    "def calculator_eval_a(x, y, op):\n",
    "    \n",
    "    if op=='+':\n",
    "        return x+y\n",
    "    if op=='-':\n",
    "        return x-y\n",
    "    if op=='*':\n",
    "        return x*y\n",
    "    if op=='/':\n",
    "        return x/y\n",
    "    raise('Unknown operation')\n",
    "    \n",
    "def calculator_eval_b(x, y, op):\n",
    "    \n",
    "    func_dict = {'+': lambda a,b:a+b,\n",
    "                 '-': lambda a,b:a-b,\n",
    "                 '*': lambda a,b:a*b,\n",
    "                 '/': lambda a,b:a/b}\n",
    "    return func_dict[op](x,y)\n",
    "\n",
    "[calculator_eval_a(2,3,'+'), calculator_eval_b(2,3,'+')]"
   ]
  },
  {
   "cell_type": "markdown",
   "metadata": {},
   "source": [
    "## Object Oriented Design"
   ]
  },
  {
   "cell_type": "markdown",
   "metadata": {},
   "source": [
    "Suppose we want to write a computerised version of Dungeons and Dragons"
   ]
  },
  {
   "cell_type": "code",
   "execution_count": 62,
   "metadata": {},
   "outputs": [
    {
     "name": "stdout",
     "output_type": "stream",
     "text": [
      "Caramon Majere hp = 14\n",
      "Raistlin Majere uses Fireball on Caramon Majere\n",
      "Caramon Majere hp = 11\n",
      "Crysania Tarinius uses Heal on Caramon Majere\n",
      "Caramon Majere hp = 17\n"
     ]
    }
   ],
   "source": [
    "import numpy\n",
    "\n",
    "class Warrior:\n",
    "    \n",
    "    def __init__(self, name):\n",
    "        \n",
    "        self.name_ = name\n",
    "        hp = sum(numpy.random.randint(1,6,size=8))\n",
    "        self.max_hp_ = hp\n",
    "        self.current_hp_ = hp\n",
    "    \n",
    "    actions = {'Slash':lambda: numpy.random.randint(1,10), \n",
    "               'Stab':lambda: numpy.random.randint(3,7)}\n",
    "    \n",
    "class Mage:\n",
    "    \n",
    "    def __init__(self, name):\n",
    "        \n",
    "        self.name_ = name\n",
    "        hp = sum(numpy.random.randint(1,6,size=4))\n",
    "        self.max_hp_ = hp\n",
    "        self.current_hp_ = hp\n",
    "        \n",
    "    actions = {'Fireball': lambda: numpy.random.randint(1,20)}\n",
    "    \n",
    "class Cleric:\n",
    "    \n",
    "    def __init__(self, name):\n",
    "        \n",
    "        self.name_ = name\n",
    "        hp = sum(numpy.random.randint(1,6,size=6))\n",
    "        self.max_hp_ = hp\n",
    "        self.current_hp_ = hp\n",
    "        \n",
    "    actions = {'Heal':lambda:numpy.random.randint(-10,-1)}\n",
    "    \n",
    "def do_action(source, action_name, target, announce=False):\n",
    "    \n",
    "    if announce:\n",
    "        print(source.name_+' uses '+action_name+' on '+target.name_)\n",
    "    \n",
    "    hp_change = source.actions[action_name]()\n",
    "    target.current_hp_ -= hp_change\n",
    "    \n",
    "caramon = Warrior('Caramon Majere')\n",
    "raistlin = Mage('Raistlin Majere')\n",
    "crysania = Cleric('Crysania Tarinius')\n",
    "\n",
    "print(caramon.name_+' hp = '+str(caramon.current_hp_))\n",
    "do_action(raistlin, 'Fireball', caramon, announce=True)\n",
    "print(caramon.name_+' hp = '+str(caramon.current_hp_))\n",
    "do_action(crysania, 'Heal', caramon, announce=True)\n",
    "print(caramon.name_+' hp = '+str(caramon.current_hp_))"
   ]
  },
  {
   "cell_type": "markdown",
   "metadata": {},
   "source": [
    "# Projects"
   ]
  },
  {
   "cell_type": "markdown",
   "metadata": {},
   "source": [
    "## Axelrod's Tournament"
   ]
  },
  {
   "cell_type": "markdown",
   "metadata": {},
   "source": [
    "In the 70s the political scientist Robert Axelrod ran a virtual [tournament](https://en.wikipedia.org/wiki/The_Evolution_of_Cooperation#Axelrod's_tournaments). Each round, two bots would play a few rounds of the [prisoner's dilemma](https://en.wikipedia.org/wiki/Prisoner%27s_dilemma). He solicited bot strategies from about 200 experts in related fields to determine the optimal strategy.\n",
    "\n",
    "In this exercise you will recreate the experiment in python. Each round each bot makes a secret decision, to cooperate or defect. If both coopereate, they both score 3 points. If both defect, both score 1 point. If one defects while the other cooperates, then the former gets 5 points while the latter gets zero points. \n",
    "\n",
    "Create an infrastructure to pit different strategies against each other. Implement these strategies and compare their performances. Have each round last 20 turns.\n",
    "Always defect - Always choose defect\n",
    "Always cooperate - Always choose to cooperate\n",
    "Random - Choose at random\n",
    "Resentful - Start by cooperating, but if the other player defects then choose defect for the remainder of the match\n",
    "Tit for Tat - Start by cooperating, continue by playing the other player's previous choice\n",
    "\n",
    "See [here](https://ncase.me/trust/) for an interactive demo."
   ]
  },
  {
   "cell_type": "markdown",
   "metadata": {},
   "source": [
    "## Initial Value Problem"
   ]
  },
  {
   "cell_type": "markdown",
   "metadata": {},
   "source": [
    "Create a framework for solving first order ODEs. Implement both [Euler's method](https://en.wikipedia.org/wiki/Euler_method) and the [Runge Kutta method](https://en.wikipedia.org/wiki/Runge%E2%80%93Kutta_methods). Use both methods to solve both differential equations\n",
    "\n",
    "$$\\frac{d y}{d x} = \\sin \\left(x\\right) y$$\n",
    "\n",
    "$$\\frac{d y}{d x} = - \\frac{y}{y^2+0.1}$$\n",
    "\n",
    "with initial conditions $y \\left(0\\right) = 1$. Integrate to $x=1$ with step size $\\Delta x = 10^{-3}$."
   ]
  },
  {
   "cell_type": "markdown",
   "metadata": {},
   "source": [
    "## Coin Superposition Game"
   ]
  },
  {
   "cell_type": "markdown",
   "metadata": {},
   "source": [
    "Imagine there's a machine with four compartments arranged on the vertices of a square. Each one contains a coin, which is either heads or tails. Each turn, you can choose to compartments that you can open, and then you can choose whether you want to flip none, one or both coins. After that, you close the compartments, and the machine spins fast (so you can't follow it) and stops at some random orientation. The object of the game is to have all coins facing the same way, starting from some random configuration. See this [video](https://www.youtube.com/watch?v=WcA-1QOHeeA) for more info and a solution.\n",
    "\n",
    "Implement this game in python, where the user issues instructions through a text interface."
   ]
  },
  {
   "cell_type": "code",
   "execution_count": null,
   "metadata": {},
   "outputs": [],
   "source": []
  }
 ],
 "metadata": {
  "kernelspec": {
   "display_name": "Python 3",
   "language": "python",
   "name": "python3"
  },
  "language_info": {
   "codemirror_mode": {
    "name": "ipython",
    "version": 3
   },
   "file_extension": ".py",
   "mimetype": "text/x-python",
   "name": "python",
   "nbconvert_exporter": "python",
   "pygments_lexer": "ipython3",
   "version": "3.7.4"
  }
 },
 "nbformat": 4,
 "nbformat_minor": 2
}

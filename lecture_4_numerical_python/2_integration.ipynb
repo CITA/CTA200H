{
 "cells": [
  {
   "cell_type": "markdown",
   "metadata": {},
   "source": [
    "# Integration\n",
    "\n",
    "Research in astrophysics frequently involves evaluating integrals numerically. The basic idea behind numerical \"quadrature\" is that a definite integral of a function can be approximated by a sum over evaluations of that function multiplied by quadrature \"weights\":\n",
    "\n",
    "\\begin{equation}\n",
    "    \\int_a^b f(x)\\text{d}x \\approx \\sum_n w_n f(x_n), \\hspace{1em} x_n\\in[a,b]\n",
    "\\end{equation}\n",
    "\n",
    "Depending on the function $f$, different choices of weights $w_n$ and grid-points $x_n$ can lead to improvements in accuracy (to floating-point error, in some cases). One of the simplest quadratures, known as the trapezoidal rule, approximates a definite integral as the sum of the areas of trapezoids defined by the endpoints of line segments along the curve defined by $f$:\n",
    "\n",
    "\\begin{align}\n",
    "    \\int_a^b f(x)\\text{d}x \n",
    "    &\\approx \\sum_N \\text{[area of trapezoid defined by the four points }(x_n,0),(x_n,f(x_n)),(x_{n+1},0),(x_{n+1},f(x_{n+1}))],\n",
    "\\\\\n",
    "    &=\\sum_{n=0}^{N-2}\\frac{1}{2}(x_{n+1}-x_n)[f(x_n) + f(x_{n+1})]\n",
    "\\end{align}\n",
    "on an interval with $N$ grid-points $x_0,...,x_{N-1}$. For a grid of evenly spaced points with grid-size $\\Delta x$, this simplifies further to $\\Delta x[f(x_0)/2 + f(x_1) + ... + f(x_{N-2}) + f(x_{N-1})/2]$. Here's an example of a function that applies the trapezdoidal rule while  iteratively halving the grid-spacing until the integral converges:"
   ]
  },
  {
   "cell_type": "code",
   "execution_count": null,
   "metadata": {},
   "outputs": [],
   "source": [
    "import numpy as np\n",
    "import matplotlib.pyplot as plt\n",
    "\n",
    "def trapz_int(f,a,b,tol=1e-10,maxits=100):\n",
    "    '''\n",
    "        uses the trapezoidal rule to compute the definite integral \n",
    "        int_a^b f(x)dx, iteratively increasing the number of grid\n",
    "        points used for quadrature until the solution converges\n",
    "        \n",
    "        Inputs:\n",
    "            f       function to integrate\n",
    "            a       starting point of integration\n",
    "            b       en-point of integration\n",
    "            tol     tolerance for change in subsequent iterations\n",
    "            maxits  maximum number of iterations\n",
    "        Outputs:\n",
    "            I       definite integral int_a^b f(x)dx\n",
    "    '''\n",
    "    # evaluate initial approximation to the integral:\n",
    "    dx= (b-a)                  # coursest possible grid-spacing\n",
    "    I = dx*(f(b)/2. + f(a)/2.) # roughest approximation to integral\n",
    "    N = 2                      # smallest number of grid-pointsS\n",
    "    \n",
    "    # iteratively refine by halving the grid-spacing:\n",
    "    itr= 0\n",
    "    while itr<maxits:\n",
    "        dx_new = dx/2. # decrease grid-spacing\n",
    "        N += 2**itr    # increase number of grid-points\n",
    "        x_eval = np.linspace(a,b,N)[1:-1][::2] # this indexing takes only the grid-points we haven't evaluated yet\n",
    "        I_new = I*dx_new/dx \\\n",
    "              + np.sum(f(x_eval))*dx_new\n",
    "        print(f'iteration {itr} ({N} points): {100*(I_new-I)/I:.4e}% change')\n",
    "        if abs(I_new-I)<tol:\n",
    "            break        \n",
    "        itr+=1\n",
    "        dx = dx_new\n",
    "        I = I_new\n",
    "\n",
    "    if itr==maxits:\n",
    "        print(f'integral did not converge after {itr} refinements')\n",
    "    else:\n",
    "        print('integral converged!')\n",
    "    return I"
   ]
  },
  {
   "cell_type": "markdown",
   "metadata": {},
   "source": [
    "Let's use this function to calculate the integral $\\int_0^5 dx (x^2 + 3)$, which has the exact answer $5^3 / 3 + 3\\times5\\simeq 56.667$:"
   ]
  },
  {
   "cell_type": "code",
   "execution_count": null,
   "metadata": {},
   "outputs": [],
   "source": [
    "%%time\n",
    "ans = 5.**3 / 3 + 3 * 5.\n",
    "tst = trapz_int(f=lambda x: x**2 + 3,a=0,b=5,tol=1e-10)\n",
    "print(f'error of {(ans - tst)/ans*100:.4e}% ')"
   ]
  },
  {
   "cell_type": "markdown",
   "metadata": {},
   "source": [
    "This converged reasonably well, but it required evaluating our function at a lot of points. Scipy includes a wrapper for a Fortran routine that uses a much more accurate, and also efficient quadrature (see https://en.wikipedia.org/wiki/Gaussian_quadrature):"
   ]
  },
  {
   "cell_type": "code",
   "execution_count": null,
   "metadata": {},
   "outputs": [],
   "source": [
    "from scipy.integrate import quad\n",
    "quad?"
   ]
  },
  {
   "cell_type": "code",
   "execution_count": null,
   "metadata": {},
   "outputs": [],
   "source": [
    "%%time \n",
    "I, err = quad(func=lambda x: x**2 + 3, a=0, b=5, epsabs=1.e-15)\n",
    "print (I, err)"
   ]
  },
  {
   "cell_type": "markdown",
   "metadata": {},
   "source": [
    "### Integration of a pre-sampled function\n",
    "\n",
    "In astrophysics we frequently need to calculate the area under the curve of a function pre-sampled at fixed points. The approach to integrating over a pre-sampled function isn't any different in principle, but we no longer have the option of iteratively refining our answer until the solution converges. \n",
    "\n",
    "### Exercise\n",
    "Write a function, called trapz_fixed_int(f,x), that takes as input an array of samples $f$ of a function $f$ at an array of grid-points $x$, and uses the trapezoidal rule to compute the definite integral $\\int_a^bf\\text{d}x$, where $a$ and $b$ are the end-points $x[0]$ and $x[-1]$."
   ]
  },
  {
   "cell_type": "code",
   "execution_count": null,
   "metadata": {},
   "outputs": [],
   "source": [
    "xx = np.linspace(0,5,1000)"
   ]
  },
  {
   "cell_type": "code",
   "execution_count": null,
   "metadata": {},
   "outputs": [],
   "source": [
    "%%time \n",
    "tst= trapz_fixed_int(xx**2 + 3,xx)\n",
    "print(f'error of {(ans - tst)/ans*100:.4e}% ')"
   ]
  },
  {
   "cell_type": "markdown",
   "metadata": {},
   "source": [
    "Scipy also includes some ready-to-use functions for integrating over pre-sampled points:"
   ]
  },
  {
   "cell_type": "code",
   "execution_count": null,
   "metadata": {},
   "outputs": [],
   "source": [
    "from scipy.integrate import trapezoid,simpson"
   ]
  },
  {
   "cell_type": "code",
   "execution_count": null,
   "metadata": {},
   "outputs": [],
   "source": [
    "%%time \n",
    "# this should give the same answer as trapz_fixed_int\n",
    "tst= trapezoid(y=xx**2 + 3,x=xx)\n",
    "print(f'error of {(ans - tst)/ans*100:.4e}% ')"
   ]
  },
  {
   "cell_type": "code",
   "execution_count": null,
   "metadata": {},
   "outputs": [],
   "source": [
    "%%time \n",
    "tst= simpson(y=xx**2 + 3,x=xx)\n",
    "print(f'error of {(ans - tst)/ans*100:.4e}% ')"
   ]
  },
  {
   "cell_type": "markdown",
   "metadata": {},
   "source": [
    "# Interpolation\n",
    "\n",
    "We often have data sampled at a relatively small number of points, and so we need to interpolate between them. There are a number of different ways to interpolate functions (many of which are very closely related to the numerical integration described above). Scipy has a few built-in options that do reasonably well:"
   ]
  },
  {
   "cell_type": "code",
   "execution_count": null,
   "metadata": {},
   "outputs": [],
   "source": [
    "from scipy.interpolate import interp1d,CubicSpline,splrep,splev"
   ]
  },
  {
   "cell_type": "markdown",
   "metadata": {},
   "source": [
    "Let's try interpolating the function $f(x) = e^{-x}  \\sin(2  \\pi  x)$ using only a small number of points:"
   ]
  },
  {
   "cell_type": "code",
   "execution_count": null,
   "metadata": {},
   "outputs": [],
   "source": [
    "# define and sample the function at a small number of points\n",
    "def myf(x):\n",
    "    return (np.exp(-x)) * np.sin(2 * np.pi * x)\n",
    "x_coarse = np.linspace(0,2,8)\n",
    "data = myf(x_coarse)\n",
    "\n",
    "# construct interpolation functions:\n",
    "linterp = interp1d(x=x_coarse,y=data,kind='linear')\n",
    "splterp = splrep(x=x_coarse,y=data)\n",
    "csplterp= CubicSpline(x=x_coarse,y=data)\n",
    "\n",
    "# evaluate and plot the interpolation functions\n",
    "x_fine = np.linspace(0,2,1000) \n",
    "truth = myf(x_fine)\n",
    "\n",
    "f,ax = plt.subplots(2,1,figsize=(10,8),sharex=True)\n",
    "ax[0].plot(x_coarse,data,'ko')\n",
    "ax[0].plot(x_fine,linterp(x_fine),label='linear')\n",
    "ax[0].plot(x_fine,csplterp(x_fine),label='Spline #1')\n",
    "ax[0].plot(x_fine,splev(x_fine,splterp),label='Spline #2')\n",
    "ax[0].plot(x_fine,truth,'k',label='Truth')\n",
    "ax[0].legend(fontsize=12)\n",
    "ax[0].set_ylabel('$f(x)$')\n",
    "\n",
    "# now plot residuals from the function evaluation:\n",
    "for terp in [linterp(x_fine),csplterp(x_fine),splev(x_fine,splterp)]:\n",
    "    ax[1].plot(x_fine,terp - truth)\n",
    "ax[1].set_ylabel('Residual')\n",
    "ax[1].set_xlabel('$x$')"
   ]
  }
 ],
 "metadata": {
  "kernelspec": {
   "display_name": "Python 3 (ipykernel)",
   "language": "python",
   "name": "python3"
  },
  "language_info": {
   "codemirror_mode": {
    "name": "ipython",
    "version": 3
   },
   "file_extension": ".py",
   "mimetype": "text/x-python",
   "name": "python",
   "nbconvert_exporter": "python",
   "pygments_lexer": "ipython3",
   "version": "3.9.13"
  }
 },
 "nbformat": 4,
 "nbformat_minor": 1
}

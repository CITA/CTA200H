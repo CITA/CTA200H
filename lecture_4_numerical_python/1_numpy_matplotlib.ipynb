{
 "cells": [
  {
   "cell_type": "markdown",
   "metadata": {},
   "source": [
    "# Intro to Numerical Computing\n",
    "\n",
    "This lecture focuses on numerical methods for solving typical problems in physics and astrophysics. To start, we will look at how to use some Python libraries that will make this process easier. The most essential of these are Numpy and Matplotlib. Numpy introduces arrays, and Matplotlib allows us to visualize data.\n",
    "\n",
    "## Numpy\n",
    "\n",
    "Numpy equips Python with additional mathematical functionality. Importantly, Numpy includes a data structure called an \"array\". Numpy arrays behave similarly to Python lists, but have some important differences:\n",
    "\n",
    "1. Arrays are fixed size, i.e. you cannot append or delete elements (without creating a new array and deleting the old one).\n",
    "2. Because of their definite size, and because of optimized C/Fortran code, arrays are faster for most operations.\n",
    "3. Arrays simplify indexing in more than one dimension.\n",
    "4. Arrays have a much larger set of mathematical operations, behaving similarly to vectors and matrices (but with some important differences).\n",
    "\n",
    "Lets explore how to make and manipulate numpy arrays"
   ]
  },
  {
   "cell_type": "code",
   "execution_count": null,
   "metadata": {},
   "outputs": [],
   "source": [
    "# import numpy and matplotlib\n",
    "import numpy as np\n",
    "import matplotlib.pyplot as plt"
   ]
  },
  {
   "cell_type": "code",
   "execution_count": null,
   "metadata": {},
   "outputs": [],
   "source": [
    "# A really simple array\n",
    "array = np.zeros(3)\n",
    "print(array)"
   ]
  },
  {
   "cell_type": "code",
   "execution_count": null,
   "metadata": {},
   "outputs": [],
   "source": [
    "# A really simple 2D array\n",
    "array_2d = np.ones((3, 3))\n",
    "print(array_2d)"
   ]
  },
  {
   "cell_type": "code",
   "execution_count": null,
   "metadata": {},
   "outputs": [],
   "source": [
    "# The 3D Identity Matrix\n",
    "I = np.eye(3)\n",
    "print(I)"
   ]
  },
  {
   "cell_type": "code",
   "execution_count": null,
   "metadata": {},
   "outputs": [],
   "source": [
    "# Some arrays with various values\n",
    "arr1 = np.array([1, 2, 3])\n",
    "arr2 = np.array([4, 6, 7])\n",
    "\n",
    "# Addition\n",
    "print(\"Addition:\", arr1 + arr2)\n"
   ]
  },
  {
   "cell_type": "code",
   "execution_count": null,
   "metadata": {},
   "outputs": [],
   "source": [
    "# Dot product\n",
    "print(\"Dot product:\", arr1.dot(arr2))\n",
    "print(\"Dot Product:\", arr1 @ arr2)"
   ]
  },
  {
   "cell_type": "code",
   "execution_count": null,
   "metadata": {},
   "outputs": [],
   "source": [
    "# Outer product\n",
    "print(\"Outer Product:\\n\", np.outer(arr1, arr2))"
   ]
  },
  {
   "cell_type": "code",
   "execution_count": null,
   "metadata": {},
   "outputs": [],
   "source": [
    "# Transpose\n",
    "print(\"Transpose of Outer Product:\\n\", np.outer(arr1, arr2).T)"
   ]
  },
  {
   "cell_type": "code",
   "execution_count": null,
   "metadata": {},
   "outputs": [],
   "source": [
    "# dot product of a matrix with a vector:\n",
    "print(\"Dot product of a matrix with a vector:\\n\", np.outer(arr1, arr2).dot(arr1))\n",
    "print(\"Dot product of a matrix with a matrix:\\n\", np.outer(arr1, arr2).dot(np.outer(arr1, arr2).T))"
   ]
  },
  {
   "cell_type": "markdown",
   "metadata": {},
   "source": [
    "The library numpy.linalg (see also scipy.linalg) provides access to a wide range of linear algebra routines. For example, we can invert a matrix:"
   ]
  },
  {
   "cell_type": "code",
   "execution_count": null,
   "metadata": {},
   "outputs": [],
   "source": [
    "# create a random 3x3 matrix:\n",
    "A = np.random.rand(3,3)\n",
    "print(A)\n",
    "\n",
    "# compute its inverse:\n",
    "A_inv = np.linalg.inv(A)\n",
    "print(A_inv)\n",
    "\n",
    "# check that A_inv.A gives the identity (to machine precision):\n",
    "print(np.round(A_inv @ A,decimals=14))"
   ]
  },
  {
   "cell_type": "markdown",
   "metadata": {},
   "source": [
    "### Exercise\n",
    "\n",
    "Solve the system of equations $\\mathcal{A} \\vec x = \\vec b$ using numpy where $\\mathcal{A}$ and $\\vec b$ are defined below."
   ]
  },
  {
   "cell_type": "code",
   "execution_count": null,
   "metadata": {},
   "outputs": [],
   "source": [
    "A = np.array(\n",
    "    [[0, 0, 1],\n",
    "     [1, 1, 1],\n",
    "     [4, 2, 1]]\n",
    ")\n",
    "\n",
    "b = np.array([6, 0, 0])"
   ]
  },
  {
   "cell_type": "markdown",
   "metadata": {},
   "source": [
    "## Speeding Up Calculation with Numpy\n",
    "\n",
    "Numpy is also useful because it can often speed up calculations which are otherwise slow in Python. In languages such as C, the compiler can often perform what is called vectorization, which is when a for loop where the $i+1-$th step does not depend on the $i-$th step can be \"unrolled\" and the processor can do more than one of the iterations at a time. However, since Python is interpreted it does not have the prior knowledge needed to do this, so for loops must run one iteration at a time.\n",
    "\n",
    "To get around this, in some problems it is possible to write our own vector expression using numpy that may be much faster. First lets see how we can time our code to test this."
   ]
  },
  {
   "cell_type": "code",
   "execution_count": null,
   "metadata": {},
   "outputs": [],
   "source": [
    "%%time\n",
    "# ^ We can use this in a jupyter notebook which is quite convenient\n",
    "\n",
    "N = 1000000\n",
    "lst = [i for i in range(N)]\n",
    "\n",
    "for i in range(N):\n",
    "    lst[i] = lst[i]**3 + 5.5 * lst[i]**2"
   ]
  },
  {
   "cell_type": "code",
   "execution_count": null,
   "metadata": {},
   "outputs": [],
   "source": [
    "%%time\n",
    "\n",
    "arr = np.arange(N)\n",
    "arr = arr**3 + 5.5 * arr**2"
   ]
  },
  {
   "cell_type": "code",
   "execution_count": null,
   "metadata": {},
   "outputs": [],
   "source": [
    "np.all(arr == lst)"
   ]
  },
  {
   "cell_type": "markdown",
   "metadata": {},
   "source": [
    "### Exercise\n",
    "\n",
    "Below I have generated some fake data and the coefficients of a best fit line. Compute the following measure of error between the data and the line:\n",
    "\n",
    "$$ \\epsilon = \\frac{\\sum (y_i - y)^2}{N}$$\n",
    "\n",
    "where $y_i$ is the $i-$th observed data point, $y = m x_i + b$ and $N$ is the number of points. Do the calculation using both a for loop and then with numpy arithmetic only and time each one."
   ]
  },
  {
   "cell_type": "code",
   "execution_count": null,
   "metadata": {},
   "outputs": [],
   "source": [
    "m, b = 0.1, 1.8\n",
    "\n",
    "N = 1000000\n",
    "x = np.linspace(0, 100, N)\n",
    "y = m * x + b + 0.1 * np.random.randn(N)"
   ]
  },
  {
   "cell_type": "markdown",
   "metadata": {},
   "source": [
    "## Basic Plotting with Matplotlib\n",
    "\n",
    "The most basic function in matplotlib.pyplot is \"plot\", which plots array-like (i.e., an array or a list) arguments x and y against one another:"
   ]
  },
  {
   "cell_type": "code",
   "execution_count": null,
   "metadata": {},
   "outputs": [],
   "source": [
    "x = np.linspace(0, 2 * np.pi, 500)\n",
    "y = np.exp(-0.3 * x) * np.sin(10 * x)\n",
    "\n",
    "plt.plot(x, y)\n",
    "plt.xlabel(\"X\")\n",
    "plt.ylabel(\"Y\")\n",
    "plt.show()"
   ]
  },
  {
   "cell_type": "markdown",
   "metadata": {},
   "source": [
    "We can also create all sorts of more complicated plots. Of course I can't show everything here, but here are some common things. See the matplotlib website for more."
   ]
  },
  {
   "cell_type": "code",
   "execution_count": null,
   "metadata": {},
   "outputs": [],
   "source": [
    "fig, ax = plt.subplots(2, 2, dpi=100, figsize=(10, 7))\n",
    "\n",
    "x = np.linspace(0, 2 * np.pi, 500)\n",
    "y = np.exp(-0.3 * x) * np.sin(10 * x)\n",
    "\n",
    "ax[0,0].scatter(x, y)\n",
    "ax[0,0].set_xlabel(\"X\")\n",
    "ax[0,0].set_ylabel(\"Y\")\n",
    "\n",
    "x = np.linspace(0, 10, 100)\n",
    "y1 = np.sin(x)\n",
    "y2 = np.cos(x)\n",
    "\n",
    "ax[0,1].plot(x, y1, 'g--', label=\"Sine\")\n",
    "ax[0,1].plot(x, y2, 'r.', label=\"Cosine\")\n",
    "ax[0,1].legend()\n",
    "ax[0,1].set_xlabel(\"t\")\n",
    "ax[0,1].set_ylabel(\"$f_n(t)$\")\n",
    "\n",
    "\n",
    "data = np.random.randn(1000)\n",
    "data2 = np.random.randn(1000) + 0.3\n",
    "ax[1,0].grid()\n",
    "ax[1,0].hist(data, bins=50, alpha=0.5)\n",
    "ax[1,0].hist(data2, bins=50, alpha=0.5)\n",
    "ax[1,0].set_xlabel(\"Value\")\n",
    "ax[1,0].set_ylabel(\"Count\")\n",
    "\n",
    "x = np.arange(0, 1, 0.001)\n",
    "y = np.exp(-(x - 0.5)**2 / 0.05)\n",
    "ax[1,1].semilogx(x, y)\n",
    "ax[1,1].axvline(0.5, linestyle='--', color='k', alpha=0.3)\n",
    "ax[1,1].axhline(1.0, linestyle=':', color='k', alpha=0.3)\n",
    "ax[1,1].set_xlabel(\"X\")\n",
    "ax[1,1].set_ylabel(\"Y\")\n",
    "ax[1,1].set_xlim(0.01, 1)\n",
    "\n",
    "plt.show()"
   ]
  },
  {
   "cell_type": "markdown",
   "metadata": {},
   "source": [
    "## Plotting with Colormaps\n",
    "\n",
    "Sometimes you want to show a 3rd dimension of the data on a 2D plot, for this we can use a colormap. Here a some simple examples."
   ]
  },
  {
   "cell_type": "code",
   "execution_count": null,
   "metadata": {},
   "outputs": [],
   "source": [
    "x = np.linspace(0, 2 * np.pi, 100)\n",
    "y = np.sin(x)\n",
    "c = x**2\n",
    "\n",
    "plt.figure(figsize=(6,4), dpi=120)\n",
    "plt.scatter(x, y, c=c)\n",
    "plt.colorbar(label=\"Colour\")\n",
    "plt.xlabel(\"X\")\n",
    "plt.ylabel(\"Y\")\n",
    "plt.show()"
   ]
  },
  {
   "cell_type": "code",
   "execution_count": null,
   "metadata": {},
   "outputs": [],
   "source": [
    "x = np.linspace(-2, 2, 100)\n",
    "y = np.linspace(-2, 2, 100)\n",
    "\n",
    "# Generate 2D mesh of coordinates\n",
    "X, Y = np.meshgrid(x, y)\n",
    "\n",
    "# 2D Gaussian on a mesh\n",
    "U = np.exp(-(X**2 + Y**2))\n",
    "\n",
    "plt.figure(dpi=100)\n",
    "plt.contourf(X, Y, U, levels=50)\n",
    "plt.xlabel(\"X\")\n",
    "plt.ylabel(\"Y\")\n",
    "plt.colorbar(label=\"Amplitude\")\n",
    "plt.show()"
   ]
  },
  {
   "cell_type": "markdown",
   "metadata": {},
   "source": [
    "## 3D plotting\n",
    "\n",
    "Matplotlib even includes some options for 3D visualization, although these are fairly limited. PyVista (https://docs.pyvista.org/version/stable/) and Plotly (https://plotly.com/python/) have a few more options."
   ]
  },
  {
   "cell_type": "code",
   "execution_count": null,
   "metadata": {},
   "outputs": [],
   "source": [
    "x = np.linspace(0,3,100)\n",
    "y = np.linspace(0,6,200)\n",
    "X,Y = np.meshgrid(x,y,indexing='ij')\n",
    "Z = np.cos(X)*np.sin(Y)\n",
    "\n",
    "f = plt.figure(figsize=(10,8))\n",
    "ax = f.add_subplot(111,projection='3d')\n",
    "im = ax.plot_surface(X,Y,Z,cmap='inferno')\n",
    "ax.set_xlabel('X')\n",
    "ax.set_ylabel('Y')\n",
    "ax.set_zlabel('Z')\n",
    "cb = plt.colorbar(im,ax=ax,label='Elevation',fraction=0.05,orientation='horizontal',pad=0)"
   ]
  },
  {
   "cell_type": "markdown",
   "metadata": {},
   "source": [
    "# SciPy\n",
    "\n",
    "SciPy is a collection of software for scientific computing. It includes NumPy and matplotlib. As we will see, the SciPy stack also includes libraries with functions to do numerical integration, interpolation, Fourier transforms, statistics, special mathematical functions, and more."
   ]
  }
 ],
 "metadata": {
  "kernelspec": {
   "display_name": "Python 3 (ipykernel)",
   "language": "python",
   "name": "python3"
  },
  "language_info": {
   "codemirror_mode": {
    "name": "ipython",
    "version": 3
   },
   "file_extension": ".py",
   "mimetype": "text/x-python",
   "name": "python",
   "nbconvert_exporter": "python",
   "pygments_lexer": "ipython3",
   "version": "3.9.13"
  }
 },
 "nbformat": 4,
 "nbformat_minor": 2
}

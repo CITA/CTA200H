{
 "cells": [
  {
   "cell_type": "markdown",
   "metadata": {},
   "source": [
    "# Numerical Integration\n",
    "\n",
    "### A first order method\n",
    "\n",
    "Consider the general ODE\n",
    "\n",
    "$$ \\frac{dy}{dt} = f(t, y(t)) $$\n",
    "\n",
    "Then take the taylor expansion of $y(t_0 + h)$, where $h$ is a small number and we are expanding around $t_0$.\n",
    "\n",
    "$$ y(t_0 + h) = y(t_0) + hy'(t_0) + \\frac{1}{2} h^2 y''(t_0) + \\mathcal{O}(h^3) $$\n",
    "\n",
    "Truncating term with $h^2$ or higher, we find\n",
    "\n",
    "$$ y'(t_0) \\approx \\frac{y(t_0 + h) - y(t_0)}{h} $$\n",
    "\n",
    "Which is an approximation of the first derivative and is eccurate to first order.\n",
    "\n",
    "Substituting this in above, we can find that\n",
    "\n",
    "$$ y(t_0 + h) \\approx y(t_0) + h f(t_0, y(t_0)) $$\n",
    "\n",
    "Which is Euler's method.\n",
    "\n",
    "### A second order method\n",
    "\n",
    "Consider a slight modification to the above procedure where we now take a \"predictive\" step to the point midway between the current time and the desired time $t + h/2$. To derive this method, consider:\n",
    "\n",
    "$$ y(t_0 + h) = y(t_0) + hy'(t_0) + \\frac{1}{2} h^2 y''(t_0) + \\frac{1}{6}h^3y'''(t_0) + \\mathcal{O}(h^4) $$\n",
    "\n",
    "$$ y(t_0 - h) = y(t_0) - hy'(t_0) + \\frac{1}{2} h^2 y''(t_0) - \\frac{1}{6}h^3y'''(t_0) + \\mathcal{O}(h^4) $$\n",
    "\n",
    "Then consider\n",
    "\n",
    "$$ y(t_0 + h) - y(t_0 - h) = 2hy'(t_0) + \\frac{1}{3} h^3 y'''(t_0) + \\mathcal{O}(h^4) $$\n",
    "\n",
    "Which truncating terms of order $h^3$ and higher yields\n",
    "\n",
    "$$ y'(t_0) \\approx \\frac{y(t_0 + h) - y(t_0 - h)}{2h} $$\n",
    "\n",
    "Then WLOG, we can transform this central difference to avoid needing \"negative time\" by taking $t_0 -> t_0 + h$ and $h -> h/2$ which yields:\n",
    "\n",
    "$$ y'(t_0 + h/2) \\approx \\frac{y(t_0 + h) - y(t_0)}{h}$$\n",
    "\n",
    "Or:\n",
    "\n",
    "$$ y(t_0 + h) \\approx y(t_0) + hf(t_0 + h/2, y(t_0 + h/2)) $$\n",
    "\n",
    "However, we cannot compute $f(t_0 + h/2, y(t_0 + h/2)$ directly, since we do not know $y(t_0 + h/2)$, but we can approximate this again by a taylor expansion which becomes simply an Euler step and find\n",
    "\n",
    "$$y(t_0 + h/2) \\approx y(t_0) + \\frac{h}{2}hy'(t_0) \\approx y(t_0) + \\frac{h}{2}h f(t_0, y(t_0)) $$\n",
    "\n",
    "So the overall method becomes\n",
    "\n",
    "$$ y(t_0 + h) \\approx y(t_0) + hf(t_0 + \\frac{h}{2}, y(t_0) + \\frac{h}{2}h f(t_0, y(t_0))) $$\n",
    "\n",
    "\n",
    "## A simple integration\n",
    "\n",
    "Consider the first order differential equation\n",
    "\n",
    "$$ \\frac{dy}{dt} = -5y $$\n",
    "\n",
    "with $y(0) = 1$. We can easily solve this analytically to get $y(t) = e^{-5t}$. Lets also try solving this with euler."
   ]
  },
  {
   "cell_type": "code",
   "execution_count": 7,
   "metadata": {},
   "outputs": [],
   "source": [
    "import numpy as np\n",
    "import matplotlib.pyplot as plt"
   ]
  },
  {
   "cell_type": "code",
   "execution_count": 36,
   "metadata": {},
   "outputs": [],
   "source": [
    "def euler_step(f, y0, dt):\n",
    "    return y0 + f(y0) * dt\n",
    "\n",
    "def euler_integrate(N):\n",
    "    t_arr = np.linspace(0, 1, N)\n",
    "    dt = t_arr[1] - t_arr[0]\n",
    "    y = np.zeros(len(t_arr))\n",
    "\n",
    "    y[0] = 1.0\n",
    "\n",
    "    for i in range(1, len(t_arr)):\n",
    "        y[i] = euler_step(lambda y: -5*y, y[i-1], dt)\n",
    "        \n",
    "    return t_arr, y, dt"
   ]
  },
  {
   "cell_type": "code",
   "execution_count": 39,
   "metadata": {},
   "outputs": [
    {
     "data": {
      "image/png": "[encoded data removed]",
      "text/plain": [
       "<Figure size 600x400 with 1 Axes>"
      ]
     },
     "metadata": {
      "needs_background": "light"
     },
     "output_type": "display_data"
    }
   ],
   "source": [
    "t_arr, y, _ = euler_integrate(20)\n",
    "\n",
    "plt.figure(dpi=100)\n",
    "plt.plot(t_arr, y)\n",
    "\n",
    "t = np.linspace(0, 1, 100)\n",
    "y = np.exp(-5 * t)\n",
    "plt.plot(t, y)\n",
    "plt.xlabel(\"t\")\n",
    "plt.ylabel(\"y\")\n",
    "plt.show()"
   ]
  },
  {
   "cell_type": "markdown",
   "metadata": {},
   "source": [
    "We can also see how the error scales with dt. To do this, run for many choices of $N$ and compute the error at $t=1$."
   ]
  },
  {
   "cell_type": "code",
   "execution_count": 51,
   "metadata": {},
   "outputs": [
    {
     "data": {
      "image/png": "[encoded data removed]",
      "text/plain": [
       "<Figure size 600x400 with 1 Axes>"
      ]
     },
     "metadata": {
      "needs_background": "light"
     },
     "output_type": "display_data"
    }
   ],
   "source": [
    "N_arr = np.arange(20, 100, 5)\n",
    "dt_arr = np.zeros(len(N_arr))\n",
    "err_arr = np.zeros(len(N_arr))\n",
    "\n",
    "analytic = np.exp(-5)\n",
    "\n",
    "for i in range(len(N_arr)):\n",
    "    t, y, dt = euler_integrate(N_arr[i])\n",
    "    dt_arr[i] = dt\n",
    "    err_arr[i] = np.abs(y[-1] - analytic) / analytic\n",
    "\n",
    "plt.figure(dpi=100)\n",
    "plt.scatter(dt_arr, err_arr)\n",
    "plt.xlabel(\"$\\Delta t$\")\n",
    "plt.ylabel(\"Error\")\n",
    "plt.show()"
   ]
  },
  {
   "cell_type": "markdown",
   "metadata": {},
   "source": [
    "### Exercise\n",
    "\n",
    "Change the above to the 2nd order scheme we derived. Repeat the error analysis plot and determine that the 2nd order method is indeed 2nd order (hint: make a loglog plot instead)."
   ]
  },
  {
   "cell_type": "markdown",
   "metadata": {},
   "source": [
    "## Using Scipy.Integrate\n",
    "\n",
    "Though writing our own simple numerical integration schemes is not too difficult, for research we usually want to use a more complicatd scheme. Since problems involving ODEs are incredibly common and the schemes are incredibly general, scipy offers an array of integration tools to help you with these types of problems.\n",
    "\n",
    "Here we will integrate the equations for the damped harmonic oscillator using the `dopri5` integrator from scipy, which is a modified RK4 scheme (with slightly better accuracy). We will compare the the (slightly less trivial) analytic solution.\n",
    "\n",
    "The expression for the damped harmonic oscillator is:\n",
    "\n",
    "$$ m \\frac{d^2 x}{dt^2} + c \\frac{dx}{dt} + kx = 0 $$\n",
    "\n",
    "In order to integrate a 2nd order ODE numerically (or in general an n-th order ODE) we need to split it into 2 (in general n) first order ODEs.\n",
    "\n",
    "### Exercise\n",
    "\n",
    "Re-write the ODE as a set of coupled first order ODEs by using a dummy variable, $v$."
   ]
  },
  {
   "cell_type": "code",
   "execution_count": 75,
   "metadata": {},
   "outputs": [
    {
     "data": {
      "image/png": "[encoded data removed]",
      "text/plain": [
       "<Figure size 600x400 with 1 Axes>"
      ]
     },
     "metadata": {
      "needs_background": "light"
     },
     "output_type": "display_data"
    }
   ],
   "source": [
    "\"\"\"\n",
    "Integrate the damped harmonic oscillator with Scipy\n",
    "\"\"\"\n",
    "from scipy.integrate import ode\n",
    "\n",
    "def damped_oscillator(t, y, m, c, k):\n",
    "    \"\"\"\n",
    "    Function for the damped harmonic oscillator.\n",
    "    \n",
    "    Parameters:\n",
    "    t: Time\n",
    "    y: Array of [x, v]\n",
    "    m: mass\n",
    "    c: damping coefficient\n",
    "    k: spring constant\n",
    "    \"\"\"\n",
    "    x, v = y\n",
    "    \n",
    "    return [v, -1/m * (c*v + k*x)]\n",
    "\n",
    "# Set the initial conditions, lets do x=1, v=0\n",
    "y0 = [1.0, 0.0]\n",
    "t0 = 0.0\n",
    "\n",
    "# Choose m, c, k\n",
    "m = 1.0\n",
    "c = 0.1\n",
    "k = 1.0\n",
    "\n",
    "# End time, timestep\n",
    "t_end = 30\n",
    "dt = 0.1\n",
    "\n",
    "# Array to store the results\n",
    "times = [t0]\n",
    "res = [y0]\n",
    "\n",
    "solver = ode(damped_oscillator).set_integrator('dopri5').set_initial_value(y0, t0).set_f_params(m, c, k)\n",
    "\n",
    "# Solve the equation\n",
    "while solver.successful() and solver.t < t_end:\n",
    "    times.append(solver.t + dt)\n",
    "    res.append(solver.integrate(solver.t + dt))\n",
    "    \n",
    "x, v = np.array(res).T\n",
    "times = np.array(times)\n",
    "\n",
    "# plot the results along with the analytic solution\n",
    "plt.figure(dpi=100)\n",
    "plt.plot(times, x, 'r')\n",
    "\n",
    "t = np.linspace(0, 30, 100)\n",
    "x = np.exp(-c/(2 * m) * t) * np.cos(np.sqrt(k/m) * t)\n",
    "\n",
    "plt.plot(t, x, 'k--')\n",
    "plt.xlabel(\"t\")\n",
    "plt.ylabel(\"x\")\n",
    "\n",
    "plt.show()"
   ]
  },
  {
   "cell_type": "markdown",
   "metadata": {},
   "source": [
    "## The Hamiltonian of The Pendulum\n",
    "\n",
    "For a slightly more involved example, consider the hamiltonian of the pendulum. We can integrate this in phase space and explore some of the properties of the integrators for energy conservation. We will here use the solve_ivp method in scipy to see another way to use scipy to integrate an ode.\n",
    "\n",
    "First, the equations:\n",
    "\n",
    "### The Hamiltonian of the pendulum\n",
    "\n",
    "#### $L = \\frac{1}{2} m (l\\dot\\theta)^2 - mgl(1-\\cos\\theta)$\n",
    "\n",
    "#### $p = \\partial L/\\partial \\dot\\theta = m l^2 \\dot\\theta$\n",
    "\n",
    "#### $H = p\\dot\\theta - L = \\frac{p^2}{2ml^2} - mgl\\cos\\theta$\n",
    "\n",
    "#### $\\frac{d\\theta}{dt}= \\frac{\\partial H}{\\partial p} = \\frac{p}{ml^2}$\n",
    "\n",
    "#### $\\frac{d p}{dt} = -\\frac{\\partial H}{\\partial \\theta} = -mgl\\sin\\theta$\n",
    "\n",
    "Which gives us expression for $\\frac{d \\theta}{dt}$ and $\\frac{dp}{dt}$"
   ]
  },
  {
   "cell_type": "code",
   "execution_count": 76,
   "metadata": {},
   "outputs": [],
   "source": [
    "from scipy.integrate import solve_ivp"
   ]
  },
  {
   "cell_type": "code",
   "execution_count": 78,
   "metadata": {},
   "outputs": [],
   "source": [
    "def pendulum(t, y, m, g, l):\n",
    "    \"\"\"\n",
    "    Function the rhs of the ODES for dtheta/dt and dp/dt in the Hamiltonian\n",
    "    of the pendulum.\n",
    "    \"\"\"\n",
    "    theta, p = y\n",
    "    \n",
    "    return [p / (m * l**2), -m * g * l * np.sin(theta)]"
   ]
  },
  {
   "cell_type": "code",
   "execution_count": 79,
   "metadata": {},
   "outputs": [],
   "source": [
    "def energy_theta_p(theta, p):\n",
    "    \"\"\"\n",
    "    Energy of the pendulum given the coordinates theta and p.\n",
    "    \"\"\"\n",
    "    kinetic_energy = 0.5 * p**2 / (m * l**2)\n",
    "    potential_energy = -m * g * l * np.cos(theta)\n",
    "    return(kinetic_energy, potential_energy, kinetic_energy + potential_energy)\n",
    "\n",
    "def energy_y(y):\n",
    "    \"\"\"\n",
    "    Wrapper function for the energy in terms of the vector y.\n",
    "    \"\"\"\n",
    "    theta, p = y\n",
    "    return energy_theta_p(theta, p)\n",
    "\n",
    "def mod_2pi(theta):\n",
    "    \"\"\"\n",
    "    Make sure theta is always within (0, 2*pi).\n",
    "    \"\"\"\n",
    "    theta = np.mod(theta, 2.*np.pi)\n",
    "    theta = np.where(theta > np.pi, theta - 2.*np.pi, theta)\n",
    "    theta = np.where(theta < - np.pi, theta + 2.*np.pi, theta)\n",
    "    return(theta)"
   ]
  },
  {
   "cell_type": "markdown",
   "metadata": {},
   "source": [
    "The separatrix is the boundary between the two types of motion: oscilating back and forward and moving in continuous circles. We can find this by finding the energy where the $p = 0$ at $\\theta = \\pi$, ie:\n",
    "\n",
    "$$ H = H(\\pi, 0) = E_{sep} = mgl $$\n",
    "\n",
    "Then the maximum $p$ along the sparatrix is given by $E_{sep} = \\frac{p^2}{ml^2} + mgl$ which means:\n",
    "\n",
    "$$p_{sep} = \\pm\\sqrt{4ml^2E_{sep}}$$"
   ]
  },
  {
   "cell_type": "code",
   "execution_count": 85,
   "metadata": {},
   "outputs": [],
   "source": [
    "# Setup the parameters\n",
    "m = 100. # grams\n",
    "l = 10. # cm\n",
    "g = 980. # cm/s^2\n",
    "\n",
    "E_sep = m * g * l\n",
    "p_sep = np.sqrt(4 * m * l**2 * E_sep)"
   ]
  },
  {
   "cell_type": "code",
   "execution_count": 107,
   "metadata": {},
   "outputs": [
    {
     "name": "stdout",
     "output_type": "stream",
     "text": [
      "The period of small oscillations is 6.35e-01 s\n"
     ]
    }
   ],
   "source": [
    "# Numer of periods to integrate for\n",
    "num_periods = 50\n",
    "\n",
    "# The period of small oscillations\n",
    "period = 2. * np.pi * np.sqrt(l/g)\n",
    "print(\"The period of small oscillations is {:.2e} s\".format(period))\n",
    "\n",
    "# Tmax for the integration\n",
    "t_max = num_periods * period\n",
    "\n",
    "# Choose three interesting initial conditions\n",
    "y_sep = [ np.pi , 0.] # Very near the separatrix\n",
    "y_fp = [0.1 * np.pi , 0. ] # Near the stable fixed point\n",
    "y_rotate = [0., 1.01 * p_sep] # Rotating, E just above E_separatrix\n",
    "y_rotate_m = [0., -1.01 * p_sep] # Rotating, E just below E_separatrix"
   ]
  },
  {
   "cell_type": "code",
   "execution_count": 113,
   "metadata": {},
   "outputs": [],
   "source": [
    "# Solve the ode for each of the initial conditions.\n",
    "\n",
    "# Error tolerances absolute for each param and relative\n",
    "atol = [3.e-12, 3.e-12]\n",
    "rtol = 3.e-12\n",
    "\n",
    "# Times to evaluate the solution at\n",
    "t_eval = np.linspace(0, t_max, 5000)\n",
    "\n",
    "t_span = [0, t_max]\n",
    "\n",
    "def solve_pendulum_ivp(y0):\n",
    "    return solve_ivp(\n",
    "        fun=lambda t, y: pendulum(t, y, m, g, l),\n",
    "        t_span=t_span,\n",
    "        y0=y0,\n",
    "        t_eval=t_eval,\n",
    "        atol=atol,\n",
    "        rtol=rtol\n",
    "    )\n",
    "\n",
    "\n",
    "sol_theta_sep, sol_p_sep = solve_pendulum_ivp(y_sep).y\n",
    "sol_theta_fp, sol_p_fp = solve_pendulum_ivp(y_fp).y\n",
    "sol_theta_rotate, sol_p_rotate = solve_pendulum_ivp(y_rotate).y\n",
    "sol_theta_rotate_m, sol_p_rotate_m = solve_pendulum_ivp(y_rotate_m).y"
   ]
  },
  {
   "cell_type": "code",
   "execution_count": 117,
   "metadata": {},
   "outputs": [
    {
     "data": {
      "image/png": "[encoded data removed]",
      "text/plain": [
       "<Figure size 600x400 with 1 Axes>"
      ]
     },
     "metadata": {
      "needs_background": "light"
     },
     "output_type": "display_data"
    }
   ],
   "source": [
    "plt.figure(dpi=100)\n",
    "plt.plot(mod_2pi(sol_theta_sep), sol_p_sep, ',')\n",
    "plt.plot(mod_2pi(sol_theta_fp), sol_p_fp, ',')\n",
    "plt.plot(mod_2pi(sol_theta_rotate), sol_p_rotate, ',')\n",
    "plt.plot(mod_2pi(sol_theta_rotate_m), sol_p_rotate_m, ',')\n",
    "plt.xlim(-np.pi, np.pi)\n",
    "plt.xlabel(r\"$\\theta$\")\n",
    "plt.ylabel(\"$p$\")\n",
    "plt.show()"
   ]
  },
  {
   "cell_type": "markdown",
   "metadata": {},
   "source": [
    "### Exercise\n",
    "\n",
    "Use the energy functions, the results from the integration along the spearatrix and the intial condition on the separatrix to compute and plot the energy error as a function of time."
   ]
  },
  {
   "cell_type": "code",
   "execution_count": null,
   "metadata": {},
   "outputs": [],
   "source": []
  }
 ],
 "metadata": {
  "kernelspec": {
   "display_name": "Python 3",
   "language": "python",
   "name": "python3"
  },
  "language_info": {
   "codemirror_mode": {
    "name": "ipython",
    "version": 3
   },
   "file_extension": ".py",
   "mimetype": "text/x-python",
   "name": "python",
   "nbconvert_exporter": "python",
   "pygments_lexer": "ipython3",
   "version": "3.6.8"
  }
 },
 "nbformat": 4,
 "nbformat_minor": 4
}

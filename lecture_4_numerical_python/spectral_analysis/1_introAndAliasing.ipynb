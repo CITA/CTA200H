{
 "cells": [
  {
   "cell_type": "markdown",
   "metadata": {},
   "source": [
    "## FFT basics\n",
    "\n",
    "* An array of length N gets transformed into an array of length N.\n",
    "* Ordering: first the zero (DC) component; then the n = 1 first component; up to N/2.  Followed by -N/2, ... -1, 0."
   ]
  },
  {
   "cell_type": "code",
   "execution_count": null,
   "metadata": {
    "collapsed": false
   },
   "outputs": [],
   "source": [
    "%pylab inline\n",
    "x = linspace(0, 2 * pi * 10, 100, endpoint = False)"
   ]
  },
  {
   "cell_type": "markdown",
   "metadata": {},
   "source": [
    "* A pure sine wave"
   ]
  },
  {
   "cell_type": "code",
   "execution_count": null,
   "metadata": {
    "collapsed": false
   },
   "outputs": [],
   "source": [
    "plot(x, sin(x))"
   ]
  },
  {
   "cell_type": "markdown",
   "metadata": {},
   "source": [
    "* Take its FFT and plot real and imaginary parts:"
   ]
  },
  {
   "cell_type": "code",
   "execution_count": null,
   "metadata": {
    "collapsed": false
   },
   "outputs": [],
   "source": [
    "f = fft.fft(sin(x))\n",
    "plot(real(f), label = 'real')\n",
    "plot(imag(f), label = 'imag')\n",
    "legend()"
   ]
  },
  {
   "cell_type": "markdown",
   "metadata": {},
   "source": [
    "Note 0 refers to zero frequency.  If we like we can shift to a centered transform using `fftshift()`.\n",
    "\n",
    "Now a pure cosine wave:"
   ]
  },
  {
   "cell_type": "code",
   "execution_count": null,
   "metadata": {
    "collapsed": false
   },
   "outputs": [],
   "source": [
    "f = fft.fft(cos(x))\n",
    "plot(real(f), label = 'real')\n",
    "plot(imag(f), label = 'imag')\n",
    "legend()"
   ]
  },
  {
   "cell_type": "markdown",
   "metadata": {},
   "source": [
    "* now, the sum of three cosines:"
   ]
  },
  {
   "cell_type": "code",
   "execution_count": null,
   "metadata": {
    "collapsed": false
   },
   "outputs": [],
   "source": [
    "y = cos(x) + .5*cos(3*x) + .2*cos(4*x)\n",
    "plot(y)"
   ]
  },
  {
   "cell_type": "markdown",
   "metadata": {},
   "source": [
    "* take its Fourier transform"
   ]
  },
  {
   "cell_type": "code",
   "execution_count": null,
   "metadata": {
    "collapsed": false
   },
   "outputs": [],
   "source": [
    "f = fft.fft(y)\n",
    "plot(real(f), label = 'real')\n",
    "plot(imag(f), label = 'imag')\n",
    "legend()"
   ]
  },
  {
   "cell_type": "markdown",
   "metadata": {},
   "source": [
    "Let's \"filter\" this to remove the two higher-frequency waves, and leave in the lowest-frequency one.  Do this by setting all elements [20:80] to zero."
   ]
  },
  {
   "cell_type": "code",
   "execution_count": null,
   "metadata": {
    "collapsed": true
   },
   "outputs": [],
   "source": [
    "f[20:80] = 0"
   ]
  },
  {
   "cell_type": "code",
   "execution_count": null,
   "metadata": {
    "collapsed": false
   },
   "outputs": [],
   "source": [
    "plot(imag(f))\n",
    "plot(real(f))"
   ]
  },
  {
   "cell_type": "markdown",
   "metadata": {},
   "source": [
    "Now the inverse transform."
   ]
  },
  {
   "cell_type": "code",
   "execution_count": null,
   "metadata": {
    "collapsed": false
   },
   "outputs": [],
   "source": [
    "y_inverse = fft.ifft(f)\n",
    "plot(real(y_inverse), label = 'real')\n",
    "plot(imag(y_inverse), label = 'imag')\n",
    "legend()"
   ]
  },
  {
   "cell_type": "markdown",
   "metadata": {},
   "source": [
    "## Aliasing\n",
    "\n",
    "Here we will study the phenomenon of \"aliasing\" -- the best way to learn what it is is to experiment."
   ]
  },
  {
   "cell_type": "code",
   "execution_count": null,
   "metadata": {
    "collapsed": false
   },
   "outputs": [],
   "source": [
    "%pylab inline"
   ]
  },
  {
   "cell_type": "markdown",
   "metadata": {},
   "source": [
    "Define a function, which we will set to be a perfect sine wave (we give it an original name so we can try a new function if we wish)."
   ]
  },
  {
   "cell_type": "code",
   "execution_count": null,
   "metadata": {
    "collapsed": true
   },
   "outputs": [],
   "source": [
    "def sinewave(x):\n",
    "    return sin(x)\n"
   ]
  },
  {
   "cell_type": "markdown",
   "metadata": {},
   "source": [
    "We will plot this curve over the interval $x \\in [0, 10 \\cdot 2\\pi$]."
   ]
  },
  {
   "cell_type": "code",
   "execution_count": null,
   "metadata": {
    "collapsed": true
   },
   "outputs": [],
   "source": [
    "length = 10 * 2.*pi"
   ]
  },
  {
   "cell_type": "markdown",
   "metadata": {},
   "source": [
    "Let's make a high-resolution curve -- sampling the curve 1000 times over the 10 periods between $x=0$ and $x=10\\cdot2\\pi$.\n",
    "\n",
    "(Note `endpoint = False`)"
   ]
  },
  {
   "cell_type": "code",
   "execution_count": null,
   "metadata": {
    "collapsed": true
   },
   "outputs": [],
   "source": [
    "\n",
    "\n",
    "highres = linspace(0,length,1000, endpoint = False)\n"
   ]
  },
  {
   "cell_type": "code",
   "execution_count": null,
   "metadata": {
    "collapsed": false
   },
   "outputs": [],
   "source": [
    "figure( figsize = (8,6))\n",
    "plot(highres, sinewave(highres))"
   ]
  },
  {
   "cell_type": "markdown",
   "metadata": {},
   "source": [
    "Now, let's plot a slightly lower resolution curve -- 100 samples over the same 10 cycles."
   ]
  },
  {
   "cell_type": "code",
   "execution_count": null,
   "metadata": {
    "collapsed": false
   },
   "outputs": [],
   "source": [
    "figure( figsize = (8,6))\n",
    "\n",
    "medres = linspace(0,length,100, endpoint = False)\n",
    "plot(medres, sinewave(medres))\n"
   ]
  },
  {
   "cell_type": "markdown",
   "metadata": {},
   "source": [
    "Here we sample the curve at a variable number of points -- try changing the `numsamples` parameter and note what happens."
   ]
  },
  {
   "cell_type": "code",
   "execution_count": null,
   "metadata": {
    "collapsed": false
   },
   "outputs": [],
   "source": [
    "numsamples = 50  #try changing this number and see what happens!!!\n",
    "lowres = linspace(0,length,numsamples, endpoint = False)\n",
    "figure(figsize=(9,6))\n",
    "plot(lowres, sinewave(lowres), 'o-', label = str(numsamples)+' samples',lw=2)\n",
    "plot(highres, sinewave(highres))\n",
    "legend()\n",
    "xlim([0,90])"
   ]
  },
  {
   "cell_type": "code",
   "execution_count": null,
   "metadata": {
    "collapsed": false
   },
   "outputs": [],
   "source": [
    "\n",
    "npts = [1000, 100, 45, 33, 17,15, 11]\n",
    "\n",
    "xvals = [linspace(0, length, n, endpoint = False) for n in npts]\n",
    "\n",
    "for i, n in enumerate(npts):\n",
    "    plot(xvals[i], sinewave(xvals[i]),'o-',label = str(n) + 'pts')\n",
    "legend()\n",
    "xlim([0,100])"
   ]
  },
  {
   "cell_type": "markdown",
   "metadata": {},
   "source": [
    "Let's take fast Fourier transforms of each of these curves."
   ]
  },
  {
   "cell_type": "code",
   "execution_count": null,
   "metadata": {
    "collapsed": true
   },
   "outputs": [],
   "source": [
    "ffts = [None] * len(npts)\n",
    "\n",
    "for i, n in enumerate(npts):\n",
    "    ffts[i] = fft.fft(sinewave(xvals[i]))"
   ]
  },
  {
   "cell_type": "code",
   "execution_count": null,
   "metadata": {
    "collapsed": false
   },
   "outputs": [],
   "source": [
    "numToPlot = 2\n",
    "\n",
    "figure(figsize=(10,6))\n",
    "symbols = ['s', 'o','v','^','>','<','8']\n",
    "for i, n in enumerate(npts[0:numToPlot]):\n",
    "    xtoplot = (fftfreq(npts[i]) * ( 2. * pi) * float(npts[i]))[where(fftfreq(npts[i]) > 0)]\n",
    "    ytoplot  = (imag(ffts[i]) / npts[i])[where(fftfreq(npts[i]) > 0)] #divide by npts due to normalization.\n",
    "    plot(xtoplot, ytoplot, symbols[i]+'-',label = str(n) + ' pts')\n",
    "xlim([0,200])\n",
    "legend()\n"
   ]
  },
  {
   "cell_type": "code",
   "execution_count": null,
   "metadata": {
    "collapsed": false
   },
   "outputs": [],
   "source": [
    "\n"
   ]
  },
  {
   "cell_type": "code",
   "execution_count": null,
   "metadata": {
    "collapsed": true
   },
   "outputs": [],
   "source": []
  }
 ],
 "metadata": {
  "kernelspec": {
   "display_name": "Python 2",
   "language": "python",
   "name": "python2"
  },
  "language_info": {
   "codemirror_mode": {
    "name": "ipython",
    "version": 2
   },
   "file_extension": ".py",
   "mimetype": "text/x-python",
   "name": "python",
   "nbconvert_exporter": "python",
   "pygments_lexer": "ipython2",
   "version": "2.7.11"
  }
 },
 "nbformat": 4,
 "nbformat_minor": 0
}

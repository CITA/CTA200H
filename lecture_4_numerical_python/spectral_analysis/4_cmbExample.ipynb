{
 "cells": [
  {
   "cell_type": "markdown",
   "metadata": {},
   "source": [
    "## CMB example\n",
    "\n",
    "Plan:\n",
    "* we make a simulation of the CMB, a gaussian random field\n",
    "  * Each Fourier mode is an independent Gaussian random number with amplitude given by $\\sqrt{C_l}$ where $C_l$ is the power spectrum.\n",
    "* we take a cutout -- the map is no longer periodic (power leakage)\n",
    "* we taper / window the map to cut down on the power leakage"
   ]
  },
  {
   "cell_type": "code",
   "execution_count": null,
   "metadata": {
    "collapsed": false
   },
   "outputs": [],
   "source": [
    "%pylab inline"
   ]
  },
  {
   "cell_type": "markdown",
   "metadata": {},
   "source": [
    "* define a function that gives the FFT frequency in 2d."
   ]
  },
  {
   "cell_type": "code",
   "execution_count": null,
   "metadata": {
    "collapsed": true
   },
   "outputs": [],
   "source": [
    "def dist(N):\n",
    "    return float(N) * sqrt(outer(fftfreq(N)**2, 1) + outer(1,fftfreq(N)**2))"
   ]
  },
  {
   "cell_type": "markdown",
   "metadata": {},
   "source": [
    "* we will make a 2d grid of gaussian noise, uncorrelated in pixel space"
   ]
  },
  {
   "cell_type": "code",
   "execution_count": null,
   "metadata": {
    "collapsed": false
   },
   "outputs": [],
   "source": [
    "N = 500 #let's make a 500x500-pixel map\n",
    "width_sr = 10 * (pi / 180.) #100-degree by 100-degree map\n",
    "\n",
    "uncorrelated = random.randn(N,N)  #white/uncorrelated Gaussian noise \n"
   ]
  },
  {
   "cell_type": "markdown",
   "metadata": {},
   "source": [
    "* let's make an image"
   ]
  },
  {
   "cell_type": "code",
   "execution_count": null,
   "metadata": {
    "collapsed": false
   },
   "outputs": [],
   "source": [
    "imshow(uncorrelated, cmap = 'bwr')\n",
    "colorbar()\n",
    "title('uncorrelated')"
   ]
  },
  {
   "cell_type": "code",
   "execution_count": null,
   "metadata": {
    "collapsed": true
   },
   "outputs": [],
   "source": [
    "fftUncorrelated = fft.fft2(uncorrelated)"
   ]
  },
  {
   "cell_type": "markdown",
   "metadata": {},
   "source": [
    "* The Fourier transform of white noise is white noise"
   ]
  },
  {
   "cell_type": "code",
   "execution_count": null,
   "metadata": {
    "collapsed": false
   },
   "outputs": [],
   "source": [
    "imshow(fft.fftshift(abs(fftUncorrelated)), cmap = 'bwr')"
   ]
  },
  {
   "cell_type": "markdown",
   "metadata": {},
   "source": [
    "* Fundamental mode: $2\\pi/X$ where $X$ is the width of the map."
   ]
  },
  {
   "cell_type": "code",
   "execution_count": null,
   "metadata": {
    "collapsed": false
   },
   "outputs": [],
   "source": [
    "dl = 2* pi / (width_sr)"
   ]
  },
  {
   "cell_type": "code",
   "execution_count": null,
   "metadata": {
    "collapsed": false
   },
   "outputs": [],
   "source": [
    "dl"
   ]
  },
  {
   "cell_type": "markdown",
   "metadata": {},
   "source": [
    "* A routine to put the CMB power spectrum onto the 2d grid"
   ]
  },
  {
   "cell_type": "code",
   "execution_count": null,
   "metadata": {
    "collapsed": true
   },
   "outputs": [],
   "source": [
    "import scipy.interpolate\n",
    "\n",
    "def getGridPower(filenameCAMB, N, dl):\n",
    "    power1d = numpy.loadtxt( filenameCAMB)\n",
    "    myF = scipy.interpolate.interp1d(power1d[:,0], \\\n",
    "                                     power1d[:,1] / power1d[:,0]**2, bounds_error = False)\n",
    "    gridPower = nan_to_num(myF(dl * dist(N)))\n",
    "    gridPower[0,0]\n",
    "    return gridPower\n"
   ]
  },
  {
   "cell_type": "code",
   "execution_count": null,
   "metadata": {
    "collapsed": false
   },
   "outputs": [],
   "source": [
    "#gridpower = gridPower1d.reshape(N,N)\n",
    "#imshow(gridPower)\n",
    "#gridPower.shape\n",
    "#myF(dl * sqrt(outer(fftfreq(N)**2, fftfreq(N)**2)) + dl)"
   ]
  },
  {
   "cell_type": "code",
   "execution_count": null,
   "metadata": {
    "collapsed": true
   },
   "outputs": [],
   "source": [
    "gridPower = getGridPower('../lecture3/fiducial_scalCls.dat', N, dl)\n"
   ]
  },
  {
   "cell_type": "markdown",
   "metadata": {},
   "source": [
    "* An image of the 2d power spectrum"
   ]
  },
  {
   "cell_type": "code",
   "execution_count": null,
   "metadata": {
    "collapsed": false
   },
   "outputs": [],
   "source": [
    "imshow(fftshift(log10(gridPower + 1e-10))) \n",
    "colorbar()\n"
   ]
  },
  {
   "cell_type": "markdown",
   "metadata": {},
   "source": [
    "We multiply the FFT of the white noise by the square root of the power spectrum"
   ]
  },
  {
   "cell_type": "code",
   "execution_count": null,
   "metadata": {
    "collapsed": false
   },
   "outputs": [],
   "source": [
    "\n",
    "myCMBfft = sqrt(gridPower) * fftUncorrelated"
   ]
  },
  {
   "cell_type": "markdown",
   "metadata": {},
   "source": [
    "* The fourier transform of our CMB map"
   ]
  },
  {
   "cell_type": "code",
   "execution_count": null,
   "metadata": {
    "collapsed": false
   },
   "outputs": [],
   "source": [
    "imshow(fftshift(abs(log10(myCMBfft + 0))))"
   ]
  },
  {
   "cell_type": "markdown",
   "metadata": {},
   "source": [
    "* A slice through the FFT of the CMB, along the $x$ axis."
   ]
  },
  {
   "cell_type": "code",
   "execution_count": null,
   "metadata": {
    "collapsed": false
   },
   "outputs": [],
   "source": [
    "semilogy(abs(myCMBfft[:,0]))"
   ]
  },
  {
   "cell_type": "markdown",
   "metadata": {},
   "source": [
    "The map in real space:"
   ]
  },
  {
   "cell_type": "code",
   "execution_count": null,
   "metadata": {
    "collapsed": true
   },
   "outputs": [],
   "source": [
    "myCMBMap = real(nan_to_num(fft.ifft2(sqrt(gridPower) * fftUncorrelated)))"
   ]
  },
  {
   "cell_type": "code",
   "execution_count": null,
   "metadata": {
    "collapsed": false
   },
   "outputs": [],
   "source": [
    "imshow(myCMBMap, cmap = 'bwr')"
   ]
  },
  {
   "cell_type": "markdown",
   "metadata": {},
   "source": [
    "* This can be compared with the WMAP or Planck data.\n",
    "\n",
    "* Now let's take a cutout of this image.  We'll take a 200x200 cutout."
   ]
  },
  {
   "cell_type": "code",
   "execution_count": null,
   "metadata": {
    "collapsed": false
   },
   "outputs": [],
   "source": [
    "Ncutout = 200\n",
    "cutoutMap = myCMBMap[100:100+Ncutout, 100:100+Ncutout]"
   ]
  },
  {
   "cell_type": "code",
   "execution_count": null,
   "metadata": {
    "collapsed": false
   },
   "outputs": [],
   "source": [
    "imshow(cutoutMap, cmap = 'bwr')"
   ]
  },
  {
   "cell_type": "code",
   "execution_count": null,
   "metadata": {
    "collapsed": true
   },
   "outputs": [],
   "source": [
    "cutoutFFT = fft.fft2(cutoutMap)"
   ]
  },
  {
   "cell_type": "code",
   "execution_count": null,
   "metadata": {
    "collapsed": false
   },
   "outputs": [],
   "source": [
    "semilogy(abs(cutoutFFT[0,:]))"
   ]
  },
  {
   "cell_type": "markdown",
   "metadata": {},
   "source": [
    "* The map isn't periodic anymore and there is a lot of \"leakage\" of power from large to small scales.\n",
    "* Let's define a window function to reduce the amount of leakage."
   ]
  },
  {
   "cell_type": "code",
   "execution_count": null,
   "metadata": {
    "collapsed": false
   },
   "outputs": [],
   "source": [
    "window = outer(ones(Ncutout) , 1+cos(linspace(0,2*pi,Ncutout) + pi)) * \\\n",
    "    outer(1+cos(linspace(0,2*pi,Ncutout)+pi), ones(Ncutout))\n",
    "window /= mean(window)"
   ]
  },
  {
   "cell_type": "code",
   "execution_count": null,
   "metadata": {
    "collapsed": false
   },
   "outputs": [],
   "source": [
    "imshow(window, cmap = 'Greys')\n",
    "colorbar()"
   ]
  },
  {
   "cell_type": "markdown",
   "metadata": {},
   "source": [
    "* Now the window times the map."
   ]
  },
  {
   "cell_type": "code",
   "execution_count": null,
   "metadata": {
    "collapsed": false
   },
   "outputs": [],
   "source": [
    "imshow(window * cutoutMap, cmap = 'bwr')"
   ]
  },
  {
   "cell_type": "code",
   "execution_count": null,
   "metadata": {
    "collapsed": false
   },
   "outputs": [],
   "source": [
    "cutoutWindowedFFT = fft.fft2(window * cutoutMap ) "
   ]
  },
  {
   "cell_type": "markdown",
   "metadata": {},
   "source": [
    "* Now we plot the power (along the $x$ axis) for the unwindowed map; windowed map; and theory (note we haven't been careful about overall normalizaiton; we are paying more attention to the shape of the spectrum)."
   ]
  },
  {
   "cell_type": "code",
   "execution_count": null,
   "metadata": {
    "collapsed": false
   },
   "outputs": [],
   "source": [
    "figure(figsize=(8,6))\n",
    "nmax = Ncutout/2\n",
    "semilogy( abs(cutoutFFT[0,:]), label = 'cutout')\n",
    "semilogy( abs(cutoutWindowedFFT[0,:] ), label = 'cutout and windowed')\n",
    "gridPowerCutout = getGridPower('../lecture3/fiducial_scalCls.dat', Ncutout, dl)\n",
    "gridPowerCutout[0,0] = nan\n",
    "rescale = 400. #we haven't been careful about the overall amplitude\n",
    "gridPowerCutout[gridPowerCutout*rescale < 2e-3] = nan #cut out modes that aren't measured for comparison\n",
    "\n",
    "semilogy(abs(gridPowerCutout[0,:]) * rescale, label = 'theory')\n",
    "legend()\n",
    "xlim([0,Ncutout])"
   ]
  },
  {
   "cell_type": "code",
   "execution_count": null,
   "metadata": {
    "collapsed": false
   },
   "outputs": [],
   "source": []
  },
  {
   "cell_type": "code",
   "execution_count": null,
   "metadata": {
    "collapsed": true
   },
   "outputs": [],
   "source": []
  }
 ],
 "metadata": {
  "kernelspec": {
   "display_name": "Python 2",
   "language": "python",
   "name": "python2"
  },
  "language_info": {
   "codemirror_mode": {
    "name": "ipython",
    "version": 2
   },
   "file_extension": ".py",
   "mimetype": "text/x-python",
   "name": "python",
   "nbconvert_exporter": "python",
   "pygments_lexer": "ipython2",
   "version": "2.7.11"
  }
 },
 "nbformat": 4,
 "nbformat_minor": 0
}

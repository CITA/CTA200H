{
 "cells": [
  {
   "cell_type": "markdown",
   "id": "4b12747c",
   "metadata": {},
   "source": [
    "# Solving a cubic\n",
    "\n",
    "In this example we'll use sympy to solve a cubic polynomial using a trignometric identity.\n",
    "The example brings together lots of different nice SymPy features. \n",
    "Plus, this is a nice trick for getting roots of cubics!"
   ]
  },
  {
   "cell_type": "code",
   "execution_count": null,
   "id": "8ce93c3d",
   "metadata": {},
   "outputs": [],
   "source": [
    "import sympy as sp\n",
    "from sympy import init_printing\n",
    "init_printing()"
   ]
  },
  {
   "cell_type": "markdown",
   "id": "76d05376",
   "metadata": {},
   "source": [
    "First, we'll make our polynomial:"
   ]
  },
  {
   "cell_type": "code",
   "execution_count": null,
   "id": "4ddd577f",
   "metadata": {},
   "outputs": [],
   "source": [
    "x,a,b,c,d = sp.symbols(\"x a b c d\")"
   ]
  },
  {
   "cell_type": "code",
   "execution_count": null,
   "id": "a860386f",
   "metadata": {},
   "outputs": [],
   "source": [
    "poly = a * x*x*x + b * x*x + c * x + d\n",
    "poly"
   ]
  },
  {
   "cell_type": "markdown",
   "id": "84099876",
   "metadata": {},
   "source": [
    "Of course, we could simply use solve to get the polynomial roots..."
   ]
  },
  {
   "cell_type": "code",
   "execution_count": null,
   "id": "d06aa4d4",
   "metadata": {},
   "outputs": [],
   "source": [
    "solns = sp.solve(poly,x)"
   ]
  },
  {
   "cell_type": "code",
   "execution_count": null,
   "id": "b4121adc",
   "metadata": {},
   "outputs": [],
   "source": [
    "solns[0]"
   ]
  },
  {
   "cell_type": "markdown",
   "id": "e7ef2010",
   "metadata": {},
   "source": [
    "... yuck! \n",
    "\n",
    "Is there another way?"
   ]
  },
  {
   "cell_type": "markdown",
   "id": "f3ab1cf0",
   "metadata": {},
   "source": [
    "# Solving with the trig identity\n",
    "\n",
    "To solve our polynomial, we will take advantage of the trig idendity:\n",
    "$$\n",
    "    \\sin(3\\theta) =  3 \\sin{\\left(\\theta \\right)}- 4 \\sin^{3}{\\left(\\theta \\right)}\n",
    "$$\n",
    "which we can confirm with sympy:"
   ]
  },
  {
   "cell_type": "code",
   "execution_count": null,
   "id": "a9dbfb42",
   "metadata": {},
   "outputs": [],
   "source": [
    "sin3theta = sp.sin(3*sp.S('theta'))\n",
    "sin3theta,sp.expand_trig(sin3theta)"
   ]
  },
  {
   "cell_type": "markdown",
   "id": "e8d1de49",
   "metadata": {},
   "source": [
    "The first step is to define a new variable, $X$, satisfying $x=f\\times(X+\\delta)$ such that transformed polynomial, $p(x(X))$ contains no quadratic terms"
   ]
  },
  {
   "cell_type": "code",
   "execution_count": null,
   "id": "28aaf84f",
   "metadata": {},
   "outputs": [],
   "source": [
    "X,delta,f = sp.symbols(\"X,delta,f\")\n",
    "x_rule = {x:f*(X+delta)}\n",
    "x_rule"
   ]
  },
  {
   "cell_type": "code",
   "execution_count": null,
   "id": "73b0c3d2",
   "metadata": {},
   "outputs": [],
   "source": [
    "transformed_poly = sp.expand(poly.subs(x_rule))\n",
    "sp.collect(transformed_poly,X)"
   ]
  },
  {
   "cell_type": "markdown",
   "id": "fa5e48e5",
   "metadata": {},
   "source": [
    "Since any root of our transformed polynomial $p(x(X))$ will also be a root of $ C \\times p(x(X))$ for any constant $C$, let's rescale our polynomial:"
   ]
  },
  {
   "cell_type": "code",
   "execution_count": null,
   "id": "f8e4a816",
   "metadata": {},
   "outputs": [],
   "source": [
    "transformed_poly = sp.expand(4 * transformed_poly / transformed_poly.coeff(X,3))\n",
    "transformed_poly"
   ]
  },
  {
   "cell_type": "markdown",
   "id": "f5e8b1e5",
   "metadata": {},
   "source": [
    "Lets get the individual coefficients "
   ]
  },
  {
   "cell_type": "code",
   "execution_count": null,
   "id": "b02ed643",
   "metadata": {},
   "outputs": [],
   "source": [
    "coeffs = [transformed_poly.coeff(X,n) for n in range(0,4)]"
   ]
  },
  {
   "cell_type": "markdown",
   "id": "f4b3fe47",
   "metadata": {},
   "source": [
    "Now we can solve for the value of $\\delta$ that eliminates the $X^2$ term"
   ]
  },
  {
   "cell_type": "code",
   "execution_count": null,
   "id": "e67fc45b",
   "metadata": {},
   "outputs": [],
   "source": [
    "delta_soln = sp.solve(coeffs[2],delta)\n",
    "delta_rule = {delta:delta_soln[0]}\n",
    "sp.expand(transformed_poly.xreplace(delta_rule))"
   ]
  },
  {
   "cell_type": "markdown",
   "id": "dca56e57",
   "metadata": {},
   "source": [
    "Our goal is to use the substitution $X = \\sin\\theta$, along with the identity \n",
    "$\\sin(3\\theta) =  3 \\sin{\\left(\\theta \\right)}- 4 \\sin^{3}{\\left(\\theta \\right)}$\n",
    "to eliminate cubic terms.\n",
    "\n",
    "Thus, we want solve for $f$ such that the coefficient of the linear term to be $-3/4$ the coefficient of the cubic term"
   ]
  },
  {
   "cell_type": "code",
   "execution_count": null,
   "id": "f9419339",
   "metadata": {},
   "outputs": [],
   "source": [
    "coeffs[3]"
   ]
  },
  {
   "cell_type": "markdown",
   "id": "bd04f074",
   "metadata": {},
   "source": [
    "There are 2 $f$ solutions; lets throw caution to the wind and randomly choose the first one"
   ]
  },
  {
   "cell_type": "code",
   "execution_count": null,
   "id": "ba1f4f88",
   "metadata": {},
   "outputs": [],
   "source": [
    "fsoln = sp.solve((coeffs[1]/coeffs[3]).xreplace(delta_rule)+sp.S(3)/4,f)\n",
    "fsoln"
   ]
  },
  {
   "cell_type": "code",
   "execution_count": null,
   "id": "007ba49b",
   "metadata": {},
   "outputs": [],
   "source": [
    "f_rule = {f:fsoln[0]}"
   ]
  },
  {
   "cell_type": "markdown",
   "id": "d4fdf873",
   "metadata": {},
   "source": [
    "Now our expression becomes:"
   ]
  },
  {
   "cell_type": "code",
   "execution_count": null,
   "id": "da6a29e3",
   "metadata": {},
   "outputs": [],
   "source": [
    "exprn=sp.collect(transformed_poly.xreplace(delta_rule).xreplace({f:fsoln[0]}),X)\n",
    "exprn"
   ]
  },
  {
   "cell_type": "code",
   "execution_count": null,
   "id": "57c6b54d",
   "metadata": {},
   "outputs": [],
   "source": [
    "sp.simplify(exprn)"
   ]
  },
  {
   "cell_type": "markdown",
   "id": "330cc07d",
   "metadata": {},
   "source": [
    "Unfortunately, `sp.simplify` isn't giving us what we want-- the coefficient of $X$ should simply be $-3$.\n",
    "\n",
    "We can try holding its hand with the following \"term-wise\" simplification:\n",
    "\n",
    "(See [here](http://certik.github.io/scipy-2013-tutorial/html/tutorial/manipulation.html#recursing-through-an-expression-tree) to understand more about whats going on here and why this works.)"
   ]
  },
  {
   "cell_type": "code",
   "execution_count": null,
   "id": "bafa31fb",
   "metadata": {},
   "outputs": [],
   "source": [
    "exprn_simplified = exprn.func(*[sp.simplify(a) for a in exprn.args])"
   ]
  },
  {
   "cell_type": "markdown",
   "id": "bdfead36",
   "metadata": {},
   "source": [
    "Now we can do our substitution:"
   ]
  },
  {
   "cell_type": "code",
   "execution_count": null,
   "id": "c36366cc",
   "metadata": {},
   "outputs": [],
   "source": [
    "theta = sp.symbols(\"theta\")\n",
    "sin_theta = sp.sin(theta)\n",
    "exprn_trig = exprn_simplified.subs({X:sin_theta})\n",
    "exprn_trig"
   ]
  },
  {
   "cell_type": "markdown",
   "id": "5ab8d00e",
   "metadata": {},
   "source": [
    "`trigsimp` doesn't give us exaclty what we want:"
   ]
  },
  {
   "cell_type": "code",
   "execution_count": null,
   "id": "d2d7f908",
   "metadata": {},
   "outputs": [],
   "source": [
    "sp.trigsimp(exprn_trig)"
   ]
  },
  {
   "cell_type": "markdown",
   "id": "1d100cef",
   "metadata": {},
   "source": [
    "... getting Sympy to simplify trignometric functions in the way one wants is a subtle art and has been the source of many headachse for me.\n",
    "\n",
    "Below are a couple ways to get it to implement the desired identity in reverse\n"
   ]
  },
  {
   "cell_type": "markdown",
   "id": "12fb9da6",
   "metadata": {},
   "source": [
    "## method 1\n",
    "using `rewrite` to go between trigonomentric fucntions and exponentials. (Something like a poor astronomer's version of Mathematica's `ExpToTrig` and `TrigToExp`...)"
   ]
  },
  {
   "cell_type": "code",
   "execution_count": null,
   "id": "2af7ea75",
   "metadata": {},
   "outputs": [],
   "source": [
    "temp = exprn_trig.rewrite(sp.exp)\n",
    "temp"
   ]
  },
  {
   "cell_type": "code",
   "execution_count": null,
   "id": "ec93e779",
   "metadata": {},
   "outputs": [],
   "source": [
    "temp  = sp.expand(temp)\n",
    "temp"
   ]
  },
  {
   "cell_type": "code",
   "execution_count": null,
   "id": "57014c74",
   "metadata": {},
   "outputs": [],
   "source": [
    "temp = temp.rewrite(sp.sin)\n",
    "temp"
   ]
  },
  {
   "cell_type": "code",
   "execution_count": null,
   "id": "27fd9e33",
   "metadata": {},
   "outputs": [],
   "source": [
    "sp.expand(temp)"
   ]
  },
  {
   "cell_type": "markdown",
   "id": "2937656a",
   "metadata": {},
   "source": [
    "... finally!"
   ]
  },
  {
   "cell_type": "markdown",
   "id": "bb685976",
   "metadata": {},
   "source": [
    "## method 2\n",
    "\n",
    "There are lots of lower level functions for performing specific trignometric substitutions detailed here: https://docs.sympy.org/latest/modules/simplify/fu.html\n",
    "\n",
    "It turns out that `TR8` happens to be what we want in this instance (who knew!)"
   ]
  },
  {
   "cell_type": "code",
   "execution_count": null,
   "id": "7e4b4b67",
   "metadata": {},
   "outputs": [],
   "source": [
    "from sympy.simplify.fu import TR8"
   ]
  },
  {
   "cell_type": "code",
   "execution_count": null,
   "id": "99565f8a",
   "metadata": {},
   "outputs": [],
   "source": [
    "final = TR8(exprn_trig)\n",
    "final"
   ]
  },
  {
   "cell_type": "code",
   "execution_count": null,
   "id": "56dd158d",
   "metadata": {},
   "outputs": [],
   "source": [
    "sp.solve(final,theta)"
   ]
  },
  {
   "cell_type": "markdown",
   "id": "a1fdcb98",
   "metadata": {},
   "source": [
    "# Exercise\n",
    "Can you come up with a similar trick for quartics? "
   ]
  },
  {
   "cell_type": "code",
   "execution_count": null,
   "id": "ca6a32b6",
   "metadata": {},
   "outputs": [],
   "source": []
  }
 ],
 "metadata": {
  "kernelspec": {
   "display_name": "Python 3 (ipykernel)",
   "language": "python",
   "name": "python3"
  },
  "language_info": {
   "codemirror_mode": {
    "name": "ipython",
    "version": 3
   },
   "file_extension": ".py",
   "mimetype": "text/x-python",
   "name": "python",
   "nbconvert_exporter": "python",
   "pygments_lexer": "ipython3",
   "version": "3.11.3"
  }
 },
 "nbformat": 4,
 "nbformat_minor": 5
}

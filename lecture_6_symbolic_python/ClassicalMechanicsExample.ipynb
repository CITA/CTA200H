{
 "cells": [
  {
   "cell_type": "code",
   "execution_count": 1,
   "id": "de7f61c1",
   "metadata": {},
   "outputs": [],
   "source": [
    "import sympy as sp\n",
    "from matplotlib import pyplot as plt\n",
    "import numpy as np\n",
    "\n",
    "from sympy import init_printing\n",
    "init_printing()"
   ]
  },
  {
   "cell_type": "markdown",
   "id": "2482332b",
   "metadata": {},
   "source": [
    "# Classical mechanics with SymPy\n",
    "SymPy is great for automating a log of the machinery of classical Lagrangian and Hamiltonian mechanics. (Great enough for someone to build an entire [celestial mechanics package](https://celmech.readthedocs.io/en/latest/) on top of SymPy's capabilities for automating mechanics...)\n",
    "\n",
    "In this example, we'll use sympy to generate equations of motion for a simple pendulum, turn these equations into callable functions, then numerically integrate the system."
   ]
  },
  {
   "cell_type": "markdown",
   "id": "2e3b57cd",
   "metadata": {},
   "source": [
    "## Simple Pendulum\n",
    "\n",
    "We'll start by constructing the Lagrangian for a pendulum with mass $m$, length $l$, subject to a gravitational accelration $-g$. We'll use the angular displacement of the pendulum, $\\theta$ as our generalized coordinate. "
   ]
  },
  {
   "cell_type": "markdown",
   "id": "40babde8",
   "metadata": {},
   "source": [
    "### Lagrangian formulation"
   ]
  },
  {
   "cell_type": "markdown",
   "id": "99303953",
   "metadata": {},
   "source": [
    "First we'll create our variables:"
   ]
  },
  {
   "cell_type": "code",
   "execution_count": 2,
   "id": "cd0ef2f3",
   "metadata": {},
   "outputs": [],
   "source": [
    "theta_dot = sp.symbols(r\"\\dot{\\theta}\",real= True)\n",
    "p,theta,t,l,g,m = sp.symbols(\"p,theta,t,l,g,m\",real=True)"
   ]
  },
  {
   "cell_type": "markdown",
   "id": "e03365c0",
   "metadata": {},
   "source": [
    "Now we'll create expressions for the kinetic energy, $T$, and potential energy, $V$, which we then combine to get the Lagrangian, $L(\\theta,\\dot{\\theta}) = T(\\dot{\\theta})-V(\\theta)$ "
   ]
  },
  {
   "cell_type": "code",
   "execution_count": 3,
   "id": "d679e9ec",
   "metadata": {},
   "outputs": [],
   "source": [
    "KE = m * l*l*theta_dot*theta_dot/sp.S(2)\n",
    "PE = m * g * l * (1 - sp.cos(theta))\n",
    "lagrangian = KE - PE"
   ]
  },
  {
   "cell_type": "code",
   "execution_count": 4,
   "id": "fd65ebbd",
   "metadata": {},
   "outputs": [
    {
     "data": {
      "image/png": "[encoded data removed]",
      "text/latex": [
       "$\\displaystyle \\frac{\\dot{\\theta}^{2} l^{2} m}{2} - g l m \\left(1 - \\cos{\\left(\\theta \\right)}\\right)$"
      ],
      "text/plain": [
       "            2  2                       \n",
       "\\dot{\\theta} ⋅l ⋅m                     \n",
       "────────────────── - g⋅l⋅m⋅(1 - cos(θ))\n",
       "        2                              "
      ]
     },
     "execution_count": 4,
     "metadata": {},
     "output_type": "execute_result"
    }
   ],
   "source": [
    "lagrangian"
   ]
  },
  {
   "cell_type": "markdown",
   "id": "5887d6d2",
   "metadata": {},
   "source": [
    "### Hamiltonian formulation\n",
    "Recall that the Hamiltonian formulation is obtained form the Lagrangian formulation via a so-called Legendre transform, where we \n",
    "\n",
    "- (i) define a new momentum variable, $p = \\frac{\\partial }{\\partial \\dot{\\theta}} L(\\theta,\\dot{\\theta}) $\n",
    "- (ii) Solve for $\\dot\\theta(p)$ by inverting the above equation \n",
    "- (iii)  Obtain the Hamiltonian as $H(\\theta,p) = p\\cdot\\dot\\theta(p) - L(\\theta,\\dot\\theta(p))$"
   ]
  },
  {
   "cell_type": "code",
   "execution_count": 5,
   "id": "abe0d28f",
   "metadata": {},
   "outputs": [
    {
     "data": {
      "image/png": "[encoded data removed]",
      "text/latex": [
       "$\\displaystyle p = \\dot{\\theta} l^{2} m$"
      ],
      "text/plain": [
       "                  2  \n",
       "p = \\dot{\\theta}⋅l ⋅m"
      ]
     },
     "execution_count": 5,
     "metadata": {},
     "output_type": "execute_result"
    }
   ],
   "source": [
    "to_solve = sp.Eq(p , sp.diff(lagrangian,theta_dot))\n",
    "to_solve"
   ]
  },
  {
   "cell_type": "code",
   "execution_count": 6,
   "id": "7106ba83",
   "metadata": {},
   "outputs": [
    {
     "data": {
      "image/png": "[encoded data removed]",
      "text/latex": [
       "$\\displaystyle \\frac{p}{l^{2} m}$"
      ],
      "text/plain": [
       " p  \n",
       "────\n",
       " 2  \n",
       "l ⋅m"
      ]
     },
     "execution_count": 6,
     "metadata": {},
     "output_type": "execute_result"
    }
   ],
   "source": [
    "# get our solution\n",
    "theta_dot_soln = sp.solve(to_solve,theta_dot)[0]\n",
    "theta_dot_soln"
   ]
  },
  {
   "cell_type": "markdown",
   "id": "45d02277",
   "metadata": {},
   "source": [
    "Construct the Hamiltonian"
   ]
  },
  {
   "cell_type": "code",
   "execution_count": 7,
   "id": "e1e63138",
   "metadata": {},
   "outputs": [],
   "source": [
    "hamiltonian = (theta_dot * p - lagrangian).subs({theta_dot:theta_dot_soln})"
   ]
  },
  {
   "cell_type": "code",
   "execution_count": 8,
   "id": "661cc4ff",
   "metadata": {},
   "outputs": [
    {
     "data": {
      "image/png": "[encoded data removed]",
      "text/latex": [
       "$\\displaystyle g l m \\left(1 - \\cos{\\left(\\theta \\right)}\\right) + \\frac{p^{2}}{2 l^{2} m}$"
      ],
      "text/plain": [
       "                        2  \n",
       "                       p   \n",
       "g⋅l⋅m⋅(1 - cos(θ)) + ──────\n",
       "                        2  \n",
       "                     2⋅l ⋅m"
      ]
     },
     "execution_count": 8,
     "metadata": {},
     "output_type": "execute_result"
    }
   ],
   "source": [
    "hamiltonian"
   ]
  },
  {
   "cell_type": "markdown",
   "id": "1ffc416d",
   "metadata": {},
   "source": [
    "### Hamiltonian equations of motion\n",
    "\n",
    "Hamilton's equations are \n",
    "$$\n",
    "\\begin{eqnarray}\n",
    "\\frac{d}{dt}\\theta &=& \\partial_{p} H(\\theta,p)\n",
    "\\\\\n",
    "\\frac{d}{dt}p &=&  - \\partial_{\\theta} H(\\theta,p)\n",
    "\\end{eqnarray}\n",
    "$$"
   ]
  },
  {
   "cell_type": "markdown",
   "id": "97383c2d",
   "metadata": {},
   "source": [
    "Get the right-hand side of these equations as a vector "
   ]
  },
  {
   "cell_type": "code",
   "execution_count": 9,
   "id": "69087a22",
   "metadata": {},
   "outputs": [],
   "source": [
    "flow = sp.Matrix([sp.diff(hamiltonian,p),-1* sp.diff(hamiltonian,theta)])"
   ]
  },
  {
   "cell_type": "code",
   "execution_count": 10,
   "id": "8af6ef0c",
   "metadata": {},
   "outputs": [
    {
     "data": {
      "image/png": "[encoded data removed]",
      "text/latex": [
       "$\\displaystyle \\left[\\begin{matrix}\\frac{p}{l^{2} m}\\\\- g l m \\sin{\\left(\\theta \\right)}\\end{matrix}\\right]$"
      ],
      "text/plain": [
       "⎡     p       ⎤\n",
       "⎢    ────     ⎥\n",
       "⎢     2       ⎥\n",
       "⎢    l ⋅m     ⎥\n",
       "⎢             ⎥\n",
       "⎣-g⋅l⋅m⋅sin(θ)⎦"
      ]
     },
     "execution_count": 10,
     "metadata": {},
     "output_type": "execute_result"
    }
   ],
   "source": [
    "flow"
   ]
  },
  {
   "cell_type": "markdown",
   "id": "a1593b92",
   "metadata": {},
   "source": [
    "### Integration\n",
    "We now have an ordinary differential equation for $(\\theta,p)$ in symbolic form.\n",
    "\n",
    "We could try to go about deducing an analytic solution, but who has time for learning elliptic integrals? Instead, we're going to turn our symbolic expressions into callable functions that we'll then feed to an ODE solver to generate a numerical solution.\n",
    "\n",
    "We'll use scipy's `solve_ivp` function to integrate; let's see what we need to pass it:"
   ]
  },
  {
   "cell_type": "code",
   "execution_count": 11,
   "id": "56e89129",
   "metadata": {},
   "outputs": [],
   "source": [
    "from scipy.integrate import solve_ivp"
   ]
  },
  {
   "cell_type": "code",
   "execution_count": 12,
   "id": "58da5b35",
   "metadata": {
    "scrolled": true
   },
   "outputs": [
    {
     "name": "stdout",
     "output_type": "stream",
     "text": [
      "Help on function solve_ivp in module scipy.integrate._ivp.ivp:\n",
      "\n",
      "solve_ivp(fun, t_span, y0, method='RK45', t_eval=None, dense_output=False, events=None, vectorized=False, args=None, **options)\n",
      "    Solve an initial value problem for a system of ODEs.\n",
      "    \n",
      "    This function numerically integrates a system of ordinary differential\n",
      "    equations given an initial value::\n",
      "    \n",
      "        dy / dt = f(t, y)\n",
      "        y(t0) = y0\n",
      "    \n",
      "    Here t is a 1-D independent variable (time), y(t) is an\n",
      "    N-D vector-valued function (state), and an N-D\n",
      "    vector-valued function f(t, y) determines the differential equations.\n",
      "    The goal is to find y(t) approximately satisfying the differential\n",
      "    equations, given an initial value y(t0)=y0.\n",
      "    \n",
      "    Some of the solvers support integration in the complex domain, but note\n",
      "    that for stiff ODE solvers, the right-hand side must be\n",
      "    complex-differentiable (satisfy Cauchy-Riemann equations [11]_).\n",
      "    To solve a problem in the complex domain, pass y0 with a complex data type.\n",
      "    Another option always available is to rewrite your problem for real and\n",
      "    imaginary parts separately.\n",
      "    \n",
      "    Parameters\n",
      "    ----------\n",
      "    fun : callable\n",
      "        Right-hand side of the system. The calling signature is ``fun(t, y)``.\n",
      "        Here `t` is a scalar, and there are two options for the ndarray `y`:\n",
      "        It can either have shape (n,); then `fun` must return array_like with\n",
      "        shape (n,). Alternatively, it can have shape (n, k); then `fun`\n",
      "        must return an array_like with shape (n, k), i.e., each column\n",
      "        corresponds to a single column in `y`. The choice between the two\n",
      "        options is determined by `vectorized` argument (see below). The\n",
      "        vectorized implementation allows a faster approximation of the Jacobian\n",
      "        by finite differences (required for stiff solvers).\n",
      "    t_span : 2-member sequence\n",
      "        Interval of integration (t0, tf). The solver starts with t=t0 and\n",
      "        integrates until it reaches t=tf. Both t0 and tf must be floats\n",
      "        or values interpretable by the float conversion function.\n",
      "    y0 : array_like, shape (n,)\n",
      "        Initial state. For problems in the complex domain, pass `y0` with a\n",
      "        complex data type (even if the initial value is purely real).\n",
      "    method : string or `OdeSolver`, optional\n",
      "        Integration method to use:\n",
      "    \n",
      "            * 'RK45' (default): Explicit Runge-Kutta method of order 5(4) [1]_.\n",
      "              The error is controlled assuming accuracy of the fourth-order\n",
      "              method, but steps are taken using the fifth-order accurate\n",
      "              formula (local extrapolation is done). A quartic interpolation\n",
      "              polynomial is used for the dense output [2]_. Can be applied in\n",
      "              the complex domain.\n",
      "            * 'RK23': Explicit Runge-Kutta method of order 3(2) [3]_. The error\n",
      "              is controlled assuming accuracy of the second-order method, but\n",
      "              steps are taken using the third-order accurate formula (local\n",
      "              extrapolation is done). A cubic Hermite polynomial is used for the\n",
      "              dense output. Can be applied in the complex domain.\n",
      "            * 'DOP853': Explicit Runge-Kutta method of order 8 [13]_.\n",
      "              Python implementation of the \"DOP853\" algorithm originally\n",
      "              written in Fortran [14]_. A 7-th order interpolation polynomial\n",
      "              accurate to 7-th order is used for the dense output.\n",
      "              Can be applied in the complex domain.\n",
      "            * 'Radau': Implicit Runge-Kutta method of the Radau IIA family of\n",
      "              order 5 [4]_. The error is controlled with a third-order accurate\n",
      "              embedded formula. A cubic polynomial which satisfies the\n",
      "              collocation conditions is used for the dense output.\n",
      "            * 'BDF': Implicit multi-step variable-order (1 to 5) method based\n",
      "              on a backward differentiation formula for the derivative\n",
      "              approximation [5]_. The implementation follows the one described\n",
      "              in [6]_. A quasi-constant step scheme is used and accuracy is\n",
      "              enhanced using the NDF modification. Can be applied in the\n",
      "              complex domain.\n",
      "            * 'LSODA': Adams/BDF method with automatic stiffness detection and\n",
      "              switching [7]_, [8]_. This is a wrapper of the Fortran solver\n",
      "              from ODEPACK.\n",
      "    \n",
      "        Explicit Runge-Kutta methods ('RK23', 'RK45', 'DOP853') should be used\n",
      "        for non-stiff problems and implicit methods ('Radau', 'BDF') for\n",
      "        stiff problems [9]_. Among Runge-Kutta methods, 'DOP853' is recommended\n",
      "        for solving with high precision (low values of `rtol` and `atol`).\n",
      "    \n",
      "        If not sure, first try to run 'RK45'. If it makes unusually many\n",
      "        iterations, diverges, or fails, your problem is likely to be stiff and\n",
      "        you should use 'Radau' or 'BDF'. 'LSODA' can also be a good universal\n",
      "        choice, but it might be somewhat less convenient to work with as it\n",
      "        wraps old Fortran code.\n",
      "    \n",
      "        You can also pass an arbitrary class derived from `OdeSolver` which\n",
      "        implements the solver.\n",
      "    t_eval : array_like or None, optional\n",
      "        Times at which to store the computed solution, must be sorted and lie\n",
      "        within `t_span`. If None (default), use points selected by the solver.\n",
      "    dense_output : bool, optional\n",
      "        Whether to compute a continuous solution. Default is False.\n",
      "    events : callable, or list of callables, optional\n",
      "        Events to track. If None (default), no events will be tracked.\n",
      "        Each event occurs at the zeros of a continuous function of time and\n",
      "        state. Each function must have the signature ``event(t, y)`` and return\n",
      "        a float. The solver will find an accurate value of `t` at which\n",
      "        ``event(t, y(t)) = 0`` using a root-finding algorithm. By default, all\n",
      "        zeros will be found. The solver looks for a sign change over each step,\n",
      "        so if multiple zero crossings occur within one step, events may be\n",
      "        missed. Additionally each `event` function might have the following\n",
      "        attributes:\n",
      "    \n",
      "            terminal: bool, optional\n",
      "                Whether to terminate integration if this event occurs.\n",
      "                Implicitly False if not assigned.\n",
      "            direction: float, optional\n",
      "                Direction of a zero crossing. If `direction` is positive,\n",
      "                `event` will only trigger when going from negative to positive,\n",
      "                and vice versa if `direction` is negative. If 0, then either\n",
      "                direction will trigger event. Implicitly 0 if not assigned.\n",
      "    \n",
      "        You can assign attributes like ``event.terminal = True`` to any\n",
      "        function in Python.\n",
      "    vectorized : bool, optional\n",
      "        Whether `fun` is implemented in a vectorized fashion. Default is False.\n",
      "    args : tuple, optional\n",
      "        Additional arguments to pass to the user-defined functions.  If given,\n",
      "        the additional arguments are passed to all user-defined functions.\n",
      "        So if, for example, `fun` has the signature ``fun(t, y, a, b, c)``,\n",
      "        then `jac` (if given) and any event functions must have the same\n",
      "        signature, and `args` must be a tuple of length 3.\n",
      "    **options\n",
      "        Options passed to a chosen solver. All options available for already\n",
      "        implemented solvers are listed below.\n",
      "    first_step : float or None, optional\n",
      "        Initial step size. Default is `None` which means that the algorithm\n",
      "        should choose.\n",
      "    max_step : float, optional\n",
      "        Maximum allowed step size. Default is np.inf, i.e., the step size is not\n",
      "        bounded and determined solely by the solver.\n",
      "    rtol, atol : float or array_like, optional\n",
      "        Relative and absolute tolerances. The solver keeps the local error\n",
      "        estimates less than ``atol + rtol * abs(y)``. Here `rtol` controls a\n",
      "        relative accuracy (number of correct digits), while `atol` controls\n",
      "        absolute accuracy (number of correct decimal places). To achieve the\n",
      "        desired `rtol`, set `atol` to be smaller than the smallest value that\n",
      "        can be expected from ``rtol * abs(y)`` so that `rtol` dominates the\n",
      "        allowable error. If `atol` is larger than ``rtol * abs(y)`` the\n",
      "        number of correct digits is not guaranteed. Conversely, to achieve the\n",
      "        desired `atol` set `rtol` such that ``rtol * abs(y)`` is always smaller\n",
      "        than `atol`. If components of y have different scales, it might be\n",
      "        beneficial to set different `atol` values for different components by\n",
      "        passing array_like with shape (n,) for `atol`. Default values are\n",
      "        1e-3 for `rtol` and 1e-6 for `atol`.\n",
      "    jac : array_like, sparse_matrix, callable or None, optional\n",
      "        Jacobian matrix of the right-hand side of the system with respect\n",
      "        to y, required by the 'Radau', 'BDF' and 'LSODA' method. The\n",
      "        Jacobian matrix has shape (n, n) and its element (i, j) is equal to\n",
      "        ``d f_i / d y_j``.  There are three ways to define the Jacobian:\n",
      "    \n",
      "            * If array_like or sparse_matrix, the Jacobian is assumed to\n",
      "              be constant. Not supported by 'LSODA'.\n",
      "            * If callable, the Jacobian is assumed to depend on both\n",
      "              t and y; it will be called as ``jac(t, y)``, as necessary.\n",
      "              For 'Radau' and 'BDF' methods, the return value might be a\n",
      "              sparse matrix.\n",
      "            * If None (default), the Jacobian will be approximated by\n",
      "              finite differences.\n",
      "    \n",
      "        It is generally recommended to provide the Jacobian rather than\n",
      "        relying on a finite-difference approximation.\n",
      "    jac_sparsity : array_like, sparse matrix or None, optional\n",
      "        Defines a sparsity structure of the Jacobian matrix for a finite-\n",
      "        difference approximation. Its shape must be (n, n). This argument\n",
      "        is ignored if `jac` is not `None`. If the Jacobian has only few\n",
      "        non-zero elements in *each* row, providing the sparsity structure\n",
      "        will greatly speed up the computations [10]_. A zero entry means that\n",
      "        a corresponding element in the Jacobian is always zero. If None\n",
      "        (default), the Jacobian is assumed to be dense.\n",
      "        Not supported by 'LSODA', see `lband` and `uband` instead.\n",
      "    lband, uband : int or None, optional\n",
      "        Parameters defining the bandwidth of the Jacobian for the 'LSODA'\n",
      "        method, i.e., ``jac[i, j] != 0 only for i - lband <= j <= i + uband``.\n",
      "        Default is None. Setting these requires your jac routine to return the\n",
      "        Jacobian in the packed format: the returned array must have ``n``\n",
      "        columns and ``uband + lband + 1`` rows in which Jacobian diagonals are\n",
      "        written. Specifically ``jac_packed[uband + i - j , j] = jac[i, j]``.\n",
      "        The same format is used in `scipy.linalg.solve_banded` (check for an\n",
      "        illustration).  These parameters can be also used with ``jac=None`` to\n",
      "        reduce the number of Jacobian elements estimated by finite differences.\n",
      "    min_step : float, optional\n",
      "        The minimum allowed step size for 'LSODA' method.\n",
      "        By default `min_step` is zero.\n",
      "    \n",
      "    Returns\n",
      "    -------\n",
      "    Bunch object with the following fields defined:\n",
      "    t : ndarray, shape (n_points,)\n",
      "        Time points.\n",
      "    y : ndarray, shape (n, n_points)\n",
      "        Values of the solution at `t`.\n",
      "    sol : `OdeSolution` or None\n",
      "        Found solution as `OdeSolution` instance; None if `dense_output` was\n",
      "        set to False.\n",
      "    t_events : list of ndarray or None\n",
      "        Contains for each event type a list of arrays at which an event of\n",
      "        that type event was detected. None if `events` was None.\n",
      "    y_events : list of ndarray or None\n",
      "        For each value of `t_events`, the corresponding value of the solution.\n",
      "        None if `events` was None.\n",
      "    nfev : int\n",
      "        Number of evaluations of the right-hand side.\n",
      "    njev : int\n",
      "        Number of evaluations of the Jacobian.\n",
      "    nlu : int\n",
      "        Number of LU decompositions.\n",
      "    status : int\n",
      "        Reason for algorithm termination:\n",
      "    \n",
      "            * -1: Integration step failed.\n",
      "            *  0: The solver successfully reached the end of `tspan`.\n",
      "            *  1: A termination event occurred.\n",
      "    \n",
      "    message : string\n",
      "        Human-readable description of the termination reason.\n",
      "    success : bool\n",
      "        True if the solver reached the interval end or a termination event\n",
      "        occurred (``status >= 0``).\n",
      "    \n",
      "    References\n",
      "    ----------\n",
      "    .. [1] J. R. Dormand, P. J. Prince, \"A family of embedded Runge-Kutta\n",
      "           formulae\", Journal of Computational and Applied Mathematics, Vol. 6,\n",
      "           No. 1, pp. 19-26, 1980.\n",
      "    .. [2] L. W. Shampine, \"Some Practical Runge-Kutta Formulas\", Mathematics\n",
      "           of Computation,, Vol. 46, No. 173, pp. 135-150, 1986.\n",
      "    .. [3] P. Bogacki, L.F. Shampine, \"A 3(2) Pair of Runge-Kutta Formulas\",\n",
      "           Appl. Math. Lett. Vol. 2, No. 4. pp. 321-325, 1989.\n",
      "    .. [4] E. Hairer, G. Wanner, \"Solving Ordinary Differential Equations II:\n",
      "           Stiff and Differential-Algebraic Problems\", Sec. IV.8.\n",
      "    .. [5] `Backward Differentiation Formula\n",
      "            <https://en.wikipedia.org/wiki/Backward_differentiation_formula>`_\n",
      "            on Wikipedia.\n",
      "    .. [6] L. F. Shampine, M. W. Reichelt, \"THE MATLAB ODE SUITE\", SIAM J. SCI.\n",
      "           COMPUTE., Vol. 18, No. 1, pp. 1-22, January 1997.\n",
      "    .. [7] A. C. Hindmarsh, \"ODEPACK, A Systematized Collection of ODE\n",
      "           Solvers,\" IMACS Transactions on Scientific Computation, Vol 1.,\n",
      "           pp. 55-64, 1983.\n",
      "    .. [8] L. Petzold, \"Automatic selection of methods for solving stiff and\n",
      "           nonstiff systems of ordinary differential equations\", SIAM Journal\n",
      "           on Scientific and Statistical Computing, Vol. 4, No. 1, pp. 136-148,\n",
      "           1983.\n",
      "    .. [9] `Stiff equation <https://en.wikipedia.org/wiki/Stiff_equation>`_ on\n",
      "           Wikipedia.\n",
      "    .. [10] A. Curtis, M. J. D. Powell, and J. Reid, \"On the estimation of\n",
      "            sparse Jacobian matrices\", Journal of the Institute of Mathematics\n",
      "            and its Applications, 13, pp. 117-120, 1974.\n",
      "    .. [11] `Cauchy-Riemann equations\n",
      "             <https://en.wikipedia.org/wiki/Cauchy-Riemann_equations>`_ on\n",
      "             Wikipedia.\n",
      "    .. [12] `Lotka-Volterra equations\n",
      "            <https://en.wikipedia.org/wiki/Lotka%E2%80%93Volterra_equations>`_\n",
      "            on Wikipedia.\n",
      "    .. [13] E. Hairer, S. P. Norsett G. Wanner, \"Solving Ordinary Differential\n",
      "            Equations I: Nonstiff Problems\", Sec. II.\n",
      "    .. [14] `Page with original Fortran code of DOP853\n",
      "            <http://www.unige.ch/~hairer/software.html>`_.\n",
      "    \n",
      "    Examples\n",
      "    --------\n",
      "    Basic exponential decay showing automatically chosen time points.\n",
      "    \n",
      "    >>> import numpy as np\n",
      "    >>> from scipy.integrate import solve_ivp\n",
      "    >>> def exponential_decay(t, y): return -0.5 * y\n",
      "    >>> sol = solve_ivp(exponential_decay, [0, 10], [2, 4, 8])\n",
      "    >>> print(sol.t)\n",
      "    [ 0.          0.11487653  1.26364188  3.06061781  4.81611105  6.57445806\n",
      "      8.33328988 10.        ]\n",
      "    >>> print(sol.y)\n",
      "    [[2.         1.88836035 1.06327177 0.43319312 0.18017253 0.07483045\n",
      "      0.03107158 0.01350781]\n",
      "     [4.         3.7767207  2.12654355 0.86638624 0.36034507 0.14966091\n",
      "      0.06214316 0.02701561]\n",
      "     [8.         7.5534414  4.25308709 1.73277247 0.72069014 0.29932181\n",
      "      0.12428631 0.05403123]]\n",
      "    \n",
      "    Specifying points where the solution is desired.\n",
      "    \n",
      "    >>> sol = solve_ivp(exponential_decay, [0, 10], [2, 4, 8],\n",
      "    ...                 t_eval=[0, 1, 2, 4, 10])\n",
      "    >>> print(sol.t)\n",
      "    [ 0  1  2  4 10]\n",
      "    >>> print(sol.y)\n",
      "    [[2.         1.21305369 0.73534021 0.27066736 0.01350938]\n",
      "     [4.         2.42610739 1.47068043 0.54133472 0.02701876]\n",
      "     [8.         4.85221478 2.94136085 1.08266944 0.05403753]]\n",
      "    \n",
      "    Cannon fired upward with terminal event upon impact. The ``terminal`` and\n",
      "    ``direction`` fields of an event are applied by monkey patching a function.\n",
      "    Here ``y[0]`` is position and ``y[1]`` is velocity. The projectile starts\n",
      "    at position 0 with velocity +10. Note that the integration never reaches\n",
      "    t=100 because the event is terminal.\n",
      "    \n",
      "    >>> def upward_cannon(t, y): return [y[1], -0.5]\n",
      "    >>> def hit_ground(t, y): return y[0]\n",
      "    >>> hit_ground.terminal = True\n",
      "    >>> hit_ground.direction = -1\n",
      "    >>> sol = solve_ivp(upward_cannon, [0, 100], [0, 10], events=hit_ground)\n",
      "    >>> print(sol.t_events)\n",
      "    [array([40.])]\n",
      "    >>> print(sol.t)\n",
      "    [0.00000000e+00 9.99900010e-05 1.09989001e-03 1.10988901e-02\n",
      "     1.11088891e-01 1.11098890e+00 1.11099890e+01 4.00000000e+01]\n",
      "    \n",
      "    Use `dense_output` and `events` to find position, which is 100, at the apex\n",
      "    of the cannonball's trajectory. Apex is not defined as terminal, so both\n",
      "    apex and hit_ground are found. There is no information at t=20, so the sol\n",
      "    attribute is used to evaluate the solution. The sol attribute is returned\n",
      "    by setting ``dense_output=True``. Alternatively, the `y_events` attribute\n",
      "    can be used to access the solution at the time of the event.\n",
      "    \n",
      "    >>> def apex(t, y): return y[1]\n",
      "    >>> sol = solve_ivp(upward_cannon, [0, 100], [0, 10],\n",
      "    ...                 events=(hit_ground, apex), dense_output=True)\n",
      "    >>> print(sol.t_events)\n",
      "    [array([40.]), array([20.])]\n",
      "    >>> print(sol.t)\n",
      "    [0.00000000e+00 9.99900010e-05 1.09989001e-03 1.10988901e-02\n",
      "     1.11088891e-01 1.11098890e+00 1.11099890e+01 4.00000000e+01]\n",
      "    >>> print(sol.sol(sol.t_events[1][0]))\n",
      "    [100.   0.]\n",
      "    >>> print(sol.y_events)\n",
      "    [array([[-5.68434189e-14, -1.00000000e+01]]), array([[1.00000000e+02, 1.77635684e-15]])]\n",
      "    \n",
      "    As an example of a system with additional parameters, we'll implement\n",
      "    the Lotka-Volterra equations [12]_.\n",
      "    \n",
      "    >>> def lotkavolterra(t, z, a, b, c, d):\n",
      "    ...     x, y = z\n",
      "    ...     return [a*x - b*x*y, -c*y + d*x*y]\n",
      "    ...\n",
      "    \n",
      "    We pass in the parameter values a=1.5, b=1, c=3 and d=1 with the `args`\n",
      "    argument.\n",
      "    \n",
      "    >>> sol = solve_ivp(lotkavolterra, [0, 15], [10, 5], args=(1.5, 1, 3, 1),\n",
      "    ...                 dense_output=True)\n",
      "    \n",
      "    Compute a dense solution and plot it.\n",
      "    \n",
      "    >>> t = np.linspace(0, 15, 300)\n",
      "    >>> z = sol.sol(t)\n",
      "    >>> import matplotlib.pyplot as plt\n",
      "    >>> plt.plot(t, z.T)\n",
      "    >>> plt.xlabel('t')\n",
      "    >>> plt.legend(['x', 'y'], shadow=True)\n",
      "    >>> plt.title('Lotka-Volterra System')\n",
      "    >>> plt.show()\n",
      "\n"
     ]
    }
   ],
   "source": [
    "help(solve_ivp)"
   ]
  },
  {
   "cell_type": "code",
   "execution_count": 13,
   "id": "4971c542",
   "metadata": {},
   "outputs": [
    {
     "data": {
      "image/png": "[encoded data removed]",
      "text/latex": [
       "$\\displaystyle \\left[\\begin{matrix}\\frac{p}{l^{2} m}\\\\- g l m \\sin{\\left(\\theta \\right)}\\end{matrix}\\right]$"
      ],
      "text/plain": [
       "⎡     p       ⎤\n",
       "⎢    ────     ⎥\n",
       "⎢     2       ⎥\n",
       "⎢    l ⋅m     ⎥\n",
       "⎢             ⎥\n",
       "⎣-g⋅l⋅m⋅sin(θ)⎦"
      ]
     },
     "execution_count": 13,
     "metadata": {},
     "output_type": "execute_result"
    }
   ],
   "source": [
    "flow"
   ]
  },
  {
   "cell_type": "markdown",
   "id": "59490943",
   "metadata": {},
   "source": [
    "Looking at the `solve_ivp` documentation, we need a function that takes the time and a state vector, $y$, possibly along with some other arguments, `args`, and returns $dy/dt$. \n",
    "\n",
    "SymPy's `lambidfy` can give us something like this:"
   ]
  },
  {
   "cell_type": "code",
   "execution_count": 14,
   "id": "e26263be",
   "metadata": {},
   "outputs": [],
   "source": [
    "flow_func = sp.lambdify((t,theta,p,g,l,m),flow)"
   ]
  },
  {
   "cell_type": "code",
   "execution_count": 15,
   "id": "cc6f59d2",
   "metadata": {},
   "outputs": [],
   "source": [
    "Ng = 9.8 # numerical value for  grav. accelration\n",
    "Nl = 1  # pendulum length, in meters\n",
    "Nm = 0.5 # pendulum mass, in kg\n",
    "\n",
    "theta0 = np.pi/2 # initial theta\n",
    "p0 = 0 # initial p value"
   ]
  },
  {
   "cell_type": "markdown",
   "id": "eff05c07",
   "metadata": {},
   "source": [
    "This has given us a function that we can call:"
   ]
  },
  {
   "cell_type": "code",
   "execution_count": 16,
   "id": "c0904e56",
   "metadata": {},
   "outputs": [
    {
     "data": {
      "text/plain": [
       "array([[ 0. ],\n",
       "       [-4.9]])"
      ]
     },
     "execution_count": 16,
     "metadata": {},
     "output_type": "execute_result"
    }
   ],
   "source": [
    "flow_func(0,theta0,p0,Ng,Nl,Nm)"
   ]
  },
  {
   "cell_type": "markdown",
   "id": "75738736",
   "metadata": {},
   "source": [
    "... that agree with substituting numerical values in our original expression:"
   ]
  },
  {
   "cell_type": "code",
   "execution_count": 17,
   "id": "c5ab385b",
   "metadata": {},
   "outputs": [
    {
     "data": {
      "image/png": "[encoded data removed]",
      "text/latex": [
       "$\\displaystyle \\left[\\begin{matrix}0\\\\-4.9\\end{matrix}\\right]$"
      ],
      "text/plain": [
       "⎡ 0  ⎤\n",
       "⎢    ⎥\n",
       "⎣-4.9⎦"
      ]
     },
     "execution_count": 17,
     "metadata": {},
     "output_type": "execute_result"
    }
   ],
   "source": [
    "flow.subs({g:Ng,l:Nl,m:Nm,p:0,theta:np.pi/2})"
   ]
  },
  {
   "cell_type": "markdown",
   "id": "c74bd466",
   "metadata": {},
   "source": [
    "Our `flow_func` isn't exactly in the form called for by `solve_ivp`, but we can easily make a wrapper that conforms to what `solve_ivp` asks for:"
   ]
  },
  {
   "cell_type": "code",
   "execution_count": 18,
   "id": "ceddf0d7",
   "metadata": {},
   "outputs": [],
   "source": [
    "fn = lambda t,y: flow_func(t,*y,Ng,Nl,Nm).reshape(-1)"
   ]
  },
  {
   "cell_type": "code",
   "execution_count": 19,
   "id": "7661bec2",
   "metadata": {},
   "outputs": [
    {
     "data": {
      "text/plain": [
       "array([ 0. , -4.9])"
      ]
     },
     "execution_count": 19,
     "metadata": {},
     "output_type": "execute_result"
    }
   ],
   "source": [
    "y0 = (theta0,p0)\n",
    "\n",
    "fn(0,y0)"
   ]
  },
  {
   "cell_type": "markdown",
   "id": "001b41d5",
   "metadata": {},
   "source": [
    "### Integrate"
   ]
  },
  {
   "cell_type": "code",
   "execution_count": 20,
   "id": "7e28eee2",
   "metadata": {},
   "outputs": [
    {
     "data": {
      "text/plain": [
       "  message: The solver successfully reached the end of the integration interval.\n",
       "  success: True\n",
       "   status: 0\n",
       "        t: [ 0.000e+00  7.874e-02 ...  9.921e+00  1.000e+01]\n",
       "        y: [[ 1.571e+00  1.540e+00 ...  5.338e-01  2.001e-01]\n",
       "            [ 0.000e+00 -3.857e-01 ... -2.039e+00 -2.180e+00]]\n",
       "      sol: None\n",
       " t_events: None\n",
       " y_events: None\n",
       "     nfev: 254\n",
       "     njev: 0\n",
       "      nlu: 0"
      ]
     },
     "execution_count": 20,
     "metadata": {},
     "output_type": "execute_result"
    }
   ],
   "source": [
    "Tfin = 10\n",
    "Nout = 128\n",
    "times = np.linspace(0,Tfin,Nout)\n",
    "\n",
    "soln = solve_ivp(\n",
    "    fn,\n",
    "    (0,Tfin),\n",
    "    y0,\n",
    "    t_eval=times\n",
    ")\n",
    "soln"
   ]
  },
  {
   "cell_type": "markdown",
   "id": "bbd19b33",
   "metadata": {},
   "source": [
    "### Plot our results"
   ]
  },
  {
   "cell_type": "code",
   "execution_count": 21,
   "id": "413e8a58",
   "metadata": {},
   "outputs": [
    {
     "data": {
      "text/plain": [
       "Text(0.5, 0, 'Time')"
      ]
     },
     "execution_count": 21,
     "metadata": {},
     "output_type": "execute_result"
    },
    {
     "data": {
      "image/png": "[encoded data removed]",
      "text/plain": [
       "<Figure size 640x480 with 1 Axes>"
      ]
     },
     "metadata": {},
     "output_type": "display_data"
    }
   ],
   "source": [
    "plt.plot(soln.t,soln.y[0])\n",
    "plt.ylabel(r\"$\\theta$\",fontsize=16)\n",
    "plt.xlabel(r\"Time\",fontsize=16)"
   ]
  },
  {
   "cell_type": "markdown",
   "id": "d19fbc47",
   "metadata": {},
   "source": [
    "## Exercise 1\n",
    "\n",
    "Lambidfy the Hamiltonian function, `hamiltonian`, defined about and use it to plot the pendulum's energy versus time."
   ]
  },
  {
   "cell_type": "code",
   "execution_count": 22,
   "id": "7a2cee38",
   "metadata": {},
   "outputs": [],
   "source": [
    "ham_func = sp.lambdify((theta,p,g,l,m),hamiltonian)"
   ]
  },
  {
   "cell_type": "code",
   "execution_count": 23,
   "id": "9a66b185",
   "metadata": {},
   "outputs": [
    {
     "data": {
      "text/plain": [
       "[<matplotlib.lines.Line2D at 0x11a9c2b50>]"
      ]
     },
     "execution_count": 23,
     "metadata": {},
     "output_type": "execute_result"
    },
    {
     "data": {
      "image/png": "[encoded data removed]",
      "text/plain": [
       "<Figure size 640x480 with 1 Axes>"
      ]
     },
     "metadata": {},
     "output_type": "display_data"
    }
   ],
   "source": [
    "E = ham_func(soln.y[0],soln.y[1],Ng,Nl,Nm)\n",
    "dE = np.abs(E/np.mean(E)-1)\n",
    "plt.plot(soln.t,dE)"
   ]
  },
  {
   "cell_type": "markdown",
   "id": "c065af9d",
   "metadata": {},
   "source": [
    "## Getting the Jacobian for numerical integration\n",
    "\n",
    "From the `solve_ivp` help documentation, we see that we can optionally pass the Jacobian of our flow as the `jac` parameter, which is used by some integration methods. In particular, implicit methods, are often improved by inclusion of Jacobian information.  \n",
    "\n",
    "Furthermore, implicit methods usually have much better energy conservation properties for Hamiltonian systems. This is not so important for our simple pendulum example, but can often be important for more complicated systems you may encounter in astrodynamics."
   ]
  },
  {
   "cell_type": "code",
   "execution_count": 24,
   "id": "0d55a7aa",
   "metadata": {},
   "outputs": [
    {
     "data": {
      "image/png": "[encoded data removed]",
      "text/latex": [
       "$\\displaystyle \\left[\\begin{matrix}0 & \\frac{1}{l^{2} m}\\\\- g l m \\cos{\\left(\\theta \\right)} & 0\\end{matrix}\\right]$"
      ],
      "text/plain": [
       "⎡                1  ⎤\n",
       "⎢      0        ────⎥\n",
       "⎢                2  ⎥\n",
       "⎢               l ⋅m⎥\n",
       "⎢                   ⎥\n",
       "⎣-g⋅l⋅m⋅cos(θ)   0  ⎦"
      ]
     },
     "execution_count": 24,
     "metadata": {},
     "output_type": "execute_result"
    }
   ],
   "source": [
    "qp_vars = (theta,p)\n",
    "flow_jacobian = sp.Matrix(2,2,lambda i,j: sp.diff(flow[i],qp_vars[j]))\n",
    "flow_jacobian"
   ]
  },
  {
   "cell_type": "markdown",
   "id": "5e850f17",
   "metadata": {},
   "source": [
    "Let's lambidfy again:"
   ]
  },
  {
   "cell_type": "code",
   "execution_count": 25,
   "id": "2e220b96",
   "metadata": {},
   "outputs": [],
   "source": [
    "jacobian_func  = sp.lambdify((t,theta,p,g,l,m),flow_jacobian)"
   ]
  },
  {
   "cell_type": "code",
   "execution_count": 26,
   "id": "74121bb5",
   "metadata": {},
   "outputs": [],
   "source": [
    "fn = lambda t,y: flow_func(t,*y,Ng,Nl,Nm).reshape(-1)\n",
    "Dfn = lambda t,y: jacobian_func(t,*y,Ng,Nl,Nm)"
   ]
  },
  {
   "cell_type": "code",
   "execution_count": 27,
   "id": "c9fba112",
   "metadata": {},
   "outputs": [
    {
     "data": {
      "text/plain": [
       "array([[ 0.00000000e+00,  2.00000000e+00],\n",
       "       [-3.00038466e-16,  0.00000000e+00]])"
      ]
     },
     "execution_count": 27,
     "metadata": {},
     "output_type": "execute_result"
    }
   ],
   "source": [
    "Dfn(0,y0)"
   ]
  },
  {
   "cell_type": "code",
   "execution_count": 28,
   "id": "082b5c43",
   "metadata": {
    "scrolled": true
   },
   "outputs": [
    {
     "data": {
      "text/plain": [
       "  message: The solver successfully reached the end of the integration interval.\n",
       "  success: True\n",
       "   status: 0\n",
       "        t: [ 0.000e+00  7.874e-02 ...  9.921e+00  1.000e+01]\n",
       "        y: [[ 1.571e+00  1.540e+00 ...  6.278e-01  2.993e-01]\n",
       "            [ 0.000e+00 -3.857e-01 ... -1.991e+00 -2.164e+00]]\n",
       "      sol: None\n",
       " t_events: None\n",
       " y_events: None\n",
       "     nfev: 494\n",
       "     njev: 18\n",
       "      nlu: 58"
      ]
     },
     "execution_count": 28,
     "metadata": {},
     "output_type": "execute_result"
    }
   ],
   "source": [
    "Tfin = 10\n",
    "Nout = 128\n",
    "times = np.linspace(0,Tfin,Nout)\n",
    "\n",
    "soln = solve_ivp(\n",
    "    fn,\n",
    "    (0,Tfin),\n",
    "    y0,\n",
    "    t_eval=times,\n",
    "    jac = Dfn,\n",
    "    method='Radau'\n",
    ")\n",
    "soln"
   ]
  },
  {
   "cell_type": "markdown",
   "id": "09c6b41e",
   "metadata": {},
   "source": [
    "## Exercise 1.5\n",
    "Using your lambdified Hamiltonian, confirm that the implicit Radau method that we just used has better energy conservation than our original solution\n"
   ]
  },
  {
   "cell_type": "code",
   "execution_count": null,
   "id": "1af3da6c",
   "metadata": {},
   "outputs": [],
   "source": []
  },
  {
   "cell_type": "markdown",
   "id": "bc30a7cf",
   "metadata": {},
   "source": [
    "## Exercise 2\n",
    "\n",
    "Derive equations of motion directly from the Lagrangian, (i.e., the [Euler-Lagrange equations](https://en.wikipedia.org/wiki/Euler–Lagrange_equation)), and integrate them as we did with Hamilton's equations. "
   ]
  },
  {
   "cell_type": "code",
   "execution_count": null,
   "id": "b43c9c76",
   "metadata": {},
   "outputs": [],
   "source": []
  },
  {
   "cell_type": "markdown",
   "id": "31fb8c41",
   "metadata": {},
   "source": [
    "## Exercise 3\n",
    "\n",
    "Can you derive and integrate Hamilton's equations of motion for the [double pendulum](https://en.wikipedia.org/wiki/Double_pendulum)? In case you need inspirartion for initial conditions, see [here](https://twitter.com/pendulum_bot?ref_src=twsrc%5Egoogle%7Ctwcamp%5Eserp%7Ctwgr%5Eauthor).\n"
   ]
  },
  {
   "cell_type": "code",
   "execution_count": null,
   "id": "854c8f23",
   "metadata": {},
   "outputs": [],
   "source": []
  }
 ],
 "metadata": {
  "kernelspec": {
   "display_name": "Python 3 (ipykernel)",
   "language": "python",
   "name": "python3"
  },
  "language_info": {
   "codemirror_mode": {
    "name": "ipython",
    "version": 3
   },
   "file_extension": ".py",
   "mimetype": "text/x-python",
   "name": "python",
   "nbconvert_exporter": "python",
   "pygments_lexer": "ipython3",
   "version": "3.11.3"
  }
 },
 "nbformat": 4,
 "nbformat_minor": 5
}

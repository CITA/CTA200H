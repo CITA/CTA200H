{
 "cells": [
  {
   "cell_type": "code",
   "execution_count": null,
   "id": "de7f61c1",
   "metadata": {},
   "outputs": [],
   "source": [
    "import sympy as sp\n",
    "from matplotlib import pyplot as plt\n",
    "import numpy as np\n",
    "\n",
    "from sympy import init_printing\n",
    "init_printing()"
   ]
  },
  {
   "cell_type": "markdown",
   "id": "2482332b",
   "metadata": {},
   "source": [
    "# Classical mechanics with SymPy\n",
    "SymPy is great for automating a log of the machinery of classical Lagrangian and Hamiltonian mechanics. (Great enough for someone to build an entire [celestial mechanics package](https://celmech.readthedocs.io/en/latest/) on top of SymPy's capabilities for automating mechanics...)\n",
    "\n",
    "In this example, we'll use sympy to generate equations of motion for a simple pendulum, turn these equations into callable functions, then numerically integrate the system."
   ]
  },
  {
   "cell_type": "markdown",
   "id": "2e3b57cd",
   "metadata": {},
   "source": [
    "## Simple Pendulum\n",
    "\n",
    "We'll start by constructing the Lagrangian for a pendulum with mass $m$, length $l$, subject to a gravitational accelration $-g$. We'll use the angular displacement of the pendulum, $\\theta$ as our generalized coordinate. "
   ]
  },
  {
   "cell_type": "markdown",
   "id": "40babde8",
   "metadata": {},
   "source": [
    "### Lagrangian formulation"
   ]
  },
  {
   "cell_type": "markdown",
   "id": "99303953",
   "metadata": {},
   "source": [
    "First we'll create our variables:"
   ]
  },
  {
   "cell_type": "code",
   "execution_count": null,
   "id": "cd0ef2f3",
   "metadata": {},
   "outputs": [],
   "source": [
    "theta_dot = sp.symbols(r\"\\dot{\\theta}\",real= True)\n",
    "p,theta,t = sp.symbols(\"p,theta,t\",real=True)\n",
    "l,g,m = sp.symbols(\"l,g,m\",positive=True)"
   ]
  },
  {
   "cell_type": "markdown",
   "id": "e03365c0",
   "metadata": {},
   "source": [
    "Now we'll create expressions for the kinetic energy, $T$, and potential energy, $V$, which we then combine to get the Lagrangian, $L(\\theta,\\dot{\\theta}) = T(\\dot{\\theta})-V(\\theta)$ "
   ]
  },
  {
   "cell_type": "code",
   "execution_count": null,
   "id": "d679e9ec",
   "metadata": {},
   "outputs": [],
   "source": [
    "KE = m * l*l*theta_dot*theta_dot/sp.S(2)\n",
    "PE = m * g * l * (1 - sp.cos(theta))\n",
    "lagrangian = KE - PE"
   ]
  },
  {
   "cell_type": "code",
   "execution_count": null,
   "id": "fd65ebbd",
   "metadata": {},
   "outputs": [],
   "source": [
    "lagrangian"
   ]
  },
  {
   "cell_type": "markdown",
   "id": "5887d6d2",
   "metadata": {},
   "source": [
    "### Hamiltonian formulation\n",
    "Recall that the Hamiltonian formulation is obtained form the Lagrangian formulation via a so-called Legendre transform, where we \n",
    "\n",
    "- (i) define a new momentum variable, $p = \\frac{\\partial }{\\partial \\dot{\\theta}} L(\\theta,\\dot{\\theta}) $\n",
    "- (ii) Solve for $\\dot\\theta(p)$ by inverting the above equation \n",
    "- (iii)  Obtain the Hamiltonian as $H(\\theta,p) = p\\cdot\\dot\\theta(p) - L(\\theta,\\dot\\theta(p))$"
   ]
  },
  {
   "cell_type": "code",
   "execution_count": null,
   "id": "abe0d28f",
   "metadata": {},
   "outputs": [],
   "source": [
    "to_solve = sp.Eq(p , sp.diff(lagrangian,theta_dot))\n",
    "to_solve"
   ]
  },
  {
   "cell_type": "code",
   "execution_count": null,
   "id": "7106ba83",
   "metadata": {},
   "outputs": [],
   "source": [
    "# get our solution\n",
    "theta_dot_soln = sp.solve(to_solve,theta_dot)[0]\n",
    "theta_dot_soln"
   ]
  },
  {
   "cell_type": "markdown",
   "id": "45d02277",
   "metadata": {},
   "source": [
    "Construct the Hamiltonian"
   ]
  },
  {
   "cell_type": "code",
   "execution_count": null,
   "id": "e1e63138",
   "metadata": {},
   "outputs": [],
   "source": [
    "hamiltonian = (theta_dot * p - lagrangian).subs({theta_dot:theta_dot_soln})"
   ]
  },
  {
   "cell_type": "code",
   "execution_count": null,
   "id": "661cc4ff",
   "metadata": {},
   "outputs": [],
   "source": [
    "hamiltonian"
   ]
  },
  {
   "cell_type": "markdown",
   "id": "1ffc416d",
   "metadata": {},
   "source": [
    "### Hamiltonian equations of motion\n",
    "\n",
    "Hamilton's equations are \n",
    "$$\n",
    "\\begin{eqnarray}\n",
    "\\frac{d}{dt}\\theta &=& \\partial_{p} H(\\theta,p)\n",
    "\\\\\n",
    "\\frac{d}{dt}p &=&  - \\partial_{\\theta} H(\\theta,p)\n",
    "\\end{eqnarray}\n",
    "$$"
   ]
  },
  {
   "cell_type": "markdown",
   "id": "97383c2d",
   "metadata": {},
   "source": [
    "Get the right-hand side of these equations as a vector "
   ]
  },
  {
   "cell_type": "code",
   "execution_count": null,
   "id": "69087a22",
   "metadata": {},
   "outputs": [],
   "source": [
    "flow = sp.Matrix([sp.diff(hamiltonian,p),-1* sp.diff(hamiltonian,theta)])"
   ]
  },
  {
   "cell_type": "code",
   "execution_count": null,
   "id": "8af6ef0c",
   "metadata": {},
   "outputs": [],
   "source": [
    "flow"
   ]
  },
  {
   "cell_type": "markdown",
   "id": "a1593b92",
   "metadata": {},
   "source": [
    "### Integration\n",
    "We now have an ordinary differential equation for $(\\theta,p)$ in symbolic form.\n",
    "\n",
    "We could try to go about deducing an analytic solution, but who has time for learning elliptic integrals? Instead, we're going to turn our symbolic expressions into callable functions that we'll then feed to an ODE solver to generate a numerical solution.\n",
    "\n",
    "We'll use scipy's `solve_ivp` function to integrate; let's see what we need to pass it:"
   ]
  },
  {
   "cell_type": "code",
   "execution_count": null,
   "id": "56e89129",
   "metadata": {},
   "outputs": [],
   "source": [
    "from scipy.integrate import solve_ivp"
   ]
  },
  {
   "cell_type": "code",
   "execution_count": null,
   "id": "58da5b35",
   "metadata": {
    "scrolled": true
   },
   "outputs": [],
   "source": [
    "help(solve_ivp)"
   ]
  },
  {
   "cell_type": "code",
   "execution_count": null,
   "id": "4971c542",
   "metadata": {},
   "outputs": [],
   "source": [
    "flow"
   ]
  },
  {
   "cell_type": "markdown",
   "id": "59490943",
   "metadata": {},
   "source": [
    "Looking at the `solve_ivp` documentation, we need a function that takes the time and a state vector, $y$, possibly along with some other arguments, `args`, and returns $dy/dt$. \n",
    "\n",
    "SymPy's `lambidfy` can give us something like this:"
   ]
  },
  {
   "cell_type": "code",
   "execution_count": null,
   "id": "e26263be",
   "metadata": {},
   "outputs": [],
   "source": [
    "flow_func = sp.lambdify((t,theta,p,g,l,m),flow)"
   ]
  },
  {
   "cell_type": "code",
   "execution_count": null,
   "id": "cc6f59d2",
   "metadata": {},
   "outputs": [],
   "source": [
    "Ng = 9.8 # numerical value for  grav. accelration\n",
    "Nl = 1  # pendulum length, in meters\n",
    "Nm = 0.5 # pendulum mass, in kg\n",
    "\n",
    "theta0 = np.pi/2 # initial theta\n",
    "p0 = 0 # initial p value"
   ]
  },
  {
   "cell_type": "markdown",
   "id": "eff05c07",
   "metadata": {},
   "source": [
    "This has given us a function that we can call:"
   ]
  },
  {
   "cell_type": "code",
   "execution_count": null,
   "id": "c0904e56",
   "metadata": {},
   "outputs": [],
   "source": [
    "flow_func(0,theta0,p0,Ng,Nl,Nm)"
   ]
  },
  {
   "cell_type": "markdown",
   "id": "75738736",
   "metadata": {},
   "source": [
    "... that agree with substituting numerical values in our original expression:"
   ]
  },
  {
   "cell_type": "code",
   "execution_count": null,
   "id": "c5ab385b",
   "metadata": {},
   "outputs": [],
   "source": [
    "flow.subs({g:Ng,l:Nl,m:Nm,p:0,theta:np.pi/2})"
   ]
  },
  {
   "cell_type": "markdown",
   "id": "c74bd466",
   "metadata": {},
   "source": [
    "Our `flow_func` isn't exactly in the form called for by `solve_ivp`, but we can easily make a wrapper that conforms to what `solve_ivp` asks for:"
   ]
  },
  {
   "cell_type": "code",
   "execution_count": null,
   "id": "ceddf0d7",
   "metadata": {},
   "outputs": [],
   "source": [
    "fn = lambda t,y: flow_func(t,*y,Ng,Nl,Nm).reshape(-1)"
   ]
  },
  {
   "cell_type": "code",
   "execution_count": null,
   "id": "7661bec2",
   "metadata": {},
   "outputs": [],
   "source": [
    "y0 = (theta0,p0)\n",
    "\n",
    "fn(0,y0)"
   ]
  },
  {
   "cell_type": "markdown",
   "id": "001b41d5",
   "metadata": {},
   "source": [
    "### Integrate"
   ]
  },
  {
   "cell_type": "code",
   "execution_count": null,
   "id": "7e28eee2",
   "metadata": {},
   "outputs": [],
   "source": [
    "Tfin = 10\n",
    "Nout = 128\n",
    "times = np.linspace(0,Tfin,Nout)\n",
    "\n",
    "soln = solve_ivp(\n",
    "    fn,\n",
    "    (0,Tfin),\n",
    "    y0,\n",
    "    t_eval=times\n",
    ")\n",
    "soln"
   ]
  },
  {
   "cell_type": "markdown",
   "id": "bbd19b33",
   "metadata": {},
   "source": [
    "### Plot our results"
   ]
  },
  {
   "cell_type": "code",
   "execution_count": null,
   "id": "413e8a58",
   "metadata": {},
   "outputs": [],
   "source": [
    "plt.plot(soln.t,soln.y[0])\n",
    "plt.ylabel(r\"$\\theta$\",fontsize=16)\n",
    "plt.xlabel(r\"Time\",fontsize=16)"
   ]
  },
  {
   "cell_type": "markdown",
   "id": "d19fbc47",
   "metadata": {},
   "source": [
    "## Exercise 1\n",
    "\n",
    "Lambidfy the Hamiltonian function, `hamiltonian`, defined about and use it to plot the pendulum's energy versus time."
   ]
  },
  {
   "cell_type": "code",
   "execution_count": null,
   "id": "7a2cee38",
   "metadata": {},
   "outputs": [],
   "source": [
    "ham_func = sp.lambdify((theta,p,g,l,m),hamiltonian)"
   ]
  },
  {
   "cell_type": "code",
   "execution_count": null,
   "id": "9a66b185",
   "metadata": {},
   "outputs": [],
   "source": [
    "E = ham_func(soln.y[0],soln.y[1],Ng,Nl,Nm)\n",
    "dE = np.abs(E/np.mean(E)-1)\n",
    "plt.plot(soln.t,dE)"
   ]
  },
  {
   "cell_type": "markdown",
   "id": "c065af9d",
   "metadata": {},
   "source": [
    "## Getting the Jacobian for numerical integration\n",
    "\n",
    "From the `solve_ivp` help documentation, we see that we can optionally pass the Jacobian of our flow as the `jac` parameter, which is used by some integration methods. In particular, implicit methods, are often improved by inclusion of Jacobian information.  \n",
    "\n",
    "Furthermore, implicit methods usually have much better energy conservation properties for Hamiltonian systems. This is not so important for our simple pendulum example, but can often be important for more complicated systems you may encounter in astrodynamics."
   ]
  },
  {
   "cell_type": "code",
   "execution_count": null,
   "id": "0d55a7aa",
   "metadata": {},
   "outputs": [],
   "source": [
    "qp_vars = (theta,p)\n",
    "flow_jacobian = sp.Matrix(2,2,lambda i,j: sp.diff(flow[i],qp_vars[j]))\n",
    "flow_jacobian"
   ]
  },
  {
   "cell_type": "markdown",
   "id": "5e850f17",
   "metadata": {},
   "source": [
    "Let's lambidfy again:"
   ]
  },
  {
   "cell_type": "code",
   "execution_count": null,
   "id": "2e220b96",
   "metadata": {},
   "outputs": [],
   "source": [
    "jacobian_func  = sp.lambdify((t,theta,p,g,l,m),flow_jacobian)"
   ]
  },
  {
   "cell_type": "code",
   "execution_count": null,
   "id": "74121bb5",
   "metadata": {},
   "outputs": [],
   "source": [
    "fn = lambda t,y: flow_func(t,*y,Ng,Nl,Nm).reshape(-1)\n",
    "Dfn = lambda t,y: jacobian_func(t,*y,Ng,Nl,Nm)"
   ]
  },
  {
   "cell_type": "code",
   "execution_count": null,
   "id": "c9fba112",
   "metadata": {},
   "outputs": [],
   "source": [
    "Dfn(0,y0)"
   ]
  },
  {
   "cell_type": "code",
   "execution_count": null,
   "id": "082b5c43",
   "metadata": {
    "scrolled": true
   },
   "outputs": [],
   "source": [
    "Tfin = 10\n",
    "Nout = 128\n",
    "times = np.linspace(0,Tfin,Nout)\n",
    "\n",
    "soln = solve_ivp(\n",
    "    fn,\n",
    "    (0,Tfin),\n",
    "    y0,\n",
    "    t_eval=times,\n",
    "    jac = Dfn,\n",
    "    method='Radau'\n",
    ")\n",
    "soln"
   ]
  },
  {
   "cell_type": "markdown",
   "id": "09c6b41e",
   "metadata": {},
   "source": [
    "## Exercise 1.5\n",
    "Using your lambdified Hamiltonian, confirm that the implicit Radau method that we just used has better energy conservation than our original solution\n"
   ]
  },
  {
   "cell_type": "code",
   "execution_count": null,
   "id": "1af3da6c",
   "metadata": {},
   "outputs": [],
   "source": []
  },
  {
   "cell_type": "markdown",
   "id": "ca0a4db8",
   "metadata": {},
   "source": [
    "# The small angle approximation with `sympy.series`\n",
    "\n",
    "When the maximum value of $\\theta$ is small, the pendulum can be approximated as a harmonic oscillator. We'll use `sympy` to derive this harmonic oscillator solution."
   ]
  },
  {
   "cell_type": "markdown",
   "id": "a48d139b",
   "metadata": {},
   "source": [
    "First, we use `sympy.series` to get an approximate Hamiltonian:"
   ]
  },
  {
   "cell_type": "code",
   "execution_count": null,
   "id": "7a52e853",
   "metadata": {},
   "outputs": [],
   "source": [
    "hamiltonian_small_theta = sp.series(hamiltonian,theta,x0=0,n=3)\n",
    "hamiltonian_small_theta"
   ]
  },
  {
   "cell_type": "markdown",
   "id": "905bb789",
   "metadata": {},
   "source": [
    "We can get rid of the `bigO` term with the `removeO` method:"
   ]
  },
  {
   "cell_type": "code",
   "execution_count": null,
   "id": "792617e0",
   "metadata": {},
   "outputs": [],
   "source": [
    "hamiltonian_small_theta=hamiltonian_small_theta.removeO()\n",
    "hamiltonian_small_theta"
   ]
  },
  {
   "cell_type": "markdown",
   "id": "5b0ad5c1",
   "metadata": {},
   "source": [
    "`sympy`'s `dsolve` method can solve (some) ODEs.\n",
    "In order to use it, we need to represent our dynamical variables, $\\theta$ and $p$, as `sympy.Functions` rather than simple `Symbols`."
   ]
  },
  {
   "cell_type": "code",
   "execution_count": null,
   "id": "a36eed73",
   "metadata": {},
   "outputs": [],
   "source": [
    "theta_fn, p_fn = sp.symbols(\"theta,p\",cls=sp.Function)\n",
    "theta_fn,p_fn"
   ]
  },
  {
   "cell_type": "code",
   "execution_count": null,
   "id": "6129732a",
   "metadata": {},
   "outputs": [],
   "source": [
    "type(theta),type(theta_fn)"
   ]
  },
  {
   "cell_type": "markdown",
   "id": "bef51fa9",
   "metadata": {},
   "source": [
    "After getting our equtaions of motion using Hamilton's equations, $\\dot{\\theta} = \\partial_{p}H$ and $\\dot{ p} = -\\partial_{\\theta}H$, we need to replace the occurences of our variables `theta` and `p` with their function versions, `theta_fn` and `p_fn` in order to have differntial equations in the form required by `dsolve`."
   ]
  },
  {
   "cell_type": "code",
   "execution_count": null,
   "id": "5a3eebd5",
   "metadata": {},
   "outputs": [],
   "source": [
    "subsrule = {p:p_fn(t),theta:theta_fn(t)}\n",
    "subsrule"
   ]
  },
  {
   "cell_type": "markdown",
   "id": "b83ac074",
   "metadata": {},
   "source": [
    "We apply Hamilton's equations and make the appropriate substitutions:"
   ]
  },
  {
   "cell_type": "code",
   "execution_count": null,
   "id": "cb38653e",
   "metadata": {},
   "outputs": [],
   "source": [
    "eq1 =  sp.Eq(\n",
    "    sp.Derivative(theta_fn(t),t),\n",
    "    sp.diff(hamiltonian_small_theta,p).subs(subsrule)\n",
    ")\n",
    "\n",
    "eq2 = sp.Eq(\n",
    "    sp.Derivative(p_fn(t),t),\n",
    "    -sp.diff(hamiltonian_small_theta,theta).subs(subsrule)\n",
    ")\n",
    "eqs = (eq1,eq2)\n",
    "eqs "
   ]
  },
  {
   "cell_type": "markdown",
   "id": "886a0b02",
   "metadata": {},
   "source": [
    "Set our initital conditions:"
   ]
  },
  {
   "cell_type": "code",
   "execution_count": null,
   "id": "05ee753e",
   "metadata": {},
   "outputs": [],
   "source": [
    "ics = {theta_fn(0):sp.pi/2,p_fn(0):0}\n",
    "ics"
   ]
  },
  {
   "cell_type": "markdown",
   "id": "08d83825",
   "metadata": {},
   "source": [
    "... and derive our soulution:"
   ]
  },
  {
   "cell_type": "code",
   "execution_count": null,
   "id": "0e3b50b5",
   "metadata": {},
   "outputs": [],
   "source": [
    "small_angle_soln = sp.dsolve(eqs,[theta_fn(t),p_fn(t)],ics=ics)\n",
    "small_angle_soln"
   ]
  },
  {
   "cell_type": "markdown",
   "id": "6acecb4e",
   "metadata": {},
   "source": [
    "### Exercise 1.75\n",
    "Can you lambdify the small angle solution to compare it to our numerically integrated solution?"
   ]
  },
  {
   "cell_type": "code",
   "execution_count": null,
   "id": "355fab91",
   "metadata": {},
   "outputs": [],
   "source": [
    "small_angle_soln[0].rhs"
   ]
  },
  {
   "cell_type": "markdown",
   "id": "bc30a7cf",
   "metadata": {},
   "source": [
    "## Exercise 2\n",
    "\n",
    "Derive equations of motion directly from the Lagrangian, (i.e., the [Euler-Lagrange equations](https://en.wikipedia.org/wiki/Euler–Lagrange_equation)), and integrate them as we did with Hamilton's equations. "
   ]
  },
  {
   "cell_type": "code",
   "execution_count": null,
   "id": "b43c9c76",
   "metadata": {},
   "outputs": [],
   "source": []
  },
  {
   "cell_type": "markdown",
   "id": "31fb8c41",
   "metadata": {},
   "source": [
    "## Exercise 3\n",
    "\n",
    "- Can you derive and integrate Hamilton's equations of motion for the [double pendulum](https://en.wikipedia.org/wiki/Double_pendulum)? In case you need inspirartion for initial conditions, see [here](https://twitter.com/pendulum_bot?ref_src=twsrc%5Egoogle%7Ctwcamp%5Eserp%7Ctwgr%5Eauthor).\n",
    "\n",
    "- Can you get a small-angle solution for this problem?"
   ]
  },
  {
   "cell_type": "code",
   "execution_count": null,
   "id": "854c8f23",
   "metadata": {},
   "outputs": [],
   "source": []
  }
 ],
 "metadata": {
  "kernelspec": {
   "display_name": "Python 3 (ipykernel)",
   "language": "python",
   "name": "python3"
  },
  "language_info": {
   "codemirror_mode": {
    "name": "ipython",
    "version": 3
   },
   "file_extension": ".py",
   "mimetype": "text/x-python",
   "name": "python",
   "nbconvert_exporter": "python",
   "pygments_lexer": "ipython3",
   "version": "3.11.3"
  }
 },
 "nbformat": 4,
 "nbformat_minor": 5
}

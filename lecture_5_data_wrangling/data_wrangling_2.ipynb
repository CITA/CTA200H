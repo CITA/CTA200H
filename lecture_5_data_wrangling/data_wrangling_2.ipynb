{
 "cells": [
  {
   "cell_type": "markdown",
   "id": "flying-tours",
   "metadata": {},
   "source": [
    "# Data Wrangling: Data Operations and Selections\n",
    "\n",
    "In this lecture/notebook, we'll look at the following:\n",
    "* Indexing\n",
    "* Selecting Data (the `where` command)\n",
    "* Performing Mathematical and/or Statistical Operations on Data\n",
    "\n",
    "For this lesson, we're going to be using the following packages:\n",
    "* `numpy`\n",
    "* `pandas`\n",
    "* `astropy`"
   ]
  },
  {
   "cell_type": "code",
   "execution_count": null,
   "id": "colonial-young",
   "metadata": {},
   "outputs": [],
   "source": [
    "# All of the basic imports:\n",
    "import numpy as np\n",
    "import matplotlib.pyplot as plt\n",
    "import pandas as pd\n",
    "import astropy"
   ]
  },
  {
   "cell_type": "markdown",
   "id": "apart-horse",
   "metadata": {},
   "source": [
    "## What's the deal with indexing?\n",
    "* Basics of Indexes\n",
    "* Indexing sequences\n",
    "* Special Numpy indexes"
   ]
  },
  {
   "cell_type": "markdown",
   "id": "atlantic-production",
   "metadata": {},
   "source": [
    "Let's start with the simplest of lists: "
   ]
  },
  {
   "cell_type": "code",
   "execution_count": null,
   "id": "approximate-sharing",
   "metadata": {},
   "outputs": [],
   "source": [
    "x = np.arange(10)\n",
    "x"
   ]
  },
  {
   "cell_type": "markdown",
   "id": "annoying-regard",
   "metadata": {},
   "source": [
    "![indexing1.png](img/indexing1.png)"
   ]
  },
  {
   "cell_type": "code",
   "execution_count": null,
   "id": "detected-destruction",
   "metadata": {},
   "outputs": [],
   "source": [
    "print(x[0])\n",
    "print(x[5])"
   ]
  },
  {
   "cell_type": "markdown",
   "id": "french-donor",
   "metadata": {},
   "source": [
    "Or we can reverse index:\n",
    "\n",
    "![indexing2.png](img/indexing2.png)"
   ]
  },
  {
   "cell_type": "code",
   "execution_count": null,
   "id": "legendary-strap",
   "metadata": {},
   "outputs": [],
   "source": [
    "print(x[-10])\n",
    "print(x[-5])"
   ]
  },
  {
   "cell_type": "markdown",
   "id": "distant-skating",
   "metadata": {},
   "source": [
    "Or we can choose a range:\n",
    "\n",
    "![indexing3.png](img/indexing3.png)"
   ]
  },
  {
   "cell_type": "code",
   "execution_count": null,
   "id": "bottom-appeal",
   "metadata": {},
   "outputs": [],
   "source": [
    "print(x[1:])\n",
    "print(x[5:8])\n",
    "print(x[1:-1])"
   ]
  },
  {
   "cell_type": "markdown",
   "id": "inner-survival",
   "metadata": {},
   "source": [
    "And we can change the counting of what we choose:\n",
    "\n",
    "![indexing4.png](img/indexing4.png)"
   ]
  },
  {
   "cell_type": "code",
   "execution_count": null,
   "id": "ongoing-holiday",
   "metadata": {},
   "outputs": [],
   "source": [
    "print(x[::2])"
   ]
  },
  {
   "cell_type": "markdown",
   "id": "atlantic-seeking",
   "metadata": {},
   "source": [
    "With numpy arrays, you now have multiple indicies to index with. Let's take the case of a simple two dimensional array:"
   ]
  },
  {
   "cell_type": "code",
   "execution_count": null,
   "id": "indonesian-maple",
   "metadata": {},
   "outputs": [],
   "source": [
    "array1 = np.arange(90).reshape((-1, 10))\n",
    "array1"
   ]
  },
  {
   "cell_type": "markdown",
   "id": "abroad-genesis",
   "metadata": {},
   "source": [
    "What's the shape of the array?"
   ]
  },
  {
   "cell_type": "code",
   "execution_count": null,
   "id": "heated-debate",
   "metadata": {},
   "outputs": [],
   "source": [
    "array1.shape"
   ]
  },
  {
   "cell_type": "markdown",
   "id": "bright-applicant",
   "metadata": {},
   "source": [
    "Now, we can index in two different dimensions:\n",
    "\n",
    "![indexing5.png](img/indexing5.png)"
   ]
  },
  {
   "cell_type": "code",
   "execution_count": null,
   "id": "appointed-horizon",
   "metadata": {},
   "outputs": [],
   "source": [
    "array1[5, 7]"
   ]
  },
  {
   "cell_type": "markdown",
   "id": "studied-champagne",
   "metadata": {},
   "source": [
    "You can select a row or column:\n",
    "\n",
    "![indexing6.png](img/indexing6.png)"
   ]
  },
  {
   "cell_type": "code",
   "execution_count": null,
   "id": "posted-chorus",
   "metadata": {},
   "outputs": [],
   "source": [
    "array1[5, 1:8]"
   ]
  },
  {
   "cell_type": "markdown",
   "id": "unlike-reward",
   "metadata": {},
   "source": [
    "Or you can subselect a box:\n",
    "\n",
    "![indexing7.png](img/indexing7.png)"
   ]
  },
  {
   "cell_type": "code",
   "execution_count": null,
   "id": "indian-cancer",
   "metadata": {},
   "outputs": [],
   "source": [
    "array1[5:-1, 1:8]"
   ]
  },
  {
   "cell_type": "markdown",
   "id": "premier-adolescent",
   "metadata": {},
   "source": [
    "You can even get non-sequential indicies: \n",
    "\n",
    "![indexing8.png](img/indexing8.png)"
   ]
  },
  {
   "cell_type": "code",
   "execution_count": null,
   "id": "colonial-season",
   "metadata": {},
   "outputs": [],
   "source": [
    "array1[(5, 7), (6, 8)]"
   ]
  },
  {
   "cell_type": "markdown",
   "id": "racial-optics",
   "metadata": {},
   "source": [
    "## Finding the data you want\n",
    "* Introduction to the `where` command\n",
    "* Boolean Conditionals\n",
    "* What comes out of a `where`\n",
    "* Best practices with `where`\n",
    "* Using `where` in Pandas"
   ]
  },
  {
   "cell_type": "markdown",
   "id": "governing-dublin",
   "metadata": {},
   "source": [
    "Let's start by making a random two-dimensional numpy array:"
   ]
  },
  {
   "cell_type": "code",
   "execution_count": null,
   "id": "consistent-heather",
   "metadata": {
    "scrolled": true
   },
   "outputs": [],
   "source": [
    "random_array = np.random.randn(10, 5)\n",
    "random_array"
   ]
  },
  {
   "cell_type": "markdown",
   "id": "liberal-notification",
   "metadata": {},
   "source": [
    "The `where` command lets you know where (heh) in the array the conditions that you're looking for are met. So, for instance, if I want to know the indicies where the above array are greater than 0:"
   ]
  },
  {
   "cell_type": "code",
   "execution_count": null,
   "id": "dedicated-cover",
   "metadata": {},
   "outputs": [],
   "source": [
    "chosen_items = np.where(random_array > 0)\n",
    "\n",
    "type(chosen_items)"
   ]
  },
  {
   "cell_type": "markdown",
   "id": "romance-absorption",
   "metadata": {},
   "source": [
    "Looking at the output, you'll always get a `tuple`. What's in that tuple?"
   ]
  },
  {
   "cell_type": "code",
   "execution_count": null,
   "id": "accessible-vacuum",
   "metadata": {
    "scrolled": true
   },
   "outputs": [],
   "source": [
    "chosen_items"
   ]
  },
  {
   "cell_type": "markdown",
   "id": "actual-sauce",
   "metadata": {},
   "source": [
    "The output of a where command is a tuple, that is as long as the number of dimensions of the original array. Each of the elements of the tuple is a numpy array that contains the indicies of the elements that meet the criteria inside the where. The length of each numpy array are the same, and the number of elements is the number of elements that meet the criteria. "
   ]
  },
  {
   "cell_type": "code",
   "execution_count": null,
   "id": "failing-bunny",
   "metadata": {},
   "outputs": [],
   "source": [
    "print(\"Number of Dimensions: %i\" % len(chosen_items) )"
   ]
  },
  {
   "cell_type": "markdown",
   "id": "smoking-liechtenstein",
   "metadata": {},
   "source": [
    "Checking the size of each dimension: "
   ]
  },
  {
   "cell_type": "code",
   "execution_count": null,
   "id": "stainless-answer",
   "metadata": {},
   "outputs": [],
   "source": [
    "print(\"First Dimension Length: %i \" % chosen_items[0].size)\n",
    "print(\"Second Dimension Length: %i \" % chosen_items[1].size)"
   ]
  },
  {
   "cell_type": "markdown",
   "id": "authentic-spotlight",
   "metadata": {},
   "source": [
    "Using these indicies from the where function, you can use them to replace values:"
   ]
  },
  {
   "cell_type": "code",
   "execution_count": null,
   "id": "moderate-chase",
   "metadata": {},
   "outputs": [],
   "source": [
    "random_array[chosen_items] = 0.0"
   ]
  },
  {
   "cell_type": "code",
   "execution_count": null,
   "id": "uniform-trash",
   "metadata": {},
   "outputs": [],
   "source": [
    "random_array"
   ]
  },
  {
   "cell_type": "markdown",
   "id": "technical-cowboy",
   "metadata": {},
   "source": [
    "If you have arrays that are the same size, you can mix and match them in the search condition:"
   ]
  },
  {
   "cell_type": "code",
   "execution_count": null,
   "id": "knowing-delicious",
   "metadata": {},
   "outputs": [],
   "source": [
    "random_array = np.random.randn(10, 5)\n",
    "second_array = np.random.random(random_array.shape)\n",
    "second_array.shape"
   ]
  },
  {
   "cell_type": "code",
   "execution_count": null,
   "id": "furnished-access",
   "metadata": {},
   "outputs": [],
   "source": [
    "joint_indicies = np.where((random_array >= 0.5) & (second_array < 0.6))\n",
    "print(joint_indicies)"
   ]
  },
  {
   "cell_type": "markdown",
   "id": "downtown-tobacco",
   "metadata": {},
   "source": [
    "<div class=\"alert alert-block alert-info\"> \n",
    "    <b>Note:</b> Boolean queries follow a left-to-right order of operations. Brackets are important to make sure the query works in the way you want it to. For instance: \n",
    "    <pre>arr1 > 2 & arr3 < 2</pre>\n",
    "Will result in an error.\n",
    "    \n",
    "To make it work, but brackets around what you want to run first:\n",
    "    <pre>(arr1 > 2) & (arr3 < 2)</pre>\n",
    "    \n",
    "</div>"
   ]
  },
  {
   "cell_type": "markdown",
   "id": "mysterious-bride",
   "metadata": {},
   "source": [
    "In pandas, using the square brackets allows you to select across the entire table selecting on columns:"
   ]
  },
  {
   "cell_type": "code",
   "execution_count": null,
   "id": "equal-operation",
   "metadata": {},
   "outputs": [],
   "source": [
    "stars = pd.DataFrame(\n",
    "    {\n",
    "        \"name\": [\"alpha\", \"beta\", \"gamma\", \"theta\"],\n",
    "        \"magnitude\": [13.0, 15.9, 14.3, 15.1],\n",
    "        \"mass\": [1e33, 1.2e32, 8.5e32, 2.1e33],\n",
    "    }\n",
    ")\n",
    "\n",
    "stars"
   ]
  },
  {
   "cell_type": "code",
   "execution_count": null,
   "id": "expanded-distinction",
   "metadata": {},
   "outputs": [],
   "source": [
    "stars[stars.magnitude > 14]"
   ]
  },
  {
   "cell_type": "markdown",
   "id": "ranking-brake",
   "metadata": {},
   "source": [
    "You can even use conditionals with multiple columns:"
   ]
  },
  {
   "cell_type": "code",
   "execution_count": null,
   "id": "effective-festival",
   "metadata": {
    "scrolled": true
   },
   "outputs": [],
   "source": [
    "stars[(stars.magnitude > 14) & (stars.mass > 1e33)]"
   ]
  },
  {
   "cell_type": "markdown",
   "id": "saving-cooperation",
   "metadata": {},
   "source": [
    "Or if you want to use the standard `np.where` command, you can do that easily with the `.iloc` property of a Pandas dataframe:"
   ]
  },
  {
   "cell_type": "code",
   "execution_count": null,
   "id": "atmospheric-mobile",
   "metadata": {
    "scrolled": false
   },
   "outputs": [],
   "source": [
    "tmp_ind = np.where(stars.magnitude > 14)\n",
    "stars.iloc[tmp_ind]"
   ]
  },
  {
   "cell_type": "markdown",
   "id": "oriental-kitty",
   "metadata": {},
   "source": [
    "### Exercises: \n",
    "1. Create a array of normally-distributed values using the `randn` function of shape `(40, 40)`\n",
    "2. Find all values within the array that lie between -1 and 1\n",
    "3. How many values of the array fall between -1 and 1? What fraction of the total array is it? Is this what you should expect? Why?\n",
    "4. Set the values between -1 and 1 to 0. Manually calculate the mean of the entire array (i.e., without the `mean` function that you may or may not know about). What is the mean of the array. Is this what you should expect?"
   ]
  },
  {
   "cell_type": "markdown",
   "id": "perfect-judges",
   "metadata": {},
   "source": [
    "## Now that I have the data, what can I do with it?\n",
    "* Numpy: perfoming mathematical operations over an array\n",
    "* Pandas: performing mathematical operations over an array\n"
   ]
  },
  {
   "cell_type": "markdown",
   "id": "unknown-olympus",
   "metadata": {},
   "source": [
    "With Numpy arrays, most operations assume you're trying to apply them element-wise. For instance:"
   ]
  },
  {
   "cell_type": "code",
   "execution_count": null,
   "id": "extraordinary-pasta",
   "metadata": {},
   "outputs": [],
   "source": [
    "random_array * 5"
   ]
  },
  {
   "cell_type": "markdown",
   "id": "documented-juice",
   "metadata": {},
   "source": [
    "This will multiply each value by that one number. Similarly:"
   ]
  },
  {
   "cell_type": "code",
   "execution_count": null,
   "id": "neural-earth",
   "metadata": {},
   "outputs": [],
   "source": [
    "random_array * random_array "
   ]
  },
  {
   "cell_type": "markdown",
   "id": "wrong-question",
   "metadata": {},
   "source": [
    "This works because both of these arrays are the same size (and in this case, the exact same).\n",
    "\n",
    "Note, this is the same as doing `random_array**2` or `np.power(random_array,2)` -- in Numpy, there's often multiple ways to do the same thing. \n",
    "\n",
    "Also built in to Numpy are statistical functions, such as `mean` or `median`. You can apply them on the whole array:"
   ]
  },
  {
   "cell_type": "code",
   "execution_count": null,
   "id": "complimentary-suspension",
   "metadata": {},
   "outputs": [],
   "source": [
    "# Calculating some simple statistical operations\n",
    "print(np.mean(random_array))\n",
    "print(np.median(random_array))"
   ]
  },
  {
   "cell_type": "markdown",
   "id": "funny-consolidation",
   "metadata": {},
   "source": [
    "But often, you'll want to take the mean across some a specific axis (i.e., you want the mean per ever row or column). Let's take a look at the shape of `random_array`:"
   ]
  },
  {
   "cell_type": "code",
   "execution_count": null,
   "id": "super-desert",
   "metadata": {},
   "outputs": [],
   "source": [
    "random_array.shape"
   ]
  },
  {
   "cell_type": "markdown",
   "id": "pressed-details",
   "metadata": {},
   "source": [
    "Let's say we want to take the mean for each of the second, we can use the `axis` keyword:"
   ]
  },
  {
   "cell_type": "code",
   "execution_count": null,
   "id": "extensive-blade",
   "metadata": {},
   "outputs": [],
   "source": [
    "# Taking the same across the first axis:\n",
    "mean_val = np.mean(random_array, axis=0)\n",
    "print(mean_val)\n",
    "print(\"Shape of Array: %s\" % str(mean_val.shape))\n"
   ]
  },
  {
   "cell_type": "markdown",
   "id": "thermal-badge",
   "metadata": {},
   "source": [
    "Or in the opposite direction:"
   ]
  },
  {
   "cell_type": "code",
   "execution_count": null,
   "id": "civic-adapter",
   "metadata": {},
   "outputs": [],
   "source": [
    "# Taking the same across the second axis:\n",
    "mean_val = np.mean(random_array, axis=1)\n",
    "print(mean_val)\n",
    "print(\"Shape of Array: %s\" % str(mean_val.shape))\n"
   ]
  },
  {
   "cell_type": "markdown",
   "id": "valuable-baghdad",
   "metadata": {},
   "source": [
    "With Pandas dataframes, you can apply the numpy functions on individual columns, or you can use the built in methods:"
   ]
  },
  {
   "cell_type": "code",
   "execution_count": null,
   "id": "sharing-spiritual",
   "metadata": {},
   "outputs": [],
   "source": [
    "stars.magnitude.mean()"
   ]
  },
  {
   "cell_type": "markdown",
   "id": "intimate-there",
   "metadata": {},
   "source": [
    "This is equivalent to:"
   ]
  },
  {
   "cell_type": "code",
   "execution_count": null,
   "id": "transsexual-manufacturer",
   "metadata": {},
   "outputs": [],
   "source": [
    "stars['magnitude'].mean()"
   ]
  },
  {
   "cell_type": "markdown",
   "id": "royal-completion",
   "metadata": {},
   "source": [
    "One of the nice things about Pandas is that it lets you look at all of the statistical properties at once: "
   ]
  },
  {
   "cell_type": "code",
   "execution_count": null,
   "id": "architectural-deadline",
   "metadata": {
    "scrolled": false
   },
   "outputs": [],
   "source": [
    "stars.describe()"
   ]
  },
  {
   "cell_type": "markdown",
   "id": "comparable-washington",
   "metadata": {},
   "source": [
    "It calculates a variety of statistical peoperties (including confidence intervals) for each column separately. "
   ]
  },
  {
   "cell_type": "markdown",
   "id": "residential-mineral",
   "metadata": {},
   "source": [
    "## Exercises"
   ]
  },
  {
   "cell_type": "markdown",
   "id": "mental-planning",
   "metadata": {},
   "source": [
    "1. Go to the [IPAC Web Interface for the WISE survey](https://irsa.ipac.caltech.edu/applications/Gator/) and using the WISE All-Sky Source Catalog search for all the objects within 10 arcminutes around your favourite astronomical object. \n",
    "\n",
    "2. Download the `ipac` formatted file of the default columns from the WISE object search, and open it in your Jupyter Notebook. \n",
    "\n",
    "3. Use the same parameters for 2MASS All-Sky Point Source Catalog and do the same:\n",
    "![ipac.png](img/ipac.png)\n",
    "\n",
    "4. Save both of these files as `csv`, and read them both in as Pandas dataframes \n",
    "\n",
    "5. Make a function to calculate the distance between two sky locations. \n",
    "\n",
    "6. Make an algorithm to go through the WISE results, and match the closest source from 2MASS into a new table. Hints:\n",
    "    - Make a new pandas dataframe to put the new results in\n",
    "    - For each WISE source, create a new column for the distance to each 2MASS source\n",
    "    - On the distance column, use the `np.min` function along side a `where` command to find the closest source."
   ]
  },
  {
   "cell_type": "code",
   "execution_count": null,
   "id": "looking-yield",
   "metadata": {},
   "outputs": [],
   "source": []
  }
 ],
 "metadata": {
  "kernelspec": {
   "display_name": "Python 3",
   "language": "python",
   "name": "python3"
  },
  "language_info": {
   "codemirror_mode": {
    "name": "ipython",
    "version": 3
   },
   "file_extension": ".py",
   "mimetype": "text/x-python",
   "name": "python",
   "nbconvert_exporter": "python",
   "pygments_lexer": "ipython3",
   "version": "3.7.9"
  }
 },
 "nbformat": 4,
 "nbformat_minor": 5
}
